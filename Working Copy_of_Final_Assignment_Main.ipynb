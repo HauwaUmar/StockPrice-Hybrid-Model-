{
  "cells": [
    {
      "cell_type": "markdown",
      "metadata": {
        "id": "view-in-github",
        "colab_type": "text"
      },
      "source": [
        "<a href=\"https://colab.research.google.com/github/HauwaUmar/StockPrice-Hybrid-Model-/blob/main/Working%20Copy_of_Final_Assignment_Main.ipynb\" target=\"_parent\"><img src=\"https://colab.research.google.com/assets/colab-badge.svg\" alt=\"Open In Colab\"/></a>"
      ]
    },
    {
      "cell_type": "markdown",
      "source": [
        "# Stock Forecasting with a Hybrid Deep Learning Model"
      ],
      "metadata": {
        "id": "XhDCg1J9zNPX"
      }
    },
    {
      "cell_type": "markdown",
      "source": [
        "# Data Collection and Preprocessing\n"
      ],
      "metadata": {
        "id": "qRDLoSXFzUDb"
      }
    },
    {
      "cell_type": "code",
      "execution_count": 61,
      "metadata": {
        "colab": {
          "base_uri": "https://localhost:8080/",
          "height": 1000,
          "referenced_widgets": [
            "3e86dd9046ae46d28aee5cf3e6c355e9",
            "53a42a80d89c41108b7edaa1cc1458a2",
            "37e558939a65421eb2d512d1b550e5cf",
            "ef259d4677774f5698ac7b8a33114255",
            "8a5ab6f0f5fc4383a10f4b52c93b9e8d",
            "1c772e711d024d609aec7795162c6803",
            "e886ac322bb74b49b160464f29818845",
            "f6ed5dc572f644fd820db183294c368f",
            "9936adc0e77d44e69b462af1d45a2884",
            "827a0a5dd00345acb406a036c67d10f8",
            "ada9f1cf2bac4b5e9698b282bf35e43c",
            "0f80895152744776b36b3c9c7f0c6714",
            "511cae16f02c47898b3e473b18b91516",
            "408bb93a0892476687c5ec75d08f18bb",
            "0cb469afc5c9441d8cd95e94dae2b76e",
            "ccf0a546923e494689be1ec7654d300b",
            "2ab06b2efd9a44d791cca02529bb0d7c",
            "c4fd34ac523c4d6296497bacabc286a8",
            "f898c07d9af241f5b21d9bd79fea231f",
            "a7164c4bfb9c481a825de3ca32c9caf1",
            "fa34e4dcaf2e41a09ad61472c4a9bae4",
            "9c60459008674b61907c610dcd3e1cb1",
            "cd2111b78a054cb4880394d4120327c2",
            "4f727e7d59a24ccfb71a3f59b13577a9",
            "80c739063817453c9fb83ab99d5867f2",
            "232128571742494f8d602ca7bc425a12",
            "5568dc6e20e845d3a20d294c9769f49a",
            "8ca274ebee064fef9e6729253fb42545",
            "bd326ecd643b48bd89b4035542a4db6a",
            "9a1420f01a6d4f4f99306a84d882c943",
            "4a33ea6a7ee1407abc2cf584310c8d3a",
            "f5c7cf33e8024b13a7bc5b483d84b79b",
            "b6f34ed03f5c49bd8d63b64d571dc1a6"
          ]
        },
        "id": "deERw8ZDJr9Z",
        "outputId": "df110235-42f5-4d35-8f14-ce29331e0bd0"
      },
      "outputs": [
        {
          "output_type": "stream",
          "name": "stdout",
          "text": [
            "Looking in indexes: https://pypi.org/simple, https://us-python.pkg.dev/colab-wheels/public/simple/\n",
            "Requirement already satisfied: yfinance in /usr/local/lib/python3.9/dist-packages (0.2.13)\n",
            "Requirement already satisfied: multitasking>=0.0.7 in /usr/local/lib/python3.9/dist-packages (from yfinance) (0.0.11)\n",
            "Requirement already satisfied: lxml>=4.9.1 in /usr/local/lib/python3.9/dist-packages (from yfinance) (4.9.2)\n",
            "Requirement already satisfied: appdirs>=1.4.4 in /usr/local/lib/python3.9/dist-packages (from yfinance) (1.4.4)\n",
            "Requirement already satisfied: html5lib>=1.1 in /usr/local/lib/python3.9/dist-packages (from yfinance) (1.1)\n",
            "Requirement already satisfied: frozendict>=2.3.4 in /usr/local/lib/python3.9/dist-packages (from yfinance) (2.3.6)\n",
            "Requirement already satisfied: beautifulsoup4>=4.11.1 in /usr/local/lib/python3.9/dist-packages (from yfinance) (4.11.2)\n",
            "Requirement already satisfied: pandas>=1.3.0 in /usr/local/lib/python3.9/dist-packages (from yfinance) (1.4.4)\n",
            "Requirement already satisfied: cryptography>=3.3.2 in /usr/local/lib/python3.9/dist-packages (from yfinance) (39.0.2)\n",
            "Requirement already satisfied: requests>=2.26 in /usr/local/lib/python3.9/dist-packages (from yfinance) (2.27.1)\n",
            "Requirement already satisfied: pytz>=2022.5 in /usr/local/lib/python3.9/dist-packages (from yfinance) (2022.7.1)\n",
            "Requirement already satisfied: numpy>=1.16.5 in /usr/local/lib/python3.9/dist-packages (from yfinance) (1.22.4)\n",
            "Requirement already satisfied: soupsieve>1.2 in /usr/local/lib/python3.9/dist-packages (from beautifulsoup4>=4.11.1->yfinance) (2.4)\n",
            "Requirement already satisfied: cffi>=1.12 in /usr/local/lib/python3.9/dist-packages (from cryptography>=3.3.2->yfinance) (1.15.1)\n",
            "Requirement already satisfied: six>=1.9 in /usr/local/lib/python3.9/dist-packages (from html5lib>=1.1->yfinance) (1.16.0)\n",
            "Requirement already satisfied: webencodings in /usr/local/lib/python3.9/dist-packages (from html5lib>=1.1->yfinance) (0.5.1)\n",
            "Requirement already satisfied: python-dateutil>=2.8.1 in /usr/local/lib/python3.9/dist-packages (from pandas>=1.3.0->yfinance) (2.8.2)\n",
            "Requirement already satisfied: idna<4,>=2.5 in /usr/local/lib/python3.9/dist-packages (from requests>=2.26->yfinance) (3.4)\n",
            "Requirement already satisfied: charset-normalizer~=2.0.0 in /usr/local/lib/python3.9/dist-packages (from requests>=2.26->yfinance) (2.0.12)\n",
            "Requirement already satisfied: certifi>=2017.4.17 in /usr/local/lib/python3.9/dist-packages (from requests>=2.26->yfinance) (2022.12.7)\n",
            "Requirement already satisfied: urllib3<1.27,>=1.21.1 in /usr/local/lib/python3.9/dist-packages (from requests>=2.26->yfinance) (1.26.15)\n",
            "Requirement already satisfied: pycparser in /usr/local/lib/python3.9/dist-packages (from cffi>=1.12->cryptography>=3.3.2->yfinance) (2.21)\n",
            "Looking in indexes: https://pypi.org/simple, https://us-python.pkg.dev/colab-wheels/public/simple/\n",
            "Collecting transformers\n",
            "  Downloading transformers-4.27.3-py3-none-any.whl (6.8 MB)\n",
            "\u001b[2K     \u001b[90m━━━━━━━━━━━━━━━━━━━━━━━━━━━━━━━━━━━━━━━━\u001b[0m \u001b[32m6.8/6.8 MB\u001b[0m \u001b[31m40.2 MB/s\u001b[0m eta \u001b[36m0:00:00\u001b[0m\n",
            "\u001b[?25hCollecting tokenizers!=0.11.3,<0.14,>=0.11.1\n",
            "  Downloading tokenizers-0.13.2-cp39-cp39-manylinux_2_17_x86_64.manylinux2014_x86_64.whl (7.6 MB)\n",
            "\u001b[2K     \u001b[90m━━━━━━━━━━━━━━━━━━━━━━━━━━━━━━━━━━━━━━━━\u001b[0m \u001b[32m7.6/7.6 MB\u001b[0m \u001b[31m64.4 MB/s\u001b[0m eta \u001b[36m0:00:00\u001b[0m\n",
            "\u001b[?25hRequirement already satisfied: pyyaml>=5.1 in /usr/local/lib/python3.9/dist-packages (from transformers) (6.0)\n",
            "Requirement already satisfied: requests in /usr/local/lib/python3.9/dist-packages (from transformers) (2.27.1)\n",
            "Requirement already satisfied: filelock in /usr/local/lib/python3.9/dist-packages (from transformers) (3.10.1)\n",
            "Requirement already satisfied: tqdm>=4.27 in /usr/local/lib/python3.9/dist-packages (from transformers) (4.65.0)\n",
            "Requirement already satisfied: packaging>=20.0 in /usr/local/lib/python3.9/dist-packages (from transformers) (23.0)\n",
            "Requirement already satisfied: regex!=2019.12.17 in /usr/local/lib/python3.9/dist-packages (from transformers) (2022.10.31)\n",
            "Requirement already satisfied: numpy>=1.17 in /usr/local/lib/python3.9/dist-packages (from transformers) (1.22.4)\n",
            "Collecting huggingface-hub<1.0,>=0.11.0\n",
            "  Downloading huggingface_hub-0.13.3-py3-none-any.whl (199 kB)\n",
            "\u001b[2K     \u001b[90m━━━━━━━━━━━━━━━━━━━━━━━━━━━━━━━━━━━━━━\u001b[0m \u001b[32m199.8/199.8 KB\u001b[0m \u001b[31m25.7 MB/s\u001b[0m eta \u001b[36m0:00:00\u001b[0m\n",
            "\u001b[?25hRequirement already satisfied: typing-extensions>=3.7.4.3 in /usr/local/lib/python3.9/dist-packages (from huggingface-hub<1.0,>=0.11.0->transformers) (4.5.0)\n",
            "Requirement already satisfied: charset-normalizer~=2.0.0 in /usr/local/lib/python3.9/dist-packages (from requests->transformers) (2.0.12)\n",
            "Requirement already satisfied: idna<4,>=2.5 in /usr/local/lib/python3.9/dist-packages (from requests->transformers) (3.4)\n",
            "Requirement already satisfied: urllib3<1.27,>=1.21.1 in /usr/local/lib/python3.9/dist-packages (from requests->transformers) (1.26.15)\n",
            "Requirement already satisfied: certifi>=2017.4.17 in /usr/local/lib/python3.9/dist-packages (from requests->transformers) (2022.12.7)\n",
            "Installing collected packages: tokenizers, huggingface-hub, transformers\n",
            "Successfully installed huggingface-hub-0.13.3 tokenizers-0.13.2 transformers-4.27.3\n"
          ]
        },
        {
          "output_type": "display_data",
          "data": {
            "text/plain": [
              "Downloading (…)lve/main/config.json:   0%|          | 0.00/533 [00:00<?, ?B/s]"
            ],
            "application/vnd.jupyter.widget-view+json": {
              "version_major": 2,
              "version_minor": 0,
              "model_id": "3e86dd9046ae46d28aee5cf3e6c355e9"
            }
          },
          "metadata": {}
        },
        {
          "output_type": "display_data",
          "data": {
            "text/plain": [
              "Downloading pytorch_model.bin:   0%|          | 0.00/439M [00:00<?, ?B/s]"
            ],
            "application/vnd.jupyter.widget-view+json": {
              "version_major": 2,
              "version_minor": 0,
              "model_id": "0f80895152744776b36b3c9c7f0c6714"
            }
          },
          "metadata": {}
        },
        {
          "output_type": "display_data",
          "data": {
            "text/plain": [
              "Downloading (…)solve/main/vocab.txt:   0%|          | 0.00/226k [00:00<?, ?B/s]"
            ],
            "application/vnd.jupyter.widget-view+json": {
              "version_major": 2,
              "version_minor": 0,
              "model_id": "cd2111b78a054cb4880394d4120327c2"
            }
          },
          "metadata": {}
        },
        {
          "output_type": "stream",
          "name": "stdout",
          "text": [
            "Cloning into 'StockPrice-Hybrid-Model-'...\n",
            "remote: Enumerating objects: 215, done.\u001b[K\n",
            "remote: Counting objects: 100% (147/147), done.\u001b[K\n",
            "remote: Compressing objects: 100% (113/113), done.\u001b[K\n",
            "remote: Total 215 (delta 72), reused 73 (delta 30), pack-reused 68\u001b[K\n",
            "Receiving objects: 100% (215/215), 5.93 MiB | 9.83 MiB/s, done.\n",
            "Resolving deltas: 100% (96/96), done.\n"
          ]
        }
      ],
      "source": [
        "#Import necessary libraries \n",
        "import pandas as pd\n",
        "!pip install yfinance\n",
        "import numpy as np\n",
        "import matplotlib.pyplot as plt\n",
        "from sklearn.model_selection import train_test_split\n",
        "from time import time\n",
        "from google.colab import files\n",
        "import yfinance as yf\n",
        "import tensorflow as tf\n",
        "import warnings\n",
        "warnings.filterwarnings('ignore', category=FutureWarning)\n",
        "warnings.filterwarnings('ignore', category=DeprecationWarning)\n",
        "from sklearn.metrics import confusion_matrix, accuracy_score, precision_score, recall_score\n",
        "import seaborn as sns\n",
        "!pip install transformers\n",
        "from transformers import BertTokenizer, BertForSequenceClassification\n",
        "from transformers import pipeline\n",
        "import multiprocessing as mp\n",
        "import datetime as dt\n",
        "from multiprocessing import Process\n",
        "\n",
        "#configure sentiment analysis pipeline\n",
        "finbert = BertForSequenceClassification.from_pretrained('yiyanghkust/finbert-tone',num_labels=3)\n",
        "tokenizer = BertTokenizer.from_pretrained('yiyanghkust/finbert-tone')\n",
        "nlp = pipeline(\"sentiment-analysis\", model = finbert, tokenizer = tokenizer)\n",
        "sentiment_dict = {'Negative':-1, 'Neutral':0, 'Positive': 1}\n",
        "ticker_list = ['MSFT','GOOG', 'AMZN','TSLA','NFLX']\n",
        "#clone git repo into workspace\n",
        "!git clone https://github.com/Chenzhang0329/StockPrice-Hybrid-Model-.git"
      ]
    },
    {
      "cell_type": "markdown",
      "source": [
        "## Creation of Data Collection Functions"
      ],
      "metadata": {
        "id": "vWtKJ7BPzzWt"
      }
    },
    {
      "cell_type": "code",
      "execution_count": 62,
      "metadata": {
        "id": "17VYDDvD8qv3"
      },
      "outputs": [],
      "source": [
        "# functions to Retrieve financial info and feature engineer\n",
        "from sklearn.preprocessing import MinMaxScaler\n",
        "def pull_news(ticker):\n",
        "    path = '/content/StockPrice-Hybrid-Model-/News Data/'+ticker+'_news.csv'\n",
        "    news_df = pd.read_csv(path)\n",
        "    news_list = news_df['headline'].to_list()\n",
        "    print('success1')\n",
        "    result = nlp(news_list)\n",
        "    print('success2')\n",
        "    result = pd.DataFrame(result)\n",
        "    news_df[\"sentiment\"] = [sentiment_dict[k]for k in result['label']]  \n",
        "    news_df['date'] = pd.to_datetime(news_df['date'], format = '%d-%m-%Y')\n",
        "    sentiment = pd.DataFrame()\n",
        "    sentiment['mean'] = news_df.groupby(by=\"date\")[\"sentiment\"].mean()\n",
        "    sentiment['count']= news_df.groupby(by='date')['sentiment'].count()\n",
        "    sentiment['score'] = sentiment['mean'] * (sentiment['count']**2)\n",
        "    sentiment = sentiment.fillna(0)\n",
        "    scaler1 = MinMaxScaler()\n",
        "    sentiment['score'] = scaler1.fit_transform(sentiment[['score']])\n",
        "    path3 = ticker+'_sentimentscore.csv'\n",
        "    sentiment.to_csv(path3)  \n",
        "\n",
        "#retrieve financial information using yfinance\n",
        "def get_financials(ticker, start):\n",
        "    time_delt = dt.timedelta(days = 150)\n",
        "    start_day = start - time_delt\n",
        "    data = yf.download(str(ticker), start_day)\n",
        "    data['ticker'] = ticker\n",
        "    data = data.reset_index()\n",
        "    print('success!')\n",
        "    return data\n",
        "\n",
        "#Exponential moving average\n",
        "def EWMA(data, ndays): \n",
        "    EMA = pd.Series(data['close'].ewm(span = ndays, min_periods = ndays - 1).mean(), \n",
        "                 name = 'EWMA_' + str(ndays)) \n",
        "    data = data.join(EMA) \n",
        "    return data\n",
        "\n",
        "#Relative Strength Index\n",
        "def rsi(close, periods = 14):\n",
        "    \n",
        "    close_delta = close.diff()\n",
        "\n",
        "    # Make two series: one for lower closes and one for higher closes\n",
        "    up = close_delta.clip(lower=0)\n",
        "    down = -1 * close_delta.clip(upper=0)\n",
        "    \n",
        "    ma_up = up.ewm(com = periods - 1, adjust=True, min_periods = periods).mean()\n",
        "    ma_down = down.ewm(com = periods - 1, adjust=True, min_periods = periods).mean()\n",
        "\n",
        "    rsi = ma_up / ma_down\n",
        "    rsi = 100 - (100/(1 + rsi))\n",
        "    return rsi\n",
        "\n",
        "#Bollinger Bands\n",
        "def BBANDS(data, window):\n",
        "    MA = data.close.rolling(window).mean()\n",
        "    SD = data.close.rolling(window).std()\n",
        "    data['MiddleBand'] = MA\n",
        "    data['UpperBand'] = MA + (2 * SD) \n",
        "    data['LowerBand'] = MA - (2 * SD)\n",
        "    return data\n",
        "\n",
        "#Final preprocessing and rolling averages feature engineering\n",
        "def prep_financials(df):\n",
        "    df = pd.DataFrame(df)\n",
        "    df.set_index('date')\n",
        "    df['target'] = (df['close'].shift(-1))\n",
        "    df['10mda'] = df['close'].rolling(10).mean()\n",
        "    df['20mda'] = df['close'].rolling(20).mean()\n",
        "    df['50mda'] = df['close'].rolling(50).mean()\n",
        "    df['100mda'] = df['close'].rolling(100).mean()\n",
        "    #df['target'] = [1 if df['pct_change'].loc[i] >0.005 else 0 for i in df.index]\n",
        "    df = EWMA(df, 20)\n",
        "    df = EWMA(df, 50) \n",
        "    df = EWMA(df, 100)\n",
        "    df['rsi'] = rsi(df['close'])\n",
        "    df = BBANDS(df, 20)\n",
        "    #df.drop(['pct_change'], axis=1, inplace=True)\n",
        "    df.reset_index()\n",
        "    return df"
      ]
    },
    {
      "cell_type": "code",
      "execution_count": null,
      "metadata": {
        "id": "nquguvza-pJP"
      },
      "outputs": [],
      "source": [
        "#parallel process to calculate all sentiment scores and process sentiment data into csv files\n",
        "import datetime as dt\n",
        "if __name__ == \"__main__\":\n",
        "    ticker_list = ['MSFT','GOOG', 'AMZN','TSLA','NFLX']\n",
        "    processes = []\n",
        "    proc = Process(target=pull_news)\n",
        "    processes.append(proc)\n",
        "    proc.start()\n",
        "\n",
        "    for tick in ticker_list:\n",
        "        proc = Process(target =pull_news, args=(tick,))\n",
        "        processes.append(proc)\n",
        "        proc.start()\n",
        "    \n",
        "    for proc in processes:\n",
        "        proc.join()\n"
      ]
    },
    {
      "cell_type": "code",
      "execution_count": 63,
      "metadata": {
        "colab": {
          "base_uri": "https://localhost:8080/"
        },
        "id": "1lncyokY85dl",
        "outputId": "a9a90be7-e675-490a-a21b-ec42b2ce92c3"
      },
      "outputs": [
        {
          "output_type": "stream",
          "name": "stdout",
          "text": [
            "\r[*********************100%***********************]  1 of 1 completed\n",
            "success!\n",
            "<class 'pandas.core.frame.DataFrame'>\n",
            "RangeIndex: 1419 entries, 0 to 1418\n",
            "Data columns (total 8 columns):\n",
            " #   Column     Non-Null Count  Dtype         \n",
            "---  ------     --------------  -----         \n",
            " 0   date       1419 non-null   datetime64[ns]\n",
            " 1   open       1419 non-null   float64       \n",
            " 2   high       1419 non-null   float64       \n",
            " 3   low        1419 non-null   float64       \n",
            " 4   close      1419 non-null   float64       \n",
            " 5   adj_close  1419 non-null   float64       \n",
            " 6   volume     1419 non-null   int64         \n",
            " 7   ticker     1419 non-null   object        \n",
            "dtypes: datetime64[ns](1), float64(5), int64(1), object(1)\n",
            "memory usage: 88.8+ KB\n",
            "None\n",
            "[*********************100%***********************]  1 of 1 completed\n",
            "success!\n",
            "<class 'pandas.core.frame.DataFrame'>\n",
            "RangeIndex: 1419 entries, 0 to 1418\n",
            "Data columns (total 8 columns):\n",
            " #   Column     Non-Null Count  Dtype         \n",
            "---  ------     --------------  -----         \n",
            " 0   date       1419 non-null   datetime64[ns]\n",
            " 1   open       1419 non-null   float64       \n",
            " 2   high       1419 non-null   float64       \n",
            " 3   low        1419 non-null   float64       \n",
            " 4   close      1419 non-null   float64       \n",
            " 5   adj_close  1419 non-null   float64       \n",
            " 6   volume     1419 non-null   int64         \n",
            " 7   ticker     1419 non-null   object        \n",
            "dtypes: datetime64[ns](1), float64(5), int64(1), object(1)\n",
            "memory usage: 88.8+ KB\n",
            "None\n",
            "[*********************100%***********************]  1 of 1 completed\n",
            "success!\n",
            "<class 'pandas.core.frame.DataFrame'>\n",
            "RangeIndex: 1419 entries, 0 to 1418\n",
            "Data columns (total 8 columns):\n",
            " #   Column     Non-Null Count  Dtype         \n",
            "---  ------     --------------  -----         \n",
            " 0   date       1419 non-null   datetime64[ns]\n",
            " 1   open       1419 non-null   float64       \n",
            " 2   high       1419 non-null   float64       \n",
            " 3   low        1419 non-null   float64       \n",
            " 4   close      1419 non-null   float64       \n",
            " 5   adj_close  1419 non-null   float64       \n",
            " 6   volume     1419 non-null   int64         \n",
            " 7   ticker     1419 non-null   object        \n",
            "dtypes: datetime64[ns](1), float64(5), int64(1), object(1)\n",
            "memory usage: 88.8+ KB\n",
            "None\n",
            "[*********************100%***********************]  1 of 1 completed\n",
            "success!\n",
            "<class 'pandas.core.frame.DataFrame'>\n",
            "RangeIndex: 1419 entries, 0 to 1418\n",
            "Data columns (total 8 columns):\n",
            " #   Column     Non-Null Count  Dtype         \n",
            "---  ------     --------------  -----         \n",
            " 0   date       1419 non-null   datetime64[ns]\n",
            " 1   open       1419 non-null   float64       \n",
            " 2   high       1419 non-null   float64       \n",
            " 3   low        1419 non-null   float64       \n",
            " 4   close      1419 non-null   float64       \n",
            " 5   adj_close  1419 non-null   float64       \n",
            " 6   volume     1419 non-null   int64         \n",
            " 7   ticker     1419 non-null   object        \n",
            "dtypes: datetime64[ns](1), float64(5), int64(1), object(1)\n",
            "memory usage: 88.8+ KB\n",
            "None\n",
            "[*********************100%***********************]  1 of 1 completed\n",
            "success!\n",
            "<class 'pandas.core.frame.DataFrame'>\n",
            "RangeIndex: 1419 entries, 0 to 1418\n",
            "Data columns (total 8 columns):\n",
            " #   Column     Non-Null Count  Dtype         \n",
            "---  ------     --------------  -----         \n",
            " 0   date       1419 non-null   datetime64[ns]\n",
            " 1   open       1419 non-null   float64       \n",
            " 2   high       1419 non-null   float64       \n",
            " 3   low        1419 non-null   float64       \n",
            " 4   close      1419 non-null   float64       \n",
            " 5   adj_close  1419 non-null   float64       \n",
            " 6   volume     1419 non-null   int64         \n",
            " 7   ticker     1419 non-null   object        \n",
            "dtypes: datetime64[ns](1), float64(5), int64(1), object(1)\n",
            "memory usage: 88.8+ KB\n",
            "None\n",
            "         date       open       high        low      close  adj_close  \\\n",
            "0  2017-08-04  72.400002  73.040001  72.239998  72.680000  67.571655   \n",
            "1  2017-08-07  72.800003  72.900002  72.260002  72.400002  67.311340   \n",
            "2  2017-08-08  72.089996  73.129997  71.750000  72.790001  67.673927   \n",
            "3  2017-08-09  72.250000  72.510002  72.050003  72.470001  67.376434   \n",
            "4  2017-08-10  71.900002  72.190002  71.349998  71.410004  66.390953   \n",
            "5  2017-08-11  71.610001  72.699997  71.279999  72.500000  67.404289   \n",
            "6  2017-08-14  73.059998  73.720001  72.949997  73.589996  68.417686   \n",
            "7  2017-08-15  73.589996  73.589996  73.040001  73.220001  68.436401   \n",
            "8  2017-08-16  73.339996  74.099998  73.169998  73.650002  68.838303   \n",
            "9  2017-08-17  73.580002  73.870003  72.400002  72.400002  67.669960   \n",
            "10 2017-08-18  72.269997  72.839996  71.930000  72.489998  67.754082   \n",
            "11 2017-08-21  72.470001  72.480003  71.699997  72.150002  67.436295   \n",
            "12 2017-08-22  72.349998  73.239998  72.349998  73.160004  68.380310   \n",
            "13 2017-08-23  72.959999  73.150002  72.529999  72.720001  67.969070   \n",
            "14 2017-08-24  72.739998  72.860001  72.070000  72.690002  67.941032   \n",
            "15 2017-08-25  72.860001  73.349998  72.480003  72.820000  68.062531   \n",
            "16 2017-08-28  73.059998  73.089996  72.550003  72.830002  68.071877   \n",
            "17 2017-08-29  72.250000  73.160004  72.050003  73.050003  68.277489   \n",
            "18 2017-08-30  73.010002  74.209999  72.830002  74.010002  69.174782   \n",
            "19 2017-08-31  74.029999  74.959999  73.800003  74.769997  69.885124   \n",
            "\n",
            "      volume ticker     target      10mda      20mda  50mda  100mda  \\\n",
            "0   22579000   MSFT  72.400002        NaN        NaN    NaN     NaN   \n",
            "1   18705700   MSFT  72.790001        NaN        NaN    NaN     NaN   \n",
            "2   22044600   MSFT  72.470001        NaN        NaN    NaN     NaN   \n",
            "3   22213400   MSFT  71.410004        NaN        NaN    NaN     NaN   \n",
            "4   24734500   MSFT  72.500000        NaN        NaN    NaN     NaN   \n",
            "5   21443700   MSFT  73.589996        NaN        NaN    NaN     NaN   \n",
            "6   20096600   MSFT  73.220001        NaN        NaN    NaN     NaN   \n",
            "7   19181400   MSFT  73.650002        NaN        NaN    NaN     NaN   \n",
            "8   18150400   MSFT  72.400002        NaN        NaN    NaN     NaN   \n",
            "9   22977500   MSFT  72.489998  72.711001        NaN    NaN     NaN   \n",
            "10  18761500   MSFT  72.150002  72.692001        NaN    NaN     NaN   \n",
            "11  17734800   MSFT  73.160004  72.667001        NaN    NaN     NaN   \n",
            "12  14343700   MSFT  72.720001  72.704001        NaN    NaN     NaN   \n",
            "13  13766500   MSFT  72.690002  72.729001        NaN    NaN     NaN   \n",
            "14  17098300   MSFT  72.820000  72.857001        NaN    NaN     NaN   \n",
            "15  12794300   MSFT  72.830002  72.889001        NaN    NaN     NaN   \n",
            "16  14569700   MSFT  73.050003  72.813001        NaN    NaN     NaN   \n",
            "17  11478400   MSFT  74.010002  72.796001        NaN    NaN     NaN   \n",
            "18  16897800   MSFT  74.769997  72.832001        NaN    NaN     NaN   \n",
            "19  27652800   MSFT  73.940002  73.069001  72.890001    NaN     NaN   \n",
            "\n",
            "      EWMA_20  EWMA_50  EWMA_100        rsi  MiddleBand  UpperBand  LowerBand  \n",
            "0         NaN      NaN       NaN        NaN         NaN        NaN        NaN  \n",
            "1         NaN      NaN       NaN        NaN         NaN        NaN        NaN  \n",
            "2         NaN      NaN       NaN        NaN         NaN        NaN        NaN  \n",
            "3         NaN      NaN       NaN        NaN         NaN        NaN        NaN  \n",
            "4         NaN      NaN       NaN        NaN         NaN        NaN        NaN  \n",
            "5         NaN      NaN       NaN        NaN         NaN        NaN        NaN  \n",
            "6         NaN      NaN       NaN        NaN         NaN        NaN        NaN  \n",
            "7         NaN      NaN       NaN        NaN         NaN        NaN        NaN  \n",
            "8         NaN      NaN       NaN        NaN         NaN        NaN        NaN  \n",
            "9         NaN      NaN       NaN        NaN         NaN        NaN        NaN  \n",
            "10        NaN      NaN       NaN        NaN         NaN        NaN        NaN  \n",
            "11        NaN      NaN       NaN        NaN         NaN        NaN        NaN  \n",
            "12        NaN      NaN       NaN        NaN         NaN        NaN        NaN  \n",
            "13        NaN      NaN       NaN        NaN         NaN        NaN        NaN  \n",
            "14        NaN      NaN       NaN  49.881891         NaN        NaN        NaN  \n",
            "15        NaN      NaN       NaN  51.225183         NaN        NaN        NaN  \n",
            "16        NaN      NaN       NaN  51.333264         NaN        NaN        NaN  \n",
            "17        NaN      NaN       NaN  53.760360         NaN        NaN        NaN  \n",
            "18  72.914642      NaN       NaN  62.539609         NaN        NaN        NaN  \n",
            "19  73.118946      NaN       NaN  67.758544   72.890001  74.333824  71.446177  \n"
          ]
        }
      ],
      "source": [
        "#Complete financial info retrieval\n",
        "finance_dfs = []\n",
        "for tick in ticker_list:\n",
        "    data = get_financials(tick, dt.date(2018,1, 1))\n",
        "    data.rename(columns = {'Date':'date', 'Open':'open', 'High':'high', 'Low':'low', 'Close':'close','Adj Close': 'adj_close', 'Volume':'volume'}, inplace = True)\n",
        "    print(data.info())\n",
        "    prepped = prep_financials(data)\n",
        "    finance_dfs.append(prepped)\n",
        "\n",
        "#read finance data to csv\n",
        "full_finance = pd.concat(finance_dfs)\n",
        "full_finance.to_csv('finance.csv', index = False)\n",
        "print(full_finance.head(20))"
      ]
    },
    {
      "cell_type": "markdown",
      "metadata": {
        "id": "t9MJEWlu1zj3"
      },
      "source": [
        "# Single Company Model Implementation\n",
        "This section contains the necessary code to define our model and train/test the standalone LSTM as well as the hybrid ensemble model. "
      ]
    },
    {
      "cell_type": "markdown",
      "metadata": {
        "id": "HH6ii0zit08Y"
      },
      "source": [
        "## EDA, Data Cleaning and Model Building\n",
        "All data collection and initial prep is completed at this point."
      ]
    },
    {
      "cell_type": "code",
      "execution_count": 64,
      "metadata": {
        "id": "NAs13PDAeM5f",
        "outputId": "5383cd07-5f65-4efc-b853-3d770195d442",
        "colab": {
          "base_uri": "https://localhost:8080/"
        }
      },
      "outputs": [
        {
          "output_type": "stream",
          "name": "stdout",
          "text": [
            "0\n",
            "0\n",
            "0\n",
            "0\n",
            "0\n",
            "             score\n",
            "count  1410.000000\n",
            "mean      0.347804\n",
            "std       0.046656\n",
            "min       0.000000\n",
            "25%       0.343666\n",
            "50%       0.345013\n",
            "75%       0.349057\n",
            "max       1.000000\n"
          ]
        }
      ],
      "source": [
        "#retrieve sentiment scores and create dataframes with only score and date columns\n",
        "sentiment_dfs = []\n",
        "for i in ticker_list:\n",
        "  data = pd.read_csv('/content/StockPrice-Hybrid-Model-/Sentiment Score/'+i+'_sentimentscore.csv')\n",
        "  data['date'] = pd.to_datetime(data['date'])\n",
        "  df = data[['date','score']]\n",
        "  sentiment_dfs.append(df)\n",
        "  #check for outstanding NA values\n",
        "  print(df['score'].isna().sum())\n",
        "#Check distribution of sentiment dataframe\n",
        "print(sentiment_dfs[1].describe())"
      ]
    },
    {
      "cell_type": "markdown",
      "source": [
        "### Create Final Dataframes to Include Both Sentiment Data and Financial Data "
      ],
      "metadata": {
        "id": "hOftmCei1Ezn"
      }
    },
    {
      "cell_type": "code",
      "execution_count": 65,
      "metadata": {
        "id": "gG7vztUCnY9m",
        "outputId": "a2bf504f-3311-41a6-b441-ad436edab3f9",
        "colab": {
          "base_uri": "https://localhost:8080/"
        }
      },
      "outputs": [
        {
          "output_type": "stream",
          "name": "stderr",
          "text": [
            "<ipython-input-65-8e39b6942336>:12: SettingWithCopyWarning: \n",
            "A value is trying to be set on a copy of a slice from a DataFrame.\n",
            "Try using .loc[row_indexer,col_indexer] = value instead\n",
            "\n",
            "See the caveats in the documentation: https://pandas.pydata.org/pandas-docs/stable/user_guide/indexing.html#returning-a-view-versus-a-copy\n",
            "  data['date'] = pd.to_datetime(data['date'])\n",
            "<ipython-input-65-8e39b6942336>:12: SettingWithCopyWarning: \n",
            "A value is trying to be set on a copy of a slice from a DataFrame.\n",
            "Try using .loc[row_indexer,col_indexer] = value instead\n",
            "\n",
            "See the caveats in the documentation: https://pandas.pydata.org/pandas-docs/stable/user_guide/indexing.html#returning-a-view-versus-a-copy\n",
            "  data['date'] = pd.to_datetime(data['date'])\n",
            "<ipython-input-65-8e39b6942336>:12: SettingWithCopyWarning: \n",
            "A value is trying to be set on a copy of a slice from a DataFrame.\n",
            "Try using .loc[row_indexer,col_indexer] = value instead\n",
            "\n",
            "See the caveats in the documentation: https://pandas.pydata.org/pandas-docs/stable/user_guide/indexing.html#returning-a-view-versus-a-copy\n",
            "  data['date'] = pd.to_datetime(data['date'])\n",
            "<ipython-input-65-8e39b6942336>:12: SettingWithCopyWarning: \n",
            "A value is trying to be set on a copy of a slice from a DataFrame.\n",
            "Try using .loc[row_indexer,col_indexer] = value instead\n",
            "\n",
            "See the caveats in the documentation: https://pandas.pydata.org/pandas-docs/stable/user_guide/indexing.html#returning-a-view-versus-a-copy\n",
            "  data['date'] = pd.to_datetime(data['date'])\n",
            "<ipython-input-65-8e39b6942336>:12: SettingWithCopyWarning: \n",
            "A value is trying to be set on a copy of a slice from a DataFrame.\n",
            "Try using .loc[row_indexer,col_indexer] = value instead\n",
            "\n",
            "See the caveats in the documentation: https://pandas.pydata.org/pandas-docs/stable/user_guide/indexing.html#returning-a-view-versus-a-copy\n",
            "  data['date'] = pd.to_datetime(data['date'])\n"
          ]
        },
        {
          "output_type": "stream",
          "name": "stdout",
          "text": [
            "<class 'pandas.core.frame.DataFrame'>\n",
            "RangeIndex: 1410 entries, 0 to 1409\n",
            "Data columns (total 2 columns):\n",
            " #   Column  Non-Null Count  Dtype         \n",
            "---  ------  --------------  -----         \n",
            " 0   date    1410 non-null   datetime64[ns]\n",
            " 1   score   1410 non-null   float64       \n",
            "dtypes: datetime64[ns](1), float64(1)\n",
            "memory usage: 22.2 KB\n",
            "None\n",
            "<class 'pandas.core.frame.DataFrame'>\n",
            "Int64Index: 1419 entries, 1419 to 2837\n",
            "Data columns (total 20 columns):\n",
            " #   Column      Non-Null Count  Dtype         \n",
            "---  ------      --------------  -----         \n",
            " 0   date        1419 non-null   datetime64[ns]\n",
            " 1   open        1419 non-null   float64       \n",
            " 2   high        1419 non-null   float64       \n",
            " 3   low         1419 non-null   float64       \n",
            " 4   close       1419 non-null   float64       \n",
            " 5   adj_close   1419 non-null   float64       \n",
            " 6   volume      1419 non-null   int64         \n",
            " 7   ticker      1419 non-null   object        \n",
            " 8   target      1418 non-null   float64       \n",
            " 9   10mda       1410 non-null   float64       \n",
            " 10  20mda       1400 non-null   float64       \n",
            " 11  50mda       1370 non-null   float64       \n",
            " 12  100mda      1320 non-null   float64       \n",
            " 13  EWMA_20     1401 non-null   float64       \n",
            " 14  EWMA_50     1371 non-null   float64       \n",
            " 15  EWMA_100    1321 non-null   float64       \n",
            " 16  rsi         1405 non-null   float64       \n",
            " 17  MiddleBand  1400 non-null   float64       \n",
            " 18  UpperBand   1400 non-null   float64       \n",
            " 19  LowerBand   1400 non-null   float64       \n",
            "dtypes: datetime64[ns](1), float64(17), int64(1), object(1)\n",
            "memory usage: 232.8+ KB\n",
            "None\n",
            "<class 'pandas.core.frame.DataFrame'>\n",
            "DatetimeIndex: 1196 entries, 2018-01-03 to 2023-02-01\n",
            "Data columns (total 20 columns):\n",
            " #   Column      Non-Null Count  Dtype  \n",
            "---  ------      --------------  -----  \n",
            " 0   open        1196 non-null   float64\n",
            " 1   high        1196 non-null   float64\n",
            " 2   low         1196 non-null   float64\n",
            " 3   close       1196 non-null   float64\n",
            " 4   adj_close   1196 non-null   float64\n",
            " 5   volume      1196 non-null   int64  \n",
            " 6   ticker      1196 non-null   object \n",
            " 7   target      1196 non-null   float64\n",
            " 8   10mda       1196 non-null   float64\n",
            " 9   20mda       1196 non-null   float64\n",
            " 10  50mda       1196 non-null   float64\n",
            " 11  100mda      1196 non-null   float64\n",
            " 12  EWMA_20     1196 non-null   float64\n",
            " 13  EWMA_50     1196 non-null   float64\n",
            " 14  EWMA_100    1196 non-null   float64\n",
            " 15  rsi         1196 non-null   float64\n",
            " 16  MiddleBand  1196 non-null   float64\n",
            " 17  UpperBand   1196 non-null   float64\n",
            " 18  LowerBand   1196 non-null   float64\n",
            " 19  score       1196 non-null   float64\n",
            "dtypes: float64(18), int64(1), object(1)\n",
            "memory usage: 196.2+ KB\n",
            "None\n"
          ]
        }
      ],
      "source": [
        "financials = pd.read_csv('finance.csv')\n",
        "#function to separate dataframe by company\n",
        "def separate_companies(ticker, df):\n",
        "    dataframe = df[df['ticker']==ticker]\n",
        "    return dataframe\n",
        "\n",
        "#separate dataframes for each company and add new features\n",
        "df_list = []\n",
        "for tick in ticker_list:\n",
        "    data = separate_companies(tick, financials)\n",
        "    data.reset_index()\n",
        "    data['date'] = pd.to_datetime(data['date'])\n",
        "    df_list.append(data)\n",
        "\n",
        "print(sentiment_dfs[1].info())\n",
        "print(df_list[1].info())\n",
        "#create final dataframe with sentiment included\n",
        "goog = pd.merge(df_list[1], sentiment_dfs[1], how = 'inner').set_index('date').loc['2018-01-01':'2023-02-01']\n",
        "msft = pd.merge(df_list[0], sentiment_dfs[0], how = 'inner').set_index('date').loc['2018-01-01':'2023-02-01']\n",
        "amzn = pd.merge(df_list[2], sentiment_dfs[2], how = 'inner').set_index('date').loc['2018-01-01':'2023-02-01']\n",
        "tesla = pd.merge(df_list[3], sentiment_dfs[3], how = 'inner').set_index('date').loc['2018-01-01':'2023-02-01']\n",
        "nflx = pd.merge(df_list[4], sentiment_dfs[4], how = 'inner').set_index('date').loc['2018-01-01':'2023-02-01']\n",
        "print(goog.info())\n",
        "frames = [goog, msft, amzn, tesla, nflx]\n"
      ]
    },
    {
      "cell_type": "markdown",
      "source": [
        "### General EDA to Explore Change in Stock Prices and Daily Headlines"
      ],
      "metadata": {
        "id": "Uo6ZwI5e1VOp"
      }
    },
    {
      "cell_type": "code",
      "execution_count": 66,
      "metadata": {
        "colab": {
          "base_uri": "https://localhost:8080/",
          "height": 949
        },
        "id": "2VkB-IFpHTrY",
        "outputId": "f72ded8a-8ba3-4203-a2e6-2b8a75fa78dc"
      },
      "outputs": [
        {
          "output_type": "display_data",
          "data": {
            "text/plain": [
              "<Figure size 864x576 with 1 Axes>"
            ],
            "image/png": "[encoded data removed]"
          },
          "metadata": {
            "needs_background": "light"
          }
        },
        {
          "output_type": "error",
          "ename": "KeyError",
          "evalue": "ignored",
          "traceback": [
            "\u001b[0;31m---------------------------------------------------------------------------\u001b[0m",
            "\u001b[0;31mKeyError\u001b[0m                                  Traceback (most recent call last)",
            "\u001b[0;32m/usr/local/lib/python3.9/dist-packages/pandas/core/indexes/base.py\u001b[0m in \u001b[0;36mget_loc\u001b[0;34m(self, key, method, tolerance)\u001b[0m\n\u001b[1;32m   3628\u001b[0m             \u001b[0;32mtry\u001b[0m\u001b[0;34m:\u001b[0m\u001b[0;34m\u001b[0m\u001b[0;34m\u001b[0m\u001b[0m\n\u001b[0;32m-> 3629\u001b[0;31m                 \u001b[0;32mreturn\u001b[0m \u001b[0mself\u001b[0m\u001b[0;34m.\u001b[0m\u001b[0m_engine\u001b[0m\u001b[0;34m.\u001b[0m\u001b[0mget_loc\u001b[0m\u001b[0;34m(\u001b[0m\u001b[0mcasted_key\u001b[0m\u001b[0;34m)\u001b[0m\u001b[0;34m\u001b[0m\u001b[0;34m\u001b[0m\u001b[0m\n\u001b[0m\u001b[1;32m   3630\u001b[0m             \u001b[0;32mexcept\u001b[0m \u001b[0mKeyError\u001b[0m \u001b[0;32mas\u001b[0m \u001b[0merr\u001b[0m\u001b[0;34m:\u001b[0m\u001b[0;34m\u001b[0m\u001b[0;34m\u001b[0m\u001b[0m\n",
            "\u001b[0;32m/usr/local/lib/python3.9/dist-packages/pandas/_libs/index.pyx\u001b[0m in \u001b[0;36mpandas._libs.index.IndexEngine.get_loc\u001b[0;34m()\u001b[0m\n",
            "\u001b[0;32m/usr/local/lib/python3.9/dist-packages/pandas/_libs/index.pyx\u001b[0m in \u001b[0;36mpandas._libs.index.IndexEngine.get_loc\u001b[0;34m()\u001b[0m\n",
            "\u001b[0;32mpandas/_libs/hashtable_class_helper.pxi\u001b[0m in \u001b[0;36mpandas._libs.hashtable.PyObjectHashTable.get_item\u001b[0;34m()\u001b[0m\n",
            "\u001b[0;32mpandas/_libs/hashtable_class_helper.pxi\u001b[0m in \u001b[0;36mpandas._libs.hashtable.PyObjectHashTable.get_item\u001b[0;34m()\u001b[0m\n",
            "\u001b[0;31mKeyError\u001b[0m: 'headline'",
            "\nThe above exception was the direct cause of the following exception:\n",
            "\u001b[0;31mKeyError\u001b[0m                                  Traceback (most recent call last)",
            "\u001b[0;32m<ipython-input-66-a16ddf0c437c>\u001b[0m in \u001b[0;36m<module>\u001b[0;34m\u001b[0m\n\u001b[1;32m     13\u001b[0m \u001b[0mrollings\u001b[0m \u001b[0;34m=\u001b[0m \u001b[0;34m[\u001b[0m\u001b[0;34m]\u001b[0m\u001b[0;34m\u001b[0m\u001b[0;34m\u001b[0m\u001b[0m\n\u001b[1;32m     14\u001b[0m \u001b[0;32mfor\u001b[0m \u001b[0mi\u001b[0m\u001b[0;34m,\u001b[0m \u001b[0mframe\u001b[0m \u001b[0;32min\u001b[0m \u001b[0menumerate\u001b[0m\u001b[0;34m(\u001b[0m\u001b[0mframes\u001b[0m\u001b[0;34m)\u001b[0m\u001b[0;34m:\u001b[0m\u001b[0;34m\u001b[0m\u001b[0;34m\u001b[0m\u001b[0m\n\u001b[0;32m---> 15\u001b[0;31m   \u001b[0mframe\u001b[0m\u001b[0;34m[\u001b[0m\u001b[0;34m'average headlines'\u001b[0m\u001b[0;34m]\u001b[0m \u001b[0;34m=\u001b[0m \u001b[0mframe\u001b[0m\u001b[0;34m[\u001b[0m\u001b[0;34m'headline'\u001b[0m\u001b[0;34m]\u001b[0m\u001b[0;34m.\u001b[0m\u001b[0mrolling\u001b[0m\u001b[0;34m(\u001b[0m\u001b[0;36m20\u001b[0m\u001b[0;34m)\u001b[0m\u001b[0;34m.\u001b[0m\u001b[0mmean\u001b[0m\u001b[0;34m(\u001b[0m\u001b[0;34m)\u001b[0m\u001b[0;34m\u001b[0m\u001b[0;34m\u001b[0m\u001b[0m\n\u001b[0m\u001b[1;32m     16\u001b[0m   \u001b[0mrollings\u001b[0m\u001b[0;34m.\u001b[0m\u001b[0mappend\u001b[0m\u001b[0;34m(\u001b[0m\u001b[0mframe\u001b[0m\u001b[0;34m)\u001b[0m\u001b[0;34m\u001b[0m\u001b[0;34m\u001b[0m\u001b[0m\n\u001b[1;32m     17\u001b[0m \u001b[0mplt\u001b[0m\u001b[0;34m.\u001b[0m\u001b[0mfigure\u001b[0m\u001b[0;34m(\u001b[0m\u001b[0mfigsize\u001b[0m \u001b[0;34m=\u001b[0m \u001b[0;34m(\u001b[0m\u001b[0;36m12\u001b[0m\u001b[0;34m,\u001b[0m \u001b[0;36m8\u001b[0m\u001b[0;34m)\u001b[0m\u001b[0;34m)\u001b[0m\u001b[0;34m\u001b[0m\u001b[0;34m\u001b[0m\u001b[0m\n",
            "\u001b[0;32m/usr/local/lib/python3.9/dist-packages/pandas/core/frame.py\u001b[0m in \u001b[0;36m__getitem__\u001b[0;34m(self, key)\u001b[0m\n\u001b[1;32m   3503\u001b[0m             \u001b[0;32mif\u001b[0m \u001b[0mself\u001b[0m\u001b[0;34m.\u001b[0m\u001b[0mcolumns\u001b[0m\u001b[0;34m.\u001b[0m\u001b[0mnlevels\u001b[0m \u001b[0;34m>\u001b[0m \u001b[0;36m1\u001b[0m\u001b[0;34m:\u001b[0m\u001b[0;34m\u001b[0m\u001b[0;34m\u001b[0m\u001b[0m\n\u001b[1;32m   3504\u001b[0m                 \u001b[0;32mreturn\u001b[0m \u001b[0mself\u001b[0m\u001b[0;34m.\u001b[0m\u001b[0m_getitem_multilevel\u001b[0m\u001b[0;34m(\u001b[0m\u001b[0mkey\u001b[0m\u001b[0;34m)\u001b[0m\u001b[0;34m\u001b[0m\u001b[0;34m\u001b[0m\u001b[0m\n\u001b[0;32m-> 3505\u001b[0;31m             \u001b[0mindexer\u001b[0m \u001b[0;34m=\u001b[0m \u001b[0mself\u001b[0m\u001b[0;34m.\u001b[0m\u001b[0mcolumns\u001b[0m\u001b[0;34m.\u001b[0m\u001b[0mget_loc\u001b[0m\u001b[0;34m(\u001b[0m\u001b[0mkey\u001b[0m\u001b[0;34m)\u001b[0m\u001b[0;34m\u001b[0m\u001b[0;34m\u001b[0m\u001b[0m\n\u001b[0m\u001b[1;32m   3506\u001b[0m             \u001b[0;32mif\u001b[0m \u001b[0mis_integer\u001b[0m\u001b[0;34m(\u001b[0m\u001b[0mindexer\u001b[0m\u001b[0;34m)\u001b[0m\u001b[0;34m:\u001b[0m\u001b[0;34m\u001b[0m\u001b[0;34m\u001b[0m\u001b[0m\n\u001b[1;32m   3507\u001b[0m                 \u001b[0mindexer\u001b[0m \u001b[0;34m=\u001b[0m \u001b[0;34m[\u001b[0m\u001b[0mindexer\u001b[0m\u001b[0;34m]\u001b[0m\u001b[0;34m\u001b[0m\u001b[0;34m\u001b[0m\u001b[0m\n",
            "\u001b[0;32m/usr/local/lib/python3.9/dist-packages/pandas/core/indexes/base.py\u001b[0m in \u001b[0;36mget_loc\u001b[0;34m(self, key, method, tolerance)\u001b[0m\n\u001b[1;32m   3629\u001b[0m                 \u001b[0;32mreturn\u001b[0m \u001b[0mself\u001b[0m\u001b[0;34m.\u001b[0m\u001b[0m_engine\u001b[0m\u001b[0;34m.\u001b[0m\u001b[0mget_loc\u001b[0m\u001b[0;34m(\u001b[0m\u001b[0mcasted_key\u001b[0m\u001b[0;34m)\u001b[0m\u001b[0;34m\u001b[0m\u001b[0;34m\u001b[0m\u001b[0m\n\u001b[1;32m   3630\u001b[0m             \u001b[0;32mexcept\u001b[0m \u001b[0mKeyError\u001b[0m \u001b[0;32mas\u001b[0m \u001b[0merr\u001b[0m\u001b[0;34m:\u001b[0m\u001b[0;34m\u001b[0m\u001b[0;34m\u001b[0m\u001b[0m\n\u001b[0;32m-> 3631\u001b[0;31m                 \u001b[0;32mraise\u001b[0m \u001b[0mKeyError\u001b[0m\u001b[0;34m(\u001b[0m\u001b[0mkey\u001b[0m\u001b[0;34m)\u001b[0m \u001b[0;32mfrom\u001b[0m \u001b[0merr\u001b[0m\u001b[0;34m\u001b[0m\u001b[0;34m\u001b[0m\u001b[0m\n\u001b[0m\u001b[1;32m   3632\u001b[0m             \u001b[0;32mexcept\u001b[0m \u001b[0mTypeError\u001b[0m\u001b[0;34m:\u001b[0m\u001b[0;34m\u001b[0m\u001b[0;34m\u001b[0m\u001b[0m\n\u001b[1;32m   3633\u001b[0m                 \u001b[0;31m# If we have a listlike key, _check_indexing_error will raise\u001b[0m\u001b[0;34m\u001b[0m\u001b[0;34m\u001b[0m\u001b[0m\n",
            "\u001b[0;31mKeyError\u001b[0m: 'headline'"
          ]
        }
      ],
      "source": [
        "#EDA and summary stats for compiled datasets\n",
        "ticker_list = ['GOOG', 'MSFT','AMZN','TSLA','NFLX']\n",
        "plt.figure(figsize = (12, 8))\n",
        "\n",
        "#create plot to display change in share price\n",
        "for i, frame in enumerate(frames):\n",
        "  frame['close'].plot(label = ticker_list[i]+' Close Price')\n",
        "plt.ylabel('Share Price')\n",
        "plt.legend()\n",
        "plt.show()\n",
        "\n",
        "#create plot to display daily number of headlines as a 20 day rolling average \n",
        "rollings = []\n",
        "for i, frame in enumerate(frames):\n",
        "  frame['average headlines'] = frame['headline'].rolling(20).mean()\n",
        "  rollings.append(frame)\n",
        "plt.figure(figsize = (12, 8))\n",
        "for i, frame in enumerate(rollings):\n",
        "  frame['average headlines'].plot(label = ticker_list[i]+' # Daily Headlines')\n",
        "plt.legend()\n",
        "plt.ylabel('20 Day Rolling Average Number of Headlines ')\n",
        "plt.show()\n"
      ]
    },
    {
      "cell_type": "markdown",
      "source": [
        "### Scale Data and Configure Training/Test Datasets "
      ],
      "metadata": {
        "id": "JGb4NZ4P1i40"
      }
    },
    {
      "cell_type": "code",
      "execution_count": 67,
      "metadata": {
        "id": "slz5DdNy0rhc",
        "outputId": "92d0a343-4e05-4df7-808e-056e5f5f372a",
        "colab": {
          "base_uri": "https://localhost:8080/"
        }
      },
      "outputs": [
        {
          "output_type": "stream",
          "name": "stdout",
          "text": [
            "date\n",
            "2018-01-03     87.110001\n",
            "2018-01-04     88.190002\n",
            "2018-01-05     88.279999\n",
            "2018-01-08     88.220001\n",
            "2018-01-09     87.820000\n",
            "                 ...    \n",
            "2023-01-26    248.160004\n",
            "2023-01-27    242.710007\n",
            "2023-01-30    247.809998\n",
            "2023-01-31    252.750000\n",
            "2023-02-01    264.600006\n",
            "Name: target, Length: 1196, dtype: float64\n",
            "[[0.00813638]\n",
            " [0.01232081]\n",
            " [0.0126695 ]\n",
            " ...\n",
            " [0.63076329]\n",
            " [0.64990317]\n",
            " [0.69581564]]\n",
            "(1186, 10, 18) (1068, 10, 18) (118, 10, 18) (118, 1) (1068, 1)\n"
          ]
        }
      ],
      "source": [
        "from sklearn.preprocessing import MinMaxScaler\n",
        "# drop irrevelant columns\n",
        "data = frames[1]\n",
        "data = data.drop(['ticker'],axis=1)\n",
        " \n",
        "# features and target columns\n",
        "print(data['target'])\n",
        "target_scaler = MinMaxScaler()\n",
        "target = target_scaler.fit_transform(data[['target']])\n",
        "print(target)\n",
        "score = data['score']\n",
        "X_feat = data.drop(['target', 'score'], axis = 1)\n",
        "\n",
        "# Normalise the data\n",
        "for col in X_feat.columns:\n",
        "    scaler = MinMaxScaler(feature_range=(0,1))\n",
        "    X_feat[col] = scaler.fit_transform(X_feat[[col]])\n",
        "X_feat['score'] = score\n",
        "X_ft = np.array(X_feat)\n",
        "# Creating a data structure with 10 time-steps and 1 output\n",
        " \n",
        "# Split data into X_train and y_train data sets\n",
        "def lstm_split(data,target,steps):\n",
        "  X = []\n",
        "  y = []\n",
        "  # Creating a data structure with 10 time-steps and 1 output\n",
        "  for i in range(10, steps):\n",
        "      X.append(data[i-10:i])\n",
        "      y.append(target[i])  \n",
        "  return np.array(X),np.array(y)\n",
        " \n",
        "X1,y1 = lstm_split(X_feat,target,len(X_ft))\n",
        " \n",
        "train_split = 0.9\n",
        "split_idx = int(np.ceil(len(X1)*train_split))\n",
        "date_index = X_feat.index\n",
        " \n",
        "X_train,X_test = X1[:split_idx],X1[split_idx:]\n",
        "y_train,y_test = y1[:split_idx],y1[split_idx:]\n",
        "X_train_date,X_test_date = date_index[:split_idx],date_index[split_idx:]\n",
        " \n",
        "print(X1.shape,X_train.shape,X_test.shape,y_test.shape,y_train.shape)"
      ]
    },
    {
      "cell_type": "markdown",
      "source": [
        "### LSTM Model Architecture\n",
        "The general architecture of the model is available below. Specific hyperparameters will be defined during the training process using RandomSearch."
      ],
      "metadata": {
        "id": "_cwv_8jb11qA"
      }
    },
    {
      "cell_type": "code",
      "execution_count": null,
      "metadata": {
        "id": "GFWbCk7kmJWY",
        "outputId": "f5316ec9-b2a5-47be-d23a-a5a43c757480",
        "colab": {
          "base_uri": "https://localhost:8080/"
        }
      },
      "outputs": [
        {
          "output_type": "stream",
          "name": "stderr",
          "text": [
            "/usr/local/lib/python3.9/dist-packages/keras/optimizers/optimizer_v2/adam.py:117: UserWarning: The `lr` argument is deprecated, use `learning_rate` instead.\n",
            "  super().__init__(name, **kwargs)\n"
          ]
        },
        {
          "output_type": "stream",
          "name": "stdout",
          "text": [
            "34/34 [==============================] - 1s 5ms/step - loss: 0.0012 - mean_squared_error: 0.0012    \n",
            "[0.0011851069284603, 0.0011851069284603]\n",
            "{'n_hidden': 0, 'neurons_visible': 58, 'activate1': 'sigmoid', 'dropout1': 0.4, 'neurons_hidden1': 50, 'dropout2': 0.7, 'neurons_hidden2': 40, 'dropout3': 0.4, 'neurons_hidden3': 50}\n"
          ]
        }
      ],
      "source": [
        "#LSTM Framework\n",
        "import tensorflow as tf\n",
        "from keras.models import Sequential\n",
        "from keras.layers import Dense, Dropout\n",
        "from keras.layers import LSTM\n",
        "from keras.callbacks import ReduceLROnPlateau, EarlyStopping\n",
        "from keras.metrics import Precision\n",
        "from keras.optimizers import Adam\n",
        "#!pip install keras_tuner\n",
        "import keras_tuner\n",
        "\n",
        "\n",
        "#define function to create model, optional hyperparameters included to be selected during training\n",
        "LR = 0.05\n",
        "EPOCH = 200\n",
        "BATCH = 24\n",
        "def build_model(hp):\n",
        "  model = Sequential()\n",
        "  hidden = hp.Choice('n_hidden', [0,1,2,3])\n",
        "  model.add(LSTM(units = hp.Int('neurons_visible', min_value = X_train.shape[2], max_value = 100, step = 20),\n",
        "                activation = hp.Choice('activate1', ['sigmoid', 'relu']),\n",
        "                input_shape = (X_train.shape[1], X_train.shape[2]),\n",
        "                return_sequences = True if hidden >0 else False))\n",
        "  #Configure hidden layers based on random search determined hidden layer number\n",
        "  if hidden > 0:\n",
        "    for num in range(hidden):\n",
        "      model.add(Dropout(hp.Float('dropout' +str(num+1), min_value = 0.1, max_value = 0.9, step = 0.3)))\n",
        "      model.add(LSTM(units = hp.Int('neurons_hidden'+str(num+1), min_value = 20, max_value = 50, step = 10),\n",
        "                     activation = 'relu', return_sequences = True if num != hidden else False))\n",
        "      \n",
        "  model.add(Dropout(0.5))\n",
        "  model.add(Dense(units = 1))\n",
        "\n",
        "  #compile the model\n",
        "  model.compile(loss = 'mean_squared_error', optimizer = Adam(lr = LR), metrics = ['mean_squared_error'])\n",
        "  \n",
        "  return model\n",
        "\n",
        "#set learning rate and early stopping callbacks\n",
        "LR_decay = ReduceLROnPlateau('loss', patience=1, verbose=0, \n",
        "                             factor=0.5, min_lr=1e-8)\n",
        "Early_stop = EarlyStopping(monitor='loss', min_delta=0, \n",
        "                           patience=25, verbose=1, mode='auto',\n",
        "                           baseline=0, restore_best_weights=True)\n",
        "#arrange random search class\n",
        "tune = keras_tuner.RandomSearch(build_model, objective= keras_tuner.Objective('val_loss', direction='min'), max_trials = 50, seed = 2)\n",
        "\n",
        "#complete training \n",
        "tune.search(X_train, y_train, epochs = EPOCH, batch_size = BATCH, validation_data = (X_test, y_test), callbacks = [LR_decay, Early_stop])\n",
        "\n",
        "LSTM_model = tune.get_best_models()[0]\n",
        "test_predictions = LSTM_model.evaluate(X_train, y_train)\n",
        "print(test_predictions)\n",
        "LSTM_model.save('/content/StockPrice-Hybrid-Model-/Models/LSTM_model.h5')\n",
        "hyperparameters = tune.get_best_hyperparameters(1)[0]\n",
        "print(hyperparameters.values)"
      ]
    },
    {
      "cell_type": "markdown",
      "source": [
        "## LSTM Model Testing"
      ],
      "metadata": {
        "id": "CzCEzpi72Wat"
      }
    },
    {
      "cell_type": "markdown",
      "source": [
        "### Format Test Data to Reflect Training Data Format"
      ],
      "metadata": {
        "id": "g-SCfpV92e6M"
      }
    },
    {
      "cell_type": "code",
      "source": [
        "# prep google test data\n",
        "google = frames[0]\n",
        "google_scaler = MinMaxScaler()\n",
        "google_target = google_scaler.fit_transform(google[['target']])\n",
        "google_score = google['score']\n",
        "test_ft = google.drop(['target', 'score', 'ticker'], axis = 1)\n",
        "\n",
        "# Normalise the data\n",
        "for col in test_ft.columns:\n",
        "    scaler = MinMaxScaler(feature_range=(0,1))\n",
        "    test_ft[col] = scaler.fit_transform(test_ft[[col]])\n",
        "test_ft['score'] = google_score\n",
        "test_ft = np.array(test_ft)\n",
        "\n",
        "google_ft, google_target = lstm_split(test_ft,google_target,len(google_score))"
      ],
      "metadata": {
        "id": "w0KUlmlwMDyC"
      },
      "execution_count": null,
      "outputs": []
    },
    {
      "cell_type": "markdown",
      "source": [
        "### Evaluate LSTM Model Success on Test Data"
      ],
      "metadata": {
        "id": "OtxNI7IK2thv"
      }
    },
    {
      "cell_type": "code",
      "source": [
        "#test LSTM model using x_test and google test data\n",
        "from keras.models import load_model\n",
        "model = load_model(LSTM_model.h5)"
      ],
      "metadata": {
        "id": "3zwIIjPwHX_A"
      },
      "execution_count": null,
      "outputs": []
    },
    {
      "cell_type": "markdown",
      "metadata": {
        "id": "7Bg8r54_oq1m"
      },
      "source": [
        "## Prophet Model\n",
        "\n"
      ]
    },
    {
      "cell_type": "markdown",
      "metadata": {
        "id": "WvfiZF3PovxK"
      },
      "source": [
        "For this section is how we gonna fit the prophet model by using miscosoft company stock price data. The best hyperparameter we get by using the cross-validation"
      ]
    },
    {
      "cell_type": "code",
      "execution_count": null,
      "metadata": {
        "id": "aehoPm0QpsEO"
      },
      "outputs": [],
      "source": [
        "from prophet import Prophet\n",
        "from sklearn.metrics import mean_squared_error\n",
        "from prophet.diagnostics import cross_validation, performance_metrics\n",
        "from sklearn.model_selection import ParameterGrid"
      ]
    },
    {
      "cell_type": "code",
      "execution_count": null,
      "metadata": {
        "colab": {
          "base_uri": "https://localhost:8080/",
          "height": 357
        },
        "id": "1nsULZF8Lk_m",
        "outputId": "2d0dd0c9-d002-47b1-d381-345e17e49ff8"
      },
      "outputs": [
        {
          "output_type": "execute_result",
          "data": {
            "text/plain": [
              "         date       open       high        low      close  adj_close  \\\n",
              "0  2017-08-04  72.400002  73.040001  72.239998  72.680000  67.571640   \n",
              "1  2017-08-07  72.800003  72.900002  72.260002  72.400002  67.311348   \n",
              "2  2017-08-08  72.089996  73.129997  71.750000  72.790001  67.673927   \n",
              "3  2017-08-09  72.250000  72.510002  72.050003  72.470001  67.376427   \n",
              "4  2017-08-10  71.900002  72.190002  71.349998  71.410004  66.390930   \n",
              "\n",
              "     volume ticker  10mda  20mda  50mda  100mda  target  EWMA_20  EWMA_50  \\\n",
              "0  22579000   MSFT    NaN    NaN    NaN     NaN       0      NaN      NaN   \n",
              "1  18705700   MSFT    NaN    NaN    NaN     NaN       0      NaN      NaN   \n",
              "2  22044600   MSFT    NaN    NaN    NaN     NaN       0      NaN      NaN   \n",
              "3  22213400   MSFT    NaN    NaN    NaN     NaN       0      NaN      NaN   \n",
              "4  24734500   MSFT    NaN    NaN    NaN     NaN       1      NaN      NaN   \n",
              "\n",
              "   EWMA_100  rsi  MiddleBand  UpperBand  LowerBand  \n",
              "0       NaN  NaN         NaN        NaN        NaN  \n",
              "1       NaN  NaN         NaN        NaN        NaN  \n",
              "2       NaN  NaN         NaN        NaN        NaN  \n",
              "3       NaN  NaN         NaN        NaN        NaN  \n",
              "4       NaN  NaN         NaN        NaN        NaN  "
            ],
            "text/html": [
              "\n",
              "  <div id=\"df-160bf43c-e55b-4288-8ef2-e59eb97af12e\">\n",
              "    <div class=\"colab-df-container\">\n",
              "      <div>\n",
              "<style scoped>\n",
              "    .dataframe tbody tr th:only-of-type {\n",
              "        vertical-align: middle;\n",
              "    }\n",
              "\n",
              "    .dataframe tbody tr th {\n",
              "        vertical-align: top;\n",
              "    }\n",
              "\n",
              "    .dataframe thead th {\n",
              "        text-align: right;\n",
              "    }\n",
              "</style>\n",
              "<table border=\"1\" class=\"dataframe\">\n",
              "  <thead>\n",
              "    <tr style=\"text-align: right;\">\n",
              "      <th></th>\n",
              "      <th>date</th>\n",
              "      <th>open</th>\n",
              "      <th>high</th>\n",
              "      <th>low</th>\n",
              "      <th>close</th>\n",
              "      <th>adj_close</th>\n",
              "      <th>volume</th>\n",
              "      <th>ticker</th>\n",
              "      <th>10mda</th>\n",
              "      <th>20mda</th>\n",
              "      <th>50mda</th>\n",
              "      <th>100mda</th>\n",
              "      <th>target</th>\n",
              "      <th>EWMA_20</th>\n",
              "      <th>EWMA_50</th>\n",
              "      <th>EWMA_100</th>\n",
              "      <th>rsi</th>\n",
              "      <th>MiddleBand</th>\n",
              "      <th>UpperBand</th>\n",
              "      <th>LowerBand</th>\n",
              "    </tr>\n",
              "  </thead>\n",
              "  <tbody>\n",
              "    <tr>\n",
              "      <th>0</th>\n",
              "      <td>2017-08-04</td>\n",
              "      <td>72.400002</td>\n",
              "      <td>73.040001</td>\n",
              "      <td>72.239998</td>\n",
              "      <td>72.680000</td>\n",
              "      <td>67.571640</td>\n",
              "      <td>22579000</td>\n",
              "      <td>MSFT</td>\n",
              "      <td>NaN</td>\n",
              "      <td>NaN</td>\n",
              "      <td>NaN</td>\n",
              "      <td>NaN</td>\n",
              "      <td>0</td>\n",
              "      <td>NaN</td>\n",
              "      <td>NaN</td>\n",
              "      <td>NaN</td>\n",
              "      <td>NaN</td>\n",
              "      <td>NaN</td>\n",
              "      <td>NaN</td>\n",
              "      <td>NaN</td>\n",
              "    </tr>\n",
              "    <tr>\n",
              "      <th>1</th>\n",
              "      <td>2017-08-07</td>\n",
              "      <td>72.800003</td>\n",
              "      <td>72.900002</td>\n",
              "      <td>72.260002</td>\n",
              "      <td>72.400002</td>\n",
              "      <td>67.311348</td>\n",
              "      <td>18705700</td>\n",
              "      <td>MSFT</td>\n",
              "      <td>NaN</td>\n",
              "      <td>NaN</td>\n",
              "      <td>NaN</td>\n",
              "      <td>NaN</td>\n",
              "      <td>0</td>\n",
              "      <td>NaN</td>\n",
              "      <td>NaN</td>\n",
              "      <td>NaN</td>\n",
              "      <td>NaN</td>\n",
              "      <td>NaN</td>\n",
              "      <td>NaN</td>\n",
              "      <td>NaN</td>\n",
              "    </tr>\n",
              "    <tr>\n",
              "      <th>2</th>\n",
              "      <td>2017-08-08</td>\n",
              "      <td>72.089996</td>\n",
              "      <td>73.129997</td>\n",
              "      <td>71.750000</td>\n",
              "      <td>72.790001</td>\n",
              "      <td>67.673927</td>\n",
              "      <td>22044600</td>\n",
              "      <td>MSFT</td>\n",
              "      <td>NaN</td>\n",
              "      <td>NaN</td>\n",
              "      <td>NaN</td>\n",
              "      <td>NaN</td>\n",
              "      <td>0</td>\n",
              "      <td>NaN</td>\n",
              "      <td>NaN</td>\n",
              "      <td>NaN</td>\n",
              "      <td>NaN</td>\n",
              "      <td>NaN</td>\n",
              "      <td>NaN</td>\n",
              "      <td>NaN</td>\n",
              "    </tr>\n",
              "    <tr>\n",
              "      <th>3</th>\n",
              "      <td>2017-08-09</td>\n",
              "      <td>72.250000</td>\n",
              "      <td>72.510002</td>\n",
              "      <td>72.050003</td>\n",
              "      <td>72.470001</td>\n",
              "      <td>67.376427</td>\n",
              "      <td>22213400</td>\n",
              "      <td>MSFT</td>\n",
              "      <td>NaN</td>\n",
              "      <td>NaN</td>\n",
              "      <td>NaN</td>\n",
              "      <td>NaN</td>\n",
              "      <td>0</td>\n",
              "      <td>NaN</td>\n",
              "      <td>NaN</td>\n",
              "      <td>NaN</td>\n",
              "      <td>NaN</td>\n",
              "      <td>NaN</td>\n",
              "      <td>NaN</td>\n",
              "      <td>NaN</td>\n",
              "    </tr>\n",
              "    <tr>\n",
              "      <th>4</th>\n",
              "      <td>2017-08-10</td>\n",
              "      <td>71.900002</td>\n",
              "      <td>72.190002</td>\n",
              "      <td>71.349998</td>\n",
              "      <td>71.410004</td>\n",
              "      <td>66.390930</td>\n",
              "      <td>24734500</td>\n",
              "      <td>MSFT</td>\n",
              "      <td>NaN</td>\n",
              "      <td>NaN</td>\n",
              "      <td>NaN</td>\n",
              "      <td>NaN</td>\n",
              "      <td>1</td>\n",
              "      <td>NaN</td>\n",
              "      <td>NaN</td>\n",
              "      <td>NaN</td>\n",
              "      <td>NaN</td>\n",
              "      <td>NaN</td>\n",
              "      <td>NaN</td>\n",
              "      <td>NaN</td>\n",
              "    </tr>\n",
              "  </tbody>\n",
              "</table>\n",
              "</div>\n",
              "      <button class=\"colab-df-convert\" onclick=\"convertToInteractive('df-160bf43c-e55b-4288-8ef2-e59eb97af12e')\"\n",
              "              title=\"Convert this dataframe to an interactive table.\"\n",
              "              style=\"display:none;\">\n",
              "        \n",
              "  <svg xmlns=\"http://www.w3.org/2000/svg\" height=\"24px\"viewBox=\"0 0 24 24\"\n",
              "       width=\"24px\">\n",
              "    <path d=\"M0 0h24v24H0V0z\" fill=\"none\"/>\n",
              "    <path d=\"M18.56 5.44l.94 2.06.94-2.06 2.06-.94-2.06-.94-.94-2.06-.94 2.06-2.06.94zm-11 1L8.5 8.5l.94-2.06 2.06-.94-2.06-.94L8.5 2.5l-.94 2.06-2.06.94zm10 10l.94 2.06.94-2.06 2.06-.94-2.06-.94-.94-2.06-.94 2.06-2.06.94z\"/><path d=\"M17.41 7.96l-1.37-1.37c-.4-.4-.92-.59-1.43-.59-.52 0-1.04.2-1.43.59L10.3 9.45l-7.72 7.72c-.78.78-.78 2.05 0 2.83L4 21.41c.39.39.9.59 1.41.59.51 0 1.02-.2 1.41-.59l7.78-7.78 2.81-2.81c.8-.78.8-2.07 0-2.86zM5.41 20L4 18.59l7.72-7.72 1.47 1.35L5.41 20z\"/>\n",
              "  </svg>\n",
              "      </button>\n",
              "      \n",
              "  <style>\n",
              "    .colab-df-container {\n",
              "      display:flex;\n",
              "      flex-wrap:wrap;\n",
              "      gap: 12px;\n",
              "    }\n",
              "\n",
              "    .colab-df-convert {\n",
              "      background-color: #E8F0FE;\n",
              "      border: none;\n",
              "      border-radius: 50%;\n",
              "      cursor: pointer;\n",
              "      display: none;\n",
              "      fill: #1967D2;\n",
              "      height: 32px;\n",
              "      padding: 0 0 0 0;\n",
              "      width: 32px;\n",
              "    }\n",
              "\n",
              "    .colab-df-convert:hover {\n",
              "      background-color: #E2EBFA;\n",
              "      box-shadow: 0px 1px 2px rgba(60, 64, 67, 0.3), 0px 1px 3px 1px rgba(60, 64, 67, 0.15);\n",
              "      fill: #174EA6;\n",
              "    }\n",
              "\n",
              "    [theme=dark] .colab-df-convert {\n",
              "      background-color: #3B4455;\n",
              "      fill: #D2E3FC;\n",
              "    }\n",
              "\n",
              "    [theme=dark] .colab-df-convert:hover {\n",
              "      background-color: #434B5C;\n",
              "      box-shadow: 0px 1px 3px 1px rgba(0, 0, 0, 0.15);\n",
              "      filter: drop-shadow(0px 1px 2px rgba(0, 0, 0, 0.3));\n",
              "      fill: #FFFFFF;\n",
              "    }\n",
              "  </style>\n",
              "\n",
              "      <script>\n",
              "        const buttonEl =\n",
              "          document.querySelector('#df-160bf43c-e55b-4288-8ef2-e59eb97af12e button.colab-df-convert');\n",
              "        buttonEl.style.display =\n",
              "          google.colab.kernel.accessAllowed ? 'block' : 'none';\n",
              "\n",
              "        async function convertToInteractive(key) {\n",
              "          const element = document.querySelector('#df-160bf43c-e55b-4288-8ef2-e59eb97af12e');\n",
              "          const dataTable =\n",
              "            await google.colab.kernel.invokeFunction('convertToInteractive',\n",
              "                                                     [key], {});\n",
              "          if (!dataTable) return;\n",
              "\n",
              "          const docLinkHtml = 'Like what you see? Visit the ' +\n",
              "            '<a target=\"_blank\" href=https://colab.research.google.com/notebooks/data_table.ipynb>data table notebook</a>'\n",
              "            + ' to learn more about interactive tables.';\n",
              "          element.innerHTML = '';\n",
              "          dataTable['output_type'] = 'display_data';\n",
              "          await google.colab.output.renderOutput(dataTable, element);\n",
              "          const docLink = document.createElement('div');\n",
              "          docLink.innerHTML = docLinkHtml;\n",
              "          element.appendChild(docLink);\n",
              "        }\n",
              "      </script>\n",
              "    </div>\n",
              "  </div>\n",
              "  "
            ]
          },
          "metadata": {},
          "execution_count": 4
        }
      ],
      "source": [
        "# Uploaded stock price csv\n",
        "finance_data = pd.read_csv('/content/StockPrice-Hybrid-Model-/Finance Data/finance.csv')\n",
        "finance_data.head()"
      ]
    },
    {
      "cell_type": "code",
      "execution_count": null,
      "metadata": {
        "id": "ityTOSozpTZk"
      },
      "outputs": [],
      "source": [
        "MSFT_Data = finance_data[finance_data['ticker']=='MSFT']\n",
        "Google_Data = finance_data[finance_data['ticker']=='GOOG']\n",
        "# This function is used to get the train data and test data\n",
        "def data_preparation(df):\n",
        "  data=df[[\"date\",\"adj_close\"]]\n",
        "  data = data.rename(columns = {'date':'ds', 'adj_close':'y'})\n",
        "  return data\n"
      ]
    },
    {
      "cell_type": "code",
      "execution_count": null,
      "metadata": {
        "id": "wCeMZTq7pilV"
      },
      "outputs": [],
      "source": [
        "# Define parameter grid to search over\n",
        "param_grid = {\n",
        "    'seasonality_mode': ['additive', 'multiplicative'],\n",
        "    'changepoint_prior_scale': [0.01, 0.1, 1.0],\n",
        "    'seasonality_prior_scale': [0.01, 0.1, 1.0],\n",
        "}\n",
        "\n",
        "# Initialize minimum error and best parameters\n",
        "min_error = float('inf')\n",
        "best_params = {}\n",
        "\n",
        "# Loop through all parameter combinations\n",
        "for params in ParameterGrid(param_grid):\n",
        "    print('Testing parameters:', params)\n",
        "\n",
        "    # Initialize Prophet model with specified hyperparameters\n",
        "    model = Prophet(**params)\n",
        "    model.fit(data_preparation(MSFT_Data))\n",
        "\n",
        "    # Perform time series cross-validation\n",
        "    df_cv = cross_validation(model=model, initial='1000 days', horizon='10 days', period='10 days')\n",
        "\n",
        "    # Calculate performance metrics\n",
        "    df_metrics = performance_metrics(df_cv)\n",
        "\n",
        "    # Calculate mean cross-validation error\n",
        "    mean_cv_error = df_metrics['mse'].mean()\n",
        "\n",
        "    # Update minimum error and best parameters if new minimum is found\n",
        "    if mean_cv_error < min_error:\n",
        "        min_error = mean_cv_error\n",
        "        best_params = params\n",
        "\n",
        "# Print best hyperparameters and corresponding error\n",
        "print('Best parameters:', best_params)\n",
        "print('Minimum cross-validation error:', min_error)"
      ]
    },
    {
      "cell_type": "markdown",
      "source": [
        "### Forecasting with Prophet"
      ],
      "metadata": {
        "id": "pKF3O_Nh3TBX"
      }
    },
    {
      "cell_type": "code",
      "source": [
        "def get_data(df):\n",
        "  Best_parameters={'changepoint_prior_scale': 0.1, 'seasonality_mode': 'multiplicative', 'seasonality_prior_scale': 1.0}\n",
        "  # We use the best parameter to fit the model\n",
        "  final_model = Prophet(**Best_parameters)\n",
        "  final_model.fit(data_preparation(df))\n",
        "  df = cross_validation(model=final_model, initial='144 days', horizon='10 days', period='10 days')\n",
        "  return df"
      ],
      "metadata": {
        "id": "_YaoHZfcwUgS"
      },
      "execution_count": null,
      "outputs": []
    },
    {
      "cell_type": "code",
      "execution_count": null,
      "metadata": {
        "id": "HKLDcUbZplU8",
        "colab": {
          "base_uri": "https://localhost:8080/",
          "height": 1000,
          "referenced_widgets": [
            "c2c062f8db9442b3bc5fef2eb56c0823",
            "c60be86359a14b6d8e2d84afa81478ed",
            "3c9b2651582d409b8dbf44b88ad58dfb",
            "e77d07020b224677a2779329969f59a6",
            "447d999cf6264ab5b1b152c7ed42627e",
            "2cd7918dcb774325a58c619e29386a59",
            "84576c72791e407381920937fd5c1c4a",
            "682111e0c9234efbaddefbf9d77a14f3",
            "af622d13e8084b1b83ec3c4377676091",
            "e38a8a957510416abec75a71a0b8e9ef",
            "2e3cecdd11014672bae0e84439af885b"
          ]
        },
        "outputId": "5557b238-bffe-4f39-ea37-95351a83cafa"
      },
      "outputs": [
        {
          "output_type": "stream",
          "name": "stderr",
          "text": [
            "INFO:prophet:Disabling daily seasonality. Run prophet with daily_seasonality=True to override this.\n",
            "DEBUG:cmdstanpy:input tempfile: /tmp/tmptqo22xr8/1kz031h4.json\n",
            "DEBUG:cmdstanpy:input tempfile: /tmp/tmptqo22xr8/6oin4k73.json\n",
            "DEBUG:cmdstanpy:idx 0\n",
            "DEBUG:cmdstanpy:running CmdStan, num_threads: None\n",
            "DEBUG:cmdstanpy:CmdStan args: ['/usr/local/lib/python3.9/dist-packages/prophet/stan_model/prophet_model.bin', 'random', 'seed=6932', 'data', 'file=/tmp/tmptqo22xr8/1kz031h4.json', 'init=/tmp/tmptqo22xr8/6oin4k73.json', 'output', 'file=/tmp/tmptqo22xr8/prophet_model0kz6tixr/prophet_model-20230323185847.csv', 'method=optimize', 'algorithm=lbfgs', 'iter=10000']\n",
            "18:58:47 - cmdstanpy - INFO - Chain [1] start processing\n",
            "INFO:cmdstanpy:Chain [1] start processing\n",
            "18:58:50 - cmdstanpy - INFO - Chain [1] done processing\n",
            "INFO:cmdstanpy:Chain [1] done processing\n",
            "INFO:prophet:Making 189 forecasts with cutoffs between 2018-01-04 00:00:00 and 2023-02-27 00:00:00\n",
            "WARNING:prophet:Seasonality has period of 365.25 days which is larger than initial window. Consider increasing initial.\n"
          ]
        },
        {
          "output_type": "display_data",
          "data": {
            "text/plain": [
              "  0%|          | 0/189 [00:00<?, ?it/s]"
            ],
            "application/vnd.jupyter.widget-view+json": {
              "version_major": 2,
              "version_minor": 0,
              "model_id": "c2c062f8db9442b3bc5fef2eb56c0823"
            }
          },
          "metadata": {}
        },
        {
          "output_type": "stream",
          "name": "stderr",
          "text": [
            "DEBUG:cmdstanpy:input tempfile: /tmp/tmptqo22xr8/1t884rk9.json\n",
            "DEBUG:cmdstanpy:input tempfile: /tmp/tmptqo22xr8/y330p7_e.json\n",
            "DEBUG:cmdstanpy:idx 0\n",
            "DEBUG:cmdstanpy:running CmdStan, num_threads: None\n",
            "DEBUG:cmdstanpy:CmdStan args: ['/usr/local/lib/python3.9/dist-packages/prophet/stan_model/prophet_model.bin', 'random', 'seed=11865', 'data', 'file=/tmp/tmptqo22xr8/1t884rk9.json', 'init=/tmp/tmptqo22xr8/y330p7_e.json', 'output', 'file=/tmp/tmptqo22xr8/prophet_modelt0r8wgud/prophet_model-20230323185851.csv', 'method=optimize', 'algorithm=lbfgs', 'iter=10000']\n",
            "18:58:51 - cmdstanpy - INFO - Chain [1] start processing\n",
            "INFO:cmdstanpy:Chain [1] start processing\n",
            "18:58:51 - cmdstanpy - INFO - Chain [1] done processing\n",
            "INFO:cmdstanpy:Chain [1] done processing\n",
            "DEBUG:cmdstanpy:input tempfile: /tmp/tmptqo22xr8/3c_eas6l.json\n",
            "DEBUG:cmdstanpy:input tempfile: /tmp/tmptqo22xr8/b_u0sgyk.json\n",
            "DEBUG:cmdstanpy:idx 0\n",
            "DEBUG:cmdstanpy:running CmdStan, num_threads: None\n",
            "DEBUG:cmdstanpy:CmdStan args: ['/usr/local/lib/python3.9/dist-packages/prophet/stan_model/prophet_model.bin', 'random', 'seed=86602', 'data', 'file=/tmp/tmptqo22xr8/3c_eas6l.json', 'init=/tmp/tmptqo22xr8/b_u0sgyk.json', 'output', 'file=/tmp/tmptqo22xr8/prophet_modelfejugkex/prophet_model-20230323185851.csv', 'method=optimize', 'algorithm=lbfgs', 'iter=10000']\n",
            "18:58:51 - cmdstanpy - INFO - Chain [1] start processing\n",
            "INFO:cmdstanpy:Chain [1] start processing\n",
            "18:58:52 - cmdstanpy - INFO - Chain [1] done processing\n",
            "INFO:cmdstanpy:Chain [1] done processing\n",
            "DEBUG:cmdstanpy:input tempfile: /tmp/tmptqo22xr8/m4vysjh9.json\n",
            "DEBUG:cmdstanpy:input tempfile: /tmp/tmptqo22xr8/mmdn1sd7.json\n",
            "DEBUG:cmdstanpy:idx 0\n",
            "DEBUG:cmdstanpy:running CmdStan, num_threads: None\n",
            "DEBUG:cmdstanpy:CmdStan args: ['/usr/local/lib/python3.9/dist-packages/prophet/stan_model/prophet_model.bin', 'random', 'seed=18474', 'data', 'file=/tmp/tmptqo22xr8/m4vysjh9.json', 'init=/tmp/tmptqo22xr8/mmdn1sd7.json', 'output', 'file=/tmp/tmptqo22xr8/prophet_modelo1y20kn8/prophet_model-20230323185852.csv', 'method=optimize', 'algorithm=lbfgs', 'iter=10000']\n",
            "18:58:52 - cmdstanpy - INFO - Chain [1] start processing\n",
            "INFO:cmdstanpy:Chain [1] start processing\n",
            "18:58:52 - cmdstanpy - INFO - Chain [1] done processing\n",
            "INFO:cmdstanpy:Chain [1] done processing\n",
            "DEBUG:cmdstanpy:input tempfile: /tmp/tmptqo22xr8/jw15m2ah.json\n",
            "DEBUG:cmdstanpy:input tempfile: /tmp/tmptqo22xr8/gsu4koyf.json\n",
            "DEBUG:cmdstanpy:idx 0\n",
            "DEBUG:cmdstanpy:running CmdStan, num_threads: None\n",
            "DEBUG:cmdstanpy:CmdStan args: ['/usr/local/lib/python3.9/dist-packages/prophet/stan_model/prophet_model.bin', 'random', 'seed=48336', 'data', 'file=/tmp/tmptqo22xr8/jw15m2ah.json', 'init=/tmp/tmptqo22xr8/gsu4koyf.json', 'output', 'file=/tmp/tmptqo22xr8/prophet_modelwomjskj4/prophet_model-20230323185852.csv', 'method=optimize', 'algorithm=lbfgs', 'iter=10000']\n",
            "18:58:52 - cmdstanpy - INFO - Chain [1] start processing\n",
            "INFO:cmdstanpy:Chain [1] start processing\n",
            "18:58:52 - cmdstanpy - INFO - Chain [1] done processing\n",
            "INFO:cmdstanpy:Chain [1] done processing\n",
            "DEBUG:cmdstanpy:input tempfile: /tmp/tmptqo22xr8/038ek9b9.json\n",
            "DEBUG:cmdstanpy:input tempfile: /tmp/tmptqo22xr8/01mhonum.json\n",
            "DEBUG:cmdstanpy:idx 0\n",
            "DEBUG:cmdstanpy:running CmdStan, num_threads: None\n",
            "DEBUG:cmdstanpy:CmdStan args: ['/usr/local/lib/python3.9/dist-packages/prophet/stan_model/prophet_model.bin', 'random', 'seed=87542', 'data', 'file=/tmp/tmptqo22xr8/038ek9b9.json', 'init=/tmp/tmptqo22xr8/01mhonum.json', 'output', 'file=/tmp/tmptqo22xr8/prophet_model05vyosxp/prophet_model-20230323185853.csv', 'method=optimize', 'algorithm=lbfgs', 'iter=10000']\n",
            "18:58:53 - cmdstanpy - INFO - Chain [1] start processing\n",
            "INFO:cmdstanpy:Chain [1] start processing\n",
            "18:58:53 - cmdstanpy - INFO - Chain [1] done processing\n",
            "INFO:cmdstanpy:Chain [1] done processing\n",
            "DEBUG:cmdstanpy:input tempfile: /tmp/tmptqo22xr8/xxvm98uq.json\n",
            "DEBUG:cmdstanpy:input tempfile: /tmp/tmptqo22xr8/2g_z28nq.json\n",
            "DEBUG:cmdstanpy:idx 0\n",
            "DEBUG:cmdstanpy:running CmdStan, num_threads: None\n",
            "DEBUG:cmdstanpy:CmdStan args: ['/usr/local/lib/python3.9/dist-packages/prophet/stan_model/prophet_model.bin', 'random', 'seed=79176', 'data', 'file=/tmp/tmptqo22xr8/xxvm98uq.json', 'init=/tmp/tmptqo22xr8/2g_z28nq.json', 'output', 'file=/tmp/tmptqo22xr8/prophet_modelep1igqa2/prophet_model-20230323185853.csv', 'method=optimize', 'algorithm=lbfgs', 'iter=10000']\n",
            "18:58:53 - cmdstanpy - INFO - Chain [1] start processing\n",
            "INFO:cmdstanpy:Chain [1] start processing\n",
            "18:58:53 - cmdstanpy - INFO - Chain [1] done processing\n",
            "INFO:cmdstanpy:Chain [1] done processing\n",
            "DEBUG:cmdstanpy:input tempfile: /tmp/tmptqo22xr8/flm6f_90.json\n",
            "DEBUG:cmdstanpy:input tempfile: /tmp/tmptqo22xr8/f5z9daxc.json\n",
            "DEBUG:cmdstanpy:idx 0\n",
            "DEBUG:cmdstanpy:running CmdStan, num_threads: None\n",
            "DEBUG:cmdstanpy:CmdStan args: ['/usr/local/lib/python3.9/dist-packages/prophet/stan_model/prophet_model.bin', 'random', 'seed=32632', 'data', 'file=/tmp/tmptqo22xr8/flm6f_90.json', 'init=/tmp/tmptqo22xr8/f5z9daxc.json', 'output', 'file=/tmp/tmptqo22xr8/prophet_modeltlqa886s/prophet_model-20230323185854.csv', 'method=optimize', 'algorithm=lbfgs', 'iter=10000']\n",
            "18:58:54 - cmdstanpy - INFO - Chain [1] start processing\n",
            "INFO:cmdstanpy:Chain [1] start processing\n",
            "18:58:54 - cmdstanpy - INFO - Chain [1] done processing\n",
            "INFO:cmdstanpy:Chain [1] done processing\n",
            "DEBUG:cmdstanpy:input tempfile: /tmp/tmptqo22xr8/_bxhcqz1.json\n",
            "DEBUG:cmdstanpy:input tempfile: /tmp/tmptqo22xr8/9h4ppvuy.json\n",
            "DEBUG:cmdstanpy:idx 0\n",
            "DEBUG:cmdstanpy:running CmdStan, num_threads: None\n",
            "DEBUG:cmdstanpy:CmdStan args: ['/usr/local/lib/python3.9/dist-packages/prophet/stan_model/prophet_model.bin', 'random', 'seed=15728', 'data', 'file=/tmp/tmptqo22xr8/_bxhcqz1.json', 'init=/tmp/tmptqo22xr8/9h4ppvuy.json', 'output', 'file=/tmp/tmptqo22xr8/prophet_modelrmo1xj2r/prophet_model-20230323185854.csv', 'method=optimize', 'algorithm=lbfgs', 'iter=10000']\n",
            "18:58:54 - cmdstanpy - INFO - Chain [1] start processing\n",
            "INFO:cmdstanpy:Chain [1] start processing\n",
            "18:58:54 - cmdstanpy - INFO - Chain [1] done processing\n",
            "INFO:cmdstanpy:Chain [1] done processing\n",
            "DEBUG:cmdstanpy:input tempfile: /tmp/tmptqo22xr8/qybrg8sg.json\n",
            "DEBUG:cmdstanpy:input tempfile: /tmp/tmptqo22xr8/mrn5gzyf.json\n",
            "DEBUG:cmdstanpy:idx 0\n",
            "DEBUG:cmdstanpy:running CmdStan, num_threads: None\n",
            "DEBUG:cmdstanpy:CmdStan args: ['/usr/local/lib/python3.9/dist-packages/prophet/stan_model/prophet_model.bin', 'random', 'seed=99772', 'data', 'file=/tmp/tmptqo22xr8/qybrg8sg.json', 'init=/tmp/tmptqo22xr8/mrn5gzyf.json', 'output', 'file=/tmp/tmptqo22xr8/prophet_model_v26fk37/prophet_model-20230323185855.csv', 'method=optimize', 'algorithm=lbfgs', 'iter=10000']\n",
            "18:58:55 - cmdstanpy - INFO - Chain [1] start processing\n",
            "INFO:cmdstanpy:Chain [1] start processing\n",
            "18:58:55 - cmdstanpy - INFO - Chain [1] done processing\n",
            "INFO:cmdstanpy:Chain [1] done processing\n",
            "DEBUG:cmdstanpy:input tempfile: /tmp/tmptqo22xr8/cypvin3n.json\n",
            "DEBUG:cmdstanpy:input tempfile: /tmp/tmptqo22xr8/7exavqym.json\n",
            "DEBUG:cmdstanpy:idx 0\n",
            "DEBUG:cmdstanpy:running CmdStan, num_threads: None\n",
            "DEBUG:cmdstanpy:CmdStan args: ['/usr/local/lib/python3.9/dist-packages/prophet/stan_model/prophet_model.bin', 'random', 'seed=27311', 'data', 'file=/tmp/tmptqo22xr8/cypvin3n.json', 'init=/tmp/tmptqo22xr8/7exavqym.json', 'output', 'file=/tmp/tmptqo22xr8/prophet_modelz3v2to1_/prophet_model-20230323185855.csv', 'method=optimize', 'algorithm=lbfgs', 'iter=10000']\n",
            "18:58:56 - cmdstanpy - INFO - Chain [1] start processing\n",
            "INFO:cmdstanpy:Chain [1] start processing\n",
            "18:58:56 - cmdstanpy - INFO - Chain [1] done processing\n",
            "INFO:cmdstanpy:Chain [1] done processing\n",
            "DEBUG:cmdstanpy:input tempfile: /tmp/tmptqo22xr8/a6yd70uw.json\n",
            "DEBUG:cmdstanpy:input tempfile: /tmp/tmptqo22xr8/_4ayhthc.json\n",
            "DEBUG:cmdstanpy:idx 0\n",
            "DEBUG:cmdstanpy:running CmdStan, num_threads: None\n",
            "DEBUG:cmdstanpy:CmdStan args: ['/usr/local/lib/python3.9/dist-packages/prophet/stan_model/prophet_model.bin', 'random', 'seed=6273', 'data', 'file=/tmp/tmptqo22xr8/a6yd70uw.json', 'init=/tmp/tmptqo22xr8/_4ayhthc.json', 'output', 'file=/tmp/tmptqo22xr8/prophet_modellojnng3v/prophet_model-20230323185856.csv', 'method=optimize', 'algorithm=lbfgs', 'iter=10000']\n",
            "18:58:56 - cmdstanpy - INFO - Chain [1] start processing\n",
            "INFO:cmdstanpy:Chain [1] start processing\n",
            "18:58:57 - cmdstanpy - INFO - Chain [1] done processing\n",
            "INFO:cmdstanpy:Chain [1] done processing\n",
            "DEBUG:cmdstanpy:input tempfile: /tmp/tmptqo22xr8/9pv9pzym.json\n",
            "DEBUG:cmdstanpy:input tempfile: /tmp/tmptqo22xr8/cizuf7ui.json\n",
            "DEBUG:cmdstanpy:idx 0\n",
            "DEBUG:cmdstanpy:running CmdStan, num_threads: None\n",
            "DEBUG:cmdstanpy:CmdStan args: ['/usr/local/lib/python3.9/dist-packages/prophet/stan_model/prophet_model.bin', 'random', 'seed=35285', 'data', 'file=/tmp/tmptqo22xr8/9pv9pzym.json', 'init=/tmp/tmptqo22xr8/cizuf7ui.json', 'output', 'file=/tmp/tmptqo22xr8/prophet_model9d075cf_/prophet_model-20230323185857.csv', 'method=optimize', 'algorithm=lbfgs', 'iter=10000']\n",
            "18:58:58 - cmdstanpy - INFO - Chain [1] start processing\n",
            "INFO:cmdstanpy:Chain [1] start processing\n",
            "18:58:58 - cmdstanpy - INFO - Chain [1] done processing\n",
            "INFO:cmdstanpy:Chain [1] done processing\n",
            "DEBUG:cmdstanpy:input tempfile: /tmp/tmptqo22xr8/aix00os9.json\n",
            "DEBUG:cmdstanpy:input tempfile: /tmp/tmptqo22xr8/4d8441wj.json\n",
            "DEBUG:cmdstanpy:idx 0\n",
            "DEBUG:cmdstanpy:running CmdStan, num_threads: None\n",
            "DEBUG:cmdstanpy:CmdStan args: ['/usr/local/lib/python3.9/dist-packages/prophet/stan_model/prophet_model.bin', 'random', 'seed=40649', 'data', 'file=/tmp/tmptqo22xr8/aix00os9.json', 'init=/tmp/tmptqo22xr8/4d8441wj.json', 'output', 'file=/tmp/tmptqo22xr8/prophet_modelozw4rqgh/prophet_model-20230323185858.csv', 'method=optimize', 'algorithm=lbfgs', 'iter=10000']\n",
            "18:58:58 - cmdstanpy - INFO - Chain [1] start processing\n",
            "INFO:cmdstanpy:Chain [1] start processing\n",
            "18:58:58 - cmdstanpy - INFO - Chain [1] done processing\n",
            "INFO:cmdstanpy:Chain [1] done processing\n",
            "DEBUG:cmdstanpy:input tempfile: /tmp/tmptqo22xr8/1jgskug_.json\n",
            "DEBUG:cmdstanpy:input tempfile: /tmp/tmptqo22xr8/hwaqr4xm.json\n",
            "DEBUG:cmdstanpy:idx 0\n",
            "DEBUG:cmdstanpy:running CmdStan, num_threads: None\n",
            "DEBUG:cmdstanpy:CmdStan args: ['/usr/local/lib/python3.9/dist-packages/prophet/stan_model/prophet_model.bin', 'random', 'seed=666', 'data', 'file=/tmp/tmptqo22xr8/1jgskug_.json', 'init=/tmp/tmptqo22xr8/hwaqr4xm.json', 'output', 'file=/tmp/tmptqo22xr8/prophet_modelfyjvyxnf/prophet_model-20230323185859.csv', 'method=optimize', 'algorithm=lbfgs', 'iter=10000']\n",
            "18:58:59 - cmdstanpy - INFO - Chain [1] start processing\n",
            "INFO:cmdstanpy:Chain [1] start processing\n",
            "18:58:59 - cmdstanpy - INFO - Chain [1] done processing\n",
            "INFO:cmdstanpy:Chain [1] done processing\n",
            "DEBUG:cmdstanpy:input tempfile: /tmp/tmptqo22xr8/wpc6e6ge.json\n",
            "DEBUG:cmdstanpy:input tempfile: /tmp/tmptqo22xr8/kozde1es.json\n",
            "DEBUG:cmdstanpy:idx 0\n",
            "DEBUG:cmdstanpy:running CmdStan, num_threads: None\n",
            "DEBUG:cmdstanpy:CmdStan args: ['/usr/local/lib/python3.9/dist-packages/prophet/stan_model/prophet_model.bin', 'random', 'seed=84918', 'data', 'file=/tmp/tmptqo22xr8/wpc6e6ge.json', 'init=/tmp/tmptqo22xr8/kozde1es.json', 'output', 'file=/tmp/tmptqo22xr8/prophet_model3jkuwyb7/prophet_model-20230323185859.csv', 'method=optimize', 'algorithm=lbfgs', 'iter=10000']\n",
            "18:58:59 - cmdstanpy - INFO - Chain [1] start processing\n",
            "INFO:cmdstanpy:Chain [1] start processing\n",
            "18:59:00 - cmdstanpy - INFO - Chain [1] done processing\n",
            "INFO:cmdstanpy:Chain [1] done processing\n",
            "DEBUG:cmdstanpy:input tempfile: /tmp/tmptqo22xr8/7d3mpi8j.json\n",
            "DEBUG:cmdstanpy:input tempfile: /tmp/tmptqo22xr8/sci10ixf.json\n",
            "DEBUG:cmdstanpy:idx 0\n",
            "DEBUG:cmdstanpy:running CmdStan, num_threads: None\n",
            "DEBUG:cmdstanpy:CmdStan args: ['/usr/local/lib/python3.9/dist-packages/prophet/stan_model/prophet_model.bin', 'random', 'seed=18880', 'data', 'file=/tmp/tmptqo22xr8/7d3mpi8j.json', 'init=/tmp/tmptqo22xr8/sci10ixf.json', 'output', 'file=/tmp/tmptqo22xr8/prophet_modelrytio_80/prophet_model-20230323185900.csv', 'method=optimize', 'algorithm=lbfgs', 'iter=10000']\n",
            "18:59:00 - cmdstanpy - INFO - Chain [1] start processing\n",
            "INFO:cmdstanpy:Chain [1] start processing\n",
            "18:59:00 - cmdstanpy - INFO - Chain [1] done processing\n",
            "INFO:cmdstanpy:Chain [1] done processing\n",
            "DEBUG:cmdstanpy:input tempfile: /tmp/tmptqo22xr8/dnr3f6k2.json\n",
            "DEBUG:cmdstanpy:input tempfile: /tmp/tmptqo22xr8/mu6p3ccy.json\n",
            "DEBUG:cmdstanpy:idx 0\n",
            "DEBUG:cmdstanpy:running CmdStan, num_threads: None\n",
            "DEBUG:cmdstanpy:CmdStan args: ['/usr/local/lib/python3.9/dist-packages/prophet/stan_model/prophet_model.bin', 'random', 'seed=41026', 'data', 'file=/tmp/tmptqo22xr8/dnr3f6k2.json', 'init=/tmp/tmptqo22xr8/mu6p3ccy.json', 'output', 'file=/tmp/tmptqo22xr8/prophet_modelyntuucbl/prophet_model-20230323185900.csv', 'method=optimize', 'algorithm=lbfgs', 'iter=10000']\n",
            "18:59:00 - cmdstanpy - INFO - Chain [1] start processing\n",
            "INFO:cmdstanpy:Chain [1] start processing\n",
            "18:59:01 - cmdstanpy - INFO - Chain [1] done processing\n",
            "INFO:cmdstanpy:Chain [1] done processing\n",
            "DEBUG:cmdstanpy:input tempfile: /tmp/tmptqo22xr8/pivlk_2f.json\n",
            "DEBUG:cmdstanpy:input tempfile: /tmp/tmptqo22xr8/vtnruve6.json\n",
            "DEBUG:cmdstanpy:idx 0\n",
            "DEBUG:cmdstanpy:running CmdStan, num_threads: None\n",
            "DEBUG:cmdstanpy:CmdStan args: ['/usr/local/lib/python3.9/dist-packages/prophet/stan_model/prophet_model.bin', 'random', 'seed=39790', 'data', 'file=/tmp/tmptqo22xr8/pivlk_2f.json', 'init=/tmp/tmptqo22xr8/vtnruve6.json', 'output', 'file=/tmp/tmptqo22xr8/prophet_model1to_4lrj/prophet_model-20230323185901.csv', 'method=optimize', 'algorithm=lbfgs', 'iter=10000']\n",
            "18:59:01 - cmdstanpy - INFO - Chain [1] start processing\n",
            "INFO:cmdstanpy:Chain [1] start processing\n",
            "18:59:01 - cmdstanpy - INFO - Chain [1] done processing\n",
            "INFO:cmdstanpy:Chain [1] done processing\n",
            "DEBUG:cmdstanpy:input tempfile: /tmp/tmptqo22xr8/6ifjh92v.json\n",
            "DEBUG:cmdstanpy:input tempfile: /tmp/tmptqo22xr8/e_7skqbv.json\n",
            "DEBUG:cmdstanpy:idx 0\n",
            "DEBUG:cmdstanpy:running CmdStan, num_threads: None\n",
            "DEBUG:cmdstanpy:CmdStan args: ['/usr/local/lib/python3.9/dist-packages/prophet/stan_model/prophet_model.bin', 'random', 'seed=43084', 'data', 'file=/tmp/tmptqo22xr8/6ifjh92v.json', 'init=/tmp/tmptqo22xr8/e_7skqbv.json', 'output', 'file=/tmp/tmptqo22xr8/prophet_model811z1zh9/prophet_model-20230323185901.csv', 'method=optimize', 'algorithm=lbfgs', 'iter=10000']\n",
            "18:59:01 - cmdstanpy - INFO - Chain [1] start processing\n",
            "INFO:cmdstanpy:Chain [1] start processing\n",
            "18:59:01 - cmdstanpy - INFO - Chain [1] done processing\n",
            "INFO:cmdstanpy:Chain [1] done processing\n",
            "DEBUG:cmdstanpy:input tempfile: /tmp/tmptqo22xr8/wyzhutcw.json\n",
            "DEBUG:cmdstanpy:input tempfile: /tmp/tmptqo22xr8/0fagvtjb.json\n",
            "DEBUG:cmdstanpy:idx 0\n",
            "DEBUG:cmdstanpy:running CmdStan, num_threads: None\n",
            "DEBUG:cmdstanpy:CmdStan args: ['/usr/local/lib/python3.9/dist-packages/prophet/stan_model/prophet_model.bin', 'random', 'seed=24853', 'data', 'file=/tmp/tmptqo22xr8/wyzhutcw.json', 'init=/tmp/tmptqo22xr8/0fagvtjb.json', 'output', 'file=/tmp/tmptqo22xr8/prophet_modelk4dsz5bt/prophet_model-20230323185902.csv', 'method=optimize', 'algorithm=lbfgs', 'iter=10000']\n",
            "18:59:02 - cmdstanpy - INFO - Chain [1] start processing\n",
            "INFO:cmdstanpy:Chain [1] start processing\n",
            "18:59:02 - cmdstanpy - INFO - Chain [1] done processing\n",
            "INFO:cmdstanpy:Chain [1] done processing\n",
            "DEBUG:cmdstanpy:input tempfile: /tmp/tmptqo22xr8/4d8z6_3b.json\n",
            "DEBUG:cmdstanpy:input tempfile: /tmp/tmptqo22xr8/3wktp860.json\n",
            "DEBUG:cmdstanpy:idx 0\n",
            "DEBUG:cmdstanpy:running CmdStan, num_threads: None\n",
            "DEBUG:cmdstanpy:CmdStan args: ['/usr/local/lib/python3.9/dist-packages/prophet/stan_model/prophet_model.bin', 'random', 'seed=86344', 'data', 'file=/tmp/tmptqo22xr8/4d8z6_3b.json', 'init=/tmp/tmptqo22xr8/3wktp860.json', 'output', 'file=/tmp/tmptqo22xr8/prophet_modelukvz_wbq/prophet_model-20230323185902.csv', 'method=optimize', 'algorithm=lbfgs', 'iter=10000']\n",
            "18:59:02 - cmdstanpy - INFO - Chain [1] start processing\n",
            "INFO:cmdstanpy:Chain [1] start processing\n",
            "18:59:02 - cmdstanpy - INFO - Chain [1] done processing\n",
            "INFO:cmdstanpy:Chain [1] done processing\n",
            "DEBUG:cmdstanpy:input tempfile: /tmp/tmptqo22xr8/g_qjtwu0.json\n",
            "DEBUG:cmdstanpy:input tempfile: /tmp/tmptqo22xr8/281qxmqo.json\n",
            "DEBUG:cmdstanpy:idx 0\n",
            "DEBUG:cmdstanpy:running CmdStan, num_threads: None\n",
            "DEBUG:cmdstanpy:CmdStan args: ['/usr/local/lib/python3.9/dist-packages/prophet/stan_model/prophet_model.bin', 'random', 'seed=58142', 'data', 'file=/tmp/tmptqo22xr8/g_qjtwu0.json', 'init=/tmp/tmptqo22xr8/281qxmqo.json', 'output', 'file=/tmp/tmptqo22xr8/prophet_modelxbw344pu/prophet_model-20230323185902.csv', 'method=optimize', 'algorithm=lbfgs', 'iter=10000']\n",
            "18:59:02 - cmdstanpy - INFO - Chain [1] start processing\n",
            "INFO:cmdstanpy:Chain [1] start processing\n",
            "18:59:02 - cmdstanpy - INFO - Chain [1] done processing\n",
            "INFO:cmdstanpy:Chain [1] done processing\n",
            "DEBUG:cmdstanpy:input tempfile: /tmp/tmptqo22xr8/w6e3yd4u.json\n",
            "DEBUG:cmdstanpy:input tempfile: /tmp/tmptqo22xr8/0kapftw5.json\n",
            "DEBUG:cmdstanpy:idx 0\n",
            "DEBUG:cmdstanpy:running CmdStan, num_threads: None\n",
            "DEBUG:cmdstanpy:CmdStan args: ['/usr/local/lib/python3.9/dist-packages/prophet/stan_model/prophet_model.bin', 'random', 'seed=54317', 'data', 'file=/tmp/tmptqo22xr8/w6e3yd4u.json', 'init=/tmp/tmptqo22xr8/0kapftw5.json', 'output', 'file=/tmp/tmptqo22xr8/prophet_modelqjjwi12v/prophet_model-20230323185902.csv', 'method=optimize', 'algorithm=lbfgs', 'iter=10000']\n",
            "18:59:02 - cmdstanpy - INFO - Chain [1] start processing\n",
            "INFO:cmdstanpy:Chain [1] start processing\n",
            "18:59:03 - cmdstanpy - INFO - Chain [1] done processing\n",
            "INFO:cmdstanpy:Chain [1] done processing\n",
            "DEBUG:cmdstanpy:input tempfile: /tmp/tmptqo22xr8/ptbt3gyh.json\n",
            "DEBUG:cmdstanpy:input tempfile: /tmp/tmptqo22xr8/_txd8kih.json\n",
            "DEBUG:cmdstanpy:idx 0\n",
            "DEBUG:cmdstanpy:running CmdStan, num_threads: None\n",
            "DEBUG:cmdstanpy:CmdStan args: ['/usr/local/lib/python3.9/dist-packages/prophet/stan_model/prophet_model.bin', 'random', 'seed=7485', 'data', 'file=/tmp/tmptqo22xr8/ptbt3gyh.json', 'init=/tmp/tmptqo22xr8/_txd8kih.json', 'output', 'file=/tmp/tmptqo22xr8/prophet_modelvjaej72r/prophet_model-20230323185903.csv', 'method=optimize', 'algorithm=lbfgs', 'iter=10000']\n",
            "18:59:03 - cmdstanpy - INFO - Chain [1] start processing\n",
            "INFO:cmdstanpy:Chain [1] start processing\n",
            "18:59:03 - cmdstanpy - INFO - Chain [1] done processing\n",
            "INFO:cmdstanpy:Chain [1] done processing\n",
            "DEBUG:cmdstanpy:input tempfile: /tmp/tmptqo22xr8/w6b1qxjv.json\n",
            "DEBUG:cmdstanpy:input tempfile: /tmp/tmptqo22xr8/ec2wa7b5.json\n",
            "DEBUG:cmdstanpy:idx 0\n",
            "DEBUG:cmdstanpy:running CmdStan, num_threads: None\n",
            "DEBUG:cmdstanpy:CmdStan args: ['/usr/local/lib/python3.9/dist-packages/prophet/stan_model/prophet_model.bin', 'random', 'seed=46090', 'data', 'file=/tmp/tmptqo22xr8/w6b1qxjv.json', 'init=/tmp/tmptqo22xr8/ec2wa7b5.json', 'output', 'file=/tmp/tmptqo22xr8/prophet_model41lss60g/prophet_model-20230323185903.csv', 'method=optimize', 'algorithm=lbfgs', 'iter=10000']\n",
            "18:59:03 - cmdstanpy - INFO - Chain [1] start processing\n",
            "INFO:cmdstanpy:Chain [1] start processing\n",
            "18:59:03 - cmdstanpy - INFO - Chain [1] done processing\n",
            "INFO:cmdstanpy:Chain [1] done processing\n",
            "DEBUG:cmdstanpy:input tempfile: /tmp/tmptqo22xr8/dtet06by.json\n",
            "DEBUG:cmdstanpy:input tempfile: /tmp/tmptqo22xr8/e6mnq4me.json\n",
            "DEBUG:cmdstanpy:idx 0\n",
            "DEBUG:cmdstanpy:running CmdStan, num_threads: None\n",
            "DEBUG:cmdstanpy:CmdStan args: ['/usr/local/lib/python3.9/dist-packages/prophet/stan_model/prophet_model.bin', 'random', 'seed=58828', 'data', 'file=/tmp/tmptqo22xr8/dtet06by.json', 'init=/tmp/tmptqo22xr8/e6mnq4me.json', 'output', 'file=/tmp/tmptqo22xr8/prophet_modeld9hmoh_s/prophet_model-20230323185903.csv', 'method=optimize', 'algorithm=lbfgs', 'iter=10000']\n",
            "18:59:03 - cmdstanpy - INFO - Chain [1] start processing\n",
            "INFO:cmdstanpy:Chain [1] start processing\n",
            "18:59:03 - cmdstanpy - INFO - Chain [1] done processing\n",
            "INFO:cmdstanpy:Chain [1] done processing\n",
            "DEBUG:cmdstanpy:input tempfile: /tmp/tmptqo22xr8/qt786_ao.json\n",
            "DEBUG:cmdstanpy:input tempfile: /tmp/tmptqo22xr8/bg6mrcza.json\n",
            "DEBUG:cmdstanpy:idx 0\n",
            "DEBUG:cmdstanpy:running CmdStan, num_threads: None\n",
            "DEBUG:cmdstanpy:CmdStan args: ['/usr/local/lib/python3.9/dist-packages/prophet/stan_model/prophet_model.bin', 'random', 'seed=46840', 'data', 'file=/tmp/tmptqo22xr8/qt786_ao.json', 'init=/tmp/tmptqo22xr8/bg6mrcza.json', 'output', 'file=/tmp/tmptqo22xr8/prophet_modelz07trxpf/prophet_model-20230323185903.csv', 'method=optimize', 'algorithm=lbfgs', 'iter=10000']\n",
            "18:59:03 - cmdstanpy - INFO - Chain [1] start processing\n",
            "INFO:cmdstanpy:Chain [1] start processing\n",
            "18:59:03 - cmdstanpy - INFO - Chain [1] done processing\n",
            "INFO:cmdstanpy:Chain [1] done processing\n",
            "DEBUG:cmdstanpy:input tempfile: /tmp/tmptqo22xr8/o3pgmqo_.json\n",
            "DEBUG:cmdstanpy:input tempfile: /tmp/tmptqo22xr8/97tlyrz6.json\n",
            "DEBUG:cmdstanpy:idx 0\n",
            "DEBUG:cmdstanpy:running CmdStan, num_threads: None\n",
            "DEBUG:cmdstanpy:CmdStan args: ['/usr/local/lib/python3.9/dist-packages/prophet/stan_model/prophet_model.bin', 'random', 'seed=89760', 'data', 'file=/tmp/tmptqo22xr8/o3pgmqo_.json', 'init=/tmp/tmptqo22xr8/97tlyrz6.json', 'output', 'file=/tmp/tmptqo22xr8/prophet_model0hmk5sov/prophet_model-20230323185904.csv', 'method=optimize', 'algorithm=lbfgs', 'iter=10000']\n",
            "18:59:04 - cmdstanpy - INFO - Chain [1] start processing\n",
            "INFO:cmdstanpy:Chain [1] start processing\n",
            "18:59:04 - cmdstanpy - INFO - Chain [1] done processing\n",
            "INFO:cmdstanpy:Chain [1] done processing\n",
            "DEBUG:cmdstanpy:input tempfile: /tmp/tmptqo22xr8/nppdw0r9.json\n",
            "DEBUG:cmdstanpy:input tempfile: /tmp/tmptqo22xr8/d1rx38f5.json\n",
            "DEBUG:cmdstanpy:idx 0\n",
            "DEBUG:cmdstanpy:running CmdStan, num_threads: None\n",
            "DEBUG:cmdstanpy:CmdStan args: ['/usr/local/lib/python3.9/dist-packages/prophet/stan_model/prophet_model.bin', 'random', 'seed=88715', 'data', 'file=/tmp/tmptqo22xr8/nppdw0r9.json', 'init=/tmp/tmptqo22xr8/d1rx38f5.json', 'output', 'file=/tmp/tmptqo22xr8/prophet_model6kqe5q48/prophet_model-20230323185904.csv', 'method=optimize', 'algorithm=lbfgs', 'iter=10000']\n",
            "18:59:04 - cmdstanpy - INFO - Chain [1] start processing\n",
            "INFO:cmdstanpy:Chain [1] start processing\n",
            "18:59:04 - cmdstanpy - INFO - Chain [1] done processing\n",
            "INFO:cmdstanpy:Chain [1] done processing\n",
            "DEBUG:cmdstanpy:input tempfile: /tmp/tmptqo22xr8/9lybpyup.json\n",
            "DEBUG:cmdstanpy:input tempfile: /tmp/tmptqo22xr8/cx4d5p1q.json\n",
            "DEBUG:cmdstanpy:idx 0\n",
            "DEBUG:cmdstanpy:running CmdStan, num_threads: None\n",
            "DEBUG:cmdstanpy:CmdStan args: ['/usr/local/lib/python3.9/dist-packages/prophet/stan_model/prophet_model.bin', 'random', 'seed=5880', 'data', 'file=/tmp/tmptqo22xr8/9lybpyup.json', 'init=/tmp/tmptqo22xr8/cx4d5p1q.json', 'output', 'file=/tmp/tmptqo22xr8/prophet_model0dmjio_y/prophet_model-20230323185904.csv', 'method=optimize', 'algorithm=lbfgs', 'iter=10000']\n",
            "18:59:04 - cmdstanpy - INFO - Chain [1] start processing\n",
            "INFO:cmdstanpy:Chain [1] start processing\n",
            "18:59:04 - cmdstanpy - INFO - Chain [1] done processing\n",
            "INFO:cmdstanpy:Chain [1] done processing\n",
            "DEBUG:cmdstanpy:input tempfile: /tmp/tmptqo22xr8/21iftycg.json\n",
            "DEBUG:cmdstanpy:input tempfile: /tmp/tmptqo22xr8/be6k69gj.json\n",
            "DEBUG:cmdstanpy:idx 0\n",
            "DEBUG:cmdstanpy:running CmdStan, num_threads: None\n",
            "DEBUG:cmdstanpy:CmdStan args: ['/usr/local/lib/python3.9/dist-packages/prophet/stan_model/prophet_model.bin', 'random', 'seed=65443', 'data', 'file=/tmp/tmptqo22xr8/21iftycg.json', 'init=/tmp/tmptqo22xr8/be6k69gj.json', 'output', 'file=/tmp/tmptqo22xr8/prophet_modele9y0348j/prophet_model-20230323185905.csv', 'method=optimize', 'algorithm=lbfgs', 'iter=10000']\n",
            "18:59:05 - cmdstanpy - INFO - Chain [1] start processing\n",
            "INFO:cmdstanpy:Chain [1] start processing\n",
            "18:59:05 - cmdstanpy - INFO - Chain [1] done processing\n",
            "INFO:cmdstanpy:Chain [1] done processing\n",
            "DEBUG:cmdstanpy:input tempfile: /tmp/tmptqo22xr8/foih2e0c.json\n",
            "DEBUG:cmdstanpy:input tempfile: /tmp/tmptqo22xr8/gcv4k35p.json\n",
            "DEBUG:cmdstanpy:idx 0\n",
            "DEBUG:cmdstanpy:running CmdStan, num_threads: None\n",
            "DEBUG:cmdstanpy:CmdStan args: ['/usr/local/lib/python3.9/dist-packages/prophet/stan_model/prophet_model.bin', 'random', 'seed=72237', 'data', 'file=/tmp/tmptqo22xr8/foih2e0c.json', 'init=/tmp/tmptqo22xr8/gcv4k35p.json', 'output', 'file=/tmp/tmptqo22xr8/prophet_modeldrd2on_w/prophet_model-20230323185905.csv', 'method=optimize', 'algorithm=lbfgs', 'iter=10000']\n",
            "18:59:05 - cmdstanpy - INFO - Chain [1] start processing\n",
            "INFO:cmdstanpy:Chain [1] start processing\n",
            "18:59:05 - cmdstanpy - INFO - Chain [1] done processing\n",
            "INFO:cmdstanpy:Chain [1] done processing\n",
            "DEBUG:cmdstanpy:input tempfile: /tmp/tmptqo22xr8/h_qj2_te.json\n",
            "DEBUG:cmdstanpy:input tempfile: /tmp/tmptqo22xr8/trcas5ng.json\n",
            "DEBUG:cmdstanpy:idx 0\n",
            "DEBUG:cmdstanpy:running CmdStan, num_threads: None\n",
            "DEBUG:cmdstanpy:CmdStan args: ['/usr/local/lib/python3.9/dist-packages/prophet/stan_model/prophet_model.bin', 'random', 'seed=45454', 'data', 'file=/tmp/tmptqo22xr8/h_qj2_te.json', 'init=/tmp/tmptqo22xr8/trcas5ng.json', 'output', 'file=/tmp/tmptqo22xr8/prophet_modelqbe885qi/prophet_model-20230323185905.csv', 'method=optimize', 'algorithm=lbfgs', 'iter=10000']\n",
            "18:59:05 - cmdstanpy - INFO - Chain [1] start processing\n",
            "INFO:cmdstanpy:Chain [1] start processing\n",
            "18:59:05 - cmdstanpy - INFO - Chain [1] done processing\n",
            "INFO:cmdstanpy:Chain [1] done processing\n",
            "DEBUG:cmdstanpy:input tempfile: /tmp/tmptqo22xr8/d6o0uvn4.json\n",
            "DEBUG:cmdstanpy:input tempfile: /tmp/tmptqo22xr8/h9v1z96k.json\n",
            "DEBUG:cmdstanpy:idx 0\n",
            "DEBUG:cmdstanpy:running CmdStan, num_threads: None\n",
            "DEBUG:cmdstanpy:CmdStan args: ['/usr/local/lib/python3.9/dist-packages/prophet/stan_model/prophet_model.bin', 'random', 'seed=90258', 'data', 'file=/tmp/tmptqo22xr8/d6o0uvn4.json', 'init=/tmp/tmptqo22xr8/h9v1z96k.json', 'output', 'file=/tmp/tmptqo22xr8/prophet_modelxx3iysla/prophet_model-20230323185906.csv', 'method=optimize', 'algorithm=lbfgs', 'iter=10000']\n",
            "18:59:06 - cmdstanpy - INFO - Chain [1] start processing\n",
            "INFO:cmdstanpy:Chain [1] start processing\n",
            "18:59:06 - cmdstanpy - INFO - Chain [1] done processing\n",
            "INFO:cmdstanpy:Chain [1] done processing\n",
            "DEBUG:cmdstanpy:input tempfile: /tmp/tmptqo22xr8/jrv0xoid.json\n",
            "DEBUG:cmdstanpy:input tempfile: /tmp/tmptqo22xr8/x3wmnq_w.json\n",
            "DEBUG:cmdstanpy:idx 0\n",
            "DEBUG:cmdstanpy:running CmdStan, num_threads: None\n",
            "DEBUG:cmdstanpy:CmdStan args: ['/usr/local/lib/python3.9/dist-packages/prophet/stan_model/prophet_model.bin', 'random', 'seed=43461', 'data', 'file=/tmp/tmptqo22xr8/jrv0xoid.json', 'init=/tmp/tmptqo22xr8/x3wmnq_w.json', 'output', 'file=/tmp/tmptqo22xr8/prophet_model38gkut5w/prophet_model-20230323185906.csv', 'method=optimize', 'algorithm=lbfgs', 'iter=10000']\n",
            "18:59:06 - cmdstanpy - INFO - Chain [1] start processing\n",
            "INFO:cmdstanpy:Chain [1] start processing\n",
            "18:59:06 - cmdstanpy - INFO - Chain [1] done processing\n",
            "INFO:cmdstanpy:Chain [1] done processing\n",
            "DEBUG:cmdstanpy:input tempfile: /tmp/tmptqo22xr8/4p018xt4.json\n",
            "DEBUG:cmdstanpy:input tempfile: /tmp/tmptqo22xr8/qqpy3bgp.json\n",
            "DEBUG:cmdstanpy:idx 0\n",
            "DEBUG:cmdstanpy:running CmdStan, num_threads: None\n",
            "DEBUG:cmdstanpy:CmdStan args: ['/usr/local/lib/python3.9/dist-packages/prophet/stan_model/prophet_model.bin', 'random', 'seed=17819', 'data', 'file=/tmp/tmptqo22xr8/4p018xt4.json', 'init=/tmp/tmptqo22xr8/qqpy3bgp.json', 'output', 'file=/tmp/tmptqo22xr8/prophet_model_2s92hjg/prophet_model-20230323185906.csv', 'method=optimize', 'algorithm=lbfgs', 'iter=10000']\n",
            "18:59:06 - cmdstanpy - INFO - Chain [1] start processing\n",
            "INFO:cmdstanpy:Chain [1] start processing\n",
            "18:59:07 - cmdstanpy - INFO - Chain [1] done processing\n",
            "INFO:cmdstanpy:Chain [1] done processing\n",
            "DEBUG:cmdstanpy:input tempfile: /tmp/tmptqo22xr8/faq7nt5s.json\n",
            "DEBUG:cmdstanpy:input tempfile: /tmp/tmptqo22xr8/4tsynvz0.json\n",
            "DEBUG:cmdstanpy:idx 0\n",
            "DEBUG:cmdstanpy:running CmdStan, num_threads: None\n",
            "DEBUG:cmdstanpy:CmdStan args: ['/usr/local/lib/python3.9/dist-packages/prophet/stan_model/prophet_model.bin', 'random', 'seed=30953', 'data', 'file=/tmp/tmptqo22xr8/faq7nt5s.json', 'init=/tmp/tmptqo22xr8/4tsynvz0.json', 'output', 'file=/tmp/tmptqo22xr8/prophet_model6bvg2ph1/prophet_model-20230323185907.csv', 'method=optimize', 'algorithm=lbfgs', 'iter=10000']\n",
            "18:59:07 - cmdstanpy - INFO - Chain [1] start processing\n",
            "INFO:cmdstanpy:Chain [1] start processing\n",
            "18:59:07 - cmdstanpy - INFO - Chain [1] done processing\n",
            "INFO:cmdstanpy:Chain [1] done processing\n",
            "DEBUG:cmdstanpy:input tempfile: /tmp/tmptqo22xr8/gyh7kell.json\n",
            "DEBUG:cmdstanpy:input tempfile: /tmp/tmptqo22xr8/a7jw4fnk.json\n",
            "DEBUG:cmdstanpy:idx 0\n",
            "DEBUG:cmdstanpy:running CmdStan, num_threads: None\n",
            "DEBUG:cmdstanpy:CmdStan args: ['/usr/local/lib/python3.9/dist-packages/prophet/stan_model/prophet_model.bin', 'random', 'seed=92884', 'data', 'file=/tmp/tmptqo22xr8/gyh7kell.json', 'init=/tmp/tmptqo22xr8/a7jw4fnk.json', 'output', 'file=/tmp/tmptqo22xr8/prophet_modelfcher_my/prophet_model-20230323185907.csv', 'method=optimize', 'algorithm=lbfgs', 'iter=10000']\n",
            "18:59:07 - cmdstanpy - INFO - Chain [1] start processing\n",
            "INFO:cmdstanpy:Chain [1] start processing\n",
            "18:59:07 - cmdstanpy - INFO - Chain [1] done processing\n",
            "INFO:cmdstanpy:Chain [1] done processing\n",
            "DEBUG:cmdstanpy:input tempfile: /tmp/tmptqo22xr8/wqp2kc65.json\n",
            "DEBUG:cmdstanpy:input tempfile: /tmp/tmptqo22xr8/zn4ltove.json\n",
            "DEBUG:cmdstanpy:idx 0\n",
            "DEBUG:cmdstanpy:running CmdStan, num_threads: None\n",
            "DEBUG:cmdstanpy:CmdStan args: ['/usr/local/lib/python3.9/dist-packages/prophet/stan_model/prophet_model.bin', 'random', 'seed=40088', 'data', 'file=/tmp/tmptqo22xr8/wqp2kc65.json', 'init=/tmp/tmptqo22xr8/zn4ltove.json', 'output', 'file=/tmp/tmptqo22xr8/prophet_modelw6jl2tlm/prophet_model-20230323185908.csv', 'method=optimize', 'algorithm=lbfgs', 'iter=10000']\n",
            "18:59:08 - cmdstanpy - INFO - Chain [1] start processing\n",
            "INFO:cmdstanpy:Chain [1] start processing\n",
            "18:59:08 - cmdstanpy - INFO - Chain [1] done processing\n",
            "INFO:cmdstanpy:Chain [1] done processing\n",
            "DEBUG:cmdstanpy:input tempfile: /tmp/tmptqo22xr8/u8nan108.json\n",
            "DEBUG:cmdstanpy:input tempfile: /tmp/tmptqo22xr8/8wrplxq4.json\n",
            "DEBUG:cmdstanpy:idx 0\n",
            "DEBUG:cmdstanpy:running CmdStan, num_threads: None\n",
            "DEBUG:cmdstanpy:CmdStan args: ['/usr/local/lib/python3.9/dist-packages/prophet/stan_model/prophet_model.bin', 'random', 'seed=95180', 'data', 'file=/tmp/tmptqo22xr8/u8nan108.json', 'init=/tmp/tmptqo22xr8/8wrplxq4.json', 'output', 'file=/tmp/tmptqo22xr8/prophet_modelremv97_i/prophet_model-20230323185908.csv', 'method=optimize', 'algorithm=lbfgs', 'iter=10000']\n",
            "18:59:08 - cmdstanpy - INFO - Chain [1] start processing\n",
            "INFO:cmdstanpy:Chain [1] start processing\n",
            "18:59:08 - cmdstanpy - INFO - Chain [1] done processing\n",
            "INFO:cmdstanpy:Chain [1] done processing\n",
            "DEBUG:cmdstanpy:input tempfile: /tmp/tmptqo22xr8/up1bkvml.json\n",
            "DEBUG:cmdstanpy:input tempfile: /tmp/tmptqo22xr8/qf7ousve.json\n",
            "DEBUG:cmdstanpy:idx 0\n",
            "DEBUG:cmdstanpy:running CmdStan, num_threads: None\n",
            "DEBUG:cmdstanpy:CmdStan args: ['/usr/local/lib/python3.9/dist-packages/prophet/stan_model/prophet_model.bin', 'random', 'seed=60401', 'data', 'file=/tmp/tmptqo22xr8/up1bkvml.json', 'init=/tmp/tmptqo22xr8/qf7ousve.json', 'output', 'file=/tmp/tmptqo22xr8/prophet_modeljoc6quyf/prophet_model-20230323185909.csv', 'method=optimize', 'algorithm=lbfgs', 'iter=10000']\n",
            "18:59:09 - cmdstanpy - INFO - Chain [1] start processing\n",
            "INFO:cmdstanpy:Chain [1] start processing\n",
            "18:59:09 - cmdstanpy - INFO - Chain [1] done processing\n",
            "INFO:cmdstanpy:Chain [1] done processing\n",
            "DEBUG:cmdstanpy:input tempfile: /tmp/tmptqo22xr8/k4tqn8_9.json\n",
            "DEBUG:cmdstanpy:input tempfile: /tmp/tmptqo22xr8/70zx2n9t.json\n",
            "DEBUG:cmdstanpy:idx 0\n",
            "DEBUG:cmdstanpy:running CmdStan, num_threads: None\n",
            "DEBUG:cmdstanpy:CmdStan args: ['/usr/local/lib/python3.9/dist-packages/prophet/stan_model/prophet_model.bin', 'random', 'seed=77880', 'data', 'file=/tmp/tmptqo22xr8/k4tqn8_9.json', 'init=/tmp/tmptqo22xr8/70zx2n9t.json', 'output', 'file=/tmp/tmptqo22xr8/prophet_modelu_qwis5a/prophet_model-20230323185909.csv', 'method=optimize', 'algorithm=lbfgs', 'iter=10000']\n",
            "18:59:09 - cmdstanpy - INFO - Chain [1] start processing\n",
            "INFO:cmdstanpy:Chain [1] start processing\n",
            "18:59:10 - cmdstanpy - INFO - Chain [1] done processing\n",
            "INFO:cmdstanpy:Chain [1] done processing\n",
            "DEBUG:cmdstanpy:input tempfile: /tmp/tmptqo22xr8/assapywu.json\n",
            "DEBUG:cmdstanpy:input tempfile: /tmp/tmptqo22xr8/o4a1679p.json\n",
            "DEBUG:cmdstanpy:idx 0\n",
            "DEBUG:cmdstanpy:running CmdStan, num_threads: None\n",
            "DEBUG:cmdstanpy:CmdStan args: ['/usr/local/lib/python3.9/dist-packages/prophet/stan_model/prophet_model.bin', 'random', 'seed=79555', 'data', 'file=/tmp/tmptqo22xr8/assapywu.json', 'init=/tmp/tmptqo22xr8/o4a1679p.json', 'output', 'file=/tmp/tmptqo22xr8/prophet_model1it5rnym/prophet_model-20230323185910.csv', 'method=optimize', 'algorithm=lbfgs', 'iter=10000']\n",
            "18:59:10 - cmdstanpy - INFO - Chain [1] start processing\n",
            "INFO:cmdstanpy:Chain [1] start processing\n",
            "18:59:11 - cmdstanpy - INFO - Chain [1] done processing\n",
            "INFO:cmdstanpy:Chain [1] done processing\n",
            "DEBUG:cmdstanpy:input tempfile: /tmp/tmptqo22xr8/45zdd87k.json\n",
            "DEBUG:cmdstanpy:input tempfile: /tmp/tmptqo22xr8/gr6imzvz.json\n",
            "DEBUG:cmdstanpy:idx 0\n",
            "DEBUG:cmdstanpy:running CmdStan, num_threads: None\n",
            "DEBUG:cmdstanpy:CmdStan args: ['/usr/local/lib/python3.9/dist-packages/prophet/stan_model/prophet_model.bin', 'random', 'seed=19890', 'data', 'file=/tmp/tmptqo22xr8/45zdd87k.json', 'init=/tmp/tmptqo22xr8/gr6imzvz.json', 'output', 'file=/tmp/tmptqo22xr8/prophet_modely844up1u/prophet_model-20230323185911.csv', 'method=optimize', 'algorithm=lbfgs', 'iter=10000']\n",
            "18:59:11 - cmdstanpy - INFO - Chain [1] start processing\n",
            "INFO:cmdstanpy:Chain [1] start processing\n",
            "18:59:11 - cmdstanpy - INFO - Chain [1] done processing\n",
            "INFO:cmdstanpy:Chain [1] done processing\n",
            "DEBUG:cmdstanpy:input tempfile: /tmp/tmptqo22xr8/6kx_racu.json\n",
            "DEBUG:cmdstanpy:input tempfile: /tmp/tmptqo22xr8/m6pro8l7.json\n",
            "DEBUG:cmdstanpy:idx 0\n",
            "DEBUG:cmdstanpy:running CmdStan, num_threads: None\n",
            "DEBUG:cmdstanpy:CmdStan args: ['/usr/local/lib/python3.9/dist-packages/prophet/stan_model/prophet_model.bin', 'random', 'seed=64821', 'data', 'file=/tmp/tmptqo22xr8/6kx_racu.json', 'init=/tmp/tmptqo22xr8/m6pro8l7.json', 'output', 'file=/tmp/tmptqo22xr8/prophet_model056burm3/prophet_model-20230323185911.csv', 'method=optimize', 'algorithm=lbfgs', 'iter=10000']\n",
            "18:59:11 - cmdstanpy - INFO - Chain [1] start processing\n",
            "INFO:cmdstanpy:Chain [1] start processing\n",
            "18:59:12 - cmdstanpy - INFO - Chain [1] done processing\n",
            "INFO:cmdstanpy:Chain [1] done processing\n",
            "DEBUG:cmdstanpy:input tempfile: /tmp/tmptqo22xr8/0ztbwxl4.json\n",
            "DEBUG:cmdstanpy:input tempfile: /tmp/tmptqo22xr8/jw4hj5_d.json\n",
            "DEBUG:cmdstanpy:idx 0\n",
            "DEBUG:cmdstanpy:running CmdStan, num_threads: None\n",
            "DEBUG:cmdstanpy:CmdStan args: ['/usr/local/lib/python3.9/dist-packages/prophet/stan_model/prophet_model.bin', 'random', 'seed=76630', 'data', 'file=/tmp/tmptqo22xr8/0ztbwxl4.json', 'init=/tmp/tmptqo22xr8/jw4hj5_d.json', 'output', 'file=/tmp/tmptqo22xr8/prophet_model911621yj/prophet_model-20230323185912.csv', 'method=optimize', 'algorithm=lbfgs', 'iter=10000']\n",
            "18:59:12 - cmdstanpy - INFO - Chain [1] start processing\n",
            "INFO:cmdstanpy:Chain [1] start processing\n",
            "18:59:12 - cmdstanpy - INFO - Chain [1] done processing\n",
            "INFO:cmdstanpy:Chain [1] done processing\n",
            "DEBUG:cmdstanpy:input tempfile: /tmp/tmptqo22xr8/ifcsi63g.json\n",
            "DEBUG:cmdstanpy:input tempfile: /tmp/tmptqo22xr8/9sl5xi9o.json\n",
            "DEBUG:cmdstanpy:idx 0\n",
            "DEBUG:cmdstanpy:running CmdStan, num_threads: None\n",
            "DEBUG:cmdstanpy:CmdStan args: ['/usr/local/lib/python3.9/dist-packages/prophet/stan_model/prophet_model.bin', 'random', 'seed=67798', 'data', 'file=/tmp/tmptqo22xr8/ifcsi63g.json', 'init=/tmp/tmptqo22xr8/9sl5xi9o.json', 'output', 'file=/tmp/tmptqo22xr8/prophet_model_fi64ple/prophet_model-20230323185913.csv', 'method=optimize', 'algorithm=lbfgs', 'iter=10000']\n",
            "18:59:13 - cmdstanpy - INFO - Chain [1] start processing\n",
            "INFO:cmdstanpy:Chain [1] start processing\n",
            "18:59:13 - cmdstanpy - INFO - Chain [1] done processing\n",
            "INFO:cmdstanpy:Chain [1] done processing\n",
            "DEBUG:cmdstanpy:input tempfile: /tmp/tmptqo22xr8/s23ozt5q.json\n",
            "DEBUG:cmdstanpy:input tempfile: /tmp/tmptqo22xr8/ix_e1edk.json\n",
            "DEBUG:cmdstanpy:idx 0\n",
            "DEBUG:cmdstanpy:running CmdStan, num_threads: None\n",
            "DEBUG:cmdstanpy:CmdStan args: ['/usr/local/lib/python3.9/dist-packages/prophet/stan_model/prophet_model.bin', 'random', 'seed=23051', 'data', 'file=/tmp/tmptqo22xr8/s23ozt5q.json', 'init=/tmp/tmptqo22xr8/ix_e1edk.json', 'output', 'file=/tmp/tmptqo22xr8/prophet_modelgxn21srp/prophet_model-20230323185913.csv', 'method=optimize', 'algorithm=lbfgs', 'iter=10000']\n",
            "18:59:13 - cmdstanpy - INFO - Chain [1] start processing\n",
            "INFO:cmdstanpy:Chain [1] start processing\n",
            "18:59:13 - cmdstanpy - INFO - Chain [1] done processing\n",
            "INFO:cmdstanpy:Chain [1] done processing\n",
            "DEBUG:cmdstanpy:input tempfile: /tmp/tmptqo22xr8/pso6vo1s.json\n",
            "DEBUG:cmdstanpy:input tempfile: /tmp/tmptqo22xr8/v20_xdk7.json\n",
            "DEBUG:cmdstanpy:idx 0\n",
            "DEBUG:cmdstanpy:running CmdStan, num_threads: None\n",
            "DEBUG:cmdstanpy:CmdStan args: ['/usr/local/lib/python3.9/dist-packages/prophet/stan_model/prophet_model.bin', 'random', 'seed=89397', 'data', 'file=/tmp/tmptqo22xr8/pso6vo1s.json', 'init=/tmp/tmptqo22xr8/v20_xdk7.json', 'output', 'file=/tmp/tmptqo22xr8/prophet_modell2xgnxw9/prophet_model-20230323185913.csv', 'method=optimize', 'algorithm=lbfgs', 'iter=10000']\n",
            "18:59:13 - cmdstanpy - INFO - Chain [1] start processing\n",
            "INFO:cmdstanpy:Chain [1] start processing\n",
            "18:59:14 - cmdstanpy - INFO - Chain [1] done processing\n",
            "INFO:cmdstanpy:Chain [1] done processing\n",
            "DEBUG:cmdstanpy:input tempfile: /tmp/tmptqo22xr8/i6rrxbf9.json\n",
            "DEBUG:cmdstanpy:input tempfile: /tmp/tmptqo22xr8/90mqcs9q.json\n",
            "DEBUG:cmdstanpy:idx 0\n",
            "DEBUG:cmdstanpy:running CmdStan, num_threads: None\n",
            "DEBUG:cmdstanpy:CmdStan args: ['/usr/local/lib/python3.9/dist-packages/prophet/stan_model/prophet_model.bin', 'random', 'seed=69577', 'data', 'file=/tmp/tmptqo22xr8/i6rrxbf9.json', 'init=/tmp/tmptqo22xr8/90mqcs9q.json', 'output', 'file=/tmp/tmptqo22xr8/prophet_modelh216pees/prophet_model-20230323185914.csv', 'method=optimize', 'algorithm=lbfgs', 'iter=10000']\n",
            "18:59:14 - cmdstanpy - INFO - Chain [1] start processing\n",
            "INFO:cmdstanpy:Chain [1] start processing\n",
            "18:59:14 - cmdstanpy - INFO - Chain [1] done processing\n",
            "INFO:cmdstanpy:Chain [1] done processing\n",
            "DEBUG:cmdstanpy:input tempfile: /tmp/tmptqo22xr8/l_nh8b6w.json\n",
            "DEBUG:cmdstanpy:input tempfile: /tmp/tmptqo22xr8/rzkkv_ck.json\n",
            "DEBUG:cmdstanpy:idx 0\n",
            "DEBUG:cmdstanpy:running CmdStan, num_threads: None\n",
            "DEBUG:cmdstanpy:CmdStan args: ['/usr/local/lib/python3.9/dist-packages/prophet/stan_model/prophet_model.bin', 'random', 'seed=63553', 'data', 'file=/tmp/tmptqo22xr8/l_nh8b6w.json', 'init=/tmp/tmptqo22xr8/rzkkv_ck.json', 'output', 'file=/tmp/tmptqo22xr8/prophet_modellj2neab3/prophet_model-20230323185914.csv', 'method=optimize', 'algorithm=lbfgs', 'iter=10000']\n",
            "18:59:14 - cmdstanpy - INFO - Chain [1] start processing\n",
            "INFO:cmdstanpy:Chain [1] start processing\n",
            "18:59:15 - cmdstanpy - INFO - Chain [1] done processing\n",
            "INFO:cmdstanpy:Chain [1] done processing\n",
            "DEBUG:cmdstanpy:input tempfile: /tmp/tmptqo22xr8/haic4tan.json\n",
            "DEBUG:cmdstanpy:input tempfile: /tmp/tmptqo22xr8/c_ohc2ce.json\n",
            "DEBUG:cmdstanpy:idx 0\n",
            "DEBUG:cmdstanpy:running CmdStan, num_threads: None\n",
            "DEBUG:cmdstanpy:CmdStan args: ['/usr/local/lib/python3.9/dist-packages/prophet/stan_model/prophet_model.bin', 'random', 'seed=77197', 'data', 'file=/tmp/tmptqo22xr8/haic4tan.json', 'init=/tmp/tmptqo22xr8/c_ohc2ce.json', 'output', 'file=/tmp/tmptqo22xr8/prophet_modelmzca_z_e/prophet_model-20230323185915.csv', 'method=optimize', 'algorithm=lbfgs', 'iter=10000']\n",
            "18:59:15 - cmdstanpy - INFO - Chain [1] start processing\n",
            "INFO:cmdstanpy:Chain [1] start processing\n",
            "18:59:15 - cmdstanpy - INFO - Chain [1] done processing\n",
            "INFO:cmdstanpy:Chain [1] done processing\n",
            "DEBUG:cmdstanpy:input tempfile: /tmp/tmptqo22xr8/elv4p8q8.json\n",
            "DEBUG:cmdstanpy:input tempfile: /tmp/tmptqo22xr8/7q7o9t15.json\n",
            "DEBUG:cmdstanpy:idx 0\n",
            "DEBUG:cmdstanpy:running CmdStan, num_threads: None\n",
            "DEBUG:cmdstanpy:CmdStan args: ['/usr/local/lib/python3.9/dist-packages/prophet/stan_model/prophet_model.bin', 'random', 'seed=68917', 'data', 'file=/tmp/tmptqo22xr8/elv4p8q8.json', 'init=/tmp/tmptqo22xr8/7q7o9t15.json', 'output', 'file=/tmp/tmptqo22xr8/prophet_modelzc5i2b_a/prophet_model-20230323185916.csv', 'method=optimize', 'algorithm=lbfgs', 'iter=10000']\n",
            "18:59:16 - cmdstanpy - INFO - Chain [1] start processing\n",
            "INFO:cmdstanpy:Chain [1] start processing\n",
            "18:59:16 - cmdstanpy - INFO - Chain [1] done processing\n",
            "INFO:cmdstanpy:Chain [1] done processing\n",
            "DEBUG:cmdstanpy:input tempfile: /tmp/tmptqo22xr8/iq6ogv2o.json\n",
            "DEBUG:cmdstanpy:input tempfile: /tmp/tmptqo22xr8/xgr5ie2c.json\n",
            "DEBUG:cmdstanpy:idx 0\n",
            "DEBUG:cmdstanpy:running CmdStan, num_threads: None\n",
            "DEBUG:cmdstanpy:CmdStan args: ['/usr/local/lib/python3.9/dist-packages/prophet/stan_model/prophet_model.bin', 'random', 'seed=69607', 'data', 'file=/tmp/tmptqo22xr8/iq6ogv2o.json', 'init=/tmp/tmptqo22xr8/xgr5ie2c.json', 'output', 'file=/tmp/tmptqo22xr8/prophet_modelay5yscaa/prophet_model-20230323185916.csv', 'method=optimize', 'algorithm=lbfgs', 'iter=10000']\n",
            "18:59:16 - cmdstanpy - INFO - Chain [1] start processing\n",
            "INFO:cmdstanpy:Chain [1] start processing\n",
            "18:59:17 - cmdstanpy - INFO - Chain [1] done processing\n",
            "INFO:cmdstanpy:Chain [1] done processing\n",
            "DEBUG:cmdstanpy:input tempfile: /tmp/tmptqo22xr8/71hvzxhp.json\n",
            "DEBUG:cmdstanpy:input tempfile: /tmp/tmptqo22xr8/la15d24d.json\n",
            "DEBUG:cmdstanpy:idx 0\n",
            "DEBUG:cmdstanpy:running CmdStan, num_threads: None\n",
            "DEBUG:cmdstanpy:CmdStan args: ['/usr/local/lib/python3.9/dist-packages/prophet/stan_model/prophet_model.bin', 'random', 'seed=95214', 'data', 'file=/tmp/tmptqo22xr8/71hvzxhp.json', 'init=/tmp/tmptqo22xr8/la15d24d.json', 'output', 'file=/tmp/tmptqo22xr8/prophet_modelijd0h2n3/prophet_model-20230323185917.csv', 'method=optimize', 'algorithm=lbfgs', 'iter=10000']\n",
            "18:59:17 - cmdstanpy - INFO - Chain [1] start processing\n",
            "INFO:cmdstanpy:Chain [1] start processing\n",
            "18:59:18 - cmdstanpy - INFO - Chain [1] done processing\n",
            "INFO:cmdstanpy:Chain [1] done processing\n",
            "DEBUG:cmdstanpy:input tempfile: /tmp/tmptqo22xr8/v4g4eyvg.json\n",
            "DEBUG:cmdstanpy:input tempfile: /tmp/tmptqo22xr8/syl2r70a.json\n",
            "DEBUG:cmdstanpy:idx 0\n",
            "DEBUG:cmdstanpy:running CmdStan, num_threads: None\n",
            "DEBUG:cmdstanpy:CmdStan args: ['/usr/local/lib/python3.9/dist-packages/prophet/stan_model/prophet_model.bin', 'random', 'seed=91262', 'data', 'file=/tmp/tmptqo22xr8/v4g4eyvg.json', 'init=/tmp/tmptqo22xr8/syl2r70a.json', 'output', 'file=/tmp/tmptqo22xr8/prophet_modelrtc08k3i/prophet_model-20230323185918.csv', 'method=optimize', 'algorithm=lbfgs', 'iter=10000']\n",
            "18:59:18 - cmdstanpy - INFO - Chain [1] start processing\n",
            "INFO:cmdstanpy:Chain [1] start processing\n",
            "18:59:18 - cmdstanpy - INFO - Chain [1] done processing\n",
            "INFO:cmdstanpy:Chain [1] done processing\n",
            "DEBUG:cmdstanpy:input tempfile: /tmp/tmptqo22xr8/jbktcaz5.json\n",
            "DEBUG:cmdstanpy:input tempfile: /tmp/tmptqo22xr8/xpxyjgih.json\n",
            "DEBUG:cmdstanpy:idx 0\n",
            "DEBUG:cmdstanpy:running CmdStan, num_threads: None\n",
            "DEBUG:cmdstanpy:CmdStan args: ['/usr/local/lib/python3.9/dist-packages/prophet/stan_model/prophet_model.bin', 'random', 'seed=15561', 'data', 'file=/tmp/tmptqo22xr8/jbktcaz5.json', 'init=/tmp/tmptqo22xr8/xpxyjgih.json', 'output', 'file=/tmp/tmptqo22xr8/prophet_model_w1d7k7q/prophet_model-20230323185918.csv', 'method=optimize', 'algorithm=lbfgs', 'iter=10000']\n",
            "18:59:18 - cmdstanpy - INFO - Chain [1] start processing\n",
            "INFO:cmdstanpy:Chain [1] start processing\n",
            "18:59:19 - cmdstanpy - INFO - Chain [1] done processing\n",
            "INFO:cmdstanpy:Chain [1] done processing\n",
            "DEBUG:cmdstanpy:input tempfile: /tmp/tmptqo22xr8/dvitd5cw.json\n",
            "DEBUG:cmdstanpy:input tempfile: /tmp/tmptqo22xr8/aoh24vkc.json\n",
            "DEBUG:cmdstanpy:idx 0\n",
            "DEBUG:cmdstanpy:running CmdStan, num_threads: None\n",
            "DEBUG:cmdstanpy:CmdStan args: ['/usr/local/lib/python3.9/dist-packages/prophet/stan_model/prophet_model.bin', 'random', 'seed=56614', 'data', 'file=/tmp/tmptqo22xr8/dvitd5cw.json', 'init=/tmp/tmptqo22xr8/aoh24vkc.json', 'output', 'file=/tmp/tmptqo22xr8/prophet_modelkodhzcr4/prophet_model-20230323185919.csv', 'method=optimize', 'algorithm=lbfgs', 'iter=10000']\n",
            "18:59:19 - cmdstanpy - INFO - Chain [1] start processing\n",
            "INFO:cmdstanpy:Chain [1] start processing\n",
            "18:59:19 - cmdstanpy - INFO - Chain [1] done processing\n",
            "INFO:cmdstanpy:Chain [1] done processing\n",
            "DEBUG:cmdstanpy:input tempfile: /tmp/tmptqo22xr8/r2x077p9.json\n",
            "DEBUG:cmdstanpy:input tempfile: /tmp/tmptqo22xr8/4lqnekd7.json\n",
            "DEBUG:cmdstanpy:idx 0\n",
            "DEBUG:cmdstanpy:running CmdStan, num_threads: None\n",
            "DEBUG:cmdstanpy:CmdStan args: ['/usr/local/lib/python3.9/dist-packages/prophet/stan_model/prophet_model.bin', 'random', 'seed=21929', 'data', 'file=/tmp/tmptqo22xr8/r2x077p9.json', 'init=/tmp/tmptqo22xr8/4lqnekd7.json', 'output', 'file=/tmp/tmptqo22xr8/prophet_model5zxs3uqz/prophet_model-20230323185920.csv', 'method=optimize', 'algorithm=lbfgs', 'iter=10000']\n",
            "18:59:20 - cmdstanpy - INFO - Chain [1] start processing\n",
            "INFO:cmdstanpy:Chain [1] start processing\n",
            "18:59:20 - cmdstanpy - INFO - Chain [1] done processing\n",
            "INFO:cmdstanpy:Chain [1] done processing\n",
            "DEBUG:cmdstanpy:input tempfile: /tmp/tmptqo22xr8/9c25t9_b.json\n",
            "DEBUG:cmdstanpy:input tempfile: /tmp/tmptqo22xr8/8c1x3jjr.json\n",
            "DEBUG:cmdstanpy:idx 0\n",
            "DEBUG:cmdstanpy:running CmdStan, num_threads: None\n",
            "DEBUG:cmdstanpy:CmdStan args: ['/usr/local/lib/python3.9/dist-packages/prophet/stan_model/prophet_model.bin', 'random', 'seed=97632', 'data', 'file=/tmp/tmptqo22xr8/9c25t9_b.json', 'init=/tmp/tmptqo22xr8/8c1x3jjr.json', 'output', 'file=/tmp/tmptqo22xr8/prophet_modelrye3bcum/prophet_model-20230323185920.csv', 'method=optimize', 'algorithm=lbfgs', 'iter=10000']\n",
            "18:59:20 - cmdstanpy - INFO - Chain [1] start processing\n",
            "INFO:cmdstanpy:Chain [1] start processing\n",
            "18:59:21 - cmdstanpy - INFO - Chain [1] done processing\n",
            "INFO:cmdstanpy:Chain [1] done processing\n",
            "DEBUG:cmdstanpy:input tempfile: /tmp/tmptqo22xr8/dc99djv5.json\n",
            "DEBUG:cmdstanpy:input tempfile: /tmp/tmptqo22xr8/t6pw_o76.json\n",
            "DEBUG:cmdstanpy:idx 0\n",
            "DEBUG:cmdstanpy:running CmdStan, num_threads: None\n",
            "DEBUG:cmdstanpy:CmdStan args: ['/usr/local/lib/python3.9/dist-packages/prophet/stan_model/prophet_model.bin', 'random', 'seed=66682', 'data', 'file=/tmp/tmptqo22xr8/dc99djv5.json', 'init=/tmp/tmptqo22xr8/t6pw_o76.json', 'output', 'file=/tmp/tmptqo22xr8/prophet_modelawzkn58h/prophet_model-20230323185921.csv', 'method=optimize', 'algorithm=lbfgs', 'iter=10000']\n",
            "18:59:21 - cmdstanpy - INFO - Chain [1] start processing\n",
            "INFO:cmdstanpy:Chain [1] start processing\n",
            "18:59:22 - cmdstanpy - INFO - Chain [1] done processing\n",
            "INFO:cmdstanpy:Chain [1] done processing\n",
            "DEBUG:cmdstanpy:input tempfile: /tmp/tmptqo22xr8/2d1w3h59.json\n",
            "DEBUG:cmdstanpy:input tempfile: /tmp/tmptqo22xr8/6semrrkq.json\n",
            "DEBUG:cmdstanpy:idx 0\n",
            "DEBUG:cmdstanpy:running CmdStan, num_threads: None\n",
            "DEBUG:cmdstanpy:CmdStan args: ['/usr/local/lib/python3.9/dist-packages/prophet/stan_model/prophet_model.bin', 'random', 'seed=942', 'data', 'file=/tmp/tmptqo22xr8/2d1w3h59.json', 'init=/tmp/tmptqo22xr8/6semrrkq.json', 'output', 'file=/tmp/tmptqo22xr8/prophet_modelc7uxpatc/prophet_model-20230323185922.csv', 'method=optimize', 'algorithm=lbfgs', 'iter=10000']\n",
            "18:59:22 - cmdstanpy - INFO - Chain [1] start processing\n",
            "INFO:cmdstanpy:Chain [1] start processing\n",
            "18:59:23 - cmdstanpy - INFO - Chain [1] done processing\n",
            "INFO:cmdstanpy:Chain [1] done processing\n",
            "DEBUG:cmdstanpy:input tempfile: /tmp/tmptqo22xr8/vpy7e59r.json\n",
            "DEBUG:cmdstanpy:input tempfile: /tmp/tmptqo22xr8/7xfppx7e.json\n",
            "DEBUG:cmdstanpy:idx 0\n",
            "DEBUG:cmdstanpy:running CmdStan, num_threads: None\n",
            "DEBUG:cmdstanpy:CmdStan args: ['/usr/local/lib/python3.9/dist-packages/prophet/stan_model/prophet_model.bin', 'random', 'seed=99508', 'data', 'file=/tmp/tmptqo22xr8/vpy7e59r.json', 'init=/tmp/tmptqo22xr8/7xfppx7e.json', 'output', 'file=/tmp/tmptqo22xr8/prophet_model07ous66l/prophet_model-20230323185923.csv', 'method=optimize', 'algorithm=lbfgs', 'iter=10000']\n",
            "18:59:23 - cmdstanpy - INFO - Chain [1] start processing\n",
            "INFO:cmdstanpy:Chain [1] start processing\n",
            "18:59:24 - cmdstanpy - INFO - Chain [1] done processing\n",
            "INFO:cmdstanpy:Chain [1] done processing\n",
            "DEBUG:cmdstanpy:input tempfile: /tmp/tmptqo22xr8/5dny27wv.json\n",
            "DEBUG:cmdstanpy:input tempfile: /tmp/tmptqo22xr8/0z_55q0e.json\n",
            "DEBUG:cmdstanpy:idx 0\n",
            "DEBUG:cmdstanpy:running CmdStan, num_threads: None\n",
            "DEBUG:cmdstanpy:CmdStan args: ['/usr/local/lib/python3.9/dist-packages/prophet/stan_model/prophet_model.bin', 'random', 'seed=37624', 'data', 'file=/tmp/tmptqo22xr8/5dny27wv.json', 'init=/tmp/tmptqo22xr8/0z_55q0e.json', 'output', 'file=/tmp/tmptqo22xr8/prophet_modelgwgw8swk/prophet_model-20230323185924.csv', 'method=optimize', 'algorithm=lbfgs', 'iter=10000']\n",
            "18:59:24 - cmdstanpy - INFO - Chain [1] start processing\n",
            "INFO:cmdstanpy:Chain [1] start processing\n",
            "18:59:26 - cmdstanpy - INFO - Chain [1] done processing\n",
            "INFO:cmdstanpy:Chain [1] done processing\n",
            "DEBUG:cmdstanpy:input tempfile: /tmp/tmptqo22xr8/jdfro3c7.json\n",
            "DEBUG:cmdstanpy:input tempfile: /tmp/tmptqo22xr8/00xp_kdt.json\n",
            "DEBUG:cmdstanpy:idx 0\n",
            "DEBUG:cmdstanpy:running CmdStan, num_threads: None\n",
            "DEBUG:cmdstanpy:CmdStan args: ['/usr/local/lib/python3.9/dist-packages/prophet/stan_model/prophet_model.bin', 'random', 'seed=66700', 'data', 'file=/tmp/tmptqo22xr8/jdfro3c7.json', 'init=/tmp/tmptqo22xr8/00xp_kdt.json', 'output', 'file=/tmp/tmptqo22xr8/prophet_modeleab1rmdt/prophet_model-20230323185926.csv', 'method=optimize', 'algorithm=lbfgs', 'iter=10000']\n",
            "18:59:26 - cmdstanpy - INFO - Chain [1] start processing\n",
            "INFO:cmdstanpy:Chain [1] start processing\n",
            "18:59:27 - cmdstanpy - INFO - Chain [1] done processing\n",
            "INFO:cmdstanpy:Chain [1] done processing\n",
            "DEBUG:cmdstanpy:input tempfile: /tmp/tmptqo22xr8/5md5ovbq.json\n",
            "DEBUG:cmdstanpy:input tempfile: /tmp/tmptqo22xr8/1cgk0h5l.json\n",
            "DEBUG:cmdstanpy:idx 0\n",
            "DEBUG:cmdstanpy:running CmdStan, num_threads: None\n",
            "DEBUG:cmdstanpy:CmdStan args: ['/usr/local/lib/python3.9/dist-packages/prophet/stan_model/prophet_model.bin', 'random', 'seed=6204', 'data', 'file=/tmp/tmptqo22xr8/5md5ovbq.json', 'init=/tmp/tmptqo22xr8/1cgk0h5l.json', 'output', 'file=/tmp/tmptqo22xr8/prophet_model14m4vf0n/prophet_model-20230323185927.csv', 'method=optimize', 'algorithm=lbfgs', 'iter=10000']\n",
            "18:59:27 - cmdstanpy - INFO - Chain [1] start processing\n",
            "INFO:cmdstanpy:Chain [1] start processing\n",
            "18:59:28 - cmdstanpy - INFO - Chain [1] done processing\n",
            "INFO:cmdstanpy:Chain [1] done processing\n",
            "DEBUG:cmdstanpy:input tempfile: /tmp/tmptqo22xr8/nfpehaj6.json\n",
            "DEBUG:cmdstanpy:input tempfile: /tmp/tmptqo22xr8/wu4s86i0.json\n",
            "DEBUG:cmdstanpy:idx 0\n",
            "DEBUG:cmdstanpy:running CmdStan, num_threads: None\n",
            "DEBUG:cmdstanpy:CmdStan args: ['/usr/local/lib/python3.9/dist-packages/prophet/stan_model/prophet_model.bin', 'random', 'seed=57982', 'data', 'file=/tmp/tmptqo22xr8/nfpehaj6.json', 'init=/tmp/tmptqo22xr8/wu4s86i0.json', 'output', 'file=/tmp/tmptqo22xr8/prophet_modelc994hujk/prophet_model-20230323185928.csv', 'method=optimize', 'algorithm=lbfgs', 'iter=10000']\n",
            "18:59:28 - cmdstanpy - INFO - Chain [1] start processing\n",
            "INFO:cmdstanpy:Chain [1] start processing\n",
            "18:59:29 - cmdstanpy - INFO - Chain [1] done processing\n",
            "INFO:cmdstanpy:Chain [1] done processing\n",
            "DEBUG:cmdstanpy:input tempfile: /tmp/tmptqo22xr8/wc0ti3zy.json\n",
            "DEBUG:cmdstanpy:input tempfile: /tmp/tmptqo22xr8/e5x43493.json\n",
            "DEBUG:cmdstanpy:idx 0\n",
            "DEBUG:cmdstanpy:running CmdStan, num_threads: None\n",
            "DEBUG:cmdstanpy:CmdStan args: ['/usr/local/lib/python3.9/dist-packages/prophet/stan_model/prophet_model.bin', 'random', 'seed=62250', 'data', 'file=/tmp/tmptqo22xr8/wc0ti3zy.json', 'init=/tmp/tmptqo22xr8/e5x43493.json', 'output', 'file=/tmp/tmptqo22xr8/prophet_modelkr5l9mjm/prophet_model-20230323185929.csv', 'method=optimize', 'algorithm=lbfgs', 'iter=10000']\n",
            "18:59:29 - cmdstanpy - INFO - Chain [1] start processing\n",
            "INFO:cmdstanpy:Chain [1] start processing\n",
            "18:59:30 - cmdstanpy - INFO - Chain [1] done processing\n",
            "INFO:cmdstanpy:Chain [1] done processing\n",
            "DEBUG:cmdstanpy:input tempfile: /tmp/tmptqo22xr8/5o3z7h0u.json\n",
            "DEBUG:cmdstanpy:input tempfile: /tmp/tmptqo22xr8/w4cmwws8.json\n",
            "DEBUG:cmdstanpy:idx 0\n",
            "DEBUG:cmdstanpy:running CmdStan, num_threads: None\n",
            "DEBUG:cmdstanpy:CmdStan args: ['/usr/local/lib/python3.9/dist-packages/prophet/stan_model/prophet_model.bin', 'random', 'seed=45552', 'data', 'file=/tmp/tmptqo22xr8/5o3z7h0u.json', 'init=/tmp/tmptqo22xr8/w4cmwws8.json', 'output', 'file=/tmp/tmptqo22xr8/prophet_modelr696qvhk/prophet_model-20230323185930.csv', 'method=optimize', 'algorithm=lbfgs', 'iter=10000']\n",
            "18:59:30 - cmdstanpy - INFO - Chain [1] start processing\n",
            "INFO:cmdstanpy:Chain [1] start processing\n",
            "18:59:30 - cmdstanpy - INFO - Chain [1] done processing\n",
            "INFO:cmdstanpy:Chain [1] done processing\n",
            "DEBUG:cmdstanpy:input tempfile: /tmp/tmptqo22xr8/3onbn1ab.json\n",
            "DEBUG:cmdstanpy:input tempfile: /tmp/tmptqo22xr8/5xoxqqbk.json\n",
            "DEBUG:cmdstanpy:idx 0\n",
            "DEBUG:cmdstanpy:running CmdStan, num_threads: None\n",
            "DEBUG:cmdstanpy:CmdStan args: ['/usr/local/lib/python3.9/dist-packages/prophet/stan_model/prophet_model.bin', 'random', 'seed=28283', 'data', 'file=/tmp/tmptqo22xr8/3onbn1ab.json', 'init=/tmp/tmptqo22xr8/5xoxqqbk.json', 'output', 'file=/tmp/tmptqo22xr8/prophet_modelqnbjnu7a/prophet_model-20230323185931.csv', 'method=optimize', 'algorithm=lbfgs', 'iter=10000']\n",
            "18:59:31 - cmdstanpy - INFO - Chain [1] start processing\n",
            "INFO:cmdstanpy:Chain [1] start processing\n",
            "18:59:31 - cmdstanpy - INFO - Chain [1] done processing\n",
            "INFO:cmdstanpy:Chain [1] done processing\n",
            "DEBUG:cmdstanpy:input tempfile: /tmp/tmptqo22xr8/vcnj4m47.json\n",
            "DEBUG:cmdstanpy:input tempfile: /tmp/tmptqo22xr8/23rxg9sm.json\n",
            "DEBUG:cmdstanpy:idx 0\n",
            "DEBUG:cmdstanpy:running CmdStan, num_threads: None\n",
            "DEBUG:cmdstanpy:CmdStan args: ['/usr/local/lib/python3.9/dist-packages/prophet/stan_model/prophet_model.bin', 'random', 'seed=49456', 'data', 'file=/tmp/tmptqo22xr8/vcnj4m47.json', 'init=/tmp/tmptqo22xr8/23rxg9sm.json', 'output', 'file=/tmp/tmptqo22xr8/prophet_model702se2k7/prophet_model-20230323185931.csv', 'method=optimize', 'algorithm=lbfgs', 'iter=10000']\n",
            "18:59:31 - cmdstanpy - INFO - Chain [1] start processing\n",
            "INFO:cmdstanpy:Chain [1] start processing\n",
            "18:59:32 - cmdstanpy - INFO - Chain [1] done processing\n",
            "INFO:cmdstanpy:Chain [1] done processing\n",
            "DEBUG:cmdstanpy:input tempfile: /tmp/tmptqo22xr8/c8_pu1gt.json\n",
            "DEBUG:cmdstanpy:input tempfile: /tmp/tmptqo22xr8/dhoe2bcy.json\n",
            "DEBUG:cmdstanpy:idx 0\n",
            "DEBUG:cmdstanpy:running CmdStan, num_threads: None\n",
            "DEBUG:cmdstanpy:CmdStan args: ['/usr/local/lib/python3.9/dist-packages/prophet/stan_model/prophet_model.bin', 'random', 'seed=32107', 'data', 'file=/tmp/tmptqo22xr8/c8_pu1gt.json', 'init=/tmp/tmptqo22xr8/dhoe2bcy.json', 'output', 'file=/tmp/tmptqo22xr8/prophet_modelcml7k8sd/prophet_model-20230323185932.csv', 'method=optimize', 'algorithm=lbfgs', 'iter=10000']\n",
            "18:59:32 - cmdstanpy - INFO - Chain [1] start processing\n",
            "INFO:cmdstanpy:Chain [1] start processing\n",
            "18:59:33 - cmdstanpy - INFO - Chain [1] done processing\n",
            "INFO:cmdstanpy:Chain [1] done processing\n",
            "DEBUG:cmdstanpy:input tempfile: /tmp/tmptqo22xr8/58zapuod.json\n",
            "DEBUG:cmdstanpy:input tempfile: /tmp/tmptqo22xr8/w4ibo36_.json\n",
            "DEBUG:cmdstanpy:idx 0\n",
            "DEBUG:cmdstanpy:running CmdStan, num_threads: None\n",
            "DEBUG:cmdstanpy:CmdStan args: ['/usr/local/lib/python3.9/dist-packages/prophet/stan_model/prophet_model.bin', 'random', 'seed=17791', 'data', 'file=/tmp/tmptqo22xr8/58zapuod.json', 'init=/tmp/tmptqo22xr8/w4ibo36_.json', 'output', 'file=/tmp/tmptqo22xr8/prophet_modelaamb1htw/prophet_model-20230323185933.csv', 'method=optimize', 'algorithm=lbfgs', 'iter=10000']\n",
            "18:59:33 - cmdstanpy - INFO - Chain [1] start processing\n",
            "INFO:cmdstanpy:Chain [1] start processing\n",
            "18:59:34 - cmdstanpy - INFO - Chain [1] done processing\n",
            "INFO:cmdstanpy:Chain [1] done processing\n",
            "DEBUG:cmdstanpy:input tempfile: /tmp/tmptqo22xr8/bvq6gz53.json\n",
            "DEBUG:cmdstanpy:input tempfile: /tmp/tmptqo22xr8/_raeew23.json\n",
            "DEBUG:cmdstanpy:idx 0\n",
            "DEBUG:cmdstanpy:running CmdStan, num_threads: None\n",
            "DEBUG:cmdstanpy:CmdStan args: ['/usr/local/lib/python3.9/dist-packages/prophet/stan_model/prophet_model.bin', 'random', 'seed=66646', 'data', 'file=/tmp/tmptqo22xr8/bvq6gz53.json', 'init=/tmp/tmptqo22xr8/_raeew23.json', 'output', 'file=/tmp/tmptqo22xr8/prophet_modelrt5icnt4/prophet_model-20230323185934.csv', 'method=optimize', 'algorithm=lbfgs', 'iter=10000']\n",
            "18:59:34 - cmdstanpy - INFO - Chain [1] start processing\n",
            "INFO:cmdstanpy:Chain [1] start processing\n",
            "18:59:35 - cmdstanpy - INFO - Chain [1] done processing\n",
            "INFO:cmdstanpy:Chain [1] done processing\n",
            "DEBUG:cmdstanpy:input tempfile: /tmp/tmptqo22xr8/qdxsu42u.json\n",
            "DEBUG:cmdstanpy:input tempfile: /tmp/tmptqo22xr8/m3w1heif.json\n",
            "DEBUG:cmdstanpy:idx 0\n",
            "DEBUG:cmdstanpy:running CmdStan, num_threads: None\n",
            "DEBUG:cmdstanpy:CmdStan args: ['/usr/local/lib/python3.9/dist-packages/prophet/stan_model/prophet_model.bin', 'random', 'seed=2426', 'data', 'file=/tmp/tmptqo22xr8/qdxsu42u.json', 'init=/tmp/tmptqo22xr8/m3w1heif.json', 'output', 'file=/tmp/tmptqo22xr8/prophet_modely88mtajz/prophet_model-20230323185935.csv', 'method=optimize', 'algorithm=lbfgs', 'iter=10000']\n",
            "18:59:35 - cmdstanpy - INFO - Chain [1] start processing\n",
            "INFO:cmdstanpy:Chain [1] start processing\n",
            "18:59:36 - cmdstanpy - INFO - Chain [1] done processing\n",
            "INFO:cmdstanpy:Chain [1] done processing\n",
            "DEBUG:cmdstanpy:input tempfile: /tmp/tmptqo22xr8/idwgg4f5.json\n",
            "DEBUG:cmdstanpy:input tempfile: /tmp/tmptqo22xr8/acv7ve8u.json\n",
            "DEBUG:cmdstanpy:idx 0\n",
            "DEBUG:cmdstanpy:running CmdStan, num_threads: None\n",
            "DEBUG:cmdstanpy:CmdStan args: ['/usr/local/lib/python3.9/dist-packages/prophet/stan_model/prophet_model.bin', 'random', 'seed=27881', 'data', 'file=/tmp/tmptqo22xr8/idwgg4f5.json', 'init=/tmp/tmptqo22xr8/acv7ve8u.json', 'output', 'file=/tmp/tmptqo22xr8/prophet_modelw8fifkgz/prophet_model-20230323185936.csv', 'method=optimize', 'algorithm=lbfgs', 'iter=10000']\n",
            "18:59:36 - cmdstanpy - INFO - Chain [1] start processing\n",
            "INFO:cmdstanpy:Chain [1] start processing\n",
            "18:59:37 - cmdstanpy - INFO - Chain [1] done processing\n",
            "INFO:cmdstanpy:Chain [1] done processing\n",
            "DEBUG:cmdstanpy:input tempfile: /tmp/tmptqo22xr8/8d1tvvsc.json\n",
            "DEBUG:cmdstanpy:input tempfile: /tmp/tmptqo22xr8/hbfzspxz.json\n",
            "DEBUG:cmdstanpy:idx 0\n",
            "DEBUG:cmdstanpy:running CmdStan, num_threads: None\n",
            "DEBUG:cmdstanpy:CmdStan args: ['/usr/local/lib/python3.9/dist-packages/prophet/stan_model/prophet_model.bin', 'random', 'seed=35365', 'data', 'file=/tmp/tmptqo22xr8/8d1tvvsc.json', 'init=/tmp/tmptqo22xr8/hbfzspxz.json', 'output', 'file=/tmp/tmptqo22xr8/prophet_model76rinhgp/prophet_model-20230323185937.csv', 'method=optimize', 'algorithm=lbfgs', 'iter=10000']\n",
            "18:59:37 - cmdstanpy - INFO - Chain [1] start processing\n",
            "INFO:cmdstanpy:Chain [1] start processing\n",
            "18:59:39 - cmdstanpy - INFO - Chain [1] done processing\n",
            "INFO:cmdstanpy:Chain [1] done processing\n",
            "DEBUG:cmdstanpy:input tempfile: /tmp/tmptqo22xr8/c5o8njd8.json\n",
            "DEBUG:cmdstanpy:input tempfile: /tmp/tmptqo22xr8/hewxqxgg.json\n",
            "DEBUG:cmdstanpy:idx 0\n",
            "DEBUG:cmdstanpy:running CmdStan, num_threads: None\n",
            "DEBUG:cmdstanpy:CmdStan args: ['/usr/local/lib/python3.9/dist-packages/prophet/stan_model/prophet_model.bin', 'random', 'seed=58729', 'data', 'file=/tmp/tmptqo22xr8/c5o8njd8.json', 'init=/tmp/tmptqo22xr8/hewxqxgg.json', 'output', 'file=/tmp/tmptqo22xr8/prophet_modelvk_qwu_o/prophet_model-20230323185939.csv', 'method=optimize', 'algorithm=lbfgs', 'iter=10000']\n",
            "18:59:39 - cmdstanpy - INFO - Chain [1] start processing\n",
            "INFO:cmdstanpy:Chain [1] start processing\n",
            "18:59:40 - cmdstanpy - INFO - Chain [1] done processing\n",
            "INFO:cmdstanpy:Chain [1] done processing\n",
            "DEBUG:cmdstanpy:input tempfile: /tmp/tmptqo22xr8/syuzvagg.json\n",
            "DEBUG:cmdstanpy:input tempfile: /tmp/tmptqo22xr8/7eilvmdg.json\n",
            "DEBUG:cmdstanpy:idx 0\n",
            "DEBUG:cmdstanpy:running CmdStan, num_threads: None\n",
            "DEBUG:cmdstanpy:CmdStan args: ['/usr/local/lib/python3.9/dist-packages/prophet/stan_model/prophet_model.bin', 'random', 'seed=94329', 'data', 'file=/tmp/tmptqo22xr8/syuzvagg.json', 'init=/tmp/tmptqo22xr8/7eilvmdg.json', 'output', 'file=/tmp/tmptqo22xr8/prophet_modelb_t8bvve/prophet_model-20230323185941.csv', 'method=optimize', 'algorithm=lbfgs', 'iter=10000']\n",
            "18:59:41 - cmdstanpy - INFO - Chain [1] start processing\n",
            "INFO:cmdstanpy:Chain [1] start processing\n",
            "18:59:42 - cmdstanpy - INFO - Chain [1] done processing\n",
            "INFO:cmdstanpy:Chain [1] done processing\n",
            "DEBUG:cmdstanpy:input tempfile: /tmp/tmptqo22xr8/dpcsaqd_.json\n",
            "DEBUG:cmdstanpy:input tempfile: /tmp/tmptqo22xr8/98efqamj.json\n",
            "DEBUG:cmdstanpy:idx 0\n",
            "DEBUG:cmdstanpy:running CmdStan, num_threads: None\n",
            "DEBUG:cmdstanpy:CmdStan args: ['/usr/local/lib/python3.9/dist-packages/prophet/stan_model/prophet_model.bin', 'random', 'seed=23678', 'data', 'file=/tmp/tmptqo22xr8/dpcsaqd_.json', 'init=/tmp/tmptqo22xr8/98efqamj.json', 'output', 'file=/tmp/tmptqo22xr8/prophet_model8niujrlu/prophet_model-20230323185942.csv', 'method=optimize', 'algorithm=lbfgs', 'iter=10000']\n",
            "18:59:42 - cmdstanpy - INFO - Chain [1] start processing\n",
            "INFO:cmdstanpy:Chain [1] start processing\n",
            "18:59:43 - cmdstanpy - INFO - Chain [1] done processing\n",
            "INFO:cmdstanpy:Chain [1] done processing\n",
            "DEBUG:cmdstanpy:input tempfile: /tmp/tmptqo22xr8/jmcy3thz.json\n",
            "DEBUG:cmdstanpy:input tempfile: /tmp/tmptqo22xr8/hzi8dd34.json\n",
            "DEBUG:cmdstanpy:idx 0\n",
            "DEBUG:cmdstanpy:running CmdStan, num_threads: None\n",
            "DEBUG:cmdstanpy:CmdStan args: ['/usr/local/lib/python3.9/dist-packages/prophet/stan_model/prophet_model.bin', 'random', 'seed=10364', 'data', 'file=/tmp/tmptqo22xr8/jmcy3thz.json', 'init=/tmp/tmptqo22xr8/hzi8dd34.json', 'output', 'file=/tmp/tmptqo22xr8/prophet_modelwxpvwv90/prophet_model-20230323185943.csv', 'method=optimize', 'algorithm=lbfgs', 'iter=10000']\n",
            "18:59:43 - cmdstanpy - INFO - Chain [1] start processing\n",
            "INFO:cmdstanpy:Chain [1] start processing\n",
            "18:59:44 - cmdstanpy - INFO - Chain [1] done processing\n",
            "INFO:cmdstanpy:Chain [1] done processing\n",
            "DEBUG:cmdstanpy:input tempfile: /tmp/tmptqo22xr8/p11cji9f.json\n",
            "DEBUG:cmdstanpy:input tempfile: /tmp/tmptqo22xr8/e6h798hu.json\n",
            "DEBUG:cmdstanpy:idx 0\n",
            "DEBUG:cmdstanpy:running CmdStan, num_threads: None\n",
            "DEBUG:cmdstanpy:CmdStan args: ['/usr/local/lib/python3.9/dist-packages/prophet/stan_model/prophet_model.bin', 'random', 'seed=18186', 'data', 'file=/tmp/tmptqo22xr8/p11cji9f.json', 'init=/tmp/tmptqo22xr8/e6h798hu.json', 'output', 'file=/tmp/tmptqo22xr8/prophet_model2da3gj2o/prophet_model-20230323185944.csv', 'method=optimize', 'algorithm=lbfgs', 'iter=10000']\n",
            "18:59:44 - cmdstanpy - INFO - Chain [1] start processing\n",
            "INFO:cmdstanpy:Chain [1] start processing\n",
            "18:59:45 - cmdstanpy - INFO - Chain [1] done processing\n",
            "INFO:cmdstanpy:Chain [1] done processing\n",
            "DEBUG:cmdstanpy:input tempfile: /tmp/tmptqo22xr8/uxsux9_6.json\n",
            "DEBUG:cmdstanpy:input tempfile: /tmp/tmptqo22xr8/_sy4s9m8.json\n",
            "DEBUG:cmdstanpy:idx 0\n",
            "DEBUG:cmdstanpy:running CmdStan, num_threads: None\n",
            "DEBUG:cmdstanpy:CmdStan args: ['/usr/local/lib/python3.9/dist-packages/prophet/stan_model/prophet_model.bin', 'random', 'seed=41816', 'data', 'file=/tmp/tmptqo22xr8/uxsux9_6.json', 'init=/tmp/tmptqo22xr8/_sy4s9m8.json', 'output', 'file=/tmp/tmptqo22xr8/prophet_model9azhhbqc/prophet_model-20230323185945.csv', 'method=optimize', 'algorithm=lbfgs', 'iter=10000']\n",
            "18:59:46 - cmdstanpy - INFO - Chain [1] start processing\n",
            "INFO:cmdstanpy:Chain [1] start processing\n",
            "18:59:46 - cmdstanpy - INFO - Chain [1] done processing\n",
            "INFO:cmdstanpy:Chain [1] done processing\n",
            "DEBUG:cmdstanpy:input tempfile: /tmp/tmptqo22xr8/xa4w3lc8.json\n",
            "DEBUG:cmdstanpy:input tempfile: /tmp/tmptqo22xr8/yieh1dgv.json\n",
            "DEBUG:cmdstanpy:idx 0\n",
            "DEBUG:cmdstanpy:running CmdStan, num_threads: None\n",
            "DEBUG:cmdstanpy:CmdStan args: ['/usr/local/lib/python3.9/dist-packages/prophet/stan_model/prophet_model.bin', 'random', 'seed=73127', 'data', 'file=/tmp/tmptqo22xr8/xa4w3lc8.json', 'init=/tmp/tmptqo22xr8/yieh1dgv.json', 'output', 'file=/tmp/tmptqo22xr8/prophet_modelefxm6m7c/prophet_model-20230323185947.csv', 'method=optimize', 'algorithm=lbfgs', 'iter=10000']\n",
            "18:59:47 - cmdstanpy - INFO - Chain [1] start processing\n",
            "INFO:cmdstanpy:Chain [1] start processing\n",
            "18:59:48 - cmdstanpy - INFO - Chain [1] done processing\n",
            "INFO:cmdstanpy:Chain [1] done processing\n",
            "DEBUG:cmdstanpy:input tempfile: /tmp/tmptqo22xr8/wbh9sik3.json\n",
            "DEBUG:cmdstanpy:input tempfile: /tmp/tmptqo22xr8/m48zi0ik.json\n",
            "DEBUG:cmdstanpy:idx 0\n",
            "DEBUG:cmdstanpy:running CmdStan, num_threads: None\n",
            "DEBUG:cmdstanpy:CmdStan args: ['/usr/local/lib/python3.9/dist-packages/prophet/stan_model/prophet_model.bin', 'random', 'seed=15319', 'data', 'file=/tmp/tmptqo22xr8/wbh9sik3.json', 'init=/tmp/tmptqo22xr8/m48zi0ik.json', 'output', 'file=/tmp/tmptqo22xr8/prophet_model0n_s38yn/prophet_model-20230323185948.csv', 'method=optimize', 'algorithm=lbfgs', 'iter=10000']\n",
            "18:59:48 - cmdstanpy - INFO - Chain [1] start processing\n",
            "INFO:cmdstanpy:Chain [1] start processing\n",
            "18:59:49 - cmdstanpy - INFO - Chain [1] done processing\n",
            "INFO:cmdstanpy:Chain [1] done processing\n",
            "DEBUG:cmdstanpy:input tempfile: /tmp/tmptqo22xr8/ypcpwkaz.json\n",
            "DEBUG:cmdstanpy:input tempfile: /tmp/tmptqo22xr8/dasusa3r.json\n",
            "DEBUG:cmdstanpy:idx 0\n",
            "DEBUG:cmdstanpy:running CmdStan, num_threads: None\n",
            "DEBUG:cmdstanpy:CmdStan args: ['/usr/local/lib/python3.9/dist-packages/prophet/stan_model/prophet_model.bin', 'random', 'seed=31465', 'data', 'file=/tmp/tmptqo22xr8/ypcpwkaz.json', 'init=/tmp/tmptqo22xr8/dasusa3r.json', 'output', 'file=/tmp/tmptqo22xr8/prophet_model148nckbz/prophet_model-20230323185949.csv', 'method=optimize', 'algorithm=lbfgs', 'iter=10000']\n",
            "18:59:49 - cmdstanpy - INFO - Chain [1] start processing\n",
            "INFO:cmdstanpy:Chain [1] start processing\n",
            "18:59:50 - cmdstanpy - INFO - Chain [1] done processing\n",
            "INFO:cmdstanpy:Chain [1] done processing\n",
            "DEBUG:cmdstanpy:input tempfile: /tmp/tmptqo22xr8/cd3nvsar.json\n",
            "DEBUG:cmdstanpy:input tempfile: /tmp/tmptqo22xr8/efesqx_0.json\n",
            "DEBUG:cmdstanpy:idx 0\n",
            "DEBUG:cmdstanpy:running CmdStan, num_threads: None\n",
            "DEBUG:cmdstanpy:CmdStan args: ['/usr/local/lib/python3.9/dist-packages/prophet/stan_model/prophet_model.bin', 'random', 'seed=23067', 'data', 'file=/tmp/tmptqo22xr8/cd3nvsar.json', 'init=/tmp/tmptqo22xr8/efesqx_0.json', 'output', 'file=/tmp/tmptqo22xr8/prophet_modelsf8o8nv2/prophet_model-20230323185950.csv', 'method=optimize', 'algorithm=lbfgs', 'iter=10000']\n",
            "18:59:50 - cmdstanpy - INFO - Chain [1] start processing\n",
            "INFO:cmdstanpy:Chain [1] start processing\n",
            "18:59:52 - cmdstanpy - INFO - Chain [1] done processing\n",
            "INFO:cmdstanpy:Chain [1] done processing\n",
            "DEBUG:cmdstanpy:input tempfile: /tmp/tmptqo22xr8/zslg94sl.json\n",
            "DEBUG:cmdstanpy:input tempfile: /tmp/tmptqo22xr8/svm_5ak5.json\n",
            "DEBUG:cmdstanpy:idx 0\n",
            "DEBUG:cmdstanpy:running CmdStan, num_threads: None\n",
            "DEBUG:cmdstanpy:CmdStan args: ['/usr/local/lib/python3.9/dist-packages/prophet/stan_model/prophet_model.bin', 'random', 'seed=40120', 'data', 'file=/tmp/tmptqo22xr8/zslg94sl.json', 'init=/tmp/tmptqo22xr8/svm_5ak5.json', 'output', 'file=/tmp/tmptqo22xr8/prophet_modely0gcgmdz/prophet_model-20230323185952.csv', 'method=optimize', 'algorithm=lbfgs', 'iter=10000']\n",
            "18:59:52 - cmdstanpy - INFO - Chain [1] start processing\n",
            "INFO:cmdstanpy:Chain [1] start processing\n",
            "18:59:54 - cmdstanpy - INFO - Chain [1] done processing\n",
            "INFO:cmdstanpy:Chain [1] done processing\n",
            "DEBUG:cmdstanpy:input tempfile: /tmp/tmptqo22xr8/1w7ls1we.json\n",
            "DEBUG:cmdstanpy:input tempfile: /tmp/tmptqo22xr8/nw7qzz1m.json\n",
            "DEBUG:cmdstanpy:idx 0\n",
            "DEBUG:cmdstanpy:running CmdStan, num_threads: None\n",
            "DEBUG:cmdstanpy:CmdStan args: ['/usr/local/lib/python3.9/dist-packages/prophet/stan_model/prophet_model.bin', 'random', 'seed=26561', 'data', 'file=/tmp/tmptqo22xr8/1w7ls1we.json', 'init=/tmp/tmptqo22xr8/nw7qzz1m.json', 'output', 'file=/tmp/tmptqo22xr8/prophet_model2x8cnn0s/prophet_model-20230323185955.csv', 'method=optimize', 'algorithm=lbfgs', 'iter=10000']\n",
            "18:59:55 - cmdstanpy - INFO - Chain [1] start processing\n",
            "INFO:cmdstanpy:Chain [1] start processing\n",
            "18:59:56 - cmdstanpy - INFO - Chain [1] done processing\n",
            "INFO:cmdstanpy:Chain [1] done processing\n",
            "DEBUG:cmdstanpy:input tempfile: /tmp/tmptqo22xr8/jkantdaz.json\n",
            "DEBUG:cmdstanpy:input tempfile: /tmp/tmptqo22xr8/4c2xkq_z.json\n",
            "DEBUG:cmdstanpy:idx 0\n",
            "DEBUG:cmdstanpy:running CmdStan, num_threads: None\n",
            "DEBUG:cmdstanpy:CmdStan args: ['/usr/local/lib/python3.9/dist-packages/prophet/stan_model/prophet_model.bin', 'random', 'seed=74106', 'data', 'file=/tmp/tmptqo22xr8/jkantdaz.json', 'init=/tmp/tmptqo22xr8/4c2xkq_z.json', 'output', 'file=/tmp/tmptqo22xr8/prophet_model5aiiwwyf/prophet_model-20230323185957.csv', 'method=optimize', 'algorithm=lbfgs', 'iter=10000']\n",
            "18:59:57 - cmdstanpy - INFO - Chain [1] start processing\n",
            "INFO:cmdstanpy:Chain [1] start processing\n",
            "18:59:58 - cmdstanpy - INFO - Chain [1] done processing\n",
            "INFO:cmdstanpy:Chain [1] done processing\n",
            "DEBUG:cmdstanpy:input tempfile: /tmp/tmptqo22xr8/10evwwwp.json\n",
            "DEBUG:cmdstanpy:input tempfile: /tmp/tmptqo22xr8/fz1dawdc.json\n",
            "DEBUG:cmdstanpy:idx 0\n",
            "DEBUG:cmdstanpy:running CmdStan, num_threads: None\n",
            "DEBUG:cmdstanpy:CmdStan args: ['/usr/local/lib/python3.9/dist-packages/prophet/stan_model/prophet_model.bin', 'random', 'seed=36066', 'data', 'file=/tmp/tmptqo22xr8/10evwwwp.json', 'init=/tmp/tmptqo22xr8/fz1dawdc.json', 'output', 'file=/tmp/tmptqo22xr8/prophet_modelmlceo0mj/prophet_model-20230323185958.csv', 'method=optimize', 'algorithm=lbfgs', 'iter=10000']\n",
            "18:59:58 - cmdstanpy - INFO - Chain [1] start processing\n",
            "INFO:cmdstanpy:Chain [1] start processing\n",
            "18:59:59 - cmdstanpy - INFO - Chain [1] done processing\n",
            "INFO:cmdstanpy:Chain [1] done processing\n",
            "DEBUG:cmdstanpy:input tempfile: /tmp/tmptqo22xr8/x53e1mmg.json\n",
            "DEBUG:cmdstanpy:input tempfile: /tmp/tmptqo22xr8/si8tujsx.json\n",
            "DEBUG:cmdstanpy:idx 0\n",
            "DEBUG:cmdstanpy:running CmdStan, num_threads: None\n",
            "DEBUG:cmdstanpy:CmdStan args: ['/usr/local/lib/python3.9/dist-packages/prophet/stan_model/prophet_model.bin', 'random', 'seed=13813', 'data', 'file=/tmp/tmptqo22xr8/x53e1mmg.json', 'init=/tmp/tmptqo22xr8/si8tujsx.json', 'output', 'file=/tmp/tmptqo22xr8/prophet_modelx7453w0d/prophet_model-20230323190000.csv', 'method=optimize', 'algorithm=lbfgs', 'iter=10000']\n",
            "19:00:00 - cmdstanpy - INFO - Chain [1] start processing\n",
            "INFO:cmdstanpy:Chain [1] start processing\n",
            "19:00:01 - cmdstanpy - INFO - Chain [1] done processing\n",
            "INFO:cmdstanpy:Chain [1] done processing\n",
            "DEBUG:cmdstanpy:input tempfile: /tmp/tmptqo22xr8/qzdk_nxg.json\n",
            "DEBUG:cmdstanpy:input tempfile: /tmp/tmptqo22xr8/ar4sztcd.json\n",
            "DEBUG:cmdstanpy:idx 0\n",
            "DEBUG:cmdstanpy:running CmdStan, num_threads: None\n",
            "DEBUG:cmdstanpy:CmdStan args: ['/usr/local/lib/python3.9/dist-packages/prophet/stan_model/prophet_model.bin', 'random', 'seed=10667', 'data', 'file=/tmp/tmptqo22xr8/qzdk_nxg.json', 'init=/tmp/tmptqo22xr8/ar4sztcd.json', 'output', 'file=/tmp/tmptqo22xr8/prophet_model8vm6wizq/prophet_model-20230323190001.csv', 'method=optimize', 'algorithm=lbfgs', 'iter=10000']\n",
            "19:00:01 - cmdstanpy - INFO - Chain [1] start processing\n",
            "INFO:cmdstanpy:Chain [1] start processing\n",
            "19:00:02 - cmdstanpy - INFO - Chain [1] done processing\n",
            "INFO:cmdstanpy:Chain [1] done processing\n",
            "DEBUG:cmdstanpy:input tempfile: /tmp/tmptqo22xr8/z37kid00.json\n",
            "DEBUG:cmdstanpy:input tempfile: /tmp/tmptqo22xr8/3kjhhp7s.json\n",
            "DEBUG:cmdstanpy:idx 0\n",
            "DEBUG:cmdstanpy:running CmdStan, num_threads: None\n",
            "DEBUG:cmdstanpy:CmdStan args: ['/usr/local/lib/python3.9/dist-packages/prophet/stan_model/prophet_model.bin', 'random', 'seed=46731', 'data', 'file=/tmp/tmptqo22xr8/z37kid00.json', 'init=/tmp/tmptqo22xr8/3kjhhp7s.json', 'output', 'file=/tmp/tmptqo22xr8/prophet_modelk85uq9cj/prophet_model-20230323190003.csv', 'method=optimize', 'algorithm=lbfgs', 'iter=10000']\n",
            "19:00:03 - cmdstanpy - INFO - Chain [1] start processing\n",
            "INFO:cmdstanpy:Chain [1] start processing\n",
            "19:00:04 - cmdstanpy - INFO - Chain [1] done processing\n",
            "INFO:cmdstanpy:Chain [1] done processing\n",
            "DEBUG:cmdstanpy:input tempfile: /tmp/tmptqo22xr8/m1gnybnd.json\n",
            "DEBUG:cmdstanpy:input tempfile: /tmp/tmptqo22xr8/8z_txmic.json\n",
            "DEBUG:cmdstanpy:idx 0\n",
            "DEBUG:cmdstanpy:running CmdStan, num_threads: None\n",
            "DEBUG:cmdstanpy:CmdStan args: ['/usr/local/lib/python3.9/dist-packages/prophet/stan_model/prophet_model.bin', 'random', 'seed=57521', 'data', 'file=/tmp/tmptqo22xr8/m1gnybnd.json', 'init=/tmp/tmptqo22xr8/8z_txmic.json', 'output', 'file=/tmp/tmptqo22xr8/prophet_model9dfo1spw/prophet_model-20230323190004.csv', 'method=optimize', 'algorithm=lbfgs', 'iter=10000']\n",
            "19:00:04 - cmdstanpy - INFO - Chain [1] start processing\n",
            "INFO:cmdstanpy:Chain [1] start processing\n",
            "19:00:05 - cmdstanpy - INFO - Chain [1] done processing\n",
            "INFO:cmdstanpy:Chain [1] done processing\n",
            "DEBUG:cmdstanpy:input tempfile: /tmp/tmptqo22xr8/51kn2m95.json\n",
            "DEBUG:cmdstanpy:input tempfile: /tmp/tmptqo22xr8/7fs1b94u.json\n",
            "DEBUG:cmdstanpy:idx 0\n",
            "DEBUG:cmdstanpy:running CmdStan, num_threads: None\n",
            "DEBUG:cmdstanpy:CmdStan args: ['/usr/local/lib/python3.9/dist-packages/prophet/stan_model/prophet_model.bin', 'random', 'seed=39092', 'data', 'file=/tmp/tmptqo22xr8/51kn2m95.json', 'init=/tmp/tmptqo22xr8/7fs1b94u.json', 'output', 'file=/tmp/tmptqo22xr8/prophet_modelp7iyhifc/prophet_model-20230323190005.csv', 'method=optimize', 'algorithm=lbfgs', 'iter=10000']\n",
            "19:00:05 - cmdstanpy - INFO - Chain [1] start processing\n",
            "INFO:cmdstanpy:Chain [1] start processing\n",
            "19:00:06 - cmdstanpy - INFO - Chain [1] done processing\n",
            "INFO:cmdstanpy:Chain [1] done processing\n",
            "DEBUG:cmdstanpy:input tempfile: /tmp/tmptqo22xr8/vptm61j9.json\n",
            "DEBUG:cmdstanpy:input tempfile: /tmp/tmptqo22xr8/06t37pb0.json\n",
            "DEBUG:cmdstanpy:idx 0\n",
            "DEBUG:cmdstanpy:running CmdStan, num_threads: None\n",
            "DEBUG:cmdstanpy:CmdStan args: ['/usr/local/lib/python3.9/dist-packages/prophet/stan_model/prophet_model.bin', 'random', 'seed=94635', 'data', 'file=/tmp/tmptqo22xr8/vptm61j9.json', 'init=/tmp/tmptqo22xr8/06t37pb0.json', 'output', 'file=/tmp/tmptqo22xr8/prophet_modelwsg1xkwm/prophet_model-20230323190006.csv', 'method=optimize', 'algorithm=lbfgs', 'iter=10000']\n",
            "19:00:06 - cmdstanpy - INFO - Chain [1] start processing\n",
            "INFO:cmdstanpy:Chain [1] start processing\n",
            "19:00:08 - cmdstanpy - INFO - Chain [1] done processing\n",
            "INFO:cmdstanpy:Chain [1] done processing\n",
            "DEBUG:cmdstanpy:input tempfile: /tmp/tmptqo22xr8/654cbuq2.json\n",
            "DEBUG:cmdstanpy:input tempfile: /tmp/tmptqo22xr8/wp1r_eus.json\n",
            "DEBUG:cmdstanpy:idx 0\n",
            "DEBUG:cmdstanpy:running CmdStan, num_threads: None\n",
            "DEBUG:cmdstanpy:CmdStan args: ['/usr/local/lib/python3.9/dist-packages/prophet/stan_model/prophet_model.bin', 'random', 'seed=6361', 'data', 'file=/tmp/tmptqo22xr8/654cbuq2.json', 'init=/tmp/tmptqo22xr8/wp1r_eus.json', 'output', 'file=/tmp/tmptqo22xr8/prophet_model1apb0yt3/prophet_model-20230323190008.csv', 'method=optimize', 'algorithm=lbfgs', 'iter=10000']\n",
            "19:00:08 - cmdstanpy - INFO - Chain [1] start processing\n",
            "INFO:cmdstanpy:Chain [1] start processing\n",
            "19:00:10 - cmdstanpy - INFO - Chain [1] done processing\n",
            "INFO:cmdstanpy:Chain [1] done processing\n",
            "DEBUG:cmdstanpy:input tempfile: /tmp/tmptqo22xr8/e39ceat6.json\n",
            "DEBUG:cmdstanpy:input tempfile: /tmp/tmptqo22xr8/q81k44u3.json\n",
            "DEBUG:cmdstanpy:idx 0\n",
            "DEBUG:cmdstanpy:running CmdStan, num_threads: None\n",
            "DEBUG:cmdstanpy:CmdStan args: ['/usr/local/lib/python3.9/dist-packages/prophet/stan_model/prophet_model.bin', 'random', 'seed=41866', 'data', 'file=/tmp/tmptqo22xr8/e39ceat6.json', 'init=/tmp/tmptqo22xr8/q81k44u3.json', 'output', 'file=/tmp/tmptqo22xr8/prophet_model36onjqai/prophet_model-20230323190011.csv', 'method=optimize', 'algorithm=lbfgs', 'iter=10000']\n",
            "19:00:11 - cmdstanpy - INFO - Chain [1] start processing\n",
            "INFO:cmdstanpy:Chain [1] start processing\n",
            "19:00:12 - cmdstanpy - INFO - Chain [1] done processing\n",
            "INFO:cmdstanpy:Chain [1] done processing\n",
            "DEBUG:cmdstanpy:input tempfile: /tmp/tmptqo22xr8/2d330ck1.json\n",
            "DEBUG:cmdstanpy:input tempfile: /tmp/tmptqo22xr8/xpetkk3b.json\n",
            "DEBUG:cmdstanpy:idx 0\n",
            "DEBUG:cmdstanpy:running CmdStan, num_threads: None\n",
            "DEBUG:cmdstanpy:CmdStan args: ['/usr/local/lib/python3.9/dist-packages/prophet/stan_model/prophet_model.bin', 'random', 'seed=50675', 'data', 'file=/tmp/tmptqo22xr8/2d330ck1.json', 'init=/tmp/tmptqo22xr8/xpetkk3b.json', 'output', 'file=/tmp/tmptqo22xr8/prophet_model8r9yff9i/prophet_model-20230323190012.csv', 'method=optimize', 'algorithm=lbfgs', 'iter=10000']\n",
            "19:00:12 - cmdstanpy - INFO - Chain [1] start processing\n",
            "INFO:cmdstanpy:Chain [1] start processing\n",
            "19:00:13 - cmdstanpy - INFO - Chain [1] done processing\n",
            "INFO:cmdstanpy:Chain [1] done processing\n",
            "DEBUG:cmdstanpy:input tempfile: /tmp/tmptqo22xr8/h27a9ivs.json\n",
            "DEBUG:cmdstanpy:input tempfile: /tmp/tmptqo22xr8/6q2a8ggs.json\n",
            "DEBUG:cmdstanpy:idx 0\n",
            "DEBUG:cmdstanpy:running CmdStan, num_threads: None\n",
            "DEBUG:cmdstanpy:CmdStan args: ['/usr/local/lib/python3.9/dist-packages/prophet/stan_model/prophet_model.bin', 'random', 'seed=7169', 'data', 'file=/tmp/tmptqo22xr8/h27a9ivs.json', 'init=/tmp/tmptqo22xr8/6q2a8ggs.json', 'output', 'file=/tmp/tmptqo22xr8/prophet_models23d82pk/prophet_model-20230323190014.csv', 'method=optimize', 'algorithm=lbfgs', 'iter=10000']\n",
            "19:00:14 - cmdstanpy - INFO - Chain [1] start processing\n",
            "INFO:cmdstanpy:Chain [1] start processing\n",
            "19:00:15 - cmdstanpy - INFO - Chain [1] done processing\n",
            "INFO:cmdstanpy:Chain [1] done processing\n",
            "DEBUG:cmdstanpy:input tempfile: /tmp/tmptqo22xr8/pngp4iia.json\n",
            "DEBUG:cmdstanpy:input tempfile: /tmp/tmptqo22xr8/5fodeezb.json\n",
            "DEBUG:cmdstanpy:idx 0\n",
            "DEBUG:cmdstanpy:running CmdStan, num_threads: None\n",
            "DEBUG:cmdstanpy:CmdStan args: ['/usr/local/lib/python3.9/dist-packages/prophet/stan_model/prophet_model.bin', 'random', 'seed=30712', 'data', 'file=/tmp/tmptqo22xr8/pngp4iia.json', 'init=/tmp/tmptqo22xr8/5fodeezb.json', 'output', 'file=/tmp/tmptqo22xr8/prophet_model5kyju7bq/prophet_model-20230323190015.csv', 'method=optimize', 'algorithm=lbfgs', 'iter=10000']\n",
            "19:00:15 - cmdstanpy - INFO - Chain [1] start processing\n",
            "INFO:cmdstanpy:Chain [1] start processing\n",
            "19:00:16 - cmdstanpy - INFO - Chain [1] done processing\n",
            "INFO:cmdstanpy:Chain [1] done processing\n",
            "DEBUG:cmdstanpy:input tempfile: /tmp/tmptqo22xr8/fkrzbh80.json\n",
            "DEBUG:cmdstanpy:input tempfile: /tmp/tmptqo22xr8/e4swac5f.json\n",
            "DEBUG:cmdstanpy:idx 0\n",
            "DEBUG:cmdstanpy:running CmdStan, num_threads: None\n",
            "DEBUG:cmdstanpy:CmdStan args: ['/usr/local/lib/python3.9/dist-packages/prophet/stan_model/prophet_model.bin', 'random', 'seed=26121', 'data', 'file=/tmp/tmptqo22xr8/fkrzbh80.json', 'init=/tmp/tmptqo22xr8/e4swac5f.json', 'output', 'file=/tmp/tmptqo22xr8/prophet_modeltdvef5rc/prophet_model-20230323190016.csv', 'method=optimize', 'algorithm=lbfgs', 'iter=10000']\n",
            "19:00:16 - cmdstanpy - INFO - Chain [1] start processing\n",
            "INFO:cmdstanpy:Chain [1] start processing\n",
            "19:00:18 - cmdstanpy - INFO - Chain [1] done processing\n",
            "INFO:cmdstanpy:Chain [1] done processing\n",
            "DEBUG:cmdstanpy:input tempfile: /tmp/tmptqo22xr8/7ypfhprq.json\n",
            "DEBUG:cmdstanpy:input tempfile: /tmp/tmptqo22xr8/9quylmy9.json\n",
            "DEBUG:cmdstanpy:idx 0\n",
            "DEBUG:cmdstanpy:running CmdStan, num_threads: None\n",
            "DEBUG:cmdstanpy:CmdStan args: ['/usr/local/lib/python3.9/dist-packages/prophet/stan_model/prophet_model.bin', 'random', 'seed=68298', 'data', 'file=/tmp/tmptqo22xr8/7ypfhprq.json', 'init=/tmp/tmptqo22xr8/9quylmy9.json', 'output', 'file=/tmp/tmptqo22xr8/prophet_modeldus761vw/prophet_model-20230323190018.csv', 'method=optimize', 'algorithm=lbfgs', 'iter=10000']\n",
            "19:00:18 - cmdstanpy - INFO - Chain [1] start processing\n",
            "INFO:cmdstanpy:Chain [1] start processing\n",
            "19:00:19 - cmdstanpy - INFO - Chain [1] done processing\n",
            "INFO:cmdstanpy:Chain [1] done processing\n",
            "DEBUG:cmdstanpy:input tempfile: /tmp/tmptqo22xr8/tgnzasqu.json\n",
            "DEBUG:cmdstanpy:input tempfile: /tmp/tmptqo22xr8/sra6iffp.json\n",
            "DEBUG:cmdstanpy:idx 0\n",
            "DEBUG:cmdstanpy:running CmdStan, num_threads: None\n",
            "DEBUG:cmdstanpy:CmdStan args: ['/usr/local/lib/python3.9/dist-packages/prophet/stan_model/prophet_model.bin', 'random', 'seed=47160', 'data', 'file=/tmp/tmptqo22xr8/tgnzasqu.json', 'init=/tmp/tmptqo22xr8/sra6iffp.json', 'output', 'file=/tmp/tmptqo22xr8/prophet_model9eev30qk/prophet_model-20230323190019.csv', 'method=optimize', 'algorithm=lbfgs', 'iter=10000']\n",
            "19:00:19 - cmdstanpy - INFO - Chain [1] start processing\n",
            "INFO:cmdstanpy:Chain [1] start processing\n",
            "19:00:20 - cmdstanpy - INFO - Chain [1] done processing\n",
            "INFO:cmdstanpy:Chain [1] done processing\n",
            "DEBUG:cmdstanpy:input tempfile: /tmp/tmptqo22xr8/e9n22v9q.json\n",
            "DEBUG:cmdstanpy:input tempfile: /tmp/tmptqo22xr8/wh7dcr8j.json\n",
            "DEBUG:cmdstanpy:idx 0\n",
            "DEBUG:cmdstanpy:running CmdStan, num_threads: None\n",
            "DEBUG:cmdstanpy:CmdStan args: ['/usr/local/lib/python3.9/dist-packages/prophet/stan_model/prophet_model.bin', 'random', 'seed=97271', 'data', 'file=/tmp/tmptqo22xr8/e9n22v9q.json', 'init=/tmp/tmptqo22xr8/wh7dcr8j.json', 'output', 'file=/tmp/tmptqo22xr8/prophet_modelr6ssjube/prophet_model-20230323190021.csv', 'method=optimize', 'algorithm=lbfgs', 'iter=10000']\n",
            "19:00:21 - cmdstanpy - INFO - Chain [1] start processing\n",
            "INFO:cmdstanpy:Chain [1] start processing\n",
            "19:00:26 - cmdstanpy - INFO - Chain [1] done processing\n",
            "INFO:cmdstanpy:Chain [1] done processing\n",
            "DEBUG:cmdstanpy:input tempfile: /tmp/tmptqo22xr8/6h5_ypjq.json\n",
            "DEBUG:cmdstanpy:input tempfile: /tmp/tmptqo22xr8/40c71hez.json\n",
            "DEBUG:cmdstanpy:idx 0\n",
            "DEBUG:cmdstanpy:running CmdStan, num_threads: None\n",
            "DEBUG:cmdstanpy:CmdStan args: ['/usr/local/lib/python3.9/dist-packages/prophet/stan_model/prophet_model.bin', 'random', 'seed=2374', 'data', 'file=/tmp/tmptqo22xr8/6h5_ypjq.json', 'init=/tmp/tmptqo22xr8/40c71hez.json', 'output', 'file=/tmp/tmptqo22xr8/prophet_modelpvdassox/prophet_model-20230323190027.csv', 'method=optimize', 'algorithm=lbfgs', 'iter=10000']\n",
            "19:00:27 - cmdstanpy - INFO - Chain [1] start processing\n",
            "INFO:cmdstanpy:Chain [1] start processing\n",
            "19:00:28 - cmdstanpy - INFO - Chain [1] done processing\n",
            "INFO:cmdstanpy:Chain [1] done processing\n",
            "DEBUG:cmdstanpy:input tempfile: /tmp/tmptqo22xr8/glubbrv6.json\n",
            "DEBUG:cmdstanpy:input tempfile: /tmp/tmptqo22xr8/h9a5kh__.json\n",
            "DEBUG:cmdstanpy:idx 0\n",
            "DEBUG:cmdstanpy:running CmdStan, num_threads: None\n",
            "DEBUG:cmdstanpy:CmdStan args: ['/usr/local/lib/python3.9/dist-packages/prophet/stan_model/prophet_model.bin', 'random', 'seed=89452', 'data', 'file=/tmp/tmptqo22xr8/glubbrv6.json', 'init=/tmp/tmptqo22xr8/h9a5kh__.json', 'output', 'file=/tmp/tmptqo22xr8/prophet_modelkq3sbxsb/prophet_model-20230323190028.csv', 'method=optimize', 'algorithm=lbfgs', 'iter=10000']\n",
            "19:00:28 - cmdstanpy - INFO - Chain [1] start processing\n",
            "INFO:cmdstanpy:Chain [1] start processing\n",
            "19:00:30 - cmdstanpy - INFO - Chain [1] done processing\n",
            "INFO:cmdstanpy:Chain [1] done processing\n",
            "DEBUG:cmdstanpy:input tempfile: /tmp/tmptqo22xr8/8nr70j7j.json\n",
            "DEBUG:cmdstanpy:input tempfile: /tmp/tmptqo22xr8/k8svn1sa.json\n",
            "DEBUG:cmdstanpy:idx 0\n",
            "DEBUG:cmdstanpy:running CmdStan, num_threads: None\n",
            "DEBUG:cmdstanpy:CmdStan args: ['/usr/local/lib/python3.9/dist-packages/prophet/stan_model/prophet_model.bin', 'random', 'seed=83861', 'data', 'file=/tmp/tmptqo22xr8/8nr70j7j.json', 'init=/tmp/tmptqo22xr8/k8svn1sa.json', 'output', 'file=/tmp/tmptqo22xr8/prophet_modeli5u0m2fj/prophet_model-20230323190030.csv', 'method=optimize', 'algorithm=lbfgs', 'iter=10000']\n",
            "19:00:30 - cmdstanpy - INFO - Chain [1] start processing\n",
            "INFO:cmdstanpy:Chain [1] start processing\n",
            "19:00:31 - cmdstanpy - INFO - Chain [1] done processing\n",
            "INFO:cmdstanpy:Chain [1] done processing\n",
            "DEBUG:cmdstanpy:input tempfile: /tmp/tmptqo22xr8/n1j74ymx.json\n",
            "DEBUG:cmdstanpy:input tempfile: /tmp/tmptqo22xr8/yuy3px7p.json\n",
            "DEBUG:cmdstanpy:idx 0\n",
            "DEBUG:cmdstanpy:running CmdStan, num_threads: None\n",
            "DEBUG:cmdstanpy:CmdStan args: ['/usr/local/lib/python3.9/dist-packages/prophet/stan_model/prophet_model.bin', 'random', 'seed=13704', 'data', 'file=/tmp/tmptqo22xr8/n1j74ymx.json', 'init=/tmp/tmptqo22xr8/yuy3px7p.json', 'output', 'file=/tmp/tmptqo22xr8/prophet_modelmoy81kt9/prophet_model-20230323190031.csv', 'method=optimize', 'algorithm=lbfgs', 'iter=10000']\n",
            "19:00:31 - cmdstanpy - INFO - Chain [1] start processing\n",
            "INFO:cmdstanpy:Chain [1] start processing\n",
            "19:00:33 - cmdstanpy - INFO - Chain [1] done processing\n",
            "INFO:cmdstanpy:Chain [1] done processing\n",
            "DEBUG:cmdstanpy:input tempfile: /tmp/tmptqo22xr8/vxg25g_d.json\n",
            "DEBUG:cmdstanpy:input tempfile: /tmp/tmptqo22xr8/ekcbnb2f.json\n",
            "DEBUG:cmdstanpy:idx 0\n",
            "DEBUG:cmdstanpy:running CmdStan, num_threads: None\n",
            "DEBUG:cmdstanpy:CmdStan args: ['/usr/local/lib/python3.9/dist-packages/prophet/stan_model/prophet_model.bin', 'random', 'seed=57962', 'data', 'file=/tmp/tmptqo22xr8/vxg25g_d.json', 'init=/tmp/tmptqo22xr8/ekcbnb2f.json', 'output', 'file=/tmp/tmptqo22xr8/prophet_modelp7bgoy_5/prophet_model-20230323190034.csv', 'method=optimize', 'algorithm=lbfgs', 'iter=10000']\n",
            "19:00:34 - cmdstanpy - INFO - Chain [1] start processing\n",
            "INFO:cmdstanpy:Chain [1] start processing\n",
            "19:00:35 - cmdstanpy - INFO - Chain [1] done processing\n",
            "INFO:cmdstanpy:Chain [1] done processing\n",
            "DEBUG:cmdstanpy:input tempfile: /tmp/tmptqo22xr8/tpxx0mu5.json\n",
            "DEBUG:cmdstanpy:input tempfile: /tmp/tmptqo22xr8/bmxuur8g.json\n",
            "DEBUG:cmdstanpy:idx 0\n",
            "DEBUG:cmdstanpy:running CmdStan, num_threads: None\n",
            "DEBUG:cmdstanpy:CmdStan args: ['/usr/local/lib/python3.9/dist-packages/prophet/stan_model/prophet_model.bin', 'random', 'seed=16246', 'data', 'file=/tmp/tmptqo22xr8/tpxx0mu5.json', 'init=/tmp/tmptqo22xr8/bmxuur8g.json', 'output', 'file=/tmp/tmptqo22xr8/prophet_modelbzkrrtow/prophet_model-20230323190036.csv', 'method=optimize', 'algorithm=lbfgs', 'iter=10000']\n",
            "19:00:36 - cmdstanpy - INFO - Chain [1] start processing\n",
            "INFO:cmdstanpy:Chain [1] start processing\n",
            "19:00:38 - cmdstanpy - INFO - Chain [1] done processing\n",
            "INFO:cmdstanpy:Chain [1] done processing\n",
            "DEBUG:cmdstanpy:input tempfile: /tmp/tmptqo22xr8/5m39e_f2.json\n",
            "DEBUG:cmdstanpy:input tempfile: /tmp/tmptqo22xr8/lixzfgv4.json\n",
            "DEBUG:cmdstanpy:idx 0\n",
            "DEBUG:cmdstanpy:running CmdStan, num_threads: None\n",
            "DEBUG:cmdstanpy:CmdStan args: ['/usr/local/lib/python3.9/dist-packages/prophet/stan_model/prophet_model.bin', 'random', 'seed=36868', 'data', 'file=/tmp/tmptqo22xr8/5m39e_f2.json', 'init=/tmp/tmptqo22xr8/lixzfgv4.json', 'output', 'file=/tmp/tmptqo22xr8/prophet_modeluz4syo5b/prophet_model-20230323190038.csv', 'method=optimize', 'algorithm=lbfgs', 'iter=10000']\n",
            "19:00:38 - cmdstanpy - INFO - Chain [1] start processing\n",
            "INFO:cmdstanpy:Chain [1] start processing\n",
            "19:00:44 - cmdstanpy - INFO - Chain [1] done processing\n",
            "INFO:cmdstanpy:Chain [1] done processing\n",
            "DEBUG:cmdstanpy:input tempfile: /tmp/tmptqo22xr8/n9lv7oo3.json\n",
            "DEBUG:cmdstanpy:input tempfile: /tmp/tmptqo22xr8/y0oucxg1.json\n",
            "DEBUG:cmdstanpy:idx 0\n",
            "DEBUG:cmdstanpy:running CmdStan, num_threads: None\n",
            "DEBUG:cmdstanpy:CmdStan args: ['/usr/local/lib/python3.9/dist-packages/prophet/stan_model/prophet_model.bin', 'random', 'seed=54438', 'data', 'file=/tmp/tmptqo22xr8/n9lv7oo3.json', 'init=/tmp/tmptqo22xr8/y0oucxg1.json', 'output', 'file=/tmp/tmptqo22xr8/prophet_modelf1a6x7am/prophet_model-20230323190045.csv', 'method=optimize', 'algorithm=lbfgs', 'iter=10000']\n",
            "19:00:45 - cmdstanpy - INFO - Chain [1] start processing\n",
            "INFO:cmdstanpy:Chain [1] start processing\n",
            "19:00:49 - cmdstanpy - INFO - Chain [1] done processing\n",
            "INFO:cmdstanpy:Chain [1] done processing\n",
            "DEBUG:cmdstanpy:input tempfile: /tmp/tmptqo22xr8/i0rjv21h.json\n",
            "DEBUG:cmdstanpy:input tempfile: /tmp/tmptqo22xr8/qznak1be.json\n",
            "DEBUG:cmdstanpy:idx 0\n",
            "DEBUG:cmdstanpy:running CmdStan, num_threads: None\n",
            "DEBUG:cmdstanpy:CmdStan args: ['/usr/local/lib/python3.9/dist-packages/prophet/stan_model/prophet_model.bin', 'random', 'seed=60414', 'data', 'file=/tmp/tmptqo22xr8/i0rjv21h.json', 'init=/tmp/tmptqo22xr8/qznak1be.json', 'output', 'file=/tmp/tmptqo22xr8/prophet_modelapprtutv/prophet_model-20230323190049.csv', 'method=optimize', 'algorithm=lbfgs', 'iter=10000']\n",
            "19:00:49 - cmdstanpy - INFO - Chain [1] start processing\n",
            "INFO:cmdstanpy:Chain [1] start processing\n",
            "19:00:50 - cmdstanpy - INFO - Chain [1] done processing\n",
            "INFO:cmdstanpy:Chain [1] done processing\n",
            "DEBUG:cmdstanpy:input tempfile: /tmp/tmptqo22xr8/_jby0ych.json\n",
            "DEBUG:cmdstanpy:input tempfile: /tmp/tmptqo22xr8/gpco1h21.json\n",
            "DEBUG:cmdstanpy:idx 0\n",
            "DEBUG:cmdstanpy:running CmdStan, num_threads: None\n",
            "DEBUG:cmdstanpy:CmdStan args: ['/usr/local/lib/python3.9/dist-packages/prophet/stan_model/prophet_model.bin', 'random', 'seed=37467', 'data', 'file=/tmp/tmptqo22xr8/_jby0ych.json', 'init=/tmp/tmptqo22xr8/gpco1h21.json', 'output', 'file=/tmp/tmptqo22xr8/prophet_modelc9zj6by8/prophet_model-20230323190051.csv', 'method=optimize', 'algorithm=lbfgs', 'iter=10000']\n",
            "19:00:51 - cmdstanpy - INFO - Chain [1] start processing\n",
            "INFO:cmdstanpy:Chain [1] start processing\n",
            "19:00:51 - cmdstanpy - INFO - Chain [1] done processing\n",
            "INFO:cmdstanpy:Chain [1] done processing\n",
            "DEBUG:cmdstanpy:input tempfile: /tmp/tmptqo22xr8/1g69rs37.json\n",
            "DEBUG:cmdstanpy:input tempfile: /tmp/tmptqo22xr8/s7_yxadq.json\n",
            "DEBUG:cmdstanpy:idx 0\n",
            "DEBUG:cmdstanpy:running CmdStan, num_threads: None\n",
            "DEBUG:cmdstanpy:CmdStan args: ['/usr/local/lib/python3.9/dist-packages/prophet/stan_model/prophet_model.bin', 'random', 'seed=2911', 'data', 'file=/tmp/tmptqo22xr8/1g69rs37.json', 'init=/tmp/tmptqo22xr8/s7_yxadq.json', 'output', 'file=/tmp/tmptqo22xr8/prophet_model8q_phv02/prophet_model-20230323190052.csv', 'method=optimize', 'algorithm=lbfgs', 'iter=10000']\n",
            "19:00:52 - cmdstanpy - INFO - Chain [1] start processing\n",
            "INFO:cmdstanpy:Chain [1] start processing\n",
            "19:00:54 - cmdstanpy - INFO - Chain [1] done processing\n",
            "INFO:cmdstanpy:Chain [1] done processing\n",
            "DEBUG:cmdstanpy:input tempfile: /tmp/tmptqo22xr8/xzthcbu9.json\n",
            "DEBUG:cmdstanpy:input tempfile: /tmp/tmptqo22xr8/43n2fu4s.json\n",
            "DEBUG:cmdstanpy:idx 0\n",
            "DEBUG:cmdstanpy:running CmdStan, num_threads: None\n",
            "DEBUG:cmdstanpy:CmdStan args: ['/usr/local/lib/python3.9/dist-packages/prophet/stan_model/prophet_model.bin', 'random', 'seed=77132', 'data', 'file=/tmp/tmptqo22xr8/xzthcbu9.json', 'init=/tmp/tmptqo22xr8/43n2fu4s.json', 'output', 'file=/tmp/tmptqo22xr8/prophet_modeld0tpy7ys/prophet_model-20230323190054.csv', 'method=optimize', 'algorithm=lbfgs', 'iter=10000']\n",
            "19:00:54 - cmdstanpy - INFO - Chain [1] start processing\n",
            "INFO:cmdstanpy:Chain [1] start processing\n",
            "19:00:57 - cmdstanpy - INFO - Chain [1] done processing\n",
            "INFO:cmdstanpy:Chain [1] done processing\n",
            "DEBUG:cmdstanpy:input tempfile: /tmp/tmptqo22xr8/pee3srkf.json\n",
            "DEBUG:cmdstanpy:input tempfile: /tmp/tmptqo22xr8/9jga0h6p.json\n",
            "DEBUG:cmdstanpy:idx 0\n",
            "DEBUG:cmdstanpy:running CmdStan, num_threads: None\n",
            "DEBUG:cmdstanpy:CmdStan args: ['/usr/local/lib/python3.9/dist-packages/prophet/stan_model/prophet_model.bin', 'random', 'seed=68847', 'data', 'file=/tmp/tmptqo22xr8/pee3srkf.json', 'init=/tmp/tmptqo22xr8/9jga0h6p.json', 'output', 'file=/tmp/tmptqo22xr8/prophet_modelehg_1xz7/prophet_model-20230323190057.csv', 'method=optimize', 'algorithm=lbfgs', 'iter=10000']\n",
            "19:00:57 - cmdstanpy - INFO - Chain [1] start processing\n",
            "INFO:cmdstanpy:Chain [1] start processing\n",
            "19:00:59 - cmdstanpy - INFO - Chain [1] done processing\n",
            "INFO:cmdstanpy:Chain [1] done processing\n",
            "DEBUG:cmdstanpy:input tempfile: /tmp/tmptqo22xr8/9yahtf_p.json\n",
            "DEBUG:cmdstanpy:input tempfile: /tmp/tmptqo22xr8/zlqge19l.json\n",
            "DEBUG:cmdstanpy:idx 0\n",
            "DEBUG:cmdstanpy:running CmdStan, num_threads: None\n",
            "DEBUG:cmdstanpy:CmdStan args: ['/usr/local/lib/python3.9/dist-packages/prophet/stan_model/prophet_model.bin', 'random', 'seed=95762', 'data', 'file=/tmp/tmptqo22xr8/9yahtf_p.json', 'init=/tmp/tmptqo22xr8/zlqge19l.json', 'output', 'file=/tmp/tmptqo22xr8/prophet_model2hk56wjm/prophet_model-20230323190059.csv', 'method=optimize', 'algorithm=lbfgs', 'iter=10000']\n",
            "19:00:59 - cmdstanpy - INFO - Chain [1] start processing\n",
            "INFO:cmdstanpy:Chain [1] start processing\n",
            "19:01:00 - cmdstanpy - INFO - Chain [1] done processing\n",
            "INFO:cmdstanpy:Chain [1] done processing\n",
            "DEBUG:cmdstanpy:input tempfile: /tmp/tmptqo22xr8/81_djx9w.json\n",
            "DEBUG:cmdstanpy:input tempfile: /tmp/tmptqo22xr8/n4yr_f7b.json\n",
            "DEBUG:cmdstanpy:idx 0\n",
            "DEBUG:cmdstanpy:running CmdStan, num_threads: None\n",
            "DEBUG:cmdstanpy:CmdStan args: ['/usr/local/lib/python3.9/dist-packages/prophet/stan_model/prophet_model.bin', 'random', 'seed=28278', 'data', 'file=/tmp/tmptqo22xr8/81_djx9w.json', 'init=/tmp/tmptqo22xr8/n4yr_f7b.json', 'output', 'file=/tmp/tmptqo22xr8/prophet_modelc6egcnmz/prophet_model-20230323190100.csv', 'method=optimize', 'algorithm=lbfgs', 'iter=10000']\n",
            "19:01:00 - cmdstanpy - INFO - Chain [1] start processing\n",
            "INFO:cmdstanpy:Chain [1] start processing\n",
            "19:01:01 - cmdstanpy - INFO - Chain [1] done processing\n",
            "INFO:cmdstanpy:Chain [1] done processing\n",
            "DEBUG:cmdstanpy:input tempfile: /tmp/tmptqo22xr8/isfwwmld.json\n",
            "DEBUG:cmdstanpy:input tempfile: /tmp/tmptqo22xr8/gkj5eowu.json\n",
            "DEBUG:cmdstanpy:idx 0\n",
            "DEBUG:cmdstanpy:running CmdStan, num_threads: None\n",
            "DEBUG:cmdstanpy:CmdStan args: ['/usr/local/lib/python3.9/dist-packages/prophet/stan_model/prophet_model.bin', 'random', 'seed=40683', 'data', 'file=/tmp/tmptqo22xr8/isfwwmld.json', 'init=/tmp/tmptqo22xr8/gkj5eowu.json', 'output', 'file=/tmp/tmptqo22xr8/prophet_model0ex11k68/prophet_model-20230323190101.csv', 'method=optimize', 'algorithm=lbfgs', 'iter=10000']\n",
            "19:01:01 - cmdstanpy - INFO - Chain [1] start processing\n",
            "INFO:cmdstanpy:Chain [1] start processing\n",
            "19:01:03 - cmdstanpy - INFO - Chain [1] done processing\n",
            "INFO:cmdstanpy:Chain [1] done processing\n",
            "DEBUG:cmdstanpy:input tempfile: /tmp/tmptqo22xr8/qgt2txse.json\n",
            "DEBUG:cmdstanpy:input tempfile: /tmp/tmptqo22xr8/xx9tun3o.json\n",
            "DEBUG:cmdstanpy:idx 0\n",
            "DEBUG:cmdstanpy:running CmdStan, num_threads: None\n",
            "DEBUG:cmdstanpy:CmdStan args: ['/usr/local/lib/python3.9/dist-packages/prophet/stan_model/prophet_model.bin', 'random', 'seed=50176', 'data', 'file=/tmp/tmptqo22xr8/qgt2txse.json', 'init=/tmp/tmptqo22xr8/xx9tun3o.json', 'output', 'file=/tmp/tmptqo22xr8/prophet_modelaqa70rge/prophet_model-20230323190103.csv', 'method=optimize', 'algorithm=lbfgs', 'iter=10000']\n",
            "19:01:03 - cmdstanpy - INFO - Chain [1] start processing\n",
            "INFO:cmdstanpy:Chain [1] start processing\n",
            "19:01:04 - cmdstanpy - INFO - Chain [1] done processing\n",
            "INFO:cmdstanpy:Chain [1] done processing\n",
            "DEBUG:cmdstanpy:input tempfile: /tmp/tmptqo22xr8/oemro1a_.json\n",
            "DEBUG:cmdstanpy:input tempfile: /tmp/tmptqo22xr8/fizwprt8.json\n",
            "DEBUG:cmdstanpy:idx 0\n",
            "DEBUG:cmdstanpy:running CmdStan, num_threads: None\n",
            "DEBUG:cmdstanpy:CmdStan args: ['/usr/local/lib/python3.9/dist-packages/prophet/stan_model/prophet_model.bin', 'random', 'seed=17296', 'data', 'file=/tmp/tmptqo22xr8/oemro1a_.json', 'init=/tmp/tmptqo22xr8/fizwprt8.json', 'output', 'file=/tmp/tmptqo22xr8/prophet_model2hwt0e9w/prophet_model-20230323190104.csv', 'method=optimize', 'algorithm=lbfgs', 'iter=10000']\n",
            "19:01:04 - cmdstanpy - INFO - Chain [1] start processing\n",
            "INFO:cmdstanpy:Chain [1] start processing\n",
            "19:01:05 - cmdstanpy - INFO - Chain [1] done processing\n",
            "INFO:cmdstanpy:Chain [1] done processing\n",
            "DEBUG:cmdstanpy:input tempfile: /tmp/tmptqo22xr8/f_47hs8f.json\n",
            "DEBUG:cmdstanpy:input tempfile: /tmp/tmptqo22xr8/d5secmxn.json\n",
            "DEBUG:cmdstanpy:idx 0\n",
            "DEBUG:cmdstanpy:running CmdStan, num_threads: None\n",
            "DEBUG:cmdstanpy:CmdStan args: ['/usr/local/lib/python3.9/dist-packages/prophet/stan_model/prophet_model.bin', 'random', 'seed=89301', 'data', 'file=/tmp/tmptqo22xr8/f_47hs8f.json', 'init=/tmp/tmptqo22xr8/d5secmxn.json', 'output', 'file=/tmp/tmptqo22xr8/prophet_modelcjdyj48_/prophet_model-20230323190106.csv', 'method=optimize', 'algorithm=lbfgs', 'iter=10000']\n",
            "19:01:06 - cmdstanpy - INFO - Chain [1] start processing\n",
            "INFO:cmdstanpy:Chain [1] start processing\n",
            "19:01:07 - cmdstanpy - INFO - Chain [1] done processing\n",
            "INFO:cmdstanpy:Chain [1] done processing\n",
            "DEBUG:cmdstanpy:input tempfile: /tmp/tmptqo22xr8/9jya49li.json\n",
            "DEBUG:cmdstanpy:input tempfile: /tmp/tmptqo22xr8/viaxnkdu.json\n",
            "DEBUG:cmdstanpy:idx 0\n",
            "DEBUG:cmdstanpy:running CmdStan, num_threads: None\n",
            "DEBUG:cmdstanpy:CmdStan args: ['/usr/local/lib/python3.9/dist-packages/prophet/stan_model/prophet_model.bin', 'random', 'seed=79448', 'data', 'file=/tmp/tmptqo22xr8/9jya49li.json', 'init=/tmp/tmptqo22xr8/viaxnkdu.json', 'output', 'file=/tmp/tmptqo22xr8/prophet_modelodva8xh6/prophet_model-20230323190107.csv', 'method=optimize', 'algorithm=lbfgs', 'iter=10000']\n",
            "19:01:07 - cmdstanpy - INFO - Chain [1] start processing\n",
            "INFO:cmdstanpy:Chain [1] start processing\n",
            "19:01:10 - cmdstanpy - INFO - Chain [1] done processing\n",
            "INFO:cmdstanpy:Chain [1] done processing\n",
            "DEBUG:cmdstanpy:input tempfile: /tmp/tmptqo22xr8/savcrwy5.json\n",
            "DEBUG:cmdstanpy:input tempfile: /tmp/tmptqo22xr8/owekpcxu.json\n",
            "DEBUG:cmdstanpy:idx 0\n",
            "DEBUG:cmdstanpy:running CmdStan, num_threads: None\n",
            "DEBUG:cmdstanpy:CmdStan args: ['/usr/local/lib/python3.9/dist-packages/prophet/stan_model/prophet_model.bin', 'random', 'seed=48459', 'data', 'file=/tmp/tmptqo22xr8/savcrwy5.json', 'init=/tmp/tmptqo22xr8/owekpcxu.json', 'output', 'file=/tmp/tmptqo22xr8/prophet_modelzdb_4zbs/prophet_model-20230323190110.csv', 'method=optimize', 'algorithm=lbfgs', 'iter=10000']\n",
            "19:01:10 - cmdstanpy - INFO - Chain [1] start processing\n",
            "INFO:cmdstanpy:Chain [1] start processing\n",
            "19:01:12 - cmdstanpy - INFO - Chain [1] done processing\n",
            "INFO:cmdstanpy:Chain [1] done processing\n",
            "DEBUG:cmdstanpy:input tempfile: /tmp/tmptqo22xr8/_l0ryja4.json\n",
            "DEBUG:cmdstanpy:input tempfile: /tmp/tmptqo22xr8/cilnd6rg.json\n",
            "DEBUG:cmdstanpy:idx 0\n",
            "DEBUG:cmdstanpy:running CmdStan, num_threads: None\n",
            "DEBUG:cmdstanpy:CmdStan args: ['/usr/local/lib/python3.9/dist-packages/prophet/stan_model/prophet_model.bin', 'random', 'seed=66223', 'data', 'file=/tmp/tmptqo22xr8/_l0ryja4.json', 'init=/tmp/tmptqo22xr8/cilnd6rg.json', 'output', 'file=/tmp/tmptqo22xr8/prophet_modelnsy6uco4/prophet_model-20230323190112.csv', 'method=optimize', 'algorithm=lbfgs', 'iter=10000']\n",
            "19:01:12 - cmdstanpy - INFO - Chain [1] start processing\n",
            "INFO:cmdstanpy:Chain [1] start processing\n",
            "19:01:13 - cmdstanpy - INFO - Chain [1] done processing\n",
            "INFO:cmdstanpy:Chain [1] done processing\n",
            "DEBUG:cmdstanpy:input tempfile: /tmp/tmptqo22xr8/cmlt3nwl.json\n",
            "DEBUG:cmdstanpy:input tempfile: /tmp/tmptqo22xr8/4q7irrrb.json\n",
            "DEBUG:cmdstanpy:idx 0\n",
            "DEBUG:cmdstanpy:running CmdStan, num_threads: None\n",
            "DEBUG:cmdstanpy:CmdStan args: ['/usr/local/lib/python3.9/dist-packages/prophet/stan_model/prophet_model.bin', 'random', 'seed=9264', 'data', 'file=/tmp/tmptqo22xr8/cmlt3nwl.json', 'init=/tmp/tmptqo22xr8/4q7irrrb.json', 'output', 'file=/tmp/tmptqo22xr8/prophet_modelf9t1wmje/prophet_model-20230323190113.csv', 'method=optimize', 'algorithm=lbfgs', 'iter=10000']\n",
            "19:01:13 - cmdstanpy - INFO - Chain [1] start processing\n",
            "INFO:cmdstanpy:Chain [1] start processing\n",
            "19:01:15 - cmdstanpy - INFO - Chain [1] done processing\n",
            "INFO:cmdstanpy:Chain [1] done processing\n",
            "DEBUG:cmdstanpy:input tempfile: /tmp/tmptqo22xr8/j2wg7853.json\n",
            "DEBUG:cmdstanpy:input tempfile: /tmp/tmptqo22xr8/mte6kigt.json\n",
            "DEBUG:cmdstanpy:idx 0\n",
            "DEBUG:cmdstanpy:running CmdStan, num_threads: None\n",
            "DEBUG:cmdstanpy:CmdStan args: ['/usr/local/lib/python3.9/dist-packages/prophet/stan_model/prophet_model.bin', 'random', 'seed=16191', 'data', 'file=/tmp/tmptqo22xr8/j2wg7853.json', 'init=/tmp/tmptqo22xr8/mte6kigt.json', 'output', 'file=/tmp/tmptqo22xr8/prophet_model0kl0poor/prophet_model-20230323190115.csv', 'method=optimize', 'algorithm=lbfgs', 'iter=10000']\n",
            "19:01:15 - cmdstanpy - INFO - Chain [1] start processing\n",
            "INFO:cmdstanpy:Chain [1] start processing\n",
            "19:01:17 - cmdstanpy - INFO - Chain [1] done processing\n",
            "INFO:cmdstanpy:Chain [1] done processing\n",
            "DEBUG:cmdstanpy:input tempfile: /tmp/tmptqo22xr8/l620ag_8.json\n",
            "DEBUG:cmdstanpy:input tempfile: /tmp/tmptqo22xr8/bjavur3q.json\n",
            "DEBUG:cmdstanpy:idx 0\n",
            "DEBUG:cmdstanpy:running CmdStan, num_threads: None\n",
            "DEBUG:cmdstanpy:CmdStan args: ['/usr/local/lib/python3.9/dist-packages/prophet/stan_model/prophet_model.bin', 'random', 'seed=84587', 'data', 'file=/tmp/tmptqo22xr8/l620ag_8.json', 'init=/tmp/tmptqo22xr8/bjavur3q.json', 'output', 'file=/tmp/tmptqo22xr8/prophet_modelx_doiw3b/prophet_model-20230323190117.csv', 'method=optimize', 'algorithm=lbfgs', 'iter=10000']\n",
            "19:01:17 - cmdstanpy - INFO - Chain [1] start processing\n",
            "INFO:cmdstanpy:Chain [1] start processing\n",
            "19:01:18 - cmdstanpy - INFO - Chain [1] done processing\n",
            "INFO:cmdstanpy:Chain [1] done processing\n",
            "DEBUG:cmdstanpy:input tempfile: /tmp/tmptqo22xr8/0e7lprbm.json\n",
            "DEBUG:cmdstanpy:input tempfile: /tmp/tmptqo22xr8/dgn9exhs.json\n",
            "DEBUG:cmdstanpy:idx 0\n",
            "DEBUG:cmdstanpy:running CmdStan, num_threads: None\n",
            "DEBUG:cmdstanpy:CmdStan args: ['/usr/local/lib/python3.9/dist-packages/prophet/stan_model/prophet_model.bin', 'random', 'seed=50664', 'data', 'file=/tmp/tmptqo22xr8/0e7lprbm.json', 'init=/tmp/tmptqo22xr8/dgn9exhs.json', 'output', 'file=/tmp/tmptqo22xr8/prophet_modelg6bmsuy0/prophet_model-20230323190118.csv', 'method=optimize', 'algorithm=lbfgs', 'iter=10000']\n",
            "19:01:18 - cmdstanpy - INFO - Chain [1] start processing\n",
            "INFO:cmdstanpy:Chain [1] start processing\n",
            "19:01:20 - cmdstanpy - INFO - Chain [1] done processing\n",
            "INFO:cmdstanpy:Chain [1] done processing\n",
            "DEBUG:cmdstanpy:input tempfile: /tmp/tmptqo22xr8/0razq_rn.json\n",
            "DEBUG:cmdstanpy:input tempfile: /tmp/tmptqo22xr8/lvapeaq8.json\n",
            "DEBUG:cmdstanpy:idx 0\n",
            "DEBUG:cmdstanpy:running CmdStan, num_threads: None\n",
            "DEBUG:cmdstanpy:CmdStan args: ['/usr/local/lib/python3.9/dist-packages/prophet/stan_model/prophet_model.bin', 'random', 'seed=36706', 'data', 'file=/tmp/tmptqo22xr8/0razq_rn.json', 'init=/tmp/tmptqo22xr8/lvapeaq8.json', 'output', 'file=/tmp/tmptqo22xr8/prophet_modelgru8ecwo/prophet_model-20230323190120.csv', 'method=optimize', 'algorithm=lbfgs', 'iter=10000']\n",
            "19:01:20 - cmdstanpy - INFO - Chain [1] start processing\n",
            "INFO:cmdstanpy:Chain [1] start processing\n",
            "19:01:23 - cmdstanpy - INFO - Chain [1] done processing\n",
            "INFO:cmdstanpy:Chain [1] done processing\n",
            "DEBUG:cmdstanpy:input tempfile: /tmp/tmptqo22xr8/2qoud2im.json\n",
            "DEBUG:cmdstanpy:input tempfile: /tmp/tmptqo22xr8/1j2wyv8o.json\n",
            "DEBUG:cmdstanpy:idx 0\n",
            "DEBUG:cmdstanpy:running CmdStan, num_threads: None\n",
            "DEBUG:cmdstanpy:CmdStan args: ['/usr/local/lib/python3.9/dist-packages/prophet/stan_model/prophet_model.bin', 'random', 'seed=96004', 'data', 'file=/tmp/tmptqo22xr8/2qoud2im.json', 'init=/tmp/tmptqo22xr8/1j2wyv8o.json', 'output', 'file=/tmp/tmptqo22xr8/prophet_model4va0mmpu/prophet_model-20230323190124.csv', 'method=optimize', 'algorithm=lbfgs', 'iter=10000']\n",
            "19:01:24 - cmdstanpy - INFO - Chain [1] start processing\n",
            "INFO:cmdstanpy:Chain [1] start processing\n",
            "19:01:26 - cmdstanpy - INFO - Chain [1] done processing\n",
            "INFO:cmdstanpy:Chain [1] done processing\n",
            "DEBUG:cmdstanpy:input tempfile: /tmp/tmptqo22xr8/dn208ev5.json\n",
            "DEBUG:cmdstanpy:input tempfile: /tmp/tmptqo22xr8/4rayliah.json\n",
            "DEBUG:cmdstanpy:idx 0\n",
            "DEBUG:cmdstanpy:running CmdStan, num_threads: None\n",
            "DEBUG:cmdstanpy:CmdStan args: ['/usr/local/lib/python3.9/dist-packages/prophet/stan_model/prophet_model.bin', 'random', 'seed=25735', 'data', 'file=/tmp/tmptqo22xr8/dn208ev5.json', 'init=/tmp/tmptqo22xr8/4rayliah.json', 'output', 'file=/tmp/tmptqo22xr8/prophet_model0zwbugd6/prophet_model-20230323190126.csv', 'method=optimize', 'algorithm=lbfgs', 'iter=10000']\n",
            "19:01:26 - cmdstanpy - INFO - Chain [1] start processing\n",
            "INFO:cmdstanpy:Chain [1] start processing\n",
            "19:01:28 - cmdstanpy - INFO - Chain [1] done processing\n",
            "INFO:cmdstanpy:Chain [1] done processing\n",
            "DEBUG:cmdstanpy:input tempfile: /tmp/tmptqo22xr8/wye7s06t.json\n",
            "DEBUG:cmdstanpy:input tempfile: /tmp/tmptqo22xr8/3tssy5np.json\n",
            "DEBUG:cmdstanpy:idx 0\n",
            "DEBUG:cmdstanpy:running CmdStan, num_threads: None\n",
            "DEBUG:cmdstanpy:CmdStan args: ['/usr/local/lib/python3.9/dist-packages/prophet/stan_model/prophet_model.bin', 'random', 'seed=75152', 'data', 'file=/tmp/tmptqo22xr8/wye7s06t.json', 'init=/tmp/tmptqo22xr8/3tssy5np.json', 'output', 'file=/tmp/tmptqo22xr8/prophet_model06pje929/prophet_model-20230323190128.csv', 'method=optimize', 'algorithm=lbfgs', 'iter=10000']\n",
            "19:01:28 - cmdstanpy - INFO - Chain [1] start processing\n",
            "INFO:cmdstanpy:Chain [1] start processing\n",
            "19:01:30 - cmdstanpy - INFO - Chain [1] done processing\n",
            "INFO:cmdstanpy:Chain [1] done processing\n",
            "DEBUG:cmdstanpy:input tempfile: /tmp/tmptqo22xr8/4mzznmni.json\n",
            "DEBUG:cmdstanpy:input tempfile: /tmp/tmptqo22xr8/8k2am4yo.json\n",
            "DEBUG:cmdstanpy:idx 0\n",
            "DEBUG:cmdstanpy:running CmdStan, num_threads: None\n",
            "DEBUG:cmdstanpy:CmdStan args: ['/usr/local/lib/python3.9/dist-packages/prophet/stan_model/prophet_model.bin', 'random', 'seed=63661', 'data', 'file=/tmp/tmptqo22xr8/4mzznmni.json', 'init=/tmp/tmptqo22xr8/8k2am4yo.json', 'output', 'file=/tmp/tmptqo22xr8/prophet_modelcemt8osr/prophet_model-20230323190130.csv', 'method=optimize', 'algorithm=lbfgs', 'iter=10000']\n",
            "19:01:30 - cmdstanpy - INFO - Chain [1] start processing\n",
            "INFO:cmdstanpy:Chain [1] start processing\n",
            "19:01:32 - cmdstanpy - INFO - Chain [1] done processing\n",
            "INFO:cmdstanpy:Chain [1] done processing\n",
            "DEBUG:cmdstanpy:input tempfile: /tmp/tmptqo22xr8/2e4q23ag.json\n",
            "DEBUG:cmdstanpy:input tempfile: /tmp/tmptqo22xr8/i03ah76h.json\n",
            "DEBUG:cmdstanpy:idx 0\n",
            "DEBUG:cmdstanpy:running CmdStan, num_threads: None\n",
            "DEBUG:cmdstanpy:CmdStan args: ['/usr/local/lib/python3.9/dist-packages/prophet/stan_model/prophet_model.bin', 'random', 'seed=1715', 'data', 'file=/tmp/tmptqo22xr8/2e4q23ag.json', 'init=/tmp/tmptqo22xr8/i03ah76h.json', 'output', 'file=/tmp/tmptqo22xr8/prophet_modelno0f8gv0/prophet_model-20230323190133.csv', 'method=optimize', 'algorithm=lbfgs', 'iter=10000']\n",
            "19:01:33 - cmdstanpy - INFO - Chain [1] start processing\n",
            "INFO:cmdstanpy:Chain [1] start processing\n",
            "19:01:34 - cmdstanpy - INFO - Chain [1] done processing\n",
            "INFO:cmdstanpy:Chain [1] done processing\n",
            "DEBUG:cmdstanpy:input tempfile: /tmp/tmptqo22xr8/l4tws5s9.json\n",
            "DEBUG:cmdstanpy:input tempfile: /tmp/tmptqo22xr8/clpcuk1m.json\n",
            "DEBUG:cmdstanpy:idx 0\n",
            "DEBUG:cmdstanpy:running CmdStan, num_threads: None\n",
            "DEBUG:cmdstanpy:CmdStan args: ['/usr/local/lib/python3.9/dist-packages/prophet/stan_model/prophet_model.bin', 'random', 'seed=44207', 'data', 'file=/tmp/tmptqo22xr8/l4tws5s9.json', 'init=/tmp/tmptqo22xr8/clpcuk1m.json', 'output', 'file=/tmp/tmptqo22xr8/prophet_modelx03m4ntg/prophet_model-20230323190134.csv', 'method=optimize', 'algorithm=lbfgs', 'iter=10000']\n",
            "19:01:35 - cmdstanpy - INFO - Chain [1] start processing\n",
            "INFO:cmdstanpy:Chain [1] start processing\n",
            "19:01:36 - cmdstanpy - INFO - Chain [1] done processing\n",
            "INFO:cmdstanpy:Chain [1] done processing\n",
            "DEBUG:cmdstanpy:input tempfile: /tmp/tmptqo22xr8/9k9cid8v.json\n",
            "DEBUG:cmdstanpy:input tempfile: /tmp/tmptqo22xr8/kt9riztr.json\n",
            "DEBUG:cmdstanpy:idx 0\n",
            "DEBUG:cmdstanpy:running CmdStan, num_threads: None\n",
            "DEBUG:cmdstanpy:CmdStan args: ['/usr/local/lib/python3.9/dist-packages/prophet/stan_model/prophet_model.bin', 'random', 'seed=2278', 'data', 'file=/tmp/tmptqo22xr8/9k9cid8v.json', 'init=/tmp/tmptqo22xr8/kt9riztr.json', 'output', 'file=/tmp/tmptqo22xr8/prophet_modelpg3pb_2r/prophet_model-20230323190136.csv', 'method=optimize', 'algorithm=lbfgs', 'iter=10000']\n",
            "19:01:36 - cmdstanpy - INFO - Chain [1] start processing\n",
            "INFO:cmdstanpy:Chain [1] start processing\n",
            "19:01:39 - cmdstanpy - INFO - Chain [1] done processing\n",
            "INFO:cmdstanpy:Chain [1] done processing\n",
            "DEBUG:cmdstanpy:input tempfile: /tmp/tmptqo22xr8/9oc76ffl.json\n",
            "DEBUG:cmdstanpy:input tempfile: /tmp/tmptqo22xr8/6z9ro9b2.json\n",
            "DEBUG:cmdstanpy:idx 0\n",
            "DEBUG:cmdstanpy:running CmdStan, num_threads: None\n",
            "DEBUG:cmdstanpy:CmdStan args: ['/usr/local/lib/python3.9/dist-packages/prophet/stan_model/prophet_model.bin', 'random', 'seed=21958', 'data', 'file=/tmp/tmptqo22xr8/9oc76ffl.json', 'init=/tmp/tmptqo22xr8/6z9ro9b2.json', 'output', 'file=/tmp/tmptqo22xr8/prophet_modelp_efut5b/prophet_model-20230323190139.csv', 'method=optimize', 'algorithm=lbfgs', 'iter=10000']\n",
            "19:01:39 - cmdstanpy - INFO - Chain [1] start processing\n",
            "INFO:cmdstanpy:Chain [1] start processing\n",
            "19:01:41 - cmdstanpy - INFO - Chain [1] done processing\n",
            "INFO:cmdstanpy:Chain [1] done processing\n",
            "DEBUG:cmdstanpy:input tempfile: /tmp/tmptqo22xr8/vttabf4j.json\n",
            "DEBUG:cmdstanpy:input tempfile: /tmp/tmptqo22xr8/pfdukzuq.json\n",
            "DEBUG:cmdstanpy:idx 0\n",
            "DEBUG:cmdstanpy:running CmdStan, num_threads: None\n",
            "DEBUG:cmdstanpy:CmdStan args: ['/usr/local/lib/python3.9/dist-packages/prophet/stan_model/prophet_model.bin', 'random', 'seed=71523', 'data', 'file=/tmp/tmptqo22xr8/vttabf4j.json', 'init=/tmp/tmptqo22xr8/pfdukzuq.json', 'output', 'file=/tmp/tmptqo22xr8/prophet_modelz1ro7xqm/prophet_model-20230323190141.csv', 'method=optimize', 'algorithm=lbfgs', 'iter=10000']\n",
            "19:01:41 - cmdstanpy - INFO - Chain [1] start processing\n",
            "INFO:cmdstanpy:Chain [1] start processing\n",
            "19:01:43 - cmdstanpy - INFO - Chain [1] done processing\n",
            "INFO:cmdstanpy:Chain [1] done processing\n",
            "DEBUG:cmdstanpy:input tempfile: /tmp/tmptqo22xr8/i2z1utoe.json\n",
            "DEBUG:cmdstanpy:input tempfile: /tmp/tmptqo22xr8/1dsdmr3s.json\n",
            "DEBUG:cmdstanpy:idx 0\n",
            "DEBUG:cmdstanpy:running CmdStan, num_threads: None\n",
            "DEBUG:cmdstanpy:CmdStan args: ['/usr/local/lib/python3.9/dist-packages/prophet/stan_model/prophet_model.bin', 'random', 'seed=1709', 'data', 'file=/tmp/tmptqo22xr8/i2z1utoe.json', 'init=/tmp/tmptqo22xr8/1dsdmr3s.json', 'output', 'file=/tmp/tmptqo22xr8/prophet_modelv2vz6yc7/prophet_model-20230323190143.csv', 'method=optimize', 'algorithm=lbfgs', 'iter=10000']\n",
            "19:01:43 - cmdstanpy - INFO - Chain [1] start processing\n",
            "INFO:cmdstanpy:Chain [1] start processing\n",
            "19:01:45 - cmdstanpy - INFO - Chain [1] done processing\n",
            "INFO:cmdstanpy:Chain [1] done processing\n",
            "DEBUG:cmdstanpy:input tempfile: /tmp/tmptqo22xr8/5nghpbuh.json\n",
            "DEBUG:cmdstanpy:input tempfile: /tmp/tmptqo22xr8/flkr240t.json\n",
            "DEBUG:cmdstanpy:idx 0\n",
            "DEBUG:cmdstanpy:running CmdStan, num_threads: None\n",
            "DEBUG:cmdstanpy:CmdStan args: ['/usr/local/lib/python3.9/dist-packages/prophet/stan_model/prophet_model.bin', 'random', 'seed=42998', 'data', 'file=/tmp/tmptqo22xr8/5nghpbuh.json', 'init=/tmp/tmptqo22xr8/flkr240t.json', 'output', 'file=/tmp/tmptqo22xr8/prophet_modela1tji_j7/prophet_model-20230323190145.csv', 'method=optimize', 'algorithm=lbfgs', 'iter=10000']\n",
            "19:01:45 - cmdstanpy - INFO - Chain [1] start processing\n",
            "INFO:cmdstanpy:Chain [1] start processing\n",
            "19:01:47 - cmdstanpy - INFO - Chain [1] done processing\n",
            "INFO:cmdstanpy:Chain [1] done processing\n",
            "DEBUG:cmdstanpy:input tempfile: /tmp/tmptqo22xr8/i2q4gdv8.json\n",
            "DEBUG:cmdstanpy:input tempfile: /tmp/tmptqo22xr8/y56l2tlh.json\n",
            "DEBUG:cmdstanpy:idx 0\n",
            "DEBUG:cmdstanpy:running CmdStan, num_threads: None\n",
            "DEBUG:cmdstanpy:CmdStan args: ['/usr/local/lib/python3.9/dist-packages/prophet/stan_model/prophet_model.bin', 'random', 'seed=60491', 'data', 'file=/tmp/tmptqo22xr8/i2q4gdv8.json', 'init=/tmp/tmptqo22xr8/y56l2tlh.json', 'output', 'file=/tmp/tmptqo22xr8/prophet_model9kqn2zkr/prophet_model-20230323190147.csv', 'method=optimize', 'algorithm=lbfgs', 'iter=10000']\n",
            "19:01:47 - cmdstanpy - INFO - Chain [1] start processing\n",
            "INFO:cmdstanpy:Chain [1] start processing\n",
            "19:01:50 - cmdstanpy - INFO - Chain [1] done processing\n",
            "INFO:cmdstanpy:Chain [1] done processing\n",
            "DEBUG:cmdstanpy:input tempfile: /tmp/tmptqo22xr8/vakqhnhk.json\n",
            "DEBUG:cmdstanpy:input tempfile: /tmp/tmptqo22xr8/hyr0bfzd.json\n",
            "DEBUG:cmdstanpy:idx 0\n",
            "DEBUG:cmdstanpy:running CmdStan, num_threads: None\n",
            "DEBUG:cmdstanpy:CmdStan args: ['/usr/local/lib/python3.9/dist-packages/prophet/stan_model/prophet_model.bin', 'random', 'seed=88980', 'data', 'file=/tmp/tmptqo22xr8/vakqhnhk.json', 'init=/tmp/tmptqo22xr8/hyr0bfzd.json', 'output', 'file=/tmp/tmptqo22xr8/prophet_model0mmt2drk/prophet_model-20230323190150.csv', 'method=optimize', 'algorithm=lbfgs', 'iter=10000']\n",
            "19:01:50 - cmdstanpy - INFO - Chain [1] start processing\n",
            "INFO:cmdstanpy:Chain [1] start processing\n",
            "19:01:52 - cmdstanpy - INFO - Chain [1] done processing\n",
            "INFO:cmdstanpy:Chain [1] done processing\n",
            "DEBUG:cmdstanpy:input tempfile: /tmp/tmptqo22xr8/aqno0721.json\n",
            "DEBUG:cmdstanpy:input tempfile: /tmp/tmptqo22xr8/1fv56_7k.json\n",
            "DEBUG:cmdstanpy:idx 0\n",
            "DEBUG:cmdstanpy:running CmdStan, num_threads: None\n",
            "DEBUG:cmdstanpy:CmdStan args: ['/usr/local/lib/python3.9/dist-packages/prophet/stan_model/prophet_model.bin', 'random', 'seed=39949', 'data', 'file=/tmp/tmptqo22xr8/aqno0721.json', 'init=/tmp/tmptqo22xr8/1fv56_7k.json', 'output', 'file=/tmp/tmptqo22xr8/prophet_modeltcx7bsm7/prophet_model-20230323190152.csv', 'method=optimize', 'algorithm=lbfgs', 'iter=10000']\n",
            "19:01:52 - cmdstanpy - INFO - Chain [1] start processing\n",
            "INFO:cmdstanpy:Chain [1] start processing\n",
            "19:01:55 - cmdstanpy - INFO - Chain [1] done processing\n",
            "INFO:cmdstanpy:Chain [1] done processing\n",
            "DEBUG:cmdstanpy:input tempfile: /tmp/tmptqo22xr8/1gfps9qj.json\n",
            "DEBUG:cmdstanpy:input tempfile: /tmp/tmptqo22xr8/qltkpaib.json\n",
            "DEBUG:cmdstanpy:idx 0\n",
            "DEBUG:cmdstanpy:running CmdStan, num_threads: None\n",
            "DEBUG:cmdstanpy:CmdStan args: ['/usr/local/lib/python3.9/dist-packages/prophet/stan_model/prophet_model.bin', 'random', 'seed=42393', 'data', 'file=/tmp/tmptqo22xr8/1gfps9qj.json', 'init=/tmp/tmptqo22xr8/qltkpaib.json', 'output', 'file=/tmp/tmptqo22xr8/prophet_modeloo1k6uq1/prophet_model-20230323190155.csv', 'method=optimize', 'algorithm=lbfgs', 'iter=10000']\n",
            "19:01:55 - cmdstanpy - INFO - Chain [1] start processing\n",
            "INFO:cmdstanpy:Chain [1] start processing\n",
            "19:01:56 - cmdstanpy - INFO - Chain [1] done processing\n",
            "INFO:cmdstanpy:Chain [1] done processing\n",
            "DEBUG:cmdstanpy:input tempfile: /tmp/tmptqo22xr8/xzec_inu.json\n",
            "DEBUG:cmdstanpy:input tempfile: /tmp/tmptqo22xr8/rgccpj4e.json\n",
            "DEBUG:cmdstanpy:idx 0\n",
            "DEBUG:cmdstanpy:running CmdStan, num_threads: None\n",
            "DEBUG:cmdstanpy:CmdStan args: ['/usr/local/lib/python3.9/dist-packages/prophet/stan_model/prophet_model.bin', 'random', 'seed=39757', 'data', 'file=/tmp/tmptqo22xr8/xzec_inu.json', 'init=/tmp/tmptqo22xr8/rgccpj4e.json', 'output', 'file=/tmp/tmptqo22xr8/prophet_modelc8g0oyxn/prophet_model-20230323190157.csv', 'method=optimize', 'algorithm=lbfgs', 'iter=10000']\n",
            "19:01:57 - cmdstanpy - INFO - Chain [1] start processing\n",
            "INFO:cmdstanpy:Chain [1] start processing\n",
            "19:01:58 - cmdstanpy - INFO - Chain [1] done processing\n",
            "INFO:cmdstanpy:Chain [1] done processing\n",
            "DEBUG:cmdstanpy:input tempfile: /tmp/tmptqo22xr8/7jfzuf59.json\n",
            "DEBUG:cmdstanpy:input tempfile: /tmp/tmptqo22xr8/35czh15c.json\n",
            "DEBUG:cmdstanpy:idx 0\n",
            "DEBUG:cmdstanpy:running CmdStan, num_threads: None\n",
            "DEBUG:cmdstanpy:CmdStan args: ['/usr/local/lib/python3.9/dist-packages/prophet/stan_model/prophet_model.bin', 'random', 'seed=26727', 'data', 'file=/tmp/tmptqo22xr8/7jfzuf59.json', 'init=/tmp/tmptqo22xr8/35czh15c.json', 'output', 'file=/tmp/tmptqo22xr8/prophet_modeljv9cs15g/prophet_model-20230323190158.csv', 'method=optimize', 'algorithm=lbfgs', 'iter=10000']\n",
            "19:01:58 - cmdstanpy - INFO - Chain [1] start processing\n",
            "INFO:cmdstanpy:Chain [1] start processing\n",
            "19:02:00 - cmdstanpy - INFO - Chain [1] done processing\n",
            "INFO:cmdstanpy:Chain [1] done processing\n",
            "DEBUG:cmdstanpy:input tempfile: /tmp/tmptqo22xr8/ag8mjicy.json\n",
            "DEBUG:cmdstanpy:input tempfile: /tmp/tmptqo22xr8/seczjevp.json\n",
            "DEBUG:cmdstanpy:idx 0\n",
            "DEBUG:cmdstanpy:running CmdStan, num_threads: None\n",
            "DEBUG:cmdstanpy:CmdStan args: ['/usr/local/lib/python3.9/dist-packages/prophet/stan_model/prophet_model.bin', 'random', 'seed=49510', 'data', 'file=/tmp/tmptqo22xr8/ag8mjicy.json', 'init=/tmp/tmptqo22xr8/seczjevp.json', 'output', 'file=/tmp/tmptqo22xr8/prophet_modelpk4297jo/prophet_model-20230323190200.csv', 'method=optimize', 'algorithm=lbfgs', 'iter=10000']\n",
            "19:02:00 - cmdstanpy - INFO - Chain [1] start processing\n",
            "INFO:cmdstanpy:Chain [1] start processing\n",
            "19:02:02 - cmdstanpy - INFO - Chain [1] done processing\n",
            "INFO:cmdstanpy:Chain [1] done processing\n",
            "DEBUG:cmdstanpy:input tempfile: /tmp/tmptqo22xr8/1ema8zcv.json\n",
            "DEBUG:cmdstanpy:input tempfile: /tmp/tmptqo22xr8/3nz0htu_.json\n",
            "DEBUG:cmdstanpy:idx 0\n",
            "DEBUG:cmdstanpy:running CmdStan, num_threads: None\n",
            "DEBUG:cmdstanpy:CmdStan args: ['/usr/local/lib/python3.9/dist-packages/prophet/stan_model/prophet_model.bin', 'random', 'seed=48728', 'data', 'file=/tmp/tmptqo22xr8/1ema8zcv.json', 'init=/tmp/tmptqo22xr8/3nz0htu_.json', 'output', 'file=/tmp/tmptqo22xr8/prophet_modelfr00vsys/prophet_model-20230323190202.csv', 'method=optimize', 'algorithm=lbfgs', 'iter=10000']\n",
            "19:02:02 - cmdstanpy - INFO - Chain [1] start processing\n",
            "INFO:cmdstanpy:Chain [1] start processing\n",
            "19:02:03 - cmdstanpy - INFO - Chain [1] done processing\n",
            "INFO:cmdstanpy:Chain [1] done processing\n",
            "DEBUG:cmdstanpy:input tempfile: /tmp/tmptqo22xr8/9hoy472t.json\n",
            "DEBUG:cmdstanpy:input tempfile: /tmp/tmptqo22xr8/ub0dj7du.json\n",
            "DEBUG:cmdstanpy:idx 0\n",
            "DEBUG:cmdstanpy:running CmdStan, num_threads: None\n",
            "DEBUG:cmdstanpy:CmdStan args: ['/usr/local/lib/python3.9/dist-packages/prophet/stan_model/prophet_model.bin', 'random', 'seed=71801', 'data', 'file=/tmp/tmptqo22xr8/9hoy472t.json', 'init=/tmp/tmptqo22xr8/ub0dj7du.json', 'output', 'file=/tmp/tmptqo22xr8/prophet_modeluc6rhn_x/prophet_model-20230323190203.csv', 'method=optimize', 'algorithm=lbfgs', 'iter=10000']\n",
            "19:02:03 - cmdstanpy - INFO - Chain [1] start processing\n",
            "INFO:cmdstanpy:Chain [1] start processing\n",
            "19:02:06 - cmdstanpy - INFO - Chain [1] done processing\n",
            "INFO:cmdstanpy:Chain [1] done processing\n",
            "DEBUG:cmdstanpy:input tempfile: /tmp/tmptqo22xr8/sr64ihf5.json\n",
            "DEBUG:cmdstanpy:input tempfile: /tmp/tmptqo22xr8/tbhqthqt.json\n",
            "DEBUG:cmdstanpy:idx 0\n",
            "DEBUG:cmdstanpy:running CmdStan, num_threads: None\n",
            "DEBUG:cmdstanpy:CmdStan args: ['/usr/local/lib/python3.9/dist-packages/prophet/stan_model/prophet_model.bin', 'random', 'seed=43764', 'data', 'file=/tmp/tmptqo22xr8/sr64ihf5.json', 'init=/tmp/tmptqo22xr8/tbhqthqt.json', 'output', 'file=/tmp/tmptqo22xr8/prophet_modeljgh_ds57/prophet_model-20230323190207.csv', 'method=optimize', 'algorithm=lbfgs', 'iter=10000']\n",
            "19:02:07 - cmdstanpy - INFO - Chain [1] start processing\n",
            "INFO:cmdstanpy:Chain [1] start processing\n",
            "19:02:10 - cmdstanpy - INFO - Chain [1] done processing\n",
            "INFO:cmdstanpy:Chain [1] done processing\n",
            "DEBUG:cmdstanpy:input tempfile: /tmp/tmptqo22xr8/9w_swbek.json\n",
            "DEBUG:cmdstanpy:input tempfile: /tmp/tmptqo22xr8/fjpohk9m.json\n",
            "DEBUG:cmdstanpy:idx 0\n",
            "DEBUG:cmdstanpy:running CmdStan, num_threads: None\n",
            "DEBUG:cmdstanpy:CmdStan args: ['/usr/local/lib/python3.9/dist-packages/prophet/stan_model/prophet_model.bin', 'random', 'seed=60537', 'data', 'file=/tmp/tmptqo22xr8/9w_swbek.json', 'init=/tmp/tmptqo22xr8/fjpohk9m.json', 'output', 'file=/tmp/tmptqo22xr8/prophet_modelxv638ig_/prophet_model-20230323190210.csv', 'method=optimize', 'algorithm=lbfgs', 'iter=10000']\n",
            "19:02:10 - cmdstanpy - INFO - Chain [1] start processing\n",
            "INFO:cmdstanpy:Chain [1] start processing\n",
            "19:02:13 - cmdstanpy - INFO - Chain [1] done processing\n",
            "INFO:cmdstanpy:Chain [1] done processing\n",
            "DEBUG:cmdstanpy:input tempfile: /tmp/tmptqo22xr8/3h31e9r6.json\n",
            "DEBUG:cmdstanpy:input tempfile: /tmp/tmptqo22xr8/zvyn1mms.json\n",
            "DEBUG:cmdstanpy:idx 0\n",
            "DEBUG:cmdstanpy:running CmdStan, num_threads: None\n",
            "DEBUG:cmdstanpy:CmdStan args: ['/usr/local/lib/python3.9/dist-packages/prophet/stan_model/prophet_model.bin', 'random', 'seed=79270', 'data', 'file=/tmp/tmptqo22xr8/3h31e9r6.json', 'init=/tmp/tmptqo22xr8/zvyn1mms.json', 'output', 'file=/tmp/tmptqo22xr8/prophet_modeltxs9z3sk/prophet_model-20230323190213.csv', 'method=optimize', 'algorithm=lbfgs', 'iter=10000']\n",
            "19:02:13 - cmdstanpy - INFO - Chain [1] start processing\n",
            "INFO:cmdstanpy:Chain [1] start processing\n",
            "19:02:15 - cmdstanpy - INFO - Chain [1] done processing\n",
            "INFO:cmdstanpy:Chain [1] done processing\n",
            "DEBUG:cmdstanpy:input tempfile: /tmp/tmptqo22xr8/lga3jyc_.json\n",
            "DEBUG:cmdstanpy:input tempfile: /tmp/tmptqo22xr8/kdm6u6q6.json\n",
            "DEBUG:cmdstanpy:idx 0\n",
            "DEBUG:cmdstanpy:running CmdStan, num_threads: None\n",
            "DEBUG:cmdstanpy:CmdStan args: ['/usr/local/lib/python3.9/dist-packages/prophet/stan_model/prophet_model.bin', 'random', 'seed=34959', 'data', 'file=/tmp/tmptqo22xr8/lga3jyc_.json', 'init=/tmp/tmptqo22xr8/kdm6u6q6.json', 'output', 'file=/tmp/tmptqo22xr8/prophet_modelggwfag3v/prophet_model-20230323190215.csv', 'method=optimize', 'algorithm=lbfgs', 'iter=10000']\n",
            "19:02:15 - cmdstanpy - INFO - Chain [1] start processing\n",
            "INFO:cmdstanpy:Chain [1] start processing\n",
            "19:02:17 - cmdstanpy - INFO - Chain [1] done processing\n",
            "INFO:cmdstanpy:Chain [1] done processing\n",
            "DEBUG:cmdstanpy:input tempfile: /tmp/tmptqo22xr8/gmb7x75i.json\n",
            "DEBUG:cmdstanpy:input tempfile: /tmp/tmptqo22xr8/hylix23h.json\n",
            "DEBUG:cmdstanpy:idx 0\n",
            "DEBUG:cmdstanpy:running CmdStan, num_threads: None\n",
            "DEBUG:cmdstanpy:CmdStan args: ['/usr/local/lib/python3.9/dist-packages/prophet/stan_model/prophet_model.bin', 'random', 'seed=17162', 'data', 'file=/tmp/tmptqo22xr8/gmb7x75i.json', 'init=/tmp/tmptqo22xr8/hylix23h.json', 'output', 'file=/tmp/tmptqo22xr8/prophet_modeltad32ea1/prophet_model-20230323190217.csv', 'method=optimize', 'algorithm=lbfgs', 'iter=10000']\n",
            "19:02:17 - cmdstanpy - INFO - Chain [1] start processing\n",
            "INFO:cmdstanpy:Chain [1] start processing\n",
            "19:02:18 - cmdstanpy - INFO - Chain [1] done processing\n",
            "INFO:cmdstanpy:Chain [1] done processing\n",
            "DEBUG:cmdstanpy:input tempfile: /tmp/tmptqo22xr8/z2xz2y_5.json\n",
            "DEBUG:cmdstanpy:input tempfile: /tmp/tmptqo22xr8/8vu5m2fx.json\n",
            "DEBUG:cmdstanpy:idx 0\n",
            "DEBUG:cmdstanpy:running CmdStan, num_threads: None\n",
            "DEBUG:cmdstanpy:CmdStan args: ['/usr/local/lib/python3.9/dist-packages/prophet/stan_model/prophet_model.bin', 'random', 'seed=35612', 'data', 'file=/tmp/tmptqo22xr8/z2xz2y_5.json', 'init=/tmp/tmptqo22xr8/8vu5m2fx.json', 'output', 'file=/tmp/tmptqo22xr8/prophet_model9e_xdg49/prophet_model-20230323190219.csv', 'method=optimize', 'algorithm=lbfgs', 'iter=10000']\n",
            "19:02:19 - cmdstanpy - INFO - Chain [1] start processing\n",
            "INFO:cmdstanpy:Chain [1] start processing\n",
            "19:02:21 - cmdstanpy - INFO - Chain [1] done processing\n",
            "INFO:cmdstanpy:Chain [1] done processing\n",
            "DEBUG:cmdstanpy:input tempfile: /tmp/tmptqo22xr8/6d9q2v9h.json\n",
            "DEBUG:cmdstanpy:input tempfile: /tmp/tmptqo22xr8/5rjg4wwt.json\n",
            "DEBUG:cmdstanpy:idx 0\n",
            "DEBUG:cmdstanpy:running CmdStan, num_threads: None\n",
            "DEBUG:cmdstanpy:CmdStan args: ['/usr/local/lib/python3.9/dist-packages/prophet/stan_model/prophet_model.bin', 'random', 'seed=4601', 'data', 'file=/tmp/tmptqo22xr8/6d9q2v9h.json', 'init=/tmp/tmptqo22xr8/5rjg4wwt.json', 'output', 'file=/tmp/tmptqo22xr8/prophet_modelupcqqp71/prophet_model-20230323190221.csv', 'method=optimize', 'algorithm=lbfgs', 'iter=10000']\n",
            "19:02:21 - cmdstanpy - INFO - Chain [1] start processing\n",
            "INFO:cmdstanpy:Chain [1] start processing\n",
            "19:02:24 - cmdstanpy - INFO - Chain [1] done processing\n",
            "INFO:cmdstanpy:Chain [1] done processing\n",
            "DEBUG:cmdstanpy:input tempfile: /tmp/tmptqo22xr8/4pfz1dcw.json\n",
            "DEBUG:cmdstanpy:input tempfile: /tmp/tmptqo22xr8/e6szjo_a.json\n",
            "DEBUG:cmdstanpy:idx 0\n",
            "DEBUG:cmdstanpy:running CmdStan, num_threads: None\n",
            "DEBUG:cmdstanpy:CmdStan args: ['/usr/local/lib/python3.9/dist-packages/prophet/stan_model/prophet_model.bin', 'random', 'seed=19316', 'data', 'file=/tmp/tmptqo22xr8/4pfz1dcw.json', 'init=/tmp/tmptqo22xr8/e6szjo_a.json', 'output', 'file=/tmp/tmptqo22xr8/prophet_modelzvlv43_i/prophet_model-20230323190224.csv', 'method=optimize', 'algorithm=lbfgs', 'iter=10000']\n",
            "19:02:24 - cmdstanpy - INFO - Chain [1] start processing\n",
            "INFO:cmdstanpy:Chain [1] start processing\n",
            "19:02:26 - cmdstanpy - INFO - Chain [1] done processing\n",
            "INFO:cmdstanpy:Chain [1] done processing\n",
            "DEBUG:cmdstanpy:input tempfile: /tmp/tmptqo22xr8/wc9e1d8d.json\n",
            "DEBUG:cmdstanpy:input tempfile: /tmp/tmptqo22xr8/f5199twx.json\n",
            "DEBUG:cmdstanpy:idx 0\n",
            "DEBUG:cmdstanpy:running CmdStan, num_threads: None\n",
            "DEBUG:cmdstanpy:CmdStan args: ['/usr/local/lib/python3.9/dist-packages/prophet/stan_model/prophet_model.bin', 'random', 'seed=2359', 'data', 'file=/tmp/tmptqo22xr8/wc9e1d8d.json', 'init=/tmp/tmptqo22xr8/f5199twx.json', 'output', 'file=/tmp/tmptqo22xr8/prophet_modelt070ttti/prophet_model-20230323190226.csv', 'method=optimize', 'algorithm=lbfgs', 'iter=10000']\n",
            "19:02:26 - cmdstanpy - INFO - Chain [1] start processing\n",
            "INFO:cmdstanpy:Chain [1] start processing\n",
            "19:02:30 - cmdstanpy - INFO - Chain [1] done processing\n",
            "INFO:cmdstanpy:Chain [1] done processing\n",
            "DEBUG:cmdstanpy:input tempfile: /tmp/tmptqo22xr8/edjco8lj.json\n",
            "DEBUG:cmdstanpy:input tempfile: /tmp/tmptqo22xr8/j6edvici.json\n",
            "DEBUG:cmdstanpy:idx 0\n",
            "DEBUG:cmdstanpy:running CmdStan, num_threads: None\n",
            "DEBUG:cmdstanpy:CmdStan args: ['/usr/local/lib/python3.9/dist-packages/prophet/stan_model/prophet_model.bin', 'random', 'seed=64185', 'data', 'file=/tmp/tmptqo22xr8/edjco8lj.json', 'init=/tmp/tmptqo22xr8/j6edvici.json', 'output', 'file=/tmp/tmptqo22xr8/prophet_modeleqgoffn2/prophet_model-20230323190230.csv', 'method=optimize', 'algorithm=lbfgs', 'iter=10000']\n",
            "19:02:30 - cmdstanpy - INFO - Chain [1] start processing\n",
            "INFO:cmdstanpy:Chain [1] start processing\n",
            "19:02:32 - cmdstanpy - INFO - Chain [1] done processing\n",
            "INFO:cmdstanpy:Chain [1] done processing\n",
            "DEBUG:cmdstanpy:input tempfile: /tmp/tmptqo22xr8/cjpl0cmr.json\n",
            "DEBUG:cmdstanpy:input tempfile: /tmp/tmptqo22xr8/u3wglrpy.json\n",
            "DEBUG:cmdstanpy:idx 0\n",
            "DEBUG:cmdstanpy:running CmdStan, num_threads: None\n",
            "DEBUG:cmdstanpy:CmdStan args: ['/usr/local/lib/python3.9/dist-packages/prophet/stan_model/prophet_model.bin', 'random', 'seed=37043', 'data', 'file=/tmp/tmptqo22xr8/cjpl0cmr.json', 'init=/tmp/tmptqo22xr8/u3wglrpy.json', 'output', 'file=/tmp/tmptqo22xr8/prophet_model44zkep6b/prophet_model-20230323190233.csv', 'method=optimize', 'algorithm=lbfgs', 'iter=10000']\n",
            "19:02:33 - cmdstanpy - INFO - Chain [1] start processing\n",
            "INFO:cmdstanpy:Chain [1] start processing\n",
            "19:02:36 - cmdstanpy - INFO - Chain [1] done processing\n",
            "INFO:cmdstanpy:Chain [1] done processing\n",
            "DEBUG:cmdstanpy:input tempfile: /tmp/tmptqo22xr8/kbxgervc.json\n",
            "DEBUG:cmdstanpy:input tempfile: /tmp/tmptqo22xr8/_pk1ecrm.json\n",
            "DEBUG:cmdstanpy:idx 0\n",
            "DEBUG:cmdstanpy:running CmdStan, num_threads: None\n",
            "DEBUG:cmdstanpy:CmdStan args: ['/usr/local/lib/python3.9/dist-packages/prophet/stan_model/prophet_model.bin', 'random', 'seed=85978', 'data', 'file=/tmp/tmptqo22xr8/kbxgervc.json', 'init=/tmp/tmptqo22xr8/_pk1ecrm.json', 'output', 'file=/tmp/tmptqo22xr8/prophet_modelh8qculn3/prophet_model-20230323190236.csv', 'method=optimize', 'algorithm=lbfgs', 'iter=10000']\n",
            "19:02:36 - cmdstanpy - INFO - Chain [1] start processing\n",
            "INFO:cmdstanpy:Chain [1] start processing\n",
            "19:02:39 - cmdstanpy - INFO - Chain [1] done processing\n",
            "INFO:cmdstanpy:Chain [1] done processing\n",
            "DEBUG:cmdstanpy:input tempfile: /tmp/tmptqo22xr8/6w0eee5b.json\n",
            "DEBUG:cmdstanpy:input tempfile: /tmp/tmptqo22xr8/52apu8sr.json\n",
            "DEBUG:cmdstanpy:idx 0\n",
            "DEBUG:cmdstanpy:running CmdStan, num_threads: None\n",
            "DEBUG:cmdstanpy:CmdStan args: ['/usr/local/lib/python3.9/dist-packages/prophet/stan_model/prophet_model.bin', 'random', 'seed=26248', 'data', 'file=/tmp/tmptqo22xr8/6w0eee5b.json', 'init=/tmp/tmptqo22xr8/52apu8sr.json', 'output', 'file=/tmp/tmptqo22xr8/prophet_model0aaxjnzt/prophet_model-20230323190239.csv', 'method=optimize', 'algorithm=lbfgs', 'iter=10000']\n",
            "19:02:39 - cmdstanpy - INFO - Chain [1] start processing\n",
            "INFO:cmdstanpy:Chain [1] start processing\n",
            "19:02:41 - cmdstanpy - INFO - Chain [1] done processing\n",
            "INFO:cmdstanpy:Chain [1] done processing\n",
            "DEBUG:cmdstanpy:input tempfile: /tmp/tmptqo22xr8/kllgpyhf.json\n",
            "DEBUG:cmdstanpy:input tempfile: /tmp/tmptqo22xr8/0_tzq6af.json\n",
            "DEBUG:cmdstanpy:idx 0\n",
            "DEBUG:cmdstanpy:running CmdStan, num_threads: None\n",
            "DEBUG:cmdstanpy:CmdStan args: ['/usr/local/lib/python3.9/dist-packages/prophet/stan_model/prophet_model.bin', 'random', 'seed=54440', 'data', 'file=/tmp/tmptqo22xr8/kllgpyhf.json', 'init=/tmp/tmptqo22xr8/0_tzq6af.json', 'output', 'file=/tmp/tmptqo22xr8/prophet_modelmcichlut/prophet_model-20230323190241.csv', 'method=optimize', 'algorithm=lbfgs', 'iter=10000']\n",
            "19:02:41 - cmdstanpy - INFO - Chain [1] start processing\n",
            "INFO:cmdstanpy:Chain [1] start processing\n",
            "19:02:43 - cmdstanpy - INFO - Chain [1] done processing\n",
            "INFO:cmdstanpy:Chain [1] done processing\n",
            "DEBUG:cmdstanpy:input tempfile: /tmp/tmptqo22xr8/ba1lhmo3.json\n",
            "DEBUG:cmdstanpy:input tempfile: /tmp/tmptqo22xr8/22m4wv0w.json\n",
            "DEBUG:cmdstanpy:idx 0\n",
            "DEBUG:cmdstanpy:running CmdStan, num_threads: None\n",
            "DEBUG:cmdstanpy:CmdStan args: ['/usr/local/lib/python3.9/dist-packages/prophet/stan_model/prophet_model.bin', 'random', 'seed=78084', 'data', 'file=/tmp/tmptqo22xr8/ba1lhmo3.json', 'init=/tmp/tmptqo22xr8/22m4wv0w.json', 'output', 'file=/tmp/tmptqo22xr8/prophet_modelutdakr7d/prophet_model-20230323190243.csv', 'method=optimize', 'algorithm=lbfgs', 'iter=10000']\n",
            "19:02:43 - cmdstanpy - INFO - Chain [1] start processing\n",
            "INFO:cmdstanpy:Chain [1] start processing\n",
            "19:02:45 - cmdstanpy - INFO - Chain [1] done processing\n",
            "INFO:cmdstanpy:Chain [1] done processing\n",
            "DEBUG:cmdstanpy:input tempfile: /tmp/tmptqo22xr8/enoyyvdg.json\n",
            "DEBUG:cmdstanpy:input tempfile: /tmp/tmptqo22xr8/q8n2d45p.json\n",
            "DEBUG:cmdstanpy:idx 0\n",
            "DEBUG:cmdstanpy:running CmdStan, num_threads: None\n",
            "DEBUG:cmdstanpy:CmdStan args: ['/usr/local/lib/python3.9/dist-packages/prophet/stan_model/prophet_model.bin', 'random', 'seed=69093', 'data', 'file=/tmp/tmptqo22xr8/enoyyvdg.json', 'init=/tmp/tmptqo22xr8/q8n2d45p.json', 'output', 'file=/tmp/tmptqo22xr8/prophet_modelqfa9r6jz/prophet_model-20230323190245.csv', 'method=optimize', 'algorithm=lbfgs', 'iter=10000']\n",
            "19:02:45 - cmdstanpy - INFO - Chain [1] start processing\n",
            "INFO:cmdstanpy:Chain [1] start processing\n",
            "19:02:47 - cmdstanpy - INFO - Chain [1] done processing\n",
            "INFO:cmdstanpy:Chain [1] done processing\n",
            "DEBUG:cmdstanpy:input tempfile: /tmp/tmptqo22xr8/b3nifn0d.json\n",
            "DEBUG:cmdstanpy:input tempfile: /tmp/tmptqo22xr8/g4of18sf.json\n",
            "DEBUG:cmdstanpy:idx 0\n",
            "DEBUG:cmdstanpy:running CmdStan, num_threads: None\n",
            "DEBUG:cmdstanpy:CmdStan args: ['/usr/local/lib/python3.9/dist-packages/prophet/stan_model/prophet_model.bin', 'random', 'seed=64099', 'data', 'file=/tmp/tmptqo22xr8/b3nifn0d.json', 'init=/tmp/tmptqo22xr8/g4of18sf.json', 'output', 'file=/tmp/tmptqo22xr8/prophet_modelkar2awq2/prophet_model-20230323190247.csv', 'method=optimize', 'algorithm=lbfgs', 'iter=10000']\n",
            "19:02:47 - cmdstanpy - INFO - Chain [1] start processing\n",
            "INFO:cmdstanpy:Chain [1] start processing\n",
            "19:02:50 - cmdstanpy - INFO - Chain [1] done processing\n",
            "INFO:cmdstanpy:Chain [1] done processing\n",
            "DEBUG:cmdstanpy:input tempfile: /tmp/tmptqo22xr8/6sv_gx_r.json\n",
            "DEBUG:cmdstanpy:input tempfile: /tmp/tmptqo22xr8/7iclqz9r.json\n",
            "DEBUG:cmdstanpy:idx 0\n",
            "DEBUG:cmdstanpy:running CmdStan, num_threads: None\n",
            "DEBUG:cmdstanpy:CmdStan args: ['/usr/local/lib/python3.9/dist-packages/prophet/stan_model/prophet_model.bin', 'random', 'seed=3569', 'data', 'file=/tmp/tmptqo22xr8/6sv_gx_r.json', 'init=/tmp/tmptqo22xr8/7iclqz9r.json', 'output', 'file=/tmp/tmptqo22xr8/prophet_modellwunejpd/prophet_model-20230323190250.csv', 'method=optimize', 'algorithm=lbfgs', 'iter=10000']\n",
            "19:02:50 - cmdstanpy - INFO - Chain [1] start processing\n",
            "INFO:cmdstanpy:Chain [1] start processing\n",
            "19:02:53 - cmdstanpy - INFO - Chain [1] done processing\n",
            "INFO:cmdstanpy:Chain [1] done processing\n",
            "DEBUG:cmdstanpy:input tempfile: /tmp/tmptqo22xr8/om9l71id.json\n",
            "DEBUG:cmdstanpy:input tempfile: /tmp/tmptqo22xr8/82dy_e8e.json\n",
            "DEBUG:cmdstanpy:idx 0\n",
            "DEBUG:cmdstanpy:running CmdStan, num_threads: None\n",
            "DEBUG:cmdstanpy:CmdStan args: ['/usr/local/lib/python3.9/dist-packages/prophet/stan_model/prophet_model.bin', 'random', 'seed=12886', 'data', 'file=/tmp/tmptqo22xr8/om9l71id.json', 'init=/tmp/tmptqo22xr8/82dy_e8e.json', 'output', 'file=/tmp/tmptqo22xr8/prophet_modeltqysokxs/prophet_model-20230323190253.csv', 'method=optimize', 'algorithm=lbfgs', 'iter=10000']\n",
            "19:02:53 - cmdstanpy - INFO - Chain [1] start processing\n",
            "INFO:cmdstanpy:Chain [1] start processing\n",
            "19:02:55 - cmdstanpy - INFO - Chain [1] done processing\n",
            "INFO:cmdstanpy:Chain [1] done processing\n",
            "DEBUG:cmdstanpy:input tempfile: /tmp/tmptqo22xr8/pl69cam8.json\n",
            "DEBUG:cmdstanpy:input tempfile: /tmp/tmptqo22xr8/ab73ec7y.json\n",
            "DEBUG:cmdstanpy:idx 0\n",
            "DEBUG:cmdstanpy:running CmdStan, num_threads: None\n",
            "DEBUG:cmdstanpy:CmdStan args: ['/usr/local/lib/python3.9/dist-packages/prophet/stan_model/prophet_model.bin', 'random', 'seed=70165', 'data', 'file=/tmp/tmptqo22xr8/pl69cam8.json', 'init=/tmp/tmptqo22xr8/ab73ec7y.json', 'output', 'file=/tmp/tmptqo22xr8/prophet_modeloshagihq/prophet_model-20230323190255.csv', 'method=optimize', 'algorithm=lbfgs', 'iter=10000']\n",
            "19:02:55 - cmdstanpy - INFO - Chain [1] start processing\n",
            "INFO:cmdstanpy:Chain [1] start processing\n",
            "19:02:57 - cmdstanpy - INFO - Chain [1] done processing\n",
            "INFO:cmdstanpy:Chain [1] done processing\n",
            "DEBUG:cmdstanpy:input tempfile: /tmp/tmptqo22xr8/xvvi4fg1.json\n",
            "DEBUG:cmdstanpy:input tempfile: /tmp/tmptqo22xr8/771qmni5.json\n",
            "DEBUG:cmdstanpy:idx 0\n",
            "DEBUG:cmdstanpy:running CmdStan, num_threads: None\n",
            "DEBUG:cmdstanpy:CmdStan args: ['/usr/local/lib/python3.9/dist-packages/prophet/stan_model/prophet_model.bin', 'random', 'seed=69430', 'data', 'file=/tmp/tmptqo22xr8/xvvi4fg1.json', 'init=/tmp/tmptqo22xr8/771qmni5.json', 'output', 'file=/tmp/tmptqo22xr8/prophet_modelfc2230e7/prophet_model-20230323190257.csv', 'method=optimize', 'algorithm=lbfgs', 'iter=10000']\n",
            "19:02:57 - cmdstanpy - INFO - Chain [1] start processing\n",
            "INFO:cmdstanpy:Chain [1] start processing\n",
            "19:03:00 - cmdstanpy - INFO - Chain [1] done processing\n",
            "INFO:cmdstanpy:Chain [1] done processing\n",
            "DEBUG:cmdstanpy:input tempfile: /tmp/tmptqo22xr8/iownxnsq.json\n",
            "DEBUG:cmdstanpy:input tempfile: /tmp/tmptqo22xr8/8sox1oxx.json\n",
            "DEBUG:cmdstanpy:idx 0\n",
            "DEBUG:cmdstanpy:running CmdStan, num_threads: None\n",
            "DEBUG:cmdstanpy:CmdStan args: ['/usr/local/lib/python3.9/dist-packages/prophet/stan_model/prophet_model.bin', 'random', 'seed=57608', 'data', 'file=/tmp/tmptqo22xr8/iownxnsq.json', 'init=/tmp/tmptqo22xr8/8sox1oxx.json', 'output', 'file=/tmp/tmptqo22xr8/prophet_model7e5mfopt/prophet_model-20230323190300.csv', 'method=optimize', 'algorithm=lbfgs', 'iter=10000']\n",
            "19:03:00 - cmdstanpy - INFO - Chain [1] start processing\n",
            "INFO:cmdstanpy:Chain [1] start processing\n",
            "19:03:02 - cmdstanpy - INFO - Chain [1] done processing\n",
            "INFO:cmdstanpy:Chain [1] done processing\n",
            "DEBUG:cmdstanpy:input tempfile: /tmp/tmptqo22xr8/f8tlzh2v.json\n",
            "DEBUG:cmdstanpy:input tempfile: /tmp/tmptqo22xr8/l5n1p1f2.json\n",
            "DEBUG:cmdstanpy:idx 0\n",
            "DEBUG:cmdstanpy:running CmdStan, num_threads: None\n",
            "DEBUG:cmdstanpy:CmdStan args: ['/usr/local/lib/python3.9/dist-packages/prophet/stan_model/prophet_model.bin', 'random', 'seed=96055', 'data', 'file=/tmp/tmptqo22xr8/f8tlzh2v.json', 'init=/tmp/tmptqo22xr8/l5n1p1f2.json', 'output', 'file=/tmp/tmptqo22xr8/prophet_model8_b2333c/prophet_model-20230323190303.csv', 'method=optimize', 'algorithm=lbfgs', 'iter=10000']\n",
            "19:03:03 - cmdstanpy - INFO - Chain [1] start processing\n",
            "INFO:cmdstanpy:Chain [1] start processing\n",
            "19:03:06 - cmdstanpy - INFO - Chain [1] done processing\n",
            "INFO:cmdstanpy:Chain [1] done processing\n",
            "DEBUG:cmdstanpy:input tempfile: /tmp/tmptqo22xr8/0coquw75.json\n",
            "DEBUG:cmdstanpy:input tempfile: /tmp/tmptqo22xr8/dep5009_.json\n",
            "DEBUG:cmdstanpy:idx 0\n",
            "DEBUG:cmdstanpy:running CmdStan, num_threads: None\n",
            "DEBUG:cmdstanpy:CmdStan args: ['/usr/local/lib/python3.9/dist-packages/prophet/stan_model/prophet_model.bin', 'random', 'seed=27559', 'data', 'file=/tmp/tmptqo22xr8/0coquw75.json', 'init=/tmp/tmptqo22xr8/dep5009_.json', 'output', 'file=/tmp/tmptqo22xr8/prophet_model23ujwshz/prophet_model-20230323190306.csv', 'method=optimize', 'algorithm=lbfgs', 'iter=10000']\n",
            "19:03:06 - cmdstanpy - INFO - Chain [1] start processing\n",
            "INFO:cmdstanpy:Chain [1] start processing\n",
            "19:03:09 - cmdstanpy - INFO - Chain [1] done processing\n",
            "INFO:cmdstanpy:Chain [1] done processing\n",
            "DEBUG:cmdstanpy:input tempfile: /tmp/tmptqo22xr8/x9n5as5m.json\n",
            "DEBUG:cmdstanpy:input tempfile: /tmp/tmptqo22xr8/t0xwa1ku.json\n",
            "DEBUG:cmdstanpy:idx 0\n",
            "DEBUG:cmdstanpy:running CmdStan, num_threads: None\n",
            "DEBUG:cmdstanpy:CmdStan args: ['/usr/local/lib/python3.9/dist-packages/prophet/stan_model/prophet_model.bin', 'random', 'seed=38822', 'data', 'file=/tmp/tmptqo22xr8/x9n5as5m.json', 'init=/tmp/tmptqo22xr8/t0xwa1ku.json', 'output', 'file=/tmp/tmptqo22xr8/prophet_modelll3coohc/prophet_model-20230323190309.csv', 'method=optimize', 'algorithm=lbfgs', 'iter=10000']\n",
            "19:03:09 - cmdstanpy - INFO - Chain [1] start processing\n",
            "INFO:cmdstanpy:Chain [1] start processing\n",
            "19:03:11 - cmdstanpy - INFO - Chain [1] done processing\n",
            "INFO:cmdstanpy:Chain [1] done processing\n",
            "DEBUG:cmdstanpy:input tempfile: /tmp/tmptqo22xr8/9odpu_e1.json\n",
            "DEBUG:cmdstanpy:input tempfile: /tmp/tmptqo22xr8/hnw5c32w.json\n",
            "DEBUG:cmdstanpy:idx 0\n",
            "DEBUG:cmdstanpy:running CmdStan, num_threads: None\n",
            "DEBUG:cmdstanpy:CmdStan args: ['/usr/local/lib/python3.9/dist-packages/prophet/stan_model/prophet_model.bin', 'random', 'seed=49133', 'data', 'file=/tmp/tmptqo22xr8/9odpu_e1.json', 'init=/tmp/tmptqo22xr8/hnw5c32w.json', 'output', 'file=/tmp/tmptqo22xr8/prophet_modeln_489ln_/prophet_model-20230323190311.csv', 'method=optimize', 'algorithm=lbfgs', 'iter=10000']\n",
            "19:03:11 - cmdstanpy - INFO - Chain [1] start processing\n",
            "INFO:cmdstanpy:Chain [1] start processing\n",
            "19:03:12 - cmdstanpy - INFO - Chain [1] done processing\n",
            "INFO:cmdstanpy:Chain [1] done processing\n",
            "DEBUG:cmdstanpy:input tempfile: /tmp/tmptqo22xr8/7wxa9orc.json\n",
            "DEBUG:cmdstanpy:input tempfile: /tmp/tmptqo22xr8/ugnwqyqa.json\n",
            "DEBUG:cmdstanpy:idx 0\n",
            "DEBUG:cmdstanpy:running CmdStan, num_threads: None\n",
            "DEBUG:cmdstanpy:CmdStan args: ['/usr/local/lib/python3.9/dist-packages/prophet/stan_model/prophet_model.bin', 'random', 'seed=77031', 'data', 'file=/tmp/tmptqo22xr8/7wxa9orc.json', 'init=/tmp/tmptqo22xr8/ugnwqyqa.json', 'output', 'file=/tmp/tmptqo22xr8/prophet_modelz8lyh4j1/prophet_model-20230323190312.csv', 'method=optimize', 'algorithm=lbfgs', 'iter=10000']\n",
            "19:03:12 - cmdstanpy - INFO - Chain [1] start processing\n",
            "INFO:cmdstanpy:Chain [1] start processing\n",
            "19:03:14 - cmdstanpy - INFO - Chain [1] done processing\n",
            "INFO:cmdstanpy:Chain [1] done processing\n",
            "DEBUG:cmdstanpy:input tempfile: /tmp/tmptqo22xr8/g8h1adhp.json\n",
            "DEBUG:cmdstanpy:input tempfile: /tmp/tmptqo22xr8/8atgycpp.json\n",
            "DEBUG:cmdstanpy:idx 0\n",
            "DEBUG:cmdstanpy:running CmdStan, num_threads: None\n",
            "DEBUG:cmdstanpy:CmdStan args: ['/usr/local/lib/python3.9/dist-packages/prophet/stan_model/prophet_model.bin', 'random', 'seed=33475', 'data', 'file=/tmp/tmptqo22xr8/g8h1adhp.json', 'init=/tmp/tmptqo22xr8/8atgycpp.json', 'output', 'file=/tmp/tmptqo22xr8/prophet_model353emmrx/prophet_model-20230323190314.csv', 'method=optimize', 'algorithm=lbfgs', 'iter=10000']\n",
            "19:03:14 - cmdstanpy - INFO - Chain [1] start processing\n",
            "INFO:cmdstanpy:Chain [1] start processing\n",
            "19:03:16 - cmdstanpy - INFO - Chain [1] done processing\n",
            "INFO:cmdstanpy:Chain [1] done processing\n",
            "DEBUG:cmdstanpy:input tempfile: /tmp/tmptqo22xr8/1uj5e6hp.json\n",
            "DEBUG:cmdstanpy:input tempfile: /tmp/tmptqo22xr8/lvwsyey5.json\n",
            "DEBUG:cmdstanpy:idx 0\n",
            "DEBUG:cmdstanpy:running CmdStan, num_threads: None\n",
            "DEBUG:cmdstanpy:CmdStan args: ['/usr/local/lib/python3.9/dist-packages/prophet/stan_model/prophet_model.bin', 'random', 'seed=50297', 'data', 'file=/tmp/tmptqo22xr8/1uj5e6hp.json', 'init=/tmp/tmptqo22xr8/lvwsyey5.json', 'output', 'file=/tmp/tmptqo22xr8/prophet_modelhwt61ggs/prophet_model-20230323190316.csv', 'method=optimize', 'algorithm=lbfgs', 'iter=10000']\n",
            "19:03:16 - cmdstanpy - INFO - Chain [1] start processing\n",
            "INFO:cmdstanpy:Chain [1] start processing\n",
            "19:03:18 - cmdstanpy - INFO - Chain [1] done processing\n",
            "INFO:cmdstanpy:Chain [1] done processing\n",
            "DEBUG:cmdstanpy:input tempfile: /tmp/tmptqo22xr8/406r1q6p.json\n",
            "DEBUG:cmdstanpy:input tempfile: /tmp/tmptqo22xr8/c21l_0oi.json\n",
            "DEBUG:cmdstanpy:idx 0\n",
            "DEBUG:cmdstanpy:running CmdStan, num_threads: None\n",
            "DEBUG:cmdstanpy:CmdStan args: ['/usr/local/lib/python3.9/dist-packages/prophet/stan_model/prophet_model.bin', 'random', 'seed=8108', 'data', 'file=/tmp/tmptqo22xr8/406r1q6p.json', 'init=/tmp/tmptqo22xr8/c21l_0oi.json', 'output', 'file=/tmp/tmptqo22xr8/prophet_modelg99miua5/prophet_model-20230323190318.csv', 'method=optimize', 'algorithm=lbfgs', 'iter=10000']\n",
            "19:03:18 - cmdstanpy - INFO - Chain [1] start processing\n",
            "INFO:cmdstanpy:Chain [1] start processing\n",
            "19:03:21 - cmdstanpy - INFO - Chain [1] done processing\n",
            "INFO:cmdstanpy:Chain [1] done processing\n",
            "DEBUG:cmdstanpy:input tempfile: /tmp/tmptqo22xr8/s7dga5ag.json\n",
            "DEBUG:cmdstanpy:input tempfile: /tmp/tmptqo22xr8/4vn___g6.json\n",
            "DEBUG:cmdstanpy:idx 0\n",
            "DEBUG:cmdstanpy:running CmdStan, num_threads: None\n",
            "DEBUG:cmdstanpy:CmdStan args: ['/usr/local/lib/python3.9/dist-packages/prophet/stan_model/prophet_model.bin', 'random', 'seed=66912', 'data', 'file=/tmp/tmptqo22xr8/s7dga5ag.json', 'init=/tmp/tmptqo22xr8/4vn___g6.json', 'output', 'file=/tmp/tmptqo22xr8/prophet_modelnjgdg13q/prophet_model-20230323190322.csv', 'method=optimize', 'algorithm=lbfgs', 'iter=10000']\n",
            "19:03:22 - cmdstanpy - INFO - Chain [1] start processing\n",
            "INFO:cmdstanpy:Chain [1] start processing\n",
            "19:03:23 - cmdstanpy - INFO - Chain [1] done processing\n",
            "INFO:cmdstanpy:Chain [1] done processing\n",
            "DEBUG:cmdstanpy:input tempfile: /tmp/tmptqo22xr8/u1gy_0iq.json\n",
            "DEBUG:cmdstanpy:input tempfile: /tmp/tmptqo22xr8/1b3295yy.json\n",
            "DEBUG:cmdstanpy:idx 0\n",
            "DEBUG:cmdstanpy:running CmdStan, num_threads: None\n",
            "DEBUG:cmdstanpy:CmdStan args: ['/usr/local/lib/python3.9/dist-packages/prophet/stan_model/prophet_model.bin', 'random', 'seed=68747', 'data', 'file=/tmp/tmptqo22xr8/u1gy_0iq.json', 'init=/tmp/tmptqo22xr8/1b3295yy.json', 'output', 'file=/tmp/tmptqo22xr8/prophet_modeldnp4vwtk/prophet_model-20230323190324.csv', 'method=optimize', 'algorithm=lbfgs', 'iter=10000']\n",
            "19:03:24 - cmdstanpy - INFO - Chain [1] start processing\n",
            "INFO:cmdstanpy:Chain [1] start processing\n",
            "19:03:25 - cmdstanpy - INFO - Chain [1] done processing\n",
            "INFO:cmdstanpy:Chain [1] done processing\n",
            "DEBUG:cmdstanpy:input tempfile: /tmp/tmptqo22xr8/3jgogyhq.json\n",
            "DEBUG:cmdstanpy:input tempfile: /tmp/tmptqo22xr8/rjftstzx.json\n",
            "DEBUG:cmdstanpy:idx 0\n",
            "DEBUG:cmdstanpy:running CmdStan, num_threads: None\n",
            "DEBUG:cmdstanpy:CmdStan args: ['/usr/local/lib/python3.9/dist-packages/prophet/stan_model/prophet_model.bin', 'random', 'seed=85527', 'data', 'file=/tmp/tmptqo22xr8/3jgogyhq.json', 'init=/tmp/tmptqo22xr8/rjftstzx.json', 'output', 'file=/tmp/tmptqo22xr8/prophet_model6f3s0p88/prophet_model-20230323190325.csv', 'method=optimize', 'algorithm=lbfgs', 'iter=10000']\n",
            "19:03:26 - cmdstanpy - INFO - Chain [1] start processing\n",
            "INFO:cmdstanpy:Chain [1] start processing\n",
            "19:03:28 - cmdstanpy - INFO - Chain [1] done processing\n",
            "INFO:cmdstanpy:Chain [1] done processing\n",
            "DEBUG:cmdstanpy:input tempfile: /tmp/tmptqo22xr8/x8a9xidz.json\n",
            "DEBUG:cmdstanpy:input tempfile: /tmp/tmptqo22xr8/wx_qcrmr.json\n",
            "DEBUG:cmdstanpy:idx 0\n",
            "DEBUG:cmdstanpy:running CmdStan, num_threads: None\n",
            "DEBUG:cmdstanpy:CmdStan args: ['/usr/local/lib/python3.9/dist-packages/prophet/stan_model/prophet_model.bin', 'random', 'seed=81263', 'data', 'file=/tmp/tmptqo22xr8/x8a9xidz.json', 'init=/tmp/tmptqo22xr8/wx_qcrmr.json', 'output', 'file=/tmp/tmptqo22xr8/prophet_modell8b78s0k/prophet_model-20230323190328.csv', 'method=optimize', 'algorithm=lbfgs', 'iter=10000']\n",
            "19:03:28 - cmdstanpy - INFO - Chain [1] start processing\n",
            "INFO:cmdstanpy:Chain [1] start processing\n",
            "19:03:30 - cmdstanpy - INFO - Chain [1] done processing\n",
            "INFO:cmdstanpy:Chain [1] done processing\n",
            "DEBUG:cmdstanpy:input tempfile: /tmp/tmptqo22xr8/xk94k03x.json\n",
            "DEBUG:cmdstanpy:input tempfile: /tmp/tmptqo22xr8/vb764a44.json\n",
            "DEBUG:cmdstanpy:idx 0\n",
            "DEBUG:cmdstanpy:running CmdStan, num_threads: None\n",
            "DEBUG:cmdstanpy:CmdStan args: ['/usr/local/lib/python3.9/dist-packages/prophet/stan_model/prophet_model.bin', 'random', 'seed=2647', 'data', 'file=/tmp/tmptqo22xr8/xk94k03x.json', 'init=/tmp/tmptqo22xr8/vb764a44.json', 'output', 'file=/tmp/tmptqo22xr8/prophet_modele33raeh8/prophet_model-20230323190330.csv', 'method=optimize', 'algorithm=lbfgs', 'iter=10000']\n",
            "19:03:30 - cmdstanpy - INFO - Chain [1] start processing\n",
            "INFO:cmdstanpy:Chain [1] start processing\n",
            "19:03:32 - cmdstanpy - INFO - Chain [1] done processing\n",
            "INFO:cmdstanpy:Chain [1] done processing\n",
            "DEBUG:cmdstanpy:input tempfile: /tmp/tmptqo22xr8/dneotfr9.json\n",
            "DEBUG:cmdstanpy:input tempfile: /tmp/tmptqo22xr8/k2gqjw5z.json\n",
            "DEBUG:cmdstanpy:idx 0\n",
            "DEBUG:cmdstanpy:running CmdStan, num_threads: None\n",
            "DEBUG:cmdstanpy:CmdStan args: ['/usr/local/lib/python3.9/dist-packages/prophet/stan_model/prophet_model.bin', 'random', 'seed=41703', 'data', 'file=/tmp/tmptqo22xr8/dneotfr9.json', 'init=/tmp/tmptqo22xr8/k2gqjw5z.json', 'output', 'file=/tmp/tmptqo22xr8/prophet_modelsv4z01ln/prophet_model-20230323190332.csv', 'method=optimize', 'algorithm=lbfgs', 'iter=10000']\n",
            "19:03:32 - cmdstanpy - INFO - Chain [1] start processing\n",
            "INFO:cmdstanpy:Chain [1] start processing\n",
            "19:03:36 - cmdstanpy - INFO - Chain [1] done processing\n",
            "INFO:cmdstanpy:Chain [1] done processing\n"
          ]
        }
      ],
      "source": [
        "Google_train_data = get_data(Google_Data)[['ds', 'yhat']]"
      ]
    },
    {
      "cell_type": "code",
      "source": [
        "MSFT_train_data = get_data(MSFT_Data)[['ds', 'yhat']]"
      ],
      "metadata": {
        "id": "h9e1cpWLrA3w"
      },
      "execution_count": null,
      "outputs": []
    },
    {
      "cell_type": "markdown",
      "source": [
        "## Hybrid Model "
      ],
      "metadata": {
        "id": "PcwGoRLD3ob9"
      }
    },
    {
      "cell_type": "code",
      "source": [
        "Google_train_data.head()"
      ],
      "metadata": {
        "colab": {
          "base_uri": "https://localhost:8080/",
          "height": 206
        },
        "id": "an9F8UWZq9xU",
        "outputId": "733ca5fa-1c28-49bf-e920-5a543cd84188"
      },
      "execution_count": null,
      "outputs": [
        {
          "output_type": "execute_result",
          "data": {
            "text/plain": [
              "          ds       yhat\n",
              "0 2018-01-05  55.415025\n",
              "1 2018-01-08  59.202429\n",
              "2 2018-01-09  61.168499\n",
              "3 2018-01-10  63.397143\n",
              "4 2018-01-11  65.767038"
            ],
            "text/html": [
              "\n",
              "  <div id=\"df-aaf9faf3-d08d-47b6-b704-01a7fd917a91\">\n",
              "    <div class=\"colab-df-container\">\n",
              "      <div>\n",
              "<style scoped>\n",
              "    .dataframe tbody tr th:only-of-type {\n",
              "        vertical-align: middle;\n",
              "    }\n",
              "\n",
              "    .dataframe tbody tr th {\n",
              "        vertical-align: top;\n",
              "    }\n",
              "\n",
              "    .dataframe thead th {\n",
              "        text-align: right;\n",
              "    }\n",
              "</style>\n",
              "<table border=\"1\" class=\"dataframe\">\n",
              "  <thead>\n",
              "    <tr style=\"text-align: right;\">\n",
              "      <th></th>\n",
              "      <th>ds</th>\n",
              "      <th>yhat</th>\n",
              "    </tr>\n",
              "  </thead>\n",
              "  <tbody>\n",
              "    <tr>\n",
              "      <th>0</th>\n",
              "      <td>2018-01-05</td>\n",
              "      <td>55.415025</td>\n",
              "    </tr>\n",
              "    <tr>\n",
              "      <th>1</th>\n",
              "      <td>2018-01-08</td>\n",
              "      <td>59.202429</td>\n",
              "    </tr>\n",
              "    <tr>\n",
              "      <th>2</th>\n",
              "      <td>2018-01-09</td>\n",
              "      <td>61.168499</td>\n",
              "    </tr>\n",
              "    <tr>\n",
              "      <th>3</th>\n",
              "      <td>2018-01-10</td>\n",
              "      <td>63.397143</td>\n",
              "    </tr>\n",
              "    <tr>\n",
              "      <th>4</th>\n",
              "      <td>2018-01-11</td>\n",
              "      <td>65.767038</td>\n",
              "    </tr>\n",
              "  </tbody>\n",
              "</table>\n",
              "</div>\n",
              "      <button class=\"colab-df-convert\" onclick=\"convertToInteractive('df-aaf9faf3-d08d-47b6-b704-01a7fd917a91')\"\n",
              "              title=\"Convert this dataframe to an interactive table.\"\n",
              "              style=\"display:none;\">\n",
              "        \n",
              "  <svg xmlns=\"http://www.w3.org/2000/svg\" height=\"24px\"viewBox=\"0 0 24 24\"\n",
              "       width=\"24px\">\n",
              "    <path d=\"M0 0h24v24H0V0z\" fill=\"none\"/>\n",
              "    <path d=\"M18.56 5.44l.94 2.06.94-2.06 2.06-.94-2.06-.94-.94-2.06-.94 2.06-2.06.94zm-11 1L8.5 8.5l.94-2.06 2.06-.94-2.06-.94L8.5 2.5l-.94 2.06-2.06.94zm10 10l.94 2.06.94-2.06 2.06-.94-2.06-.94-.94-2.06-.94 2.06-2.06.94z\"/><path d=\"M17.41 7.96l-1.37-1.37c-.4-.4-.92-.59-1.43-.59-.52 0-1.04.2-1.43.59L10.3 9.45l-7.72 7.72c-.78.78-.78 2.05 0 2.83L4 21.41c.39.39.9.59 1.41.59.51 0 1.02-.2 1.41-.59l7.78-7.78 2.81-2.81c.8-.78.8-2.07 0-2.86zM5.41 20L4 18.59l7.72-7.72 1.47 1.35L5.41 20z\"/>\n",
              "  </svg>\n",
              "      </button>\n",
              "      \n",
              "  <style>\n",
              "    .colab-df-container {\n",
              "      display:flex;\n",
              "      flex-wrap:wrap;\n",
              "      gap: 12px;\n",
              "    }\n",
              "\n",
              "    .colab-df-convert {\n",
              "      background-color: #E8F0FE;\n",
              "      border: none;\n",
              "      border-radius: 50%;\n",
              "      cursor: pointer;\n",
              "      display: none;\n",
              "      fill: #1967D2;\n",
              "      height: 32px;\n",
              "      padding: 0 0 0 0;\n",
              "      width: 32px;\n",
              "    }\n",
              "\n",
              "    .colab-df-convert:hover {\n",
              "      background-color: #E2EBFA;\n",
              "      box-shadow: 0px 1px 2px rgba(60, 64, 67, 0.3), 0px 1px 3px 1px rgba(60, 64, 67, 0.15);\n",
              "      fill: #174EA6;\n",
              "    }\n",
              "\n",
              "    [theme=dark] .colab-df-convert {\n",
              "      background-color: #3B4455;\n",
              "      fill: #D2E3FC;\n",
              "    }\n",
              "\n",
              "    [theme=dark] .colab-df-convert:hover {\n",
              "      background-color: #434B5C;\n",
              "      box-shadow: 0px 1px 3px 1px rgba(0, 0, 0, 0.15);\n",
              "      filter: drop-shadow(0px 1px 2px rgba(0, 0, 0, 0.3));\n",
              "      fill: #FFFFFF;\n",
              "    }\n",
              "  </style>\n",
              "\n",
              "      <script>\n",
              "        const buttonEl =\n",
              "          document.querySelector('#df-aaf9faf3-d08d-47b6-b704-01a7fd917a91 button.colab-df-convert');\n",
              "        buttonEl.style.display =\n",
              "          google.colab.kernel.accessAllowed ? 'block' : 'none';\n",
              "\n",
              "        async function convertToInteractive(key) {\n",
              "          const element = document.querySelector('#df-aaf9faf3-d08d-47b6-b704-01a7fd917a91');\n",
              "          const dataTable =\n",
              "            await google.colab.kernel.invokeFunction('convertToInteractive',\n",
              "                                                     [key], {});\n",
              "          if (!dataTable) return;\n",
              "\n",
              "          const docLinkHtml = 'Like what you see? Visit the ' +\n",
              "            '<a target=\"_blank\" href=https://colab.research.google.com/notebooks/data_table.ipynb>data table notebook</a>'\n",
              "            + ' to learn more about interactive tables.';\n",
              "          element.innerHTML = '';\n",
              "          dataTable['output_type'] = 'display_data';\n",
              "          await google.colab.output.renderOutput(dataTable, element);\n",
              "          const docLink = document.createElement('div');\n",
              "          docLink.innerHTML = docLinkHtml;\n",
              "          element.appendChild(docLink);\n",
              "        }\n",
              "      </script>\n",
              "    </div>\n",
              "  </div>\n",
              "  "
            ]
          },
          "metadata": {},
          "execution_count": 26
        }
      ]
    },
    {
      "cell_type": "markdown",
      "source": [
        "### Define Training Data Using Ouputs from Standalone Models"
      ],
      "metadata": {
        "id": "vO346BrO3tbh"
      }
    },
    {
      "cell_type": "code",
      "source": [
        "#combine prophet and lstm results into metamodel training set, keeping microsoft validation data separate\n",
        "MSFT_train_data.head()"
      ],
      "metadata": {
        "id": "TISnsLYPe_5k",
        "colab": {
          "base_uri": "https://localhost:8080/",
          "height": 206
        },
        "outputId": "36e2ae01-d98f-461b-b4d8-e10c27f8934d"
      },
      "execution_count": null,
      "outputs": [
        {
          "output_type": "execute_result",
          "data": {
            "text/plain": [
              "          ds       yhat\n",
              "0 2018-01-05  82.302334\n",
              "1 2018-01-08  83.492663\n",
              "2 2018-01-09  84.110961\n",
              "3 2018-01-10  84.665438\n",
              "4 2018-01-11  85.331126"
            ],
            "text/html": [
              "\n",
              "  <div id=\"df-a3ccc0cb-655e-4c77-89a3-78af7ba695ad\">\n",
              "    <div class=\"colab-df-container\">\n",
              "      <div>\n",
              "<style scoped>\n",
              "    .dataframe tbody tr th:only-of-type {\n",
              "        vertical-align: middle;\n",
              "    }\n",
              "\n",
              "    .dataframe tbody tr th {\n",
              "        vertical-align: top;\n",
              "    }\n",
              "\n",
              "    .dataframe thead th {\n",
              "        text-align: right;\n",
              "    }\n",
              "</style>\n",
              "<table border=\"1\" class=\"dataframe\">\n",
              "  <thead>\n",
              "    <tr style=\"text-align: right;\">\n",
              "      <th></th>\n",
              "      <th>ds</th>\n",
              "      <th>yhat</th>\n",
              "    </tr>\n",
              "  </thead>\n",
              "  <tbody>\n",
              "    <tr>\n",
              "      <th>0</th>\n",
              "      <td>2018-01-05</td>\n",
              "      <td>82.302334</td>\n",
              "    </tr>\n",
              "    <tr>\n",
              "      <th>1</th>\n",
              "      <td>2018-01-08</td>\n",
              "      <td>83.492663</td>\n",
              "    </tr>\n",
              "    <tr>\n",
              "      <th>2</th>\n",
              "      <td>2018-01-09</td>\n",
              "      <td>84.110961</td>\n",
              "    </tr>\n",
              "    <tr>\n",
              "      <th>3</th>\n",
              "      <td>2018-01-10</td>\n",
              "      <td>84.665438</td>\n",
              "    </tr>\n",
              "    <tr>\n",
              "      <th>4</th>\n",
              "      <td>2018-01-11</td>\n",
              "      <td>85.331126</td>\n",
              "    </tr>\n",
              "  </tbody>\n",
              "</table>\n",
              "</div>\n",
              "      <button class=\"colab-df-convert\" onclick=\"convertToInteractive('df-a3ccc0cb-655e-4c77-89a3-78af7ba695ad')\"\n",
              "              title=\"Convert this dataframe to an interactive table.\"\n",
              "              style=\"display:none;\">\n",
              "        \n",
              "  <svg xmlns=\"http://www.w3.org/2000/svg\" height=\"24px\"viewBox=\"0 0 24 24\"\n",
              "       width=\"24px\">\n",
              "    <path d=\"M0 0h24v24H0V0z\" fill=\"none\"/>\n",
              "    <path d=\"M18.56 5.44l.94 2.06.94-2.06 2.06-.94-2.06-.94-.94-2.06-.94 2.06-2.06.94zm-11 1L8.5 8.5l.94-2.06 2.06-.94-2.06-.94L8.5 2.5l-.94 2.06-2.06.94zm10 10l.94 2.06.94-2.06 2.06-.94-2.06-.94-.94-2.06-.94 2.06-2.06.94z\"/><path d=\"M17.41 7.96l-1.37-1.37c-.4-.4-.92-.59-1.43-.59-.52 0-1.04.2-1.43.59L10.3 9.45l-7.72 7.72c-.78.78-.78 2.05 0 2.83L4 21.41c.39.39.9.59 1.41.59.51 0 1.02-.2 1.41-.59l7.78-7.78 2.81-2.81c.8-.78.8-2.07 0-2.86zM5.41 20L4 18.59l7.72-7.72 1.47 1.35L5.41 20z\"/>\n",
              "  </svg>\n",
              "      </button>\n",
              "      \n",
              "  <style>\n",
              "    .colab-df-container {\n",
              "      display:flex;\n",
              "      flex-wrap:wrap;\n",
              "      gap: 12px;\n",
              "    }\n",
              "\n",
              "    .colab-df-convert {\n",
              "      background-color: #E8F0FE;\n",
              "      border: none;\n",
              "      border-radius: 50%;\n",
              "      cursor: pointer;\n",
              "      display: none;\n",
              "      fill: #1967D2;\n",
              "      height: 32px;\n",
              "      padding: 0 0 0 0;\n",
              "      width: 32px;\n",
              "    }\n",
              "\n",
              "    .colab-df-convert:hover {\n",
              "      background-color: #E2EBFA;\n",
              "      box-shadow: 0px 1px 2px rgba(60, 64, 67, 0.3), 0px 1px 3px 1px rgba(60, 64, 67, 0.15);\n",
              "      fill: #174EA6;\n",
              "    }\n",
              "\n",
              "    [theme=dark] .colab-df-convert {\n",
              "      background-color: #3B4455;\n",
              "      fill: #D2E3FC;\n",
              "    }\n",
              "\n",
              "    [theme=dark] .colab-df-convert:hover {\n",
              "      background-color: #434B5C;\n",
              "      box-shadow: 0px 1px 3px 1px rgba(0, 0, 0, 0.15);\n",
              "      filter: drop-shadow(0px 1px 2px rgba(0, 0, 0, 0.3));\n",
              "      fill: #FFFFFF;\n",
              "    }\n",
              "  </style>\n",
              "\n",
              "      <script>\n",
              "        const buttonEl =\n",
              "          document.querySelector('#df-a3ccc0cb-655e-4c77-89a3-78af7ba695ad button.colab-df-convert');\n",
              "        buttonEl.style.display =\n",
              "          google.colab.kernel.accessAllowed ? 'block' : 'none';\n",
              "\n",
              "        async function convertToInteractive(key) {\n",
              "          const element = document.querySelector('#df-a3ccc0cb-655e-4c77-89a3-78af7ba695ad');\n",
              "          const dataTable =\n",
              "            await google.colab.kernel.invokeFunction('convertToInteractive',\n",
              "                                                     [key], {});\n",
              "          if (!dataTable) return;\n",
              "\n",
              "          const docLinkHtml = 'Like what you see? Visit the ' +\n",
              "            '<a target=\"_blank\" href=https://colab.research.google.com/notebooks/data_table.ipynb>data table notebook</a>'\n",
              "            + ' to learn more about interactive tables.';\n",
              "          element.innerHTML = '';\n",
              "          dataTable['output_type'] = 'display_data';\n",
              "          await google.colab.output.renderOutput(dataTable, element);\n",
              "          const docLink = document.createElement('div');\n",
              "          docLink.innerHTML = docLinkHtml;\n",
              "          element.appendChild(docLink);\n",
              "        }\n",
              "      </script>\n",
              "    </div>\n",
              "  </div>\n",
              "  "
            ]
          },
          "metadata": {},
          "execution_count": 22
        }
      ]
    },
    {
      "cell_type": "code",
      "source": [
        "#LSTM Framework\n",
        "import tensorflow as tf\n",
        "from keras.models import Sequential\n",
        "from keras.layers import Dense, Dropout\n",
        "from keras.layers import LSTM\n",
        "from keras.callbacks import ReduceLROnPlateau, EarlyStopping\n",
        "from keras.metrics import Precision\n",
        "from keras.optimizers import Adam\n",
        "#!pip install keras_tuner\n",
        "import keras_tuner\n",
        "#Hybrid model architecture and training\n",
        "LR = 0.01\n",
        "EPOCH = 100\n",
        "BATCH = 24\n",
        "hybrid = Sequential()\n",
        "hybrid.add(LSTM(units = 8, activation = \"relu\", input_shape = (X_train2.shape[1], X_train2.shape[2]), return_sequences = True))\n",
        "hybrid.add(Dropout(0.5))\n",
        "hybrid.add(LSTM(units = 12, activation = 'relu', return_sequences = True))\n",
        "hybrid.add(Dropout(0.5))\n",
        "hybrid.add(LSTM(units = 12))\n",
        "hybrid.add(Dropout(0.5))\n",
        "hybrid.add(Dense(units =1))\n",
        "hybrid.compile(loss = 'mean_squared_error', optimizer = Adam(lr = LR), metrics = [\"mae\"])\n",
        "Early_stop = EarlyStopping(monitor='val_loss', min_delta=0, \n",
        "                           patience=25, verbose=1, mode='auto',\n",
        "                           baseline=0, restore_best_weights=True)\n",
        "hybrid_history = hybrid.fit(X_train2, y_train2, epochs = 100, batch_size = 24, callbacks = [Early_stop])\n",
        "hybrid.save('/content/StockPrice-Hybrid-Model-/Models/Hybrid_model1.h5')"
      ],
      "metadata": {
        "id": "kCCQfjFLXzbK",
        "outputId": "ca328d51-3b04-4c9b-d070-501e2470cf33",
        "colab": {
          "base_uri": "https://localhost:8080/"
        }
      },
      "execution_count": 140,
      "outputs": [
        {
          "output_type": "stream",
          "name": "stdout",
          "text": [
            "Epoch 1/100\n"
          ]
        },
        {
          "output_type": "stream",
          "name": "stderr",
          "text": [
            "/usr/local/lib/python3.9/dist-packages/keras/optimizers/optimizer_v2/adam.py:117: UserWarning: The `lr` argument is deprecated, use `learning_rate` instead.\n",
            "  super().__init__(name, **kwargs)\n"
          ]
        },
        {
          "output_type": "stream",
          "name": "stdout",
          "text": [
            "\r1/1 [==============================] - ETA: 0s - loss: 0.2203 - mae: 0.3824"
          ]
        },
        {
          "output_type": "stream",
          "name": "stderr",
          "text": [
            "WARNING:tensorflow:Early stopping conditioned on metric `val_loss` which is not available. Available metrics are: loss,mae\n"
          ]
        },
        {
          "output_type": "stream",
          "name": "stdout",
          "text": [
            "\b\b\b\b\b\b\b\b\b\b\b\b\b\b\b\b\b\b\b\b\b\b\b\b\b\b\b\b\b\b\b\b\b\b\b\b\b\b\b\b\b\b\b\b\b\b\b\b\b\b\b\b\b\b\b\b\b\b\b\b\b\b\b\b\b\b\b\b\b\b\b\b\b\b\b\r1/1 [==============================] - 7s 7s/step - loss: 0.2203 - mae: 0.3824\n",
            "Epoch 2/100\n",
            "1/1 [==============================] - ETA: 0s - loss: 0.1534 - mae: 0.2946"
          ]
        },
        {
          "output_type": "stream",
          "name": "stderr",
          "text": [
            "WARNING:tensorflow:Early stopping conditioned on metric `val_loss` which is not available. Available metrics are: loss,mae\n"
          ]
        },
        {
          "output_type": "stream",
          "name": "stdout",
          "text": [
            "\b\b\b\b\b\b\b\b\b\b\b\b\b\b\b\b\b\b\b\b\b\b\b\b\b\b\b\b\b\b\b\b\b\b\b\b\b\b\b\b\b\b\b\b\b\b\b\b\b\b\b\b\b\b\b\b\b\b\b\b\b\b\b\b\b\b\b\b\b\b\b\b\b\b\b\r1/1 [==============================] - 0s 61ms/step - loss: 0.1534 - mae: 0.2946\n",
            "Epoch 3/100\n",
            "1/1 [==============================] - ETA: 0s - loss: 0.1140 - mae: 0.2249"
          ]
        },
        {
          "output_type": "stream",
          "name": "stderr",
          "text": [
            "WARNING:tensorflow:Early stopping conditioned on metric `val_loss` which is not available. Available metrics are: loss,mae\n"
          ]
        },
        {
          "output_type": "stream",
          "name": "stdout",
          "text": [
            "\b\b\b\b\b\b\b\b\b\b\b\b\b\b\b\b\b\b\b\b\b\b\b\b\b\b\b\b\b\b\b\b\b\b\b\b\b\b\b\b\b\b\b\b\b\b\b\b\b\b\b\b\b\b\b\b\b\b\b\b\b\b\b\b\b\b\b\b\b\b\b\b\b\b\b\r1/1 [==============================] - 0s 55ms/step - loss: 0.1140 - mae: 0.2249\n",
            "Epoch 4/100\n",
            "1/1 [==============================] - ETA: 0s - loss: 0.0701 - mae: 0.1752"
          ]
        },
        {
          "output_type": "stream",
          "name": "stderr",
          "text": [
            "WARNING:tensorflow:Early stopping conditioned on metric `val_loss` which is not available. Available metrics are: loss,mae\n"
          ]
        },
        {
          "output_type": "stream",
          "name": "stdout",
          "text": [
            "\b\b\b\b\b\b\b\b\b\b\b\b\b\b\b\b\b\b\b\b\b\b\b\b\b\b\b\b\b\b\b\b\b\b\b\b\b\b\b\b\b\b\b\b\b\b\b\b\b\b\b\b\b\b\b\b\b\b\b\b\b\b\b\b\b\b\b\b\b\b\b\b\b\b\b\r1/1 [==============================] - 0s 45ms/step - loss: 0.0701 - mae: 0.1752\n",
            "Epoch 5/100\n",
            "1/1 [==============================] - ETA: 0s - loss: 0.0804 - mae: 0.2358"
          ]
        },
        {
          "output_type": "stream",
          "name": "stderr",
          "text": [
            "WARNING:tensorflow:Early stopping conditioned on metric `val_loss` which is not available. Available metrics are: loss,mae\n"
          ]
        },
        {
          "output_type": "stream",
          "name": "stdout",
          "text": [
            "\b\b\b\b\b\b\b\b\b\b\b\b\b\b\b\b\b\b\b\b\b\b\b\b\b\b\b\b\b\b\b\b\b\b\b\b\b\b\b\b\b\b\b\b\b\b\b\b\b\b\b\b\b\b\b\b\b\b\b\b\b\b\b\b\b\b\b\b\b\b\b\b\b\b\b\r1/1 [==============================] - 0s 50ms/step - loss: 0.0804 - mae: 0.2358\n",
            "Epoch 6/100\n",
            "1/1 [==============================] - ETA: 0s - loss: 0.1470 - mae: 0.3236"
          ]
        },
        {
          "output_type": "stream",
          "name": "stderr",
          "text": [
            "WARNING:tensorflow:Early stopping conditioned on metric `val_loss` which is not available. Available metrics are: loss,mae\n"
          ]
        },
        {
          "output_type": "stream",
          "name": "stdout",
          "text": [
            "\b\b\b\b\b\b\b\b\b\b\b\b\b\b\b\b\b\b\b\b\b\b\b\b\b\b\b\b\b\b\b\b\b\b\b\b\b\b\b\b\b\b\b\b\b\b\b\b\b\b\b\b\b\b\b\b\b\b\b\b\b\b\b\b\b\b\b\b\b\b\b\b\b\b\b\r1/1 [==============================] - 0s 51ms/step - loss: 0.1470 - mae: 0.3236\n",
            "Epoch 7/100\n",
            "1/1 [==============================] - ETA: 0s - loss: 0.1375 - mae: 0.3006"
          ]
        },
        {
          "output_type": "stream",
          "name": "stderr",
          "text": [
            "WARNING:tensorflow:Early stopping conditioned on metric `val_loss` which is not available. Available metrics are: loss,mae\n"
          ]
        },
        {
          "output_type": "stream",
          "name": "stdout",
          "text": [
            "\b\b\b\b\b\b\b\b\b\b\b\b\b\b\b\b\b\b\b\b\b\b\b\b\b\b\b\b\b\b\b\b\b\b\b\b\b\b\b\b\b\b\b\b\b\b\b\b\b\b\b\b\b\b\b\b\b\b\b\b\b\b\b\b\b\b\b\b\b\b\b\b\b\b\b\r1/1 [==============================] - 0s 54ms/step - loss: 0.1375 - mae: 0.3006\n",
            "Epoch 8/100\n",
            "1/1 [==============================] - ETA: 0s - loss: 0.0732 - mae: 0.2170"
          ]
        },
        {
          "output_type": "stream",
          "name": "stderr",
          "text": [
            "WARNING:tensorflow:Early stopping conditioned on metric `val_loss` which is not available. Available metrics are: loss,mae\n"
          ]
        },
        {
          "output_type": "stream",
          "name": "stdout",
          "text": [
            "\b\b\b\b\b\b\b\b\b\b\b\b\b\b\b\b\b\b\b\b\b\b\b\b\b\b\b\b\b\b\b\b\b\b\b\b\b\b\b\b\b\b\b\b\b\b\b\b\b\b\b\b\b\b\b\b\b\b\b\b\b\b\b\b\b\b\b\b\b\b\b\b\b\b\b\r1/1 [==============================] - 0s 50ms/step - loss: 0.0732 - mae: 0.2170\n",
            "Epoch 9/100\n",
            "1/1 [==============================] - ETA: 0s - loss: 0.0580 - mae: 0.1740"
          ]
        },
        {
          "output_type": "stream",
          "name": "stderr",
          "text": [
            "WARNING:tensorflow:Early stopping conditioned on metric `val_loss` which is not available. Available metrics are: loss,mae\n"
          ]
        },
        {
          "output_type": "stream",
          "name": "stdout",
          "text": [
            "\b\b\b\b\b\b\b\b\b\b\b\b\b\b\b\b\b\b\b\b\b\b\b\b\b\b\b\b\b\b\b\b\b\b\b\b\b\b\b\b\b\b\b\b\b\b\b\b\b\b\b\b\b\b\b\b\b\b\b\b\b\b\b\b\b\b\b\b\b\b\b\b\b\b\b\r1/1 [==============================] - 0s 65ms/step - loss: 0.0580 - mae: 0.1740\n",
            "Epoch 10/100\n",
            "1/1 [==============================] - ETA: 0s - loss: 0.0885 - mae: 0.2252"
          ]
        },
        {
          "output_type": "stream",
          "name": "stderr",
          "text": [
            "WARNING:tensorflow:Early stopping conditioned on metric `val_loss` which is not available. Available metrics are: loss,mae\n"
          ]
        },
        {
          "output_type": "stream",
          "name": "stdout",
          "text": [
            "\b\b\b\b\b\b\b\b\b\b\b\b\b\b\b\b\b\b\b\b\b\b\b\b\b\b\b\b\b\b\b\b\b\b\b\b\b\b\b\b\b\b\b\b\b\b\b\b\b\b\b\b\b\b\b\b\b\b\b\b\b\b\b\b\b\b\b\b\b\b\b\b\b\b\b\r1/1 [==============================] - 0s 57ms/step - loss: 0.0885 - mae: 0.2252\n",
            "Epoch 11/100\n",
            "1/1 [==============================] - ETA: 0s - loss: 0.1035 - mae: 0.1792"
          ]
        },
        {
          "output_type": "stream",
          "name": "stderr",
          "text": [
            "WARNING:tensorflow:Early stopping conditioned on metric `val_loss` which is not available. Available metrics are: loss,mae\n"
          ]
        },
        {
          "output_type": "stream",
          "name": "stdout",
          "text": [
            "\b\b\b\b\b\b\b\b\b\b\b\b\b\b\b\b\b\b\b\b\b\b\b\b\b\b\b\b\b\b\b\b\b\b\b\b\b\b\b\b\b\b\b\b\b\b\b\b\b\b\b\b\b\b\b\b\b\b\b\b\b\b\b\b\b\b\b\b\b\b\b\b\b\b\b\r1/1 [==============================] - 0s 58ms/step - loss: 0.1035 - mae: 0.1792\n",
            "Epoch 12/100\n",
            "1/1 [==============================] - ETA: 0s - loss: 0.0974 - mae: 0.1884"
          ]
        },
        {
          "output_type": "stream",
          "name": "stderr",
          "text": [
            "WARNING:tensorflow:Early stopping conditioned on metric `val_loss` which is not available. Available metrics are: loss,mae\n"
          ]
        },
        {
          "output_type": "stream",
          "name": "stdout",
          "text": [
            "\b\b\b\b\b\b\b\b\b\b\b\b\b\b\b\b\b\b\b\b\b\b\b\b\b\b\b\b\b\b\b\b\b\b\b\b\b\b\b\b\b\b\b\b\b\b\b\b\b\b\b\b\b\b\b\b\b\b\b\b\b\b\b\b\b\b\b\b\b\b\b\b\b\b\b\r1/1 [==============================] - 0s 60ms/step - loss: 0.0974 - mae: 0.1884\n",
            "Epoch 13/100\n",
            "1/1 [==============================] - ETA: 0s - loss: 0.0869 - mae: 0.1878"
          ]
        },
        {
          "output_type": "stream",
          "name": "stderr",
          "text": [
            "WARNING:tensorflow:Early stopping conditioned on metric `val_loss` which is not available. Available metrics are: loss,mae\n"
          ]
        },
        {
          "output_type": "stream",
          "name": "stdout",
          "text": [
            "\b\b\b\b\b\b\b\b\b\b\b\b\b\b\b\b\b\b\b\b\b\b\b\b\b\b\b\b\b\b\b\b\b\b\b\b\b\b\b\b\b\b\b\b\b\b\b\b\b\b\b\b\b\b\b\b\b\b\b\b\b\b\b\b\b\b\b\b\b\b\b\b\b\b\b\r1/1 [==============================] - 0s 44ms/step - loss: 0.0869 - mae: 0.1878\n",
            "Epoch 14/100\n",
            "1/1 [==============================] - ETA: 0s - loss: 0.0820 - mae: 0.1857"
          ]
        },
        {
          "output_type": "stream",
          "name": "stderr",
          "text": [
            "WARNING:tensorflow:Early stopping conditioned on metric `val_loss` which is not available. Available metrics are: loss,mae\n"
          ]
        },
        {
          "output_type": "stream",
          "name": "stdout",
          "text": [
            "\b\b\b\b\b\b\b\b\b\b\b\b\b\b\b\b\b\b\b\b\b\b\b\b\b\b\b\b\b\b\b\b\b\b\b\b\b\b\b\b\b\b\b\b\b\b\b\b\b\b\b\b\b\b\b\b\b\b\b\b\b\b\b\b\b\b\b\b\b\b\b\b\b\b\b\r1/1 [==============================] - 0s 38ms/step - loss: 0.0820 - mae: 0.1857\n",
            "Epoch 15/100\n",
            "1/1 [==============================] - ETA: 0s - loss: 0.0753 - mae: 0.1697"
          ]
        },
        {
          "output_type": "stream",
          "name": "stderr",
          "text": [
            "WARNING:tensorflow:Early stopping conditioned on metric `val_loss` which is not available. Available metrics are: loss,mae\n"
          ]
        },
        {
          "output_type": "stream",
          "name": "stdout",
          "text": [
            "\b\b\b\b\b\b\b\b\b\b\b\b\b\b\b\b\b\b\b\b\b\b\b\b\b\b\b\b\b\b\b\b\b\b\b\b\b\b\b\b\b\b\b\b\b\b\b\b\b\b\b\b\b\b\b\b\b\b\b\b\b\b\b\b\b\b\b\b\b\b\b\b\b\b\b\r1/1 [==============================] - 0s 26ms/step - loss: 0.0753 - mae: 0.1697\n",
            "Epoch 16/100\n",
            "1/1 [==============================] - ETA: 0s - loss: 0.0844 - mae: 0.1781"
          ]
        },
        {
          "output_type": "stream",
          "name": "stderr",
          "text": [
            "WARNING:tensorflow:Early stopping conditioned on metric `val_loss` which is not available. Available metrics are: loss,mae\n"
          ]
        },
        {
          "output_type": "stream",
          "name": "stdout",
          "text": [
            "\b\b\b\b\b\b\b\b\b\b\b\b\b\b\b\b\b\b\b\b\b\b\b\b\b\b\b\b\b\b\b\b\b\b\b\b\b\b\b\b\b\b\b\b\b\b\b\b\b\b\b\b\b\b\b\b\b\b\b\b\b\b\b\b\b\b\b\b\b\b\b\b\b\b\b\r1/1 [==============================] - 0s 25ms/step - loss: 0.0844 - mae: 0.1781\n",
            "Epoch 17/100\n",
            "1/1 [==============================] - ETA: 0s - loss: 0.0829 - mae: 0.1647"
          ]
        },
        {
          "output_type": "stream",
          "name": "stderr",
          "text": [
            "WARNING:tensorflow:Early stopping conditioned on metric `val_loss` which is not available. Available metrics are: loss,mae\n"
          ]
        },
        {
          "output_type": "stream",
          "name": "stdout",
          "text": [
            "\b\b\b\b\b\b\b\b\b\b\b\b\b\b\b\b\b\b\b\b\b\b\b\b\b\b\b\b\b\b\b\b\b\b\b\b\b\b\b\b\b\b\b\b\b\b\b\b\b\b\b\b\b\b\b\b\b\b\b\b\b\b\b\b\b\b\b\b\b\b\b\b\b\b\b\r1/1 [==============================] - 0s 23ms/step - loss: 0.0829 - mae: 0.1647\n",
            "Epoch 18/100\n",
            "1/1 [==============================] - ETA: 0s - loss: 0.0711 - mae: 0.1665"
          ]
        },
        {
          "output_type": "stream",
          "name": "stderr",
          "text": [
            "WARNING:tensorflow:Early stopping conditioned on metric `val_loss` which is not available. Available metrics are: loss,mae\n"
          ]
        },
        {
          "output_type": "stream",
          "name": "stdout",
          "text": [
            "\b\b\b\b\b\b\b\b\b\b\b\b\b\b\b\b\b\b\b\b\b\b\b\b\b\b\b\b\b\b\b\b\b\b\b\b\b\b\b\b\b\b\b\b\b\b\b\b\b\b\b\b\b\b\b\b\b\b\b\b\b\b\b\b\b\b\b\b\b\b\b\b\b\b\b\r1/1 [==============================] - 0s 26ms/step - loss: 0.0711 - mae: 0.1665\n",
            "Epoch 19/100\n",
            "1/1 [==============================] - ETA: 0s - loss: 0.0747 - mae: 0.1688"
          ]
        },
        {
          "output_type": "stream",
          "name": "stderr",
          "text": [
            "WARNING:tensorflow:Early stopping conditioned on metric `val_loss` which is not available. Available metrics are: loss,mae\n"
          ]
        },
        {
          "output_type": "stream",
          "name": "stdout",
          "text": [
            "\b\b\b\b\b\b\b\b\b\b\b\b\b\b\b\b\b\b\b\b\b\b\b\b\b\b\b\b\b\b\b\b\b\b\b\b\b\b\b\b\b\b\b\b\b\b\b\b\b\b\b\b\b\b\b\b\b\b\b\b\b\b\b\b\b\b\b\b\b\b\b\b\b\b\b\r1/1 [==============================] - 0s 24ms/step - loss: 0.0747 - mae: 0.1688\n",
            "Epoch 20/100\n",
            "1/1 [==============================] - ETA: 0s - loss: 0.0863 - mae: 0.1887"
          ]
        },
        {
          "output_type": "stream",
          "name": "stderr",
          "text": [
            "WARNING:tensorflow:Early stopping conditioned on metric `val_loss` which is not available. Available metrics are: loss,mae\n"
          ]
        },
        {
          "output_type": "stream",
          "name": "stdout",
          "text": [
            "\b\b\b\b\b\b\b\b\b\b\b\b\b\b\b\b\b\b\b\b\b\b\b\b\b\b\b\b\b\b\b\b\b\b\b\b\b\b\b\b\b\b\b\b\b\b\b\b\b\b\b\b\b\b\b\b\b\b\b\b\b\b\b\b\b\b\b\b\b\b\b\b\b\b\b\r1/1 [==============================] - 0s 24ms/step - loss: 0.0863 - mae: 0.1887\n",
            "Epoch 21/100\n",
            "1/1 [==============================] - ETA: 0s - loss: 0.0503 - mae: 0.1593"
          ]
        },
        {
          "output_type": "stream",
          "name": "stderr",
          "text": [
            "WARNING:tensorflow:Early stopping conditioned on metric `val_loss` which is not available. Available metrics are: loss,mae\n"
          ]
        },
        {
          "output_type": "stream",
          "name": "stdout",
          "text": [
            "\b\b\b\b\b\b\b\b\b\b\b\b\b\b\b\b\b\b\b\b\b\b\b\b\b\b\b\b\b\b\b\b\b\b\b\b\b\b\b\b\b\b\b\b\b\b\b\b\b\b\b\b\b\b\b\b\b\b\b\b\b\b\b\b\b\b\b\b\b\b\b\b\b\b\b\r1/1 [==============================] - 0s 26ms/step - loss: 0.0503 - mae: 0.1593\n",
            "Epoch 22/100\n",
            "1/1 [==============================] - ETA: 0s - loss: 0.0808 - mae: 0.2029"
          ]
        },
        {
          "output_type": "stream",
          "name": "stderr",
          "text": [
            "WARNING:tensorflow:Early stopping conditioned on metric `val_loss` which is not available. Available metrics are: loss,mae\n"
          ]
        },
        {
          "output_type": "stream",
          "name": "stdout",
          "text": [
            "\b\b\b\b\b\b\b\b\b\b\b\b\b\b\b\b\b\b\b\b\b\b\b\b\b\b\b\b\b\b\b\b\b\b\b\b\b\b\b\b\b\b\b\b\b\b\b\b\b\b\b\b\b\b\b\b\b\b\b\b\b\b\b\b\b\b\b\b\b\b\b\b\b\b\b\r1/1 [==============================] - 0s 26ms/step - loss: 0.0808 - mae: 0.2029\n",
            "Epoch 23/100\n",
            "1/1 [==============================] - ETA: 0s - loss: 0.0681 - mae: 0.2092"
          ]
        },
        {
          "output_type": "stream",
          "name": "stderr",
          "text": [
            "WARNING:tensorflow:Early stopping conditioned on metric `val_loss` which is not available. Available metrics are: loss,mae\n"
          ]
        },
        {
          "output_type": "stream",
          "name": "stdout",
          "text": [
            "\b\b\b\b\b\b\b\b\b\b\b\b\b\b\b\b\b\b\b\b\b\b\b\b\b\b\b\b\b\b\b\b\b\b\b\b\b\b\b\b\b\b\b\b\b\b\b\b\b\b\b\b\b\b\b\b\b\b\b\b\b\b\b\b\b\b\b\b\b\b\b\b\b\b\b\r1/1 [==============================] - 0s 24ms/step - loss: 0.0681 - mae: 0.2092\n",
            "Epoch 24/100\n",
            "1/1 [==============================] - ETA: 0s - loss: 0.0893 - mae: 0.2251"
          ]
        },
        {
          "output_type": "stream",
          "name": "stderr",
          "text": [
            "WARNING:tensorflow:Early stopping conditioned on metric `val_loss` which is not available. Available metrics are: loss,mae\n"
          ]
        },
        {
          "output_type": "stream",
          "name": "stdout",
          "text": [
            "\b\b\b\b\b\b\b\b\b\b\b\b\b\b\b\b\b\b\b\b\b\b\b\b\b\b\b\b\b\b\b\b\b\b\b\b\b\b\b\b\b\b\b\b\b\b\b\b\b\b\b\b\b\b\b\b\b\b\b\b\b\b\b\b\b\b\b\b\b\b\b\b\b\b\b\r1/1 [==============================] - 0s 30ms/step - loss: 0.0893 - mae: 0.2251\n",
            "Epoch 25/100\n",
            "1/1 [==============================] - ETA: 0s - loss: 0.0740 - mae: 0.2084"
          ]
        },
        {
          "output_type": "stream",
          "name": "stderr",
          "text": [
            "WARNING:tensorflow:Early stopping conditioned on metric `val_loss` which is not available. Available metrics are: loss,mae\n"
          ]
        },
        {
          "output_type": "stream",
          "name": "stdout",
          "text": [
            "\b\b\b\b\b\b\b\b\b\b\b\b\b\b\b\b\b\b\b\b\b\b\b\b\b\b\b\b\b\b\b\b\b\b\b\b\b\b\b\b\b\b\b\b\b\b\b\b\b\b\b\b\b\b\b\b\b\b\b\b\b\b\b\b\b\b\b\b\b\b\b\b\b\b\b\r1/1 [==============================] - 0s 36ms/step - loss: 0.0740 - mae: 0.2084\n",
            "Epoch 26/100\n",
            "1/1 [==============================] - ETA: 0s - loss: 0.0845 - mae: 0.2212"
          ]
        },
        {
          "output_type": "stream",
          "name": "stderr",
          "text": [
            "WARNING:tensorflow:Early stopping conditioned on metric `val_loss` which is not available. Available metrics are: loss,mae\n"
          ]
        },
        {
          "output_type": "stream",
          "name": "stdout",
          "text": [
            "\b\b\b\b\b\b\b\b\b\b\b\b\b\b\b\b\b\b\b\b\b\b\b\b\b\b\b\b\b\b\b\b\b\b\b\b\b\b\b\b\b\b\b\b\b\b\b\b\b\b\b\b\b\b\b\b\b\b\b\b\b\b\b\b\b\b\b\b\b\b\b\b\b\b\b\r1/1 [==============================] - 0s 28ms/step - loss: 0.0845 - mae: 0.2212\n",
            "Epoch 27/100\n",
            "1/1 [==============================] - ETA: 0s - loss: 0.0915 - mae: 0.2115"
          ]
        },
        {
          "output_type": "stream",
          "name": "stderr",
          "text": [
            "WARNING:tensorflow:Early stopping conditioned on metric `val_loss` which is not available. Available metrics are: loss,mae\n"
          ]
        },
        {
          "output_type": "stream",
          "name": "stdout",
          "text": [
            "\b\b\b\b\b\b\b\b\b\b\b\b\b\b\b\b\b\b\b\b\b\b\b\b\b\b\b\b\b\b\b\b\b\b\b\b\b\b\b\b\b\b\b\b\b\b\b\b\b\b\b\b\b\b\b\b\b\b\b\b\b\b\b\b\b\b\b\b\b\b\b\b\b\b\b\r1/1 [==============================] - 0s 30ms/step - loss: 0.0915 - mae: 0.2115\n",
            "Epoch 28/100\n",
            "1/1 [==============================] - ETA: 0s - loss: 0.0784 - mae: 0.2193"
          ]
        },
        {
          "output_type": "stream",
          "name": "stderr",
          "text": [
            "WARNING:tensorflow:Early stopping conditioned on metric `val_loss` which is not available. Available metrics are: loss,mae\n"
          ]
        },
        {
          "output_type": "stream",
          "name": "stdout",
          "text": [
            "\b\b\b\b\b\b\b\b\b\b\b\b\b\b\b\b\b\b\b\b\b\b\b\b\b\b\b\b\b\b\b\b\b\b\b\b\b\b\b\b\b\b\b\b\b\b\b\b\b\b\b\b\b\b\b\b\b\b\b\b\b\b\b\b\b\b\b\b\b\b\b\b\b\b\b\r1/1 [==============================] - 0s 31ms/step - loss: 0.0784 - mae: 0.2193\n",
            "Epoch 29/100\n",
            "1/1 [==============================] - ETA: 0s - loss: 0.0802 - mae: 0.2087"
          ]
        },
        {
          "output_type": "stream",
          "name": "stderr",
          "text": [
            "WARNING:tensorflow:Early stopping conditioned on metric `val_loss` which is not available. Available metrics are: loss,mae\n"
          ]
        },
        {
          "output_type": "stream",
          "name": "stdout",
          "text": [
            "\b\b\b\b\b\b\b\b\b\b\b\b\b\b\b\b\b\b\b\b\b\b\b\b\b\b\b\b\b\b\b\b\b\b\b\b\b\b\b\b\b\b\b\b\b\b\b\b\b\b\b\b\b\b\b\b\b\b\b\b\b\b\b\b\b\b\b\b\b\b\b\b\b\b\b\r1/1 [==============================] - 0s 27ms/step - loss: 0.0802 - mae: 0.2087\n",
            "Epoch 30/100\n",
            "1/1 [==============================] - ETA: 0s - loss: 0.0708 - mae: 0.2094"
          ]
        },
        {
          "output_type": "stream",
          "name": "stderr",
          "text": [
            "WARNING:tensorflow:Early stopping conditioned on metric `val_loss` which is not available. Available metrics are: loss,mae\n"
          ]
        },
        {
          "output_type": "stream",
          "name": "stdout",
          "text": [
            "\b\b\b\b\b\b\b\b\b\b\b\b\b\b\b\b\b\b\b\b\b\b\b\b\b\b\b\b\b\b\b\b\b\b\b\b\b\b\b\b\b\b\b\b\b\b\b\b\b\b\b\b\b\b\b\b\b\b\b\b\b\b\b\b\b\b\b\b\b\b\b\b\b\b\b\r1/1 [==============================] - 0s 24ms/step - loss: 0.0708 - mae: 0.2094\n",
            "Epoch 31/100\n",
            "1/1 [==============================] - ETA: 0s - loss: 0.0718 - mae: 0.1992"
          ]
        },
        {
          "output_type": "stream",
          "name": "stderr",
          "text": [
            "WARNING:tensorflow:Early stopping conditioned on metric `val_loss` which is not available. Available metrics are: loss,mae\n"
          ]
        },
        {
          "output_type": "stream",
          "name": "stdout",
          "text": [
            "\b\b\b\b\b\b\b\b\b\b\b\b\b\b\b\b\b\b\b\b\b\b\b\b\b\b\b\b\b\b\b\b\b\b\b\b\b\b\b\b\b\b\b\b\b\b\b\b\b\b\b\b\b\b\b\b\b\b\b\b\b\b\b\b\b\b\b\b\b\b\b\b\b\b\b\r1/1 [==============================] - 0s 26ms/step - loss: 0.0718 - mae: 0.1992\n",
            "Epoch 32/100\n",
            "1/1 [==============================] - ETA: 0s - loss: 0.0585 - mae: 0.1782"
          ]
        },
        {
          "output_type": "stream",
          "name": "stderr",
          "text": [
            "WARNING:tensorflow:Early stopping conditioned on metric `val_loss` which is not available. Available metrics are: loss,mae\n"
          ]
        },
        {
          "output_type": "stream",
          "name": "stdout",
          "text": [
            "\b\b\b\b\b\b\b\b\b\b\b\b\b\b\b\b\b\b\b\b\b\b\b\b\b\b\b\b\b\b\b\b\b\b\b\b\b\b\b\b\b\b\b\b\b\b\b\b\b\b\b\b\b\b\b\b\b\b\b\b\b\b\b\b\b\b\b\b\b\b\b\b\b\b\b\r1/1 [==============================] - 0s 26ms/step - loss: 0.0585 - mae: 0.1782\n",
            "Epoch 33/100\n",
            "1/1 [==============================] - ETA: 0s - loss: 0.0712 - mae: 0.2015"
          ]
        },
        {
          "output_type": "stream",
          "name": "stderr",
          "text": [
            "WARNING:tensorflow:Early stopping conditioned on metric `val_loss` which is not available. Available metrics are: loss,mae\n"
          ]
        },
        {
          "output_type": "stream",
          "name": "stdout",
          "text": [
            "\b\b\b\b\b\b\b\b\b\b\b\b\b\b\b\b\b\b\b\b\b\b\b\b\b\b\b\b\b\b\b\b\b\b\b\b\b\b\b\b\b\b\b\b\b\b\b\b\b\b\b\b\b\b\b\b\b\b\b\b\b\b\b\b\b\b\b\b\b\b\b\b\b\b\b\r1/1 [==============================] - 0s 26ms/step - loss: 0.0712 - mae: 0.2015\n",
            "Epoch 34/100\n",
            "1/1 [==============================] - ETA: 0s - loss: 0.0698 - mae: 0.1776"
          ]
        },
        {
          "output_type": "stream",
          "name": "stderr",
          "text": [
            "WARNING:tensorflow:Early stopping conditioned on metric `val_loss` which is not available. Available metrics are: loss,mae\n"
          ]
        },
        {
          "output_type": "stream",
          "name": "stdout",
          "text": [
            "\b\b\b\b\b\b\b\b\b\b\b\b\b\b\b\b\b\b\b\b\b\b\b\b\b\b\b\b\b\b\b\b\b\b\b\b\b\b\b\b\b\b\b\b\b\b\b\b\b\b\b\b\b\b\b\b\b\b\b\b\b\b\b\b\b\b\b\b\b\b\b\b\b\b\b\r1/1 [==============================] - 0s 35ms/step - loss: 0.0698 - mae: 0.1776\n",
            "Epoch 35/100\n",
            "1/1 [==============================] - ETA: 0s - loss: 0.0598 - mae: 0.1780"
          ]
        },
        {
          "output_type": "stream",
          "name": "stderr",
          "text": [
            "WARNING:tensorflow:Early stopping conditioned on metric `val_loss` which is not available. Available metrics are: loss,mae\n"
          ]
        },
        {
          "output_type": "stream",
          "name": "stdout",
          "text": [
            "\b\b\b\b\b\b\b\b\b\b\b\b\b\b\b\b\b\b\b\b\b\b\b\b\b\b\b\b\b\b\b\b\b\b\b\b\b\b\b\b\b\b\b\b\b\b\b\b\b\b\b\b\b\b\b\b\b\b\b\b\b\b\b\b\b\b\b\b\b\b\b\b\b\b\b\r1/1 [==============================] - 0s 27ms/step - loss: 0.0598 - mae: 0.1780\n",
            "Epoch 36/100\n",
            "1/1 [==============================] - ETA: 0s - loss: 0.0696 - mae: 0.1730"
          ]
        },
        {
          "output_type": "stream",
          "name": "stderr",
          "text": [
            "WARNING:tensorflow:Early stopping conditioned on metric `val_loss` which is not available. Available metrics are: loss,mae\n"
          ]
        },
        {
          "output_type": "stream",
          "name": "stdout",
          "text": [
            "\b\b\b\b\b\b\b\b\b\b\b\b\b\b\b\b\b\b\b\b\b\b\b\b\b\b\b\b\b\b\b\b\b\b\b\b\b\b\b\b\b\b\b\b\b\b\b\b\b\b\b\b\b\b\b\b\b\b\b\b\b\b\b\b\b\b\b\b\b\b\b\b\b\b\b\r1/1 [==============================] - 0s 23ms/step - loss: 0.0696 - mae: 0.1730\n",
            "Epoch 37/100\n",
            "1/1 [==============================] - ETA: 0s - loss: 0.0689 - mae: 0.1819"
          ]
        },
        {
          "output_type": "stream",
          "name": "stderr",
          "text": [
            "WARNING:tensorflow:Early stopping conditioned on metric `val_loss` which is not available. Available metrics are: loss,mae\n"
          ]
        },
        {
          "output_type": "stream",
          "name": "stdout",
          "text": [
            "\b\b\b\b\b\b\b\b\b\b\b\b\b\b\b\b\b\b\b\b\b\b\b\b\b\b\b\b\b\b\b\b\b\b\b\b\b\b\b\b\b\b\b\b\b\b\b\b\b\b\b\b\b\b\b\b\b\b\b\b\b\b\b\b\b\b\b\b\b\b\b\b\b\b\b\r1/1 [==============================] - 0s 26ms/step - loss: 0.0689 - mae: 0.1819\n",
            "Epoch 38/100\n",
            "1/1 [==============================] - ETA: 0s - loss: 0.0810 - mae: 0.1819"
          ]
        },
        {
          "output_type": "stream",
          "name": "stderr",
          "text": [
            "WARNING:tensorflow:Early stopping conditioned on metric `val_loss` which is not available. Available metrics are: loss,mae\n"
          ]
        },
        {
          "output_type": "stream",
          "name": "stdout",
          "text": [
            "\b\b\b\b\b\b\b\b\b\b\b\b\b\b\b\b\b\b\b\b\b\b\b\b\b\b\b\b\b\b\b\b\b\b\b\b\b\b\b\b\b\b\b\b\b\b\b\b\b\b\b\b\b\b\b\b\b\b\b\b\b\b\b\b\b\b\b\b\b\b\b\b\b\b\b\r1/1 [==============================] - 0s 26ms/step - loss: 0.0810 - mae: 0.1819\n",
            "Epoch 39/100\n",
            "1/1 [==============================] - ETA: 0s - loss: 0.0624 - mae: 0.1571"
          ]
        },
        {
          "output_type": "stream",
          "name": "stderr",
          "text": [
            "WARNING:tensorflow:Early stopping conditioned on metric `val_loss` which is not available. Available metrics are: loss,mae\n"
          ]
        },
        {
          "output_type": "stream",
          "name": "stdout",
          "text": [
            "\b\b\b\b\b\b\b\b\b\b\b\b\b\b\b\b\b\b\b\b\b\b\b\b\b\b\b\b\b\b\b\b\b\b\b\b\b\b\b\b\b\b\b\b\b\b\b\b\b\b\b\b\b\b\b\b\b\b\b\b\b\b\b\b\b\b\b\b\b\b\b\b\b\b\b\r1/1 [==============================] - 0s 27ms/step - loss: 0.0624 - mae: 0.1571\n",
            "Epoch 40/100\n",
            "1/1 [==============================] - ETA: 0s - loss: 0.0808 - mae: 0.1963"
          ]
        },
        {
          "output_type": "stream",
          "name": "stderr",
          "text": [
            "WARNING:tensorflow:Early stopping conditioned on metric `val_loss` which is not available. Available metrics are: loss,mae\n"
          ]
        },
        {
          "output_type": "stream",
          "name": "stdout",
          "text": [
            "\b\b\b\b\b\b\b\b\b\b\b\b\b\b\b\b\b\b\b\b\b\b\b\b\b\b\b\b\b\b\b\b\b\b\b\b\b\b\b\b\b\b\b\b\b\b\b\b\b\b\b\b\b\b\b\b\b\b\b\b\b\b\b\b\b\b\b\b\b\b\b\b\b\b\b\r1/1 [==============================] - 0s 26ms/step - loss: 0.0808 - mae: 0.1963\n",
            "Epoch 41/100\n",
            "1/1 [==============================] - ETA: 0s - loss: 0.0685 - mae: 0.1744"
          ]
        },
        {
          "output_type": "stream",
          "name": "stderr",
          "text": [
            "WARNING:tensorflow:Early stopping conditioned on metric `val_loss` which is not available. Available metrics are: loss,mae\n"
          ]
        },
        {
          "output_type": "stream",
          "name": "stdout",
          "text": [
            "\b\b\b\b\b\b\b\b\b\b\b\b\b\b\b\b\b\b\b\b\b\b\b\b\b\b\b\b\b\b\b\b\b\b\b\b\b\b\b\b\b\b\b\b\b\b\b\b\b\b\b\b\b\b\b\b\b\b\b\b\b\b\b\b\b\b\b\b\b\b\b\b\b\b\b\r1/1 [==============================] - 0s 30ms/step - loss: 0.0685 - mae: 0.1744\n",
            "Epoch 42/100\n",
            "1/1 [==============================] - ETA: 0s - loss: 0.0785 - mae: 0.1888"
          ]
        },
        {
          "output_type": "stream",
          "name": "stderr",
          "text": [
            "WARNING:tensorflow:Early stopping conditioned on metric `val_loss` which is not available. Available metrics are: loss,mae\n"
          ]
        },
        {
          "output_type": "stream",
          "name": "stdout",
          "text": [
            "\b\b\b\b\b\b\b\b\b\b\b\b\b\b\b\b\b\b\b\b\b\b\b\b\b\b\b\b\b\b\b\b\b\b\b\b\b\b\b\b\b\b\b\b\b\b\b\b\b\b\b\b\b\b\b\b\b\b\b\b\b\b\b\b\b\b\b\b\b\b\b\b\b\b\b\r1/1 [==============================] - 0s 28ms/step - loss: 0.0785 - mae: 0.1888\n",
            "Epoch 43/100\n",
            "1/1 [==============================] - ETA: 0s - loss: 0.0485 - mae: 0.1544"
          ]
        },
        {
          "output_type": "stream",
          "name": "stderr",
          "text": [
            "WARNING:tensorflow:Early stopping conditioned on metric `val_loss` which is not available. Available metrics are: loss,mae\n"
          ]
        },
        {
          "output_type": "stream",
          "name": "stdout",
          "text": [
            "\b\b\b\b\b\b\b\b\b\b\b\b\b\b\b\b\b\b\b\b\b\b\b\b\b\b\b\b\b\b\b\b\b\b\b\b\b\b\b\b\b\b\b\b\b\b\b\b\b\b\b\b\b\b\b\b\b\b\b\b\b\b\b\b\b\b\b\b\b\b\b\b\b\b\b\r1/1 [==============================] - 0s 24ms/step - loss: 0.0485 - mae: 0.1544\n",
            "Epoch 44/100\n",
            "1/1 [==============================] - ETA: 0s - loss: 0.0967 - mae: 0.2293"
          ]
        },
        {
          "output_type": "stream",
          "name": "stderr",
          "text": [
            "WARNING:tensorflow:Early stopping conditioned on metric `val_loss` which is not available. Available metrics are: loss,mae\n"
          ]
        },
        {
          "output_type": "stream",
          "name": "stdout",
          "text": [
            "\b\b\b\b\b\b\b\b\b\b\b\b\b\b\b\b\b\b\b\b\b\b\b\b\b\b\b\b\b\b\b\b\b\b\b\b\b\b\b\b\b\b\b\b\b\b\b\b\b\b\b\b\b\b\b\b\b\b\b\b\b\b\b\b\b\b\b\b\b\b\b\b\b\b\b\r1/1 [==============================] - 0s 25ms/step - loss: 0.0967 - mae: 0.2293\n",
            "Epoch 45/100\n",
            "1/1 [==============================] - ETA: 0s - loss: 0.0758 - mae: 0.1947"
          ]
        },
        {
          "output_type": "stream",
          "name": "stderr",
          "text": [
            "WARNING:tensorflow:Early stopping conditioned on metric `val_loss` which is not available. Available metrics are: loss,mae\n"
          ]
        },
        {
          "output_type": "stream",
          "name": "stdout",
          "text": [
            "\b\b\b\b\b\b\b\b\b\b\b\b\b\b\b\b\b\b\b\b\b\b\b\b\b\b\b\b\b\b\b\b\b\b\b\b\b\b\b\b\b\b\b\b\b\b\b\b\b\b\b\b\b\b\b\b\b\b\b\b\b\b\b\b\b\b\b\b\b\b\b\b\b\b\b\r1/1 [==============================] - 0s 26ms/step - loss: 0.0758 - mae: 0.1947\n",
            "Epoch 46/100\n",
            "1/1 [==============================] - ETA: 0s - loss: 0.0668 - mae: 0.1822"
          ]
        },
        {
          "output_type": "stream",
          "name": "stderr",
          "text": [
            "WARNING:tensorflow:Early stopping conditioned on metric `val_loss` which is not available. Available metrics are: loss,mae\n"
          ]
        },
        {
          "output_type": "stream",
          "name": "stdout",
          "text": [
            "\b\b\b\b\b\b\b\b\b\b\b\b\b\b\b\b\b\b\b\b\b\b\b\b\b\b\b\b\b\b\b\b\b\b\b\b\b\b\b\b\b\b\b\b\b\b\b\b\b\b\b\b\b\b\b\b\b\b\b\b\b\b\b\b\b\b\b\b\b\b\b\b\b\b\b\r1/1 [==============================] - 0s 27ms/step - loss: 0.0668 - mae: 0.1822\n",
            "Epoch 47/100\n",
            "1/1 [==============================] - ETA: 0s - loss: 0.0834 - mae: 0.2068"
          ]
        },
        {
          "output_type": "stream",
          "name": "stderr",
          "text": [
            "WARNING:tensorflow:Early stopping conditioned on metric `val_loss` which is not available. Available metrics are: loss,mae\n"
          ]
        },
        {
          "output_type": "stream",
          "name": "stdout",
          "text": [
            "\b\b\b\b\b\b\b\b\b\b\b\b\b\b\b\b\b\b\b\b\b\b\b\b\b\b\b\b\b\b\b\b\b\b\b\b\b\b\b\b\b\b\b\b\b\b\b\b\b\b\b\b\b\b\b\b\b\b\b\b\b\b\b\b\b\b\b\b\b\b\b\b\b\b\b\r1/1 [==============================] - 0s 25ms/step - loss: 0.0834 - mae: 0.2068\n",
            "Epoch 48/100\n",
            "1/1 [==============================] - ETA: 0s - loss: 0.0804 - mae: 0.1987"
          ]
        },
        {
          "output_type": "stream",
          "name": "stderr",
          "text": [
            "WARNING:tensorflow:Early stopping conditioned on metric `val_loss` which is not available. Available metrics are: loss,mae\n"
          ]
        },
        {
          "output_type": "stream",
          "name": "stdout",
          "text": [
            "\b\b\b\b\b\b\b\b\b\b\b\b\b\b\b\b\b\b\b\b\b\b\b\b\b\b\b\b\b\b\b\b\b\b\b\b\b\b\b\b\b\b\b\b\b\b\b\b\b\b\b\b\b\b\b\b\b\b\b\b\b\b\b\b\b\b\b\b\b\b\b\b\b\b\b\r1/1 [==============================] - 0s 24ms/step - loss: 0.0804 - mae: 0.1987\n",
            "Epoch 49/100\n",
            "1/1 [==============================] - ETA: 0s - loss: 0.0600 - mae: 0.1681"
          ]
        },
        {
          "output_type": "stream",
          "name": "stderr",
          "text": [
            "WARNING:tensorflow:Early stopping conditioned on metric `val_loss` which is not available. Available metrics are: loss,mae\n"
          ]
        },
        {
          "output_type": "stream",
          "name": "stdout",
          "text": [
            "\b\b\b\b\b\b\b\b\b\b\b\b\b\b\b\b\b\b\b\b\b\b\b\b\b\b\b\b\b\b\b\b\b\b\b\b\b\b\b\b\b\b\b\b\b\b\b\b\b\b\b\b\b\b\b\b\b\b\b\b\b\b\b\b\b\b\b\b\b\b\b\b\b\b\b\r1/1 [==============================] - 0s 27ms/step - loss: 0.0600 - mae: 0.1681\n",
            "Epoch 50/100\n",
            "1/1 [==============================] - ETA: 0s - loss: 0.0622 - mae: 0.1688"
          ]
        },
        {
          "output_type": "stream",
          "name": "stderr",
          "text": [
            "WARNING:tensorflow:Early stopping conditioned on metric `val_loss` which is not available. Available metrics are: loss,mae\n"
          ]
        },
        {
          "output_type": "stream",
          "name": "stdout",
          "text": [
            "\b\b\b\b\b\b\b\b\b\b\b\b\b\b\b\b\b\b\b\b\b\b\b\b\b\b\b\b\b\b\b\b\b\b\b\b\b\b\b\b\b\b\b\b\b\b\b\b\b\b\b\b\b\b\b\b\b\b\b\b\b\b\b\b\b\b\b\b\b\b\b\b\b\b\b\r1/1 [==============================] - 0s 31ms/step - loss: 0.0622 - mae: 0.1688\n",
            "Epoch 51/100\n",
            "1/1 [==============================] - ETA: 0s - loss: 0.0530 - mae: 0.1621"
          ]
        },
        {
          "output_type": "stream",
          "name": "stderr",
          "text": [
            "WARNING:tensorflow:Early stopping conditioned on metric `val_loss` which is not available. Available metrics are: loss,mae\n"
          ]
        },
        {
          "output_type": "stream",
          "name": "stdout",
          "text": [
            "\b\b\b\b\b\b\b\b\b\b\b\b\b\b\b\b\b\b\b\b\b\b\b\b\b\b\b\b\b\b\b\b\b\b\b\b\b\b\b\b\b\b\b\b\b\b\b\b\b\b\b\b\b\b\b\b\b\b\b\b\b\b\b\b\b\b\b\b\b\b\b\b\b\b\b\r1/1 [==============================] - 0s 27ms/step - loss: 0.0530 - mae: 0.1621\n",
            "Epoch 52/100\n",
            "1/1 [==============================] - ETA: 0s - loss: 0.0674 - mae: 0.1907"
          ]
        },
        {
          "output_type": "stream",
          "name": "stderr",
          "text": [
            "WARNING:tensorflow:Early stopping conditioned on metric `val_loss` which is not available. Available metrics are: loss,mae\n"
          ]
        },
        {
          "output_type": "stream",
          "name": "stdout",
          "text": [
            "\b\b\b\b\b\b\b\b\b\b\b\b\b\b\b\b\b\b\b\b\b\b\b\b\b\b\b\b\b\b\b\b\b\b\b\b\b\b\b\b\b\b\b\b\b\b\b\b\b\b\b\b\b\b\b\b\b\b\b\b\b\b\b\b\b\b\b\b\b\b\b\b\b\b\b\r1/1 [==============================] - 0s 24ms/step - loss: 0.0674 - mae: 0.1907\n",
            "Epoch 53/100\n",
            "1/1 [==============================] - ETA: 0s - loss: 0.0611 - mae: 0.1785"
          ]
        },
        {
          "output_type": "stream",
          "name": "stderr",
          "text": [
            "WARNING:tensorflow:Early stopping conditioned on metric `val_loss` which is not available. Available metrics are: loss,mae\n"
          ]
        },
        {
          "output_type": "stream",
          "name": "stdout",
          "text": [
            "\b\b\b\b\b\b\b\b\b\b\b\b\b\b\b\b\b\b\b\b\b\b\b\b\b\b\b\b\b\b\b\b\b\b\b\b\b\b\b\b\b\b\b\b\b\b\b\b\b\b\b\b\b\b\b\b\b\b\b\b\b\b\b\b\b\b\b\b\b\b\b\b\b\b\b\r1/1 [==============================] - 0s 29ms/step - loss: 0.0611 - mae: 0.1785\n",
            "Epoch 54/100\n",
            "1/1 [==============================] - ETA: 0s - loss: 0.0686 - mae: 0.1648"
          ]
        },
        {
          "output_type": "stream",
          "name": "stderr",
          "text": [
            "WARNING:tensorflow:Early stopping conditioned on metric `val_loss` which is not available. Available metrics are: loss,mae\n"
          ]
        },
        {
          "output_type": "stream",
          "name": "stdout",
          "text": [
            "\b\b\b\b\b\b\b\b\b\b\b\b\b\b\b\b\b\b\b\b\b\b\b\b\b\b\b\b\b\b\b\b\b\b\b\b\b\b\b\b\b\b\b\b\b\b\b\b\b\b\b\b\b\b\b\b\b\b\b\b\b\b\b\b\b\b\b\b\b\b\b\b\b\b\b\r1/1 [==============================] - 0s 25ms/step - loss: 0.0686 - mae: 0.1648\n",
            "Epoch 55/100\n",
            "1/1 [==============================] - ETA: 0s - loss: 0.0809 - mae: 0.1937"
          ]
        },
        {
          "output_type": "stream",
          "name": "stderr",
          "text": [
            "WARNING:tensorflow:Early stopping conditioned on metric `val_loss` which is not available. Available metrics are: loss,mae\n"
          ]
        },
        {
          "output_type": "stream",
          "name": "stdout",
          "text": [
            "\b\b\b\b\b\b\b\b\b\b\b\b\b\b\b\b\b\b\b\b\b\b\b\b\b\b\b\b\b\b\b\b\b\b\b\b\b\b\b\b\b\b\b\b\b\b\b\b\b\b\b\b\b\b\b\b\b\b\b\b\b\b\b\b\b\b\b\b\b\b\b\b\b\b\b\r1/1 [==============================] - 0s 32ms/step - loss: 0.0809 - mae: 0.1937\n",
            "Epoch 56/100\n",
            "1/1 [==============================] - ETA: 0s - loss: 0.0859 - mae: 0.1933"
          ]
        },
        {
          "output_type": "stream",
          "name": "stderr",
          "text": [
            "WARNING:tensorflow:Early stopping conditioned on metric `val_loss` which is not available. Available metrics are: loss,mae\n"
          ]
        },
        {
          "output_type": "stream",
          "name": "stdout",
          "text": [
            "\b\b\b\b\b\b\b\b\b\b\b\b\b\b\b\b\b\b\b\b\b\b\b\b\b\b\b\b\b\b\b\b\b\b\b\b\b\b\b\b\b\b\b\b\b\b\b\b\b\b\b\b\b\b\b\b\b\b\b\b\b\b\b\b\b\b\b\b\b\b\b\b\b\b\b\r1/1 [==============================] - 0s 34ms/step - loss: 0.0859 - mae: 0.1933\n",
            "Epoch 57/100\n",
            "1/1 [==============================] - ETA: 0s - loss: 0.0687 - mae: 0.1799"
          ]
        },
        {
          "output_type": "stream",
          "name": "stderr",
          "text": [
            "WARNING:tensorflow:Early stopping conditioned on metric `val_loss` which is not available. Available metrics are: loss,mae\n"
          ]
        },
        {
          "output_type": "stream",
          "name": "stdout",
          "text": [
            "\b\b\b\b\b\b\b\b\b\b\b\b\b\b\b\b\b\b\b\b\b\b\b\b\b\b\b\b\b\b\b\b\b\b\b\b\b\b\b\b\b\b\b\b\b\b\b\b\b\b\b\b\b\b\b\b\b\b\b\b\b\b\b\b\b\b\b\b\b\b\b\b\b\b\b\r1/1 [==============================] - 0s 29ms/step - loss: 0.0687 - mae: 0.1799\n",
            "Epoch 58/100\n",
            "1/1 [==============================] - ETA: 0s - loss: 0.0732 - mae: 0.1821"
          ]
        },
        {
          "output_type": "stream",
          "name": "stderr",
          "text": [
            "WARNING:tensorflow:Early stopping conditioned on metric `val_loss` which is not available. Available metrics are: loss,mae\n"
          ]
        },
        {
          "output_type": "stream",
          "name": "stdout",
          "text": [
            "\b\b\b\b\b\b\b\b\b\b\b\b\b\b\b\b\b\b\b\b\b\b\b\b\b\b\b\b\b\b\b\b\b\b\b\b\b\b\b\b\b\b\b\b\b\b\b\b\b\b\b\b\b\b\b\b\b\b\b\b\b\b\b\b\b\b\b\b\b\b\b\b\b\b\b\r1/1 [==============================] - 0s 28ms/step - loss: 0.0732 - mae: 0.1821\n",
            "Epoch 59/100\n",
            "1/1 [==============================] - ETA: 0s - loss: 0.0724 - mae: 0.1928"
          ]
        },
        {
          "output_type": "stream",
          "name": "stderr",
          "text": [
            "WARNING:tensorflow:Early stopping conditioned on metric `val_loss` which is not available. Available metrics are: loss,mae\n"
          ]
        },
        {
          "output_type": "stream",
          "name": "stdout",
          "text": [
            "\b\b\b\b\b\b\b\b\b\b\b\b\b\b\b\b\b\b\b\b\b\b\b\b\b\b\b\b\b\b\b\b\b\b\b\b\b\b\b\b\b\b\b\b\b\b\b\b\b\b\b\b\b\b\b\b\b\b\b\b\b\b\b\b\b\b\b\b\b\b\b\b\b\b\b\r1/1 [==============================] - 0s 26ms/step - loss: 0.0724 - mae: 0.1928\n",
            "Epoch 60/100\n",
            "1/1 [==============================] - ETA: 0s - loss: 0.0818 - mae: 0.2040"
          ]
        },
        {
          "output_type": "stream",
          "name": "stderr",
          "text": [
            "WARNING:tensorflow:Early stopping conditioned on metric `val_loss` which is not available. Available metrics are: loss,mae\n"
          ]
        },
        {
          "output_type": "stream",
          "name": "stdout",
          "text": [
            "\b\b\b\b\b\b\b\b\b\b\b\b\b\b\b\b\b\b\b\b\b\b\b\b\b\b\b\b\b\b\b\b\b\b\b\b\b\b\b\b\b\b\b\b\b\b\b\b\b\b\b\b\b\b\b\b\b\b\b\b\b\b\b\b\b\b\b\b\b\b\b\b\b\b\b\r1/1 [==============================] - 0s 27ms/step - loss: 0.0818 - mae: 0.2040\n",
            "Epoch 61/100\n",
            "1/1 [==============================] - ETA: 0s - loss: 0.0602 - mae: 0.1778"
          ]
        },
        {
          "output_type": "stream",
          "name": "stderr",
          "text": [
            "WARNING:tensorflow:Early stopping conditioned on metric `val_loss` which is not available. Available metrics are: loss,mae\n"
          ]
        },
        {
          "output_type": "stream",
          "name": "stdout",
          "text": [
            "\b\b\b\b\b\b\b\b\b\b\b\b\b\b\b\b\b\b\b\b\b\b\b\b\b\b\b\b\b\b\b\b\b\b\b\b\b\b\b\b\b\b\b\b\b\b\b\b\b\b\b\b\b\b\b\b\b\b\b\b\b\b\b\b\b\b\b\b\b\b\b\b\b\b\b\r1/1 [==============================] - 0s 26ms/step - loss: 0.0602 - mae: 0.1778\n",
            "Epoch 62/100\n",
            "1/1 [==============================] - ETA: 0s - loss: 0.0634 - mae: 0.1838"
          ]
        },
        {
          "output_type": "stream",
          "name": "stderr",
          "text": [
            "WARNING:tensorflow:Early stopping conditioned on metric `val_loss` which is not available. Available metrics are: loss,mae\n"
          ]
        },
        {
          "output_type": "stream",
          "name": "stdout",
          "text": [
            "\b\b\b\b\b\b\b\b\b\b\b\b\b\b\b\b\b\b\b\b\b\b\b\b\b\b\b\b\b\b\b\b\b\b\b\b\b\b\b\b\b\b\b\b\b\b\b\b\b\b\b\b\b\b\b\b\b\b\b\b\b\b\b\b\b\b\b\b\b\b\b\b\b\b\b\r1/1 [==============================] - 0s 26ms/step - loss: 0.0634 - mae: 0.1838\n",
            "Epoch 63/100\n",
            "1/1 [==============================] - ETA: 0s - loss: 0.0693 - mae: 0.1761"
          ]
        },
        {
          "output_type": "stream",
          "name": "stderr",
          "text": [
            "WARNING:tensorflow:Early stopping conditioned on metric `val_loss` which is not available. Available metrics are: loss,mae\n"
          ]
        },
        {
          "output_type": "stream",
          "name": "stdout",
          "text": [
            "\b\b\b\b\b\b\b\b\b\b\b\b\b\b\b\b\b\b\b\b\b\b\b\b\b\b\b\b\b\b\b\b\b\b\b\b\b\b\b\b\b\b\b\b\b\b\b\b\b\b\b\b\b\b\b\b\b\b\b\b\b\b\b\b\b\b\b\b\b\b\b\b\b\b\b\r1/1 [==============================] - 0s 30ms/step - loss: 0.0693 - mae: 0.1761\n",
            "Epoch 64/100\n",
            "1/1 [==============================] - ETA: 0s - loss: 0.0772 - mae: 0.1933"
          ]
        },
        {
          "output_type": "stream",
          "name": "stderr",
          "text": [
            "WARNING:tensorflow:Early stopping conditioned on metric `val_loss` which is not available. Available metrics are: loss,mae\n"
          ]
        },
        {
          "output_type": "stream",
          "name": "stdout",
          "text": [
            "\b\b\b\b\b\b\b\b\b\b\b\b\b\b\b\b\b\b\b\b\b\b\b\b\b\b\b\b\b\b\b\b\b\b\b\b\b\b\b\b\b\b\b\b\b\b\b\b\b\b\b\b\b\b\b\b\b\b\b\b\b\b\b\b\b\b\b\b\b\b\b\b\b\b\b\r1/1 [==============================] - 0s 25ms/step - loss: 0.0772 - mae: 0.1933\n",
            "Epoch 65/100\n",
            "1/1 [==============================] - ETA: 0s - loss: 0.0667 - mae: 0.1754"
          ]
        },
        {
          "output_type": "stream",
          "name": "stderr",
          "text": [
            "WARNING:tensorflow:Early stopping conditioned on metric `val_loss` which is not available. Available metrics are: loss,mae\n"
          ]
        },
        {
          "output_type": "stream",
          "name": "stdout",
          "text": [
            "\b\b\b\b\b\b\b\b\b\b\b\b\b\b\b\b\b\b\b\b\b\b\b\b\b\b\b\b\b\b\b\b\b\b\b\b\b\b\b\b\b\b\b\b\b\b\b\b\b\b\b\b\b\b\b\b\b\b\b\b\b\b\b\b\b\b\b\b\b\b\b\b\b\b\b\r1/1 [==============================] - 0s 27ms/step - loss: 0.0667 - mae: 0.1754\n",
            "Epoch 66/100\n",
            "1/1 [==============================] - ETA: 0s - loss: 0.0764 - mae: 0.1949"
          ]
        },
        {
          "output_type": "stream",
          "name": "stderr",
          "text": [
            "WARNING:tensorflow:Early stopping conditioned on metric `val_loss` which is not available. Available metrics are: loss,mae\n"
          ]
        },
        {
          "output_type": "stream",
          "name": "stdout",
          "text": [
            "\b\b\b\b\b\b\b\b\b\b\b\b\b\b\b\b\b\b\b\b\b\b\b\b\b\b\b\b\b\b\b\b\b\b\b\b\b\b\b\b\b\b\b\b\b\b\b\b\b\b\b\b\b\b\b\b\b\b\b\b\b\b\b\b\b\b\b\b\b\b\b\b\b\b\b\r1/1 [==============================] - 0s 26ms/step - loss: 0.0764 - mae: 0.1949\n",
            "Epoch 67/100\n",
            "1/1 [==============================] - ETA: 0s - loss: 0.0665 - mae: 0.1764"
          ]
        },
        {
          "output_type": "stream",
          "name": "stderr",
          "text": [
            "WARNING:tensorflow:Early stopping conditioned on metric `val_loss` which is not available. Available metrics are: loss,mae\n"
          ]
        },
        {
          "output_type": "stream",
          "name": "stdout",
          "text": [
            "\b\b\b\b\b\b\b\b\b\b\b\b\b\b\b\b\b\b\b\b\b\b\b\b\b\b\b\b\b\b\b\b\b\b\b\b\b\b\b\b\b\b\b\b\b\b\b\b\b\b\b\b\b\b\b\b\b\b\b\b\b\b\b\b\b\b\b\b\b\b\b\b\b\b\b\r1/1 [==============================] - 0s 26ms/step - loss: 0.0665 - mae: 0.1764\n",
            "Epoch 68/100\n",
            "1/1 [==============================] - ETA: 0s - loss: 0.0744 - mae: 0.1856"
          ]
        },
        {
          "output_type": "stream",
          "name": "stderr",
          "text": [
            "WARNING:tensorflow:Early stopping conditioned on metric `val_loss` which is not available. Available metrics are: loss,mae\n"
          ]
        },
        {
          "output_type": "stream",
          "name": "stdout",
          "text": [
            "\b\b\b\b\b\b\b\b\b\b\b\b\b\b\b\b\b\b\b\b\b\b\b\b\b\b\b\b\b\b\b\b\b\b\b\b\b\b\b\b\b\b\b\b\b\b\b\b\b\b\b\b\b\b\b\b\b\b\b\b\b\b\b\b\b\b\b\b\b\b\b\b\b\b\b\r1/1 [==============================] - 0s 28ms/step - loss: 0.0744 - mae: 0.1856\n",
            "Epoch 69/100\n",
            "1/1 [==============================] - ETA: 0s - loss: 0.0669 - mae: 0.1811"
          ]
        },
        {
          "output_type": "stream",
          "name": "stderr",
          "text": [
            "WARNING:tensorflow:Early stopping conditioned on metric `val_loss` which is not available. Available metrics are: loss,mae\n"
          ]
        },
        {
          "output_type": "stream",
          "name": "stdout",
          "text": [
            "\b\b\b\b\b\b\b\b\b\b\b\b\b\b\b\b\b\b\b\b\b\b\b\b\b\b\b\b\b\b\b\b\b\b\b\b\b\b\b\b\b\b\b\b\b\b\b\b\b\b\b\b\b\b\b\b\b\b\b\b\b\b\b\b\b\b\b\b\b\b\b\b\b\b\b\r1/1 [==============================] - 0s 26ms/step - loss: 0.0669 - mae: 0.1811\n",
            "Epoch 70/100\n",
            "1/1 [==============================] - ETA: 0s - loss: 0.0880 - mae: 0.2028"
          ]
        },
        {
          "output_type": "stream",
          "name": "stderr",
          "text": [
            "WARNING:tensorflow:Early stopping conditioned on metric `val_loss` which is not available. Available metrics are: loss,mae\n"
          ]
        },
        {
          "output_type": "stream",
          "name": "stdout",
          "text": [
            "\b\b\b\b\b\b\b\b\b\b\b\b\b\b\b\b\b\b\b\b\b\b\b\b\b\b\b\b\b\b\b\b\b\b\b\b\b\b\b\b\b\b\b\b\b\b\b\b\b\b\b\b\b\b\b\b\b\b\b\b\b\b\b\b\b\b\b\b\b\b\b\b\b\b\b\r1/1 [==============================] - 0s 27ms/step - loss: 0.0880 - mae: 0.2028\n",
            "Epoch 71/100\n",
            "1/1 [==============================] - ETA: 0s - loss: 0.0775 - mae: 0.1923"
          ]
        },
        {
          "output_type": "stream",
          "name": "stderr",
          "text": [
            "WARNING:tensorflow:Early stopping conditioned on metric `val_loss` which is not available. Available metrics are: loss,mae\n"
          ]
        },
        {
          "output_type": "stream",
          "name": "stdout",
          "text": [
            "\b\b\b\b\b\b\b\b\b\b\b\b\b\b\b\b\b\b\b\b\b\b\b\b\b\b\b\b\b\b\b\b\b\b\b\b\b\b\b\b\b\b\b\b\b\b\b\b\b\b\b\b\b\b\b\b\b\b\b\b\b\b\b\b\b\b\b\b\b\b\b\b\b\b\b\r1/1 [==============================] - 0s 30ms/step - loss: 0.0775 - mae: 0.1923\n",
            "Epoch 72/100\n",
            "1/1 [==============================] - ETA: 0s - loss: 0.0612 - mae: 0.1800"
          ]
        },
        {
          "output_type": "stream",
          "name": "stderr",
          "text": [
            "WARNING:tensorflow:Early stopping conditioned on metric `val_loss` which is not available. Available metrics are: loss,mae\n"
          ]
        },
        {
          "output_type": "stream",
          "name": "stdout",
          "text": [
            "\b\b\b\b\b\b\b\b\b\b\b\b\b\b\b\b\b\b\b\b\b\b\b\b\b\b\b\b\b\b\b\b\b\b\b\b\b\b\b\b\b\b\b\b\b\b\b\b\b\b\b\b\b\b\b\b\b\b\b\b\b\b\b\b\b\b\b\b\b\b\b\b\b\b\b\r1/1 [==============================] - 0s 26ms/step - loss: 0.0612 - mae: 0.1800\n",
            "Epoch 73/100\n",
            "1/1 [==============================] - ETA: 0s - loss: 0.0702 - mae: 0.1781"
          ]
        },
        {
          "output_type": "stream",
          "name": "stderr",
          "text": [
            "WARNING:tensorflow:Early stopping conditioned on metric `val_loss` which is not available. Available metrics are: loss,mae\n"
          ]
        },
        {
          "output_type": "stream",
          "name": "stdout",
          "text": [
            "\b\b\b\b\b\b\b\b\b\b\b\b\b\b\b\b\b\b\b\b\b\b\b\b\b\b\b\b\b\b\b\b\b\b\b\b\b\b\b\b\b\b\b\b\b\b\b\b\b\b\b\b\b\b\b\b\b\b\b\b\b\b\b\b\b\b\b\b\b\b\b\b\b\b\b\r1/1 [==============================] - 0s 30ms/step - loss: 0.0702 - mae: 0.1781\n",
            "Epoch 74/100\n",
            "1/1 [==============================] - ETA: 0s - loss: 0.0591 - mae: 0.1735"
          ]
        },
        {
          "output_type": "stream",
          "name": "stderr",
          "text": [
            "WARNING:tensorflow:Early stopping conditioned on metric `val_loss` which is not available. Available metrics are: loss,mae\n"
          ]
        },
        {
          "output_type": "stream",
          "name": "stdout",
          "text": [
            "\b\b\b\b\b\b\b\b\b\b\b\b\b\b\b\b\b\b\b\b\b\b\b\b\b\b\b\b\b\b\b\b\b\b\b\b\b\b\b\b\b\b\b\b\b\b\b\b\b\b\b\b\b\b\b\b\b\b\b\b\b\b\b\b\b\b\b\b\b\b\b\b\b\b\b\r1/1 [==============================] - 0s 29ms/step - loss: 0.0591 - mae: 0.1735\n",
            "Epoch 75/100\n",
            "1/1 [==============================] - ETA: 0s - loss: 0.0772 - mae: 0.2000"
          ]
        },
        {
          "output_type": "stream",
          "name": "stderr",
          "text": [
            "WARNING:tensorflow:Early stopping conditioned on metric `val_loss` which is not available. Available metrics are: loss,mae\n"
          ]
        },
        {
          "output_type": "stream",
          "name": "stdout",
          "text": [
            "\b\b\b\b\b\b\b\b\b\b\b\b\b\b\b\b\b\b\b\b\b\b\b\b\b\b\b\b\b\b\b\b\b\b\b\b\b\b\b\b\b\b\b\b\b\b\b\b\b\b\b\b\b\b\b\b\b\b\b\b\b\b\b\b\b\b\b\b\b\b\b\b\b\b\b\r1/1 [==============================] - 0s 29ms/step - loss: 0.0772 - mae: 0.2000\n",
            "Epoch 76/100\n",
            "1/1 [==============================] - ETA: 0s - loss: 0.0760 - mae: 0.1829"
          ]
        },
        {
          "output_type": "stream",
          "name": "stderr",
          "text": [
            "WARNING:tensorflow:Early stopping conditioned on metric `val_loss` which is not available. Available metrics are: loss,mae\n"
          ]
        },
        {
          "output_type": "stream",
          "name": "stdout",
          "text": [
            "\b\b\b\b\b\b\b\b\b\b\b\b\b\b\b\b\b\b\b\b\b\b\b\b\b\b\b\b\b\b\b\b\b\b\b\b\b\b\b\b\b\b\b\b\b\b\b\b\b\b\b\b\b\b\b\b\b\b\b\b\b\b\b\b\b\b\b\b\b\b\b\b\b\b\b\r1/1 [==============================] - 0s 32ms/step - loss: 0.0760 - mae: 0.1829\n",
            "Epoch 77/100\n",
            "1/1 [==============================] - ETA: 0s - loss: 0.0761 - mae: 0.2050"
          ]
        },
        {
          "output_type": "stream",
          "name": "stderr",
          "text": [
            "WARNING:tensorflow:Early stopping conditioned on metric `val_loss` which is not available. Available metrics are: loss,mae\n"
          ]
        },
        {
          "output_type": "stream",
          "name": "stdout",
          "text": [
            "\b\b\b\b\b\b\b\b\b\b\b\b\b\b\b\b\b\b\b\b\b\b\b\b\b\b\b\b\b\b\b\b\b\b\b\b\b\b\b\b\b\b\b\b\b\b\b\b\b\b\b\b\b\b\b\b\b\b\b\b\b\b\b\b\b\b\b\b\b\b\b\b\b\b\b\r1/1 [==============================] - 0s 26ms/step - loss: 0.0761 - mae: 0.2050\n",
            "Epoch 78/100\n",
            "1/1 [==============================] - ETA: 0s - loss: 0.0694 - mae: 0.1711"
          ]
        },
        {
          "output_type": "stream",
          "name": "stderr",
          "text": [
            "WARNING:tensorflow:Early stopping conditioned on metric `val_loss` which is not available. Available metrics are: loss,mae\n"
          ]
        },
        {
          "output_type": "stream",
          "name": "stdout",
          "text": [
            "\b\b\b\b\b\b\b\b\b\b\b\b\b\b\b\b\b\b\b\b\b\b\b\b\b\b\b\b\b\b\b\b\b\b\b\b\b\b\b\b\b\b\b\b\b\b\b\b\b\b\b\b\b\b\b\b\b\b\b\b\b\b\b\b\b\b\b\b\b\b\b\b\b\b\b\r1/1 [==============================] - 0s 29ms/step - loss: 0.0694 - mae: 0.1711\n",
            "Epoch 79/100\n",
            "1/1 [==============================] - ETA: 0s - loss: 0.0772 - mae: 0.1810"
          ]
        },
        {
          "output_type": "stream",
          "name": "stderr",
          "text": [
            "WARNING:tensorflow:Early stopping conditioned on metric `val_loss` which is not available. Available metrics are: loss,mae\n"
          ]
        },
        {
          "output_type": "stream",
          "name": "stdout",
          "text": [
            "\b\b\b\b\b\b\b\b\b\b\b\b\b\b\b\b\b\b\b\b\b\b\b\b\b\b\b\b\b\b\b\b\b\b\b\b\b\b\b\b\b\b\b\b\b\b\b\b\b\b\b\b\b\b\b\b\b\b\b\b\b\b\b\b\b\b\b\b\b\b\b\b\b\b\b\r1/1 [==============================] - 0s 26ms/step - loss: 0.0772 - mae: 0.1810\n",
            "Epoch 80/100\n",
            "1/1 [==============================] - ETA: 0s - loss: 0.0660 - mae: 0.1785"
          ]
        },
        {
          "output_type": "stream",
          "name": "stderr",
          "text": [
            "WARNING:tensorflow:Early stopping conditioned on metric `val_loss` which is not available. Available metrics are: loss,mae\n"
          ]
        },
        {
          "output_type": "stream",
          "name": "stdout",
          "text": [
            "\b\b\b\b\b\b\b\b\b\b\b\b\b\b\b\b\b\b\b\b\b\b\b\b\b\b\b\b\b\b\b\b\b\b\b\b\b\b\b\b\b\b\b\b\b\b\b\b\b\b\b\b\b\b\b\b\b\b\b\b\b\b\b\b\b\b\b\b\b\b\b\b\b\b\b\r1/1 [==============================] - 0s 27ms/step - loss: 0.0660 - mae: 0.1785\n",
            "Epoch 81/100\n",
            "1/1 [==============================] - ETA: 0s - loss: 0.0722 - mae: 0.1841"
          ]
        },
        {
          "output_type": "stream",
          "name": "stderr",
          "text": [
            "WARNING:tensorflow:Early stopping conditioned on metric `val_loss` which is not available. Available metrics are: loss,mae\n"
          ]
        },
        {
          "output_type": "stream",
          "name": "stdout",
          "text": [
            "\b\b\b\b\b\b\b\b\b\b\b\b\b\b\b\b\b\b\b\b\b\b\b\b\b\b\b\b\b\b\b\b\b\b\b\b\b\b\b\b\b\b\b\b\b\b\b\b\b\b\b\b\b\b\b\b\b\b\b\b\b\b\b\b\b\b\b\b\b\b\b\b\b\b\b\r1/1 [==============================] - 0s 26ms/step - loss: 0.0722 - mae: 0.1841\n",
            "Epoch 82/100\n",
            "1/1 [==============================] - ETA: 0s - loss: 0.0694 - mae: 0.1841"
          ]
        },
        {
          "output_type": "stream",
          "name": "stderr",
          "text": [
            "WARNING:tensorflow:Early stopping conditioned on metric `val_loss` which is not available. Available metrics are: loss,mae\n"
          ]
        },
        {
          "output_type": "stream",
          "name": "stdout",
          "text": [
            "\b\b\b\b\b\b\b\b\b\b\b\b\b\b\b\b\b\b\b\b\b\b\b\b\b\b\b\b\b\b\b\b\b\b\b\b\b\b\b\b\b\b\b\b\b\b\b\b\b\b\b\b\b\b\b\b\b\b\b\b\b\b\b\b\b\b\b\b\b\b\b\b\b\b\b\r1/1 [==============================] - 0s 25ms/step - loss: 0.0694 - mae: 0.1841\n",
            "Epoch 83/100\n",
            "1/1 [==============================] - ETA: 0s - loss: 0.0687 - mae: 0.1819"
          ]
        },
        {
          "output_type": "stream",
          "name": "stderr",
          "text": [
            "WARNING:tensorflow:Early stopping conditioned on metric `val_loss` which is not available. Available metrics are: loss,mae\n"
          ]
        },
        {
          "output_type": "stream",
          "name": "stdout",
          "text": [
            "\b\b\b\b\b\b\b\b\b\b\b\b\b\b\b\b\b\b\b\b\b\b\b\b\b\b\b\b\b\b\b\b\b\b\b\b\b\b\b\b\b\b\b\b\b\b\b\b\b\b\b\b\b\b\b\b\b\b\b\b\b\b\b\b\b\b\b\b\b\b\b\b\b\b\b\r1/1 [==============================] - 0s 34ms/step - loss: 0.0687 - mae: 0.1819\n",
            "Epoch 84/100\n",
            "1/1 [==============================] - ETA: 0s - loss: 0.0745 - mae: 0.1855"
          ]
        },
        {
          "output_type": "stream",
          "name": "stderr",
          "text": [
            "WARNING:tensorflow:Early stopping conditioned on metric `val_loss` which is not available. Available metrics are: loss,mae\n"
          ]
        },
        {
          "output_type": "stream",
          "name": "stdout",
          "text": [
            "\b\b\b\b\b\b\b\b\b\b\b\b\b\b\b\b\b\b\b\b\b\b\b\b\b\b\b\b\b\b\b\b\b\b\b\b\b\b\b\b\b\b\b\b\b\b\b\b\b\b\b\b\b\b\b\b\b\b\b\b\b\b\b\b\b\b\b\b\b\b\b\b\b\b\b\r1/1 [==============================] - 0s 28ms/step - loss: 0.0745 - mae: 0.1855\n",
            "Epoch 85/100\n",
            "1/1 [==============================] - ETA: 0s - loss: 0.0759 - mae: 0.1847"
          ]
        },
        {
          "output_type": "stream",
          "name": "stderr",
          "text": [
            "WARNING:tensorflow:Early stopping conditioned on metric `val_loss` which is not available. Available metrics are: loss,mae\n"
          ]
        },
        {
          "output_type": "stream",
          "name": "stdout",
          "text": [
            "\b\b\b\b\b\b\b\b\b\b\b\b\b\b\b\b\b\b\b\b\b\b\b\b\b\b\b\b\b\b\b\b\b\b\b\b\b\b\b\b\b\b\b\b\b\b\b\b\b\b\b\b\b\b\b\b\b\b\b\b\b\b\b\b\b\b\b\b\b\b\b\b\b\b\b\r1/1 [==============================] - 0s 29ms/step - loss: 0.0759 - mae: 0.1847\n",
            "Epoch 86/100\n",
            "1/1 [==============================] - ETA: 0s - loss: 0.0645 - mae: 0.1705"
          ]
        },
        {
          "output_type": "stream",
          "name": "stderr",
          "text": [
            "WARNING:tensorflow:Early stopping conditioned on metric `val_loss` which is not available. Available metrics are: loss,mae\n"
          ]
        },
        {
          "output_type": "stream",
          "name": "stdout",
          "text": [
            "\b\b\b\b\b\b\b\b\b\b\b\b\b\b\b\b\b\b\b\b\b\b\b\b\b\b\b\b\b\b\b\b\b\b\b\b\b\b\b\b\b\b\b\b\b\b\b\b\b\b\b\b\b\b\b\b\b\b\b\b\b\b\b\b\b\b\b\b\b\b\b\b\b\b\b\r1/1 [==============================] - 0s 29ms/step - loss: 0.0645 - mae: 0.1705\n",
            "Epoch 87/100\n",
            "1/1 [==============================] - ETA: 0s - loss: 0.0618 - mae: 0.1768"
          ]
        },
        {
          "output_type": "stream",
          "name": "stderr",
          "text": [
            "WARNING:tensorflow:Early stopping conditioned on metric `val_loss` which is not available. Available metrics are: loss,mae\n"
          ]
        },
        {
          "output_type": "stream",
          "name": "stdout",
          "text": [
            "\b\b\b\b\b\b\b\b\b\b\b\b\b\b\b\b\b\b\b\b\b\b\b\b\b\b\b\b\b\b\b\b\b\b\b\b\b\b\b\b\b\b\b\b\b\b\b\b\b\b\b\b\b\b\b\b\b\b\b\b\b\b\b\b\b\b\b\b\b\b\b\b\b\b\b\r1/1 [==============================] - 0s 33ms/step - loss: 0.0618 - mae: 0.1768\n",
            "Epoch 88/100\n",
            "1/1 [==============================] - ETA: 0s - loss: 0.0719 - mae: 0.1923"
          ]
        },
        {
          "output_type": "stream",
          "name": "stderr",
          "text": [
            "WARNING:tensorflow:Early stopping conditioned on metric `val_loss` which is not available. Available metrics are: loss,mae\n"
          ]
        },
        {
          "output_type": "stream",
          "name": "stdout",
          "text": [
            "\b\b\b\b\b\b\b\b\b\b\b\b\b\b\b\b\b\b\b\b\b\b\b\b\b\b\b\b\b\b\b\b\b\b\b\b\b\b\b\b\b\b\b\b\b\b\b\b\b\b\b\b\b\b\b\b\b\b\b\b\b\b\b\b\b\b\b\b\b\b\b\b\b\b\b\r1/1 [==============================] - 0s 35ms/step - loss: 0.0719 - mae: 0.1923\n",
            "Epoch 89/100\n",
            "1/1 [==============================] - ETA: 0s - loss: 0.0700 - mae: 0.1871"
          ]
        },
        {
          "output_type": "stream",
          "name": "stderr",
          "text": [
            "WARNING:tensorflow:Early stopping conditioned on metric `val_loss` which is not available. Available metrics are: loss,mae\n"
          ]
        },
        {
          "output_type": "stream",
          "name": "stdout",
          "text": [
            "\b\b\b\b\b\b\b\b\b\b\b\b\b\b\b\b\b\b\b\b\b\b\b\b\b\b\b\b\b\b\b\b\b\b\b\b\b\b\b\b\b\b\b\b\b\b\b\b\b\b\b\b\b\b\b\b\b\b\b\b\b\b\b\b\b\b\b\b\b\b\b\b\b\b\b\r1/1 [==============================] - 0s 31ms/step - loss: 0.0700 - mae: 0.1871\n",
            "Epoch 90/100\n",
            "1/1 [==============================] - ETA: 0s - loss: 0.0666 - mae: 0.1816"
          ]
        },
        {
          "output_type": "stream",
          "name": "stderr",
          "text": [
            "WARNING:tensorflow:Early stopping conditioned on metric `val_loss` which is not available. Available metrics are: loss,mae\n"
          ]
        },
        {
          "output_type": "stream",
          "name": "stdout",
          "text": [
            "\b\b\b\b\b\b\b\b\b\b\b\b\b\b\b\b\b\b\b\b\b\b\b\b\b\b\b\b\b\b\b\b\b\b\b\b\b\b\b\b\b\b\b\b\b\b\b\b\b\b\b\b\b\b\b\b\b\b\b\b\b\b\b\b\b\b\b\b\b\b\b\b\b\b\b\r1/1 [==============================] - 0s 26ms/step - loss: 0.0666 - mae: 0.1816\n",
            "Epoch 91/100\n",
            "1/1 [==============================] - ETA: 0s - loss: 0.0637 - mae: 0.1832"
          ]
        },
        {
          "output_type": "stream",
          "name": "stderr",
          "text": [
            "WARNING:tensorflow:Early stopping conditioned on metric `val_loss` which is not available. Available metrics are: loss,mae\n"
          ]
        },
        {
          "output_type": "stream",
          "name": "stdout",
          "text": [
            "\b\b\b\b\b\b\b\b\b\b\b\b\b\b\b\b\b\b\b\b\b\b\b\b\b\b\b\b\b\b\b\b\b\b\b\b\b\b\b\b\b\b\b\b\b\b\b\b\b\b\b\b\b\b\b\b\b\b\b\b\b\b\b\b\b\b\b\b\b\b\b\b\b\b\b\r1/1 [==============================] - 0s 38ms/step - loss: 0.0637 - mae: 0.1832\n",
            "Epoch 92/100\n",
            "1/1 [==============================] - ETA: 0s - loss: 0.0677 - mae: 0.1851"
          ]
        },
        {
          "output_type": "stream",
          "name": "stderr",
          "text": [
            "WARNING:tensorflow:Early stopping conditioned on metric `val_loss` which is not available. Available metrics are: loss,mae\n"
          ]
        },
        {
          "output_type": "stream",
          "name": "stdout",
          "text": [
            "\b\b\b\b\b\b\b\b\b\b\b\b\b\b\b\b\b\b\b\b\b\b\b\b\b\b\b\b\b\b\b\b\b\b\b\b\b\b\b\b\b\b\b\b\b\b\b\b\b\b\b\b\b\b\b\b\b\b\b\b\b\b\b\b\b\b\b\b\b\b\b\b\b\b\b\r1/1 [==============================] - 0s 35ms/step - loss: 0.0677 - mae: 0.1851\n",
            "Epoch 93/100\n",
            "1/1 [==============================] - ETA: 0s - loss: 0.0760 - mae: 0.1882"
          ]
        },
        {
          "output_type": "stream",
          "name": "stderr",
          "text": [
            "WARNING:tensorflow:Early stopping conditioned on metric `val_loss` which is not available. Available metrics are: loss,mae\n"
          ]
        },
        {
          "output_type": "stream",
          "name": "stdout",
          "text": [
            "\b\b\b\b\b\b\b\b\b\b\b\b\b\b\b\b\b\b\b\b\b\b\b\b\b\b\b\b\b\b\b\b\b\b\b\b\b\b\b\b\b\b\b\b\b\b\b\b\b\b\b\b\b\b\b\b\b\b\b\b\b\b\b\b\b\b\b\b\b\b\b\b\b\b\b\r1/1 [==============================] - 0s 24ms/step - loss: 0.0760 - mae: 0.1882\n",
            "Epoch 94/100\n",
            "1/1 [==============================] - ETA: 0s - loss: 0.0706 - mae: 0.1880"
          ]
        },
        {
          "output_type": "stream",
          "name": "stderr",
          "text": [
            "WARNING:tensorflow:Early stopping conditioned on metric `val_loss` which is not available. Available metrics are: loss,mae\n"
          ]
        },
        {
          "output_type": "stream",
          "name": "stdout",
          "text": [
            "\b\b\b\b\b\b\b\b\b\b\b\b\b\b\b\b\b\b\b\b\b\b\b\b\b\b\b\b\b\b\b\b\b\b\b\b\b\b\b\b\b\b\b\b\b\b\b\b\b\b\b\b\b\b\b\b\b\b\b\b\b\b\b\b\b\b\b\b\b\b\b\b\b\b\b\r1/1 [==============================] - 0s 25ms/step - loss: 0.0706 - mae: 0.1880\n",
            "Epoch 95/100\n",
            "1/1 [==============================] - ETA: 0s - loss: 0.0605 - mae: 0.1783"
          ]
        },
        {
          "output_type": "stream",
          "name": "stderr",
          "text": [
            "WARNING:tensorflow:Early stopping conditioned on metric `val_loss` which is not available. Available metrics are: loss,mae\n"
          ]
        },
        {
          "output_type": "stream",
          "name": "stdout",
          "text": [
            "\b\b\b\b\b\b\b\b\b\b\b\b\b\b\b\b\b\b\b\b\b\b\b\b\b\b\b\b\b\b\b\b\b\b\b\b\b\b\b\b\b\b\b\b\b\b\b\b\b\b\b\b\b\b\b\b\b\b\b\b\b\b\b\b\b\b\b\b\b\b\b\b\b\b\b\r1/1 [==============================] - 0s 25ms/step - loss: 0.0605 - mae: 0.1783\n",
            "Epoch 96/100\n",
            "1/1 [==============================] - ETA: 0s - loss: 0.0730 - mae: 0.1950"
          ]
        },
        {
          "output_type": "stream",
          "name": "stderr",
          "text": [
            "WARNING:tensorflow:Early stopping conditioned on metric `val_loss` which is not available. Available metrics are: loss,mae\n"
          ]
        },
        {
          "output_type": "stream",
          "name": "stdout",
          "text": [
            "\b\b\b\b\b\b\b\b\b\b\b\b\b\b\b\b\b\b\b\b\b\b\b\b\b\b\b\b\b\b\b\b\b\b\b\b\b\b\b\b\b\b\b\b\b\b\b\b\b\b\b\b\b\b\b\b\b\b\b\b\b\b\b\b\b\b\b\b\b\b\b\b\b\b\b\r1/1 [==============================] - 0s 26ms/step - loss: 0.0730 - mae: 0.1950\n",
            "Epoch 97/100\n",
            "1/1 [==============================] - ETA: 0s - loss: 0.0720 - mae: 0.1879"
          ]
        },
        {
          "output_type": "stream",
          "name": "stderr",
          "text": [
            "WARNING:tensorflow:Early stopping conditioned on metric `val_loss` which is not available. Available metrics are: loss,mae\n"
          ]
        },
        {
          "output_type": "stream",
          "name": "stdout",
          "text": [
            "\b\b\b\b\b\b\b\b\b\b\b\b\b\b\b\b\b\b\b\b\b\b\b\b\b\b\b\b\b\b\b\b\b\b\b\b\b\b\b\b\b\b\b\b\b\b\b\b\b\b\b\b\b\b\b\b\b\b\b\b\b\b\b\b\b\b\b\b\b\b\b\b\b\b\b\r1/1 [==============================] - 0s 25ms/step - loss: 0.0720 - mae: 0.1879\n",
            "Epoch 98/100\n",
            "1/1 [==============================] - ETA: 0s - loss: 0.0636 - mae: 0.1876"
          ]
        },
        {
          "output_type": "stream",
          "name": "stderr",
          "text": [
            "WARNING:tensorflow:Early stopping conditioned on metric `val_loss` which is not available. Available metrics are: loss,mae\n"
          ]
        },
        {
          "output_type": "stream",
          "name": "stdout",
          "text": [
            "\b\b\b\b\b\b\b\b\b\b\b\b\b\b\b\b\b\b\b\b\b\b\b\b\b\b\b\b\b\b\b\b\b\b\b\b\b\b\b\b\b\b\b\b\b\b\b\b\b\b\b\b\b\b\b\b\b\b\b\b\b\b\b\b\b\b\b\b\b\b\b\b\b\b\b\r1/1 [==============================] - 0s 25ms/step - loss: 0.0636 - mae: 0.1876\n",
            "Epoch 99/100\n",
            "1/1 [==============================] - ETA: 0s - loss: 0.0636 - mae: 0.1786"
          ]
        },
        {
          "output_type": "stream",
          "name": "stderr",
          "text": [
            "WARNING:tensorflow:Early stopping conditioned on metric `val_loss` which is not available. Available metrics are: loss,mae\n"
          ]
        },
        {
          "output_type": "stream",
          "name": "stdout",
          "text": [
            "\b\b\b\b\b\b\b\b\b\b\b\b\b\b\b\b\b\b\b\b\b\b\b\b\b\b\b\b\b\b\b\b\b\b\b\b\b\b\b\b\b\b\b\b\b\b\b\b\b\b\b\b\b\b\b\b\b\b\b\b\b\b\b\b\b\b\b\b\b\b\b\b\b\b\b\r1/1 [==============================] - 0s 28ms/step - loss: 0.0636 - mae: 0.1786\n",
            "Epoch 100/100\n",
            "1/1 [==============================] - ETA: 0s - loss: 0.0698 - mae: 0.1803"
          ]
        },
        {
          "output_type": "stream",
          "name": "stderr",
          "text": [
            "WARNING:tensorflow:Early stopping conditioned on metric `val_loss` which is not available. Available metrics are: loss,mae\n"
          ]
        },
        {
          "output_type": "stream",
          "name": "stdout",
          "text": [
            "\b\b\b\b\b\b\b\b\b\b\b\b\b\b\b\b\b\b\b\b\b\b\b\b\b\b\b\b\b\b\b\b\b\b\b\b\b\b\b\b\b\b\b\b\b\b\b\b\b\b\b\b\b\b\b\b\b\b\b\b\b\b\b\b\b\b\b\b\b\b\b\b\b\b\b\r1/1 [==============================] - 0s 24ms/step - loss: 0.0698 - mae: 0.1803\n"
          ]
        }
      ]
    },
    {
      "cell_type": "markdown",
      "source": [
        "#LOSS and MAE"
      ],
      "metadata": {
        "id": "KVvHEYbyqnJ-"
      }
    },
    {
      "cell_type": "code",
      "source": [
        "import matplotlib.pyplot as plt\n",
        "\n",
        "# plot MAE and loss\n",
        "#plt.figure(figsize=(10, 6))\n",
        "plt.plot(hybrid_history.history['mae'], label='MAE')\n",
        "plt.plot(hybrid_history.history['loss'], label='loss')\n",
        "plt.xlabel('epoch')\n",
        "plt.legend()\n",
        "plt.show()"
      ],
      "metadata": {
        "id": "Imdge7zmpZbg",
        "outputId": "591adcaa-9ffd-4521-cdc8-07cf3d0e32d8",
        "colab": {
          "base_uri": "https://localhost:8080/",
          "height": 279
        }
      },
      "execution_count": 149,
      "outputs": [
        {
          "output_type": "display_data",
          "data": {
            "text/plain": [
              "<Figure size 432x288 with 1 Axes>"
            ],
            "image/png": "[encoded data removed]"
          },
          "metadata": {
            "needs_background": "light"
          }
        }
      ]
    },
    {
      "cell_type": "markdown",
      "source": [
        "### Hybrid Model Testing"
      ],
      "metadata": {
        "id": "4MOhWXzr4UBk"
      }
    },
    {
      "cell_type": "code",
      "source": [
        "#merge lstm test prediction and prophet test prediction\n",
        "def merge_predictions(lstm_pred,prophet_pred):\n",
        "  lstm_pred = lstm_pred.set_index('date')\n",
        "  prophet_pred = prophet_pred.set_index('date')\n",
        "  hybrid_test_data = pd.merge(lstm_pred, prophet_pred, left_index=True, right_index=True)\n",
        "  return hybrid_test_data"
      ],
      "metadata": {
        "id": "KdUhpIOHa1WL"
      },
      "execution_count": 73,
      "outputs": []
    },
    {
      "cell_type": "code",
      "source": [
        "hybrid_test_data= merge_predictions(google_lstm,google_prophet)"
      ],
      "metadata": {
        "id": "QJ70I-U4djGM"
      },
      "execution_count": 37,
      "outputs": []
    },
    {
      "cell_type": "code",
      "source": [
        "from sklearn.preprocessing import MinMaxScaler\n",
        "google = frames[0]\n",
        "\n",
        "#features and target columns\n",
        "target_scaler = MinMaxScaler()\n",
        "target_transformed = target_scaler.fit_transform(google['target'])\n",
        "features = hybrid_test_data\n",
        "\n",
        "# Normalise the data\n",
        "for col in features.columns:\n",
        "    scaler = MinMaxScaler(feature_range=(0,1))\n",
        "    features[col] = scaler.fit_transform(features[[col]])\n",
        "\n",
        "X_ft = np.array(features)\n",
        "# Creating a data structure with 10 time-steps and 1 output\n",
        " \n",
        "# Split data into X_train and y_train data sets\n",
        "def lstm_split(data,target,steps):\n",
        "  X = []\n",
        "  y = []\n",
        "  # Creating a data structure with 10 time-steps and 1 output\n",
        "  for i in range(1, steps):\n",
        "      X.append(data[i-1:i])\n",
        "      y.append(target[i])  \n",
        "  return np.array(X),np.array(y)\n",
        " \n",
        "X1,y1 = lstm_split(features,target_transformed,len(X_ft))"
      ],
      "metadata": {
        "id": "EuLmlUOCeAAa"
      },
      "execution_count": null,
      "outputs": []
    },
    {
      "cell_type": "code",
      "source": [
        "predictions = hybrid.predict(X1)"
      ],
      "metadata": {
        "id": "uvBDfQWwgDFg"
      },
      "execution_count": null,
      "outputs": []
    },
    {
      "cell_type": "code",
      "source": [
        "def compute_metrics(true_series, forecast):\n",
        "    \"\"\"Helper to print MSE and MAE\"\"\"\n",
        "    mse = tf.keras.metrics.mean_squared_error(true_series, forecast).numpy()\n",
        "    mae = tf.keras.metrics.mean_absolute_error(true_series, forecast).numpy()\n",
        "\n",
        "    return mse, mae"
      ],
      "metadata": {
        "id": "ncLTcVa95Kcm"
      },
      "execution_count": 153,
      "outputs": []
    },
    {
      "cell_type": "code",
      "source": [
        "mse, mae = compute_metrics(y1, predictions)\n",
        "print(mae)"
      ],
      "metadata": {
        "id": "dUyhGBcf5Qsq",
        "outputId": "d759e6ec-b457-4165-c089-ddd07e1d7f5c",
        "colab": {
          "base_uri": "https://localhost:8080/"
        }
      },
      "execution_count": 157,
      "outputs": [
        {
          "output_type": "stream",
          "name": "stdout",
          "text": [
            "[0.25862074 0.29496095 0.21489815 0.2044707  0.19523767 0.17672819\n",
            " 0.16752344 0.15696163 0.14508063 0.12658183 0.1094318  0.10154802\n",
            " 0.58054215 0.07185179 0.7287806  0.04668623 0.03819741 0.01571554\n",
            " 0.00786436 0.10600939 0.02269244 0.02773663 0.04625782 0.05810237\n",
            " 0.7388468  0.08801049 0.1016244  0.11082825 0.12005687 0.19815978]\n"
          ]
        }
      ]
    },
    {
      "cell_type": "markdown",
      "source": [
        "#Predicted vs Actual Price"
      ],
      "metadata": {
        "id": "xrYhiS34s_ZC"
      }
    },
    {
      "cell_type": "code",
      "source": [
        "\n",
        "plt.plot(y1, label=\"actual\")\n",
        "plt.plot(predictions, label=\"predicted\")\n",
        "plt.xlabel(\"Timesteps\")\n",
        "plt.ylabel(\"Value\")\n",
        "plt.tight_layout()\n",
        "sns.despine(top=True)\n",
        "plt.subplots_adjust(left=0.07)\n",
        "plt.legend()\n",
        "plt.show()"
      ],
      "metadata": {
        "id": "8mGVGqGXr0Ms",
        "outputId": "80efd92f-3332-470a-a796-a7317ff2c24d",
        "colab": {
          "base_uri": "https://localhost:8080/",
          "height": 297
        }
      },
      "execution_count": 165,
      "outputs": [
        {
          "output_type": "display_data",
          "data": {
            "text/plain": [
              "<Figure size 432x288 with 1 Axes>"
            ],
            "image/png": "[encoded data removed]"
          },
          "metadata": {
            "needs_background": "light"
          }
        }
      ]
    },
    {
      "cell_type": "markdown",
      "source": [
        "# Multiple Company Model"
      ],
      "metadata": {
        "id": "OBubFDUDkcUe"
      }
    },
    {
      "cell_type": "markdown",
      "source": [
        "## Generate Sub-models"
      ],
      "metadata": {
        "id": "O2hCgjUFm3cm"
      }
    },
    {
      "cell_type": "code",
      "source": [
        "def create_lists(list_of_df):\n",
        "  training_list = []\n",
        "  target_list = []\n",
        "  for i in list_of_df:\n",
        "    data = frames[i]\n",
        "    score = data['score']\n",
        "    target = data['target']\n",
        "    training = data.drop(['target', 'ticker', 'score'], axis = 1)\n",
        "    scaler = MinMaxScaler()\n",
        "    for col in training.columns:\n",
        "      training[col] = scaler.fit_transform(training[col])\n",
        "    training['score'] = score\n",
        "    data_x, data_y = lstm_split(training, target, 10)\n",
        "    training_list.append(data_x)\n",
        "    target_list.append(data_y)\n",
        "  return training_list, target_list\n",
        "\n",
        "#General LSTM model based on randomsearch results\n",
        "def multiple_models(x_train, y_train, ticker):\n",
        "    hybrid = Sequential()\n",
        "    hybrid.add(LSTM(units = 8, activation = \"relu\", input_shape = (x_train.shape[1], x_train.shape[2]), return_sequences = True))\n",
        "    hybrid.add(Dropout(0.5))\n",
        "    hybrid.add(LSTM(units = 12, activation = 'relu', return_sequences = True))\n",
        "    hybrid.add(Dropout(0.5))\n",
        "    hybrid.add(LSTM(units = 12))\n",
        "    hybrid.add(Dropout(0.5))\n",
        "    hybrid.add(Dense(units =1, activation = 'sigmoid'))\n",
        "    hybrid.compile(loss = 'mean_squared_error', optimizer = Adam(lr = LR), metrics = [\"mean_squared_error\"])\n",
        "    Early_stop = EarlyStopping(monitor='val_loss', min_delta=0, \n",
        "                              patience=25, verbose=1, mode='auto',\n",
        "                              baseline=0, restore_best_weights=True)\n",
        "    hybrid.fit(x_train, y_train, epochs = 200, batch_size = 24, callbacks = [Early_stop])\n",
        "    return hybrid\n",
        "\n",
        "training_list, target_list = create_lists(frames)\n",
        "for tick, x_train, y_train in zip(ticker_list, training_list, target_list):\n",
        "  model = multiple_models(tick, x_train, y_train)\n",
        "  model.save('/content/StockPrice-Hybrid-Model-/Models/'+tick+'_lstm.h5')\n"
      ],
      "metadata": {
        "id": "BtDe3DZmkbsE"
      },
      "execution_count": null,
      "outputs": []
    },
    {
      "cell_type": "markdown",
      "source": [
        "## Configure Hybrid Training Set and Train Hybrid Model"
      ],
      "metadata": {
        "id": "1lmxA1N7m6mt"
      }
    },
    {
      "cell_type": "code",
      "source": [
        "import os\n",
        "def hybrid_train(direct, ticker_list, hybrid_train):\n",
        "    preds_dict = {}\n",
        "    path = direct\n",
        "    for num, model in enumerate(os.listdir(path)):\n",
        "        model = load_model(model)\n",
        "        prediction = model.predict(hybrid_train)\n",
        "        preds_dict[ticker_list[num]] = prediction\n",
        "    preds_df = pd.DatFrame(preds_dict)\n",
        "    return preds_df\n",
        "\n",
        "ticker_list = [\"MSFT\", \"NFLX\", \"AMZN\", \"TSLA\"]\n",
        "hybrid_training_data =  hybrid_train('/content/StockPrice-Hybrid-Model-/Models/', ticker_list, X_train) \n",
        "hybrid_expanded = multiple_models(hybrid_training_data, y_train)"
      ],
      "metadata": {
        "id": "zDz0AaKUw4b0"
      },
      "execution_count": null,
      "outputs": []
    },
    {
      "cell_type": "markdown",
      "source": [
        "## Test the Expanded Model"
      ],
      "metadata": {
        "id": "GFRwWfsfzH-0"
      }
    },
    {
      "cell_type": "code",
      "source": [
        "from os import listdir\n",
        "google_test = {}\n",
        "microsoft_test = {}\n",
        "path = '/models/'\n",
        "for num, model in enumerate(os.listdir(path)):\n",
        "  model = load_model(model)\n",
        "  goog_preds = model.predict(google_ft)\n",
        "  micro_preds = model.predict(X_test)\n",
        "  google_test[ticker_list[num]] = goog_preds\n",
        "  microsoft_test[ticker_list[num]] = micro_preds\n",
        "google_test = pd.DataFrame(google_test)\n",
        "microsoft_test = pd.DataFrame(microsoft_test)"
      ],
      "metadata": {
        "id": "-IW0CTH_xgMe"
      },
      "execution_count": null,
      "outputs": []
    }
  ],
  "metadata": {
    "colab": {
      "provenance": [],
      "include_colab_link": true
    },
    "gpuClass": "standard",
    "kernelspec": {
      "display_name": "Python 3",
      "name": "python3"
    },
    "language_info": {
      "name": "python"
    },
    "widgets": {
      "application/vnd.jupyter.widget-state+json": {
        "c2c062f8db9442b3bc5fef2eb56c0823": {
          "model_module": "@jupyter-widgets/controls",
          "model_name": "HBoxModel",
          "model_module_version": "1.5.0",
          "state": {
            "_dom_classes": [],
            "_model_module": "@jupyter-widgets/controls",
            "_model_module_version": "1.5.0",
            "_model_name": "HBoxModel",
            "_view_count": null,
            "_view_module": "@jupyter-widgets/controls",
            "_view_module_version": "1.5.0",
            "_view_name": "HBoxView",
            "box_style": "",
            "children": [
              "IPY_MODEL_c60be86359a14b6d8e2d84afa81478ed",
              "IPY_MODEL_3c9b2651582d409b8dbf44b88ad58dfb",
              "IPY_MODEL_e77d07020b224677a2779329969f59a6"
            ],
            "layout": "IPY_MODEL_447d999cf6264ab5b1b152c7ed42627e"
          }
        },
        "c60be86359a14b6d8e2d84afa81478ed": {
          "model_module": "@jupyter-widgets/controls",
          "model_name": "HTMLModel",
          "model_module_version": "1.5.0",
          "state": {
            "_dom_classes": [],
            "_model_module": "@jupyter-widgets/controls",
            "_model_module_version": "1.5.0",
            "_model_name": "HTMLModel",
            "_view_count": null,
            "_view_module": "@jupyter-widgets/controls",
            "_view_module_version": "1.5.0",
            "_view_name": "HTMLView",
            "description": "",
            "description_tooltip": null,
            "layout": "IPY_MODEL_2cd7918dcb774325a58c619e29386a59",
            "placeholder": "​",
            "style": "IPY_MODEL_84576c72791e407381920937fd5c1c4a",
            "value": "100%"
          }
        },
        "3c9b2651582d409b8dbf44b88ad58dfb": {
          "model_module": "@jupyter-widgets/controls",
          "model_name": "FloatProgressModel",
          "model_module_version": "1.5.0",
          "state": {
            "_dom_classes": [],
            "_model_module": "@jupyter-widgets/controls",
            "_model_module_version": "1.5.0",
            "_model_name": "FloatProgressModel",
            "_view_count": null,
            "_view_module": "@jupyter-widgets/controls",
            "_view_module_version": "1.5.0",
            "_view_name": "ProgressView",
            "bar_style": "success",
            "description": "",
            "description_tooltip": null,
            "layout": "IPY_MODEL_682111e0c9234efbaddefbf9d77a14f3",
            "max": 189,
            "min": 0,
            "orientation": "horizontal",
            "style": "IPY_MODEL_af622d13e8084b1b83ec3c4377676091",
            "value": 189
          }
        },
        "e77d07020b224677a2779329969f59a6": {
          "model_module": "@jupyter-widgets/controls",
          "model_name": "HTMLModel",
          "model_module_version": "1.5.0",
          "state": {
            "_dom_classes": [],
            "_model_module": "@jupyter-widgets/controls",
            "_model_module_version": "1.5.0",
            "_model_name": "HTMLModel",
            "_view_count": null,
            "_view_module": "@jupyter-widgets/controls",
            "_view_module_version": "1.5.0",
            "_view_name": "HTMLView",
            "description": "",
            "description_tooltip": null,
            "layout": "IPY_MODEL_e38a8a957510416abec75a71a0b8e9ef",
            "placeholder": "​",
            "style": "IPY_MODEL_2e3cecdd11014672bae0e84439af885b",
            "value": " 189/189 [04:44&lt;00:00,  2.72s/it]"
          }
        },
        "447d999cf6264ab5b1b152c7ed42627e": {
          "model_module": "@jupyter-widgets/base",
          "model_name": "LayoutModel",
          "model_module_version": "1.2.0",
          "state": {
            "_model_module": "@jupyter-widgets/base",
            "_model_module_version": "1.2.0",
            "_model_name": "LayoutModel",
            "_view_count": null,
            "_view_module": "@jupyter-widgets/base",
            "_view_module_version": "1.2.0",
            "_view_name": "LayoutView",
            "align_content": null,
            "align_items": null,
            "align_self": null,
            "border": null,
            "bottom": null,
            "display": null,
            "flex": null,
            "flex_flow": null,
            "grid_area": null,
            "grid_auto_columns": null,
            "grid_auto_flow": null,
            "grid_auto_rows": null,
            "grid_column": null,
            "grid_gap": null,
            "grid_row": null,
            "grid_template_areas": null,
            "grid_template_columns": null,
            "grid_template_rows": null,
            "height": null,
            "justify_content": null,
            "justify_items": null,
            "left": null,
            "margin": null,
            "max_height": null,
            "max_width": null,
            "min_height": null,
            "min_width": null,
            "object_fit": null,
            "object_position": null,
            "order": null,
            "overflow": null,
            "overflow_x": null,
            "overflow_y": null,
            "padding": null,
            "right": null,
            "top": null,
            "visibility": null,
            "width": null
          }
        },
        "2cd7918dcb774325a58c619e29386a59": {
          "model_module": "@jupyter-widgets/base",
          "model_name": "LayoutModel",
          "model_module_version": "1.2.0",
          "state": {
            "_model_module": "@jupyter-widgets/base",
            "_model_module_version": "1.2.0",
            "_model_name": "LayoutModel",
            "_view_count": null,
            "_view_module": "@jupyter-widgets/base",
            "_view_module_version": "1.2.0",
            "_view_name": "LayoutView",
            "align_content": null,
            "align_items": null,
            "align_self": null,
            "border": null,
            "bottom": null,
            "display": null,
            "flex": null,
            "flex_flow": null,
            "grid_area": null,
            "grid_auto_columns": null,
            "grid_auto_flow": null,
            "grid_auto_rows": null,
            "grid_column": null,
            "grid_gap": null,
            "grid_row": null,
            "grid_template_areas": null,
            "grid_template_columns": null,
            "grid_template_rows": null,
            "height": null,
            "justify_content": null,
            "justify_items": null,
            "left": null,
            "margin": null,
            "max_height": null,
            "max_width": null,
            "min_height": null,
            "min_width": null,
            "object_fit": null,
            "object_position": null,
            "order": null,
            "overflow": null,
            "overflow_x": null,
            "overflow_y": null,
            "padding": null,
            "right": null,
            "top": null,
            "visibility": null,
            "width": null
          }
        },
        "84576c72791e407381920937fd5c1c4a": {
          "model_module": "@jupyter-widgets/controls",
          "model_name": "DescriptionStyleModel",
          "model_module_version": "1.5.0",
          "state": {
            "_model_module": "@jupyter-widgets/controls",
            "_model_module_version": "1.5.0",
            "_model_name": "DescriptionStyleModel",
            "_view_count": null,
            "_view_module": "@jupyter-widgets/base",
            "_view_module_version": "1.2.0",
            "_view_name": "StyleView",
            "description_width": ""
          }
        },
        "682111e0c9234efbaddefbf9d77a14f3": {
          "model_module": "@jupyter-widgets/base",
          "model_name": "LayoutModel",
          "model_module_version": "1.2.0",
          "state": {
            "_model_module": "@jupyter-widgets/base",
            "_model_module_version": "1.2.0",
            "_model_name": "LayoutModel",
            "_view_count": null,
            "_view_module": "@jupyter-widgets/base",
            "_view_module_version": "1.2.0",
            "_view_name": "LayoutView",
            "align_content": null,
            "align_items": null,
            "align_self": null,
            "border": null,
            "bottom": null,
            "display": null,
            "flex": null,
            "flex_flow": null,
            "grid_area": null,
            "grid_auto_columns": null,
            "grid_auto_flow": null,
            "grid_auto_rows": null,
            "grid_column": null,
            "grid_gap": null,
            "grid_row": null,
            "grid_template_areas": null,
            "grid_template_columns": null,
            "grid_template_rows": null,
            "height": null,
            "justify_content": null,
            "justify_items": null,
            "left": null,
            "margin": null,
            "max_height": null,
            "max_width": null,
            "min_height": null,
            "min_width": null,
            "object_fit": null,
            "object_position": null,
            "order": null,
            "overflow": null,
            "overflow_x": null,
            "overflow_y": null,
            "padding": null,
            "right": null,
            "top": null,
            "visibility": null,
            "width": null
          }
        },
        "af622d13e8084b1b83ec3c4377676091": {
          "model_module": "@jupyter-widgets/controls",
          "model_name": "ProgressStyleModel",
          "model_module_version": "1.5.0",
          "state": {
            "_model_module": "@jupyter-widgets/controls",
            "_model_module_version": "1.5.0",
            "_model_name": "ProgressStyleModel",
            "_view_count": null,
            "_view_module": "@jupyter-widgets/base",
            "_view_module_version": "1.2.0",
            "_view_name": "StyleView",
            "bar_color": null,
            "description_width": ""
          }
        },
        "e38a8a957510416abec75a71a0b8e9ef": {
          "model_module": "@jupyter-widgets/base",
          "model_name": "LayoutModel",
          "model_module_version": "1.2.0",
          "state": {
            "_model_module": "@jupyter-widgets/base",
            "_model_module_version": "1.2.0",
            "_model_name": "LayoutModel",
            "_view_count": null,
            "_view_module": "@jupyter-widgets/base",
            "_view_module_version": "1.2.0",
            "_view_name": "LayoutView",
            "align_content": null,
            "align_items": null,
            "align_self": null,
            "border": null,
            "bottom": null,
            "display": null,
            "flex": null,
            "flex_flow": null,
            "grid_area": null,
            "grid_auto_columns": null,
            "grid_auto_flow": null,
            "grid_auto_rows": null,
            "grid_column": null,
            "grid_gap": null,
            "grid_row": null,
            "grid_template_areas": null,
            "grid_template_columns": null,
            "grid_template_rows": null,
            "height": null,
            "justify_content": null,
            "justify_items": null,
            "left": null,
            "margin": null,
            "max_height": null,
            "max_width": null,
            "min_height": null,
            "min_width": null,
            "object_fit": null,
            "object_position": null,
            "order": null,
            "overflow": null,
            "overflow_x": null,
            "overflow_y": null,
            "padding": null,
            "right": null,
            "top": null,
            "visibility": null,
            "width": null
          }
        },
        "2e3cecdd11014672bae0e84439af885b": {
          "model_module": "@jupyter-widgets/controls",
          "model_name": "DescriptionStyleModel",
          "model_module_version": "1.5.0",
          "state": {
            "_model_module": "@jupyter-widgets/controls",
            "_model_module_version": "1.5.0",
            "_model_name": "DescriptionStyleModel",
            "_view_count": null,
            "_view_module": "@jupyter-widgets/base",
            "_view_module_version": "1.2.0",
            "_view_name": "StyleView",
            "description_width": ""
          }
        },
        "3e86dd9046ae46d28aee5cf3e6c355e9": {
          "model_module": "@jupyter-widgets/controls",
          "model_name": "HBoxModel",
          "model_module_version": "1.5.0",
          "state": {
            "_dom_classes": [],
            "_model_module": "@jupyter-widgets/controls",
            "_model_module_version": "1.5.0",
            "_model_name": "HBoxModel",
            "_view_count": null,
            "_view_module": "@jupyter-widgets/controls",
            "_view_module_version": "1.5.0",
            "_view_name": "HBoxView",
            "box_style": "",
            "children": [
              "IPY_MODEL_53a42a80d89c41108b7edaa1cc1458a2",
              "IPY_MODEL_37e558939a65421eb2d512d1b550e5cf",
              "IPY_MODEL_ef259d4677774f5698ac7b8a33114255"
            ],
            "layout": "IPY_MODEL_8a5ab6f0f5fc4383a10f4b52c93b9e8d"
          }
        },
        "53a42a80d89c41108b7edaa1cc1458a2": {
          "model_module": "@jupyter-widgets/controls",
          "model_name": "HTMLModel",
          "model_module_version": "1.5.0",
          "state": {
            "_dom_classes": [],
            "_model_module": "@jupyter-widgets/controls",
            "_model_module_version": "1.5.0",
            "_model_name": "HTMLModel",
            "_view_count": null,
            "_view_module": "@jupyter-widgets/controls",
            "_view_module_version": "1.5.0",
            "_view_name": "HTMLView",
            "description": "",
            "description_tooltip": null,
            "layout": "IPY_MODEL_1c772e711d024d609aec7795162c6803",
            "placeholder": "​",
            "style": "IPY_MODEL_e886ac322bb74b49b160464f29818845",
            "value": "Downloading (…)lve/main/config.json: 100%"
          }
        },
        "37e558939a65421eb2d512d1b550e5cf": {
          "model_module": "@jupyter-widgets/controls",
          "model_name": "FloatProgressModel",
          "model_module_version": "1.5.0",
          "state": {
            "_dom_classes": [],
            "_model_module": "@jupyter-widgets/controls",
            "_model_module_version": "1.5.0",
            "_model_name": "FloatProgressModel",
            "_view_count": null,
            "_view_module": "@jupyter-widgets/controls",
            "_view_module_version": "1.5.0",
            "_view_name": "ProgressView",
            "bar_style": "success",
            "description": "",
            "description_tooltip": null,
            "layout": "IPY_MODEL_f6ed5dc572f644fd820db183294c368f",
            "max": 533,
            "min": 0,
            "orientation": "horizontal",
            "style": "IPY_MODEL_9936adc0e77d44e69b462af1d45a2884",
            "value": 533
          }
        },
        "ef259d4677774f5698ac7b8a33114255": {
          "model_module": "@jupyter-widgets/controls",
          "model_name": "HTMLModel",
          "model_module_version": "1.5.0",
          "state": {
            "_dom_classes": [],
            "_model_module": "@jupyter-widgets/controls",
            "_model_module_version": "1.5.0",
            "_model_name": "HTMLModel",
            "_view_count": null,
            "_view_module": "@jupyter-widgets/controls",
            "_view_module_version": "1.5.0",
            "_view_name": "HTMLView",
            "description": "",
            "description_tooltip": null,
            "layout": "IPY_MODEL_827a0a5dd00345acb406a036c67d10f8",
            "placeholder": "​",
            "style": "IPY_MODEL_ada9f1cf2bac4b5e9698b282bf35e43c",
            "value": " 533/533 [00:00&lt;00:00, 8.91kB/s]"
          }
        },
        "8a5ab6f0f5fc4383a10f4b52c93b9e8d": {
          "model_module": "@jupyter-widgets/base",
          "model_name": "LayoutModel",
          "model_module_version": "1.2.0",
          "state": {
            "_model_module": "@jupyter-widgets/base",
            "_model_module_version": "1.2.0",
            "_model_name": "LayoutModel",
            "_view_count": null,
            "_view_module": "@jupyter-widgets/base",
            "_view_module_version": "1.2.0",
            "_view_name": "LayoutView",
            "align_content": null,
            "align_items": null,
            "align_self": null,
            "border": null,
            "bottom": null,
            "display": null,
            "flex": null,
            "flex_flow": null,
            "grid_area": null,
            "grid_auto_columns": null,
            "grid_auto_flow": null,
            "grid_auto_rows": null,
            "grid_column": null,
            "grid_gap": null,
            "grid_row": null,
            "grid_template_areas": null,
            "grid_template_columns": null,
            "grid_template_rows": null,
            "height": null,
            "justify_content": null,
            "justify_items": null,
            "left": null,
            "margin": null,
            "max_height": null,
            "max_width": null,
            "min_height": null,
            "min_width": null,
            "object_fit": null,
            "object_position": null,
            "order": null,
            "overflow": null,
            "overflow_x": null,
            "overflow_y": null,
            "padding": null,
            "right": null,
            "top": null,
            "visibility": null,
            "width": null
          }
        },
        "1c772e711d024d609aec7795162c6803": {
          "model_module": "@jupyter-widgets/base",
          "model_name": "LayoutModel",
          "model_module_version": "1.2.0",
          "state": {
            "_model_module": "@jupyter-widgets/base",
            "_model_module_version": "1.2.0",
            "_model_name": "LayoutModel",
            "_view_count": null,
            "_view_module": "@jupyter-widgets/base",
            "_view_module_version": "1.2.0",
            "_view_name": "LayoutView",
            "align_content": null,
            "align_items": null,
            "align_self": null,
            "border": null,
            "bottom": null,
            "display": null,
            "flex": null,
            "flex_flow": null,
            "grid_area": null,
            "grid_auto_columns": null,
            "grid_auto_flow": null,
            "grid_auto_rows": null,
            "grid_column": null,
            "grid_gap": null,
            "grid_row": null,
            "grid_template_areas": null,
            "grid_template_columns": null,
            "grid_template_rows": null,
            "height": null,
            "justify_content": null,
            "justify_items": null,
            "left": null,
            "margin": null,
            "max_height": null,
            "max_width": null,
            "min_height": null,
            "min_width": null,
            "object_fit": null,
            "object_position": null,
            "order": null,
            "overflow": null,
            "overflow_x": null,
            "overflow_y": null,
            "padding": null,
            "right": null,
            "top": null,
            "visibility": null,
            "width": null
          }
        },
        "e886ac322bb74b49b160464f29818845": {
          "model_module": "@jupyter-widgets/controls",
          "model_name": "DescriptionStyleModel",
          "model_module_version": "1.5.0",
          "state": {
            "_model_module": "@jupyter-widgets/controls",
            "_model_module_version": "1.5.0",
            "_model_name": "DescriptionStyleModel",
            "_view_count": null,
            "_view_module": "@jupyter-widgets/base",
            "_view_module_version": "1.2.0",
            "_view_name": "StyleView",
            "description_width": ""
          }
        },
        "f6ed5dc572f644fd820db183294c368f": {
          "model_module": "@jupyter-widgets/base",
          "model_name": "LayoutModel",
          "model_module_version": "1.2.0",
          "state": {
            "_model_module": "@jupyter-widgets/base",
            "_model_module_version": "1.2.0",
            "_model_name": "LayoutModel",
            "_view_count": null,
            "_view_module": "@jupyter-widgets/base",
            "_view_module_version": "1.2.0",
            "_view_name": "LayoutView",
            "align_content": null,
            "align_items": null,
            "align_self": null,
            "border": null,
            "bottom": null,
            "display": null,
            "flex": null,
            "flex_flow": null,
            "grid_area": null,
            "grid_auto_columns": null,
            "grid_auto_flow": null,
            "grid_auto_rows": null,
            "grid_column": null,
            "grid_gap": null,
            "grid_row": null,
            "grid_template_areas": null,
            "grid_template_columns": null,
            "grid_template_rows": null,
            "height": null,
            "justify_content": null,
            "justify_items": null,
            "left": null,
            "margin": null,
            "max_height": null,
            "max_width": null,
            "min_height": null,
            "min_width": null,
            "object_fit": null,
            "object_position": null,
            "order": null,
            "overflow": null,
            "overflow_x": null,
            "overflow_y": null,
            "padding": null,
            "right": null,
            "top": null,
            "visibility": null,
            "width": null
          }
        },
        "9936adc0e77d44e69b462af1d45a2884": {
          "model_module": "@jupyter-widgets/controls",
          "model_name": "ProgressStyleModel",
          "model_module_version": "1.5.0",
          "state": {
            "_model_module": "@jupyter-widgets/controls",
            "_model_module_version": "1.5.0",
            "_model_name": "ProgressStyleModel",
            "_view_count": null,
            "_view_module": "@jupyter-widgets/base",
            "_view_module_version": "1.2.0",
            "_view_name": "StyleView",
            "bar_color": null,
            "description_width": ""
          }
        },
        "827a0a5dd00345acb406a036c67d10f8": {
          "model_module": "@jupyter-widgets/base",
          "model_name": "LayoutModel",
          "model_module_version": "1.2.0",
          "state": {
            "_model_module": "@jupyter-widgets/base",
            "_model_module_version": "1.2.0",
            "_model_name": "LayoutModel",
            "_view_count": null,
            "_view_module": "@jupyter-widgets/base",
            "_view_module_version": "1.2.0",
            "_view_name": "LayoutView",
            "align_content": null,
            "align_items": null,
            "align_self": null,
            "border": null,
            "bottom": null,
            "display": null,
            "flex": null,
            "flex_flow": null,
            "grid_area": null,
            "grid_auto_columns": null,
            "grid_auto_flow": null,
            "grid_auto_rows": null,
            "grid_column": null,
            "grid_gap": null,
            "grid_row": null,
            "grid_template_areas": null,
            "grid_template_columns": null,
            "grid_template_rows": null,
            "height": null,
            "justify_content": null,
            "justify_items": null,
            "left": null,
            "margin": null,
            "max_height": null,
            "max_width": null,
            "min_height": null,
            "min_width": null,
            "object_fit": null,
            "object_position": null,
            "order": null,
            "overflow": null,
            "overflow_x": null,
            "overflow_y": null,
            "padding": null,
            "right": null,
            "top": null,
            "visibility": null,
            "width": null
          }
        },
        "ada9f1cf2bac4b5e9698b282bf35e43c": {
          "model_module": "@jupyter-widgets/controls",
          "model_name": "DescriptionStyleModel",
          "model_module_version": "1.5.0",
          "state": {
            "_model_module": "@jupyter-widgets/controls",
            "_model_module_version": "1.5.0",
            "_model_name": "DescriptionStyleModel",
            "_view_count": null,
            "_view_module": "@jupyter-widgets/base",
            "_view_module_version": "1.2.0",
            "_view_name": "StyleView",
            "description_width": ""
          }
        },
        "0f80895152744776b36b3c9c7f0c6714": {
          "model_module": "@jupyter-widgets/controls",
          "model_name": "HBoxModel",
          "model_module_version": "1.5.0",
          "state": {
            "_dom_classes": [],
            "_model_module": "@jupyter-widgets/controls",
            "_model_module_version": "1.5.0",
            "_model_name": "HBoxModel",
            "_view_count": null,
            "_view_module": "@jupyter-widgets/controls",
            "_view_module_version": "1.5.0",
            "_view_name": "HBoxView",
            "box_style": "",
            "children": [
              "IPY_MODEL_511cae16f02c47898b3e473b18b91516",
              "IPY_MODEL_408bb93a0892476687c5ec75d08f18bb",
              "IPY_MODEL_0cb469afc5c9441d8cd95e94dae2b76e"
            ],
            "layout": "IPY_MODEL_ccf0a546923e494689be1ec7654d300b"
          }
        },
        "511cae16f02c47898b3e473b18b91516": {
          "model_module": "@jupyter-widgets/controls",
          "model_name": "HTMLModel",
          "model_module_version": "1.5.0",
          "state": {
            "_dom_classes": [],
            "_model_module": "@jupyter-widgets/controls",
            "_model_module_version": "1.5.0",
            "_model_name": "HTMLModel",
            "_view_count": null,
            "_view_module": "@jupyter-widgets/controls",
            "_view_module_version": "1.5.0",
            "_view_name": "HTMLView",
            "description": "",
            "description_tooltip": null,
            "layout": "IPY_MODEL_2ab06b2efd9a44d791cca02529bb0d7c",
            "placeholder": "​",
            "style": "IPY_MODEL_c4fd34ac523c4d6296497bacabc286a8",
            "value": "Downloading pytorch_model.bin: 100%"
          }
        },
        "408bb93a0892476687c5ec75d08f18bb": {
          "model_module": "@jupyter-widgets/controls",
          "model_name": "FloatProgressModel",
          "model_module_version": "1.5.0",
          "state": {
            "_dom_classes": [],
            "_model_module": "@jupyter-widgets/controls",
            "_model_module_version": "1.5.0",
            "_model_name": "FloatProgressModel",
            "_view_count": null,
            "_view_module": "@jupyter-widgets/controls",
            "_view_module_version": "1.5.0",
            "_view_name": "ProgressView",
            "bar_style": "success",
            "description": "",
            "description_tooltip": null,
            "layout": "IPY_MODEL_f898c07d9af241f5b21d9bd79fea231f",
            "max": 439101405,
            "min": 0,
            "orientation": "horizontal",
            "style": "IPY_MODEL_a7164c4bfb9c481a825de3ca32c9caf1",
            "value": 439101405
          }
        },
        "0cb469afc5c9441d8cd95e94dae2b76e": {
          "model_module": "@jupyter-widgets/controls",
          "model_name": "HTMLModel",
          "model_module_version": "1.5.0",
          "state": {
            "_dom_classes": [],
            "_model_module": "@jupyter-widgets/controls",
            "_model_module_version": "1.5.0",
            "_model_name": "HTMLModel",
            "_view_count": null,
            "_view_module": "@jupyter-widgets/controls",
            "_view_module_version": "1.5.0",
            "_view_name": "HTMLView",
            "description": "",
            "description_tooltip": null,
            "layout": "IPY_MODEL_fa34e4dcaf2e41a09ad61472c4a9bae4",
            "placeholder": "​",
            "style": "IPY_MODEL_9c60459008674b61907c610dcd3e1cb1",
            "value": " 439M/439M [00:04&lt;00:00, 107MB/s]"
          }
        },
        "ccf0a546923e494689be1ec7654d300b": {
          "model_module": "@jupyter-widgets/base",
          "model_name": "LayoutModel",
          "model_module_version": "1.2.0",
          "state": {
            "_model_module": "@jupyter-widgets/base",
            "_model_module_version": "1.2.0",
            "_model_name": "LayoutModel",
            "_view_count": null,
            "_view_module": "@jupyter-widgets/base",
            "_view_module_version": "1.2.0",
            "_view_name": "LayoutView",
            "align_content": null,
            "align_items": null,
            "align_self": null,
            "border": null,
            "bottom": null,
            "display": null,
            "flex": null,
            "flex_flow": null,
            "grid_area": null,
            "grid_auto_columns": null,
            "grid_auto_flow": null,
            "grid_auto_rows": null,
            "grid_column": null,
            "grid_gap": null,
            "grid_row": null,
            "grid_template_areas": null,
            "grid_template_columns": null,
            "grid_template_rows": null,
            "height": null,
            "justify_content": null,
            "justify_items": null,
            "left": null,
            "margin": null,
            "max_height": null,
            "max_width": null,
            "min_height": null,
            "min_width": null,
            "object_fit": null,
            "object_position": null,
            "order": null,
            "overflow": null,
            "overflow_x": null,
            "overflow_y": null,
            "padding": null,
            "right": null,
            "top": null,
            "visibility": null,
            "width": null
          }
        },
        "2ab06b2efd9a44d791cca02529bb0d7c": {
          "model_module": "@jupyter-widgets/base",
          "model_name": "LayoutModel",
          "model_module_version": "1.2.0",
          "state": {
            "_model_module": "@jupyter-widgets/base",
            "_model_module_version": "1.2.0",
            "_model_name": "LayoutModel",
            "_view_count": null,
            "_view_module": "@jupyter-widgets/base",
            "_view_module_version": "1.2.0",
            "_view_name": "LayoutView",
            "align_content": null,
            "align_items": null,
            "align_self": null,
            "border": null,
            "bottom": null,
            "display": null,
            "flex": null,
            "flex_flow": null,
            "grid_area": null,
            "grid_auto_columns": null,
            "grid_auto_flow": null,
            "grid_auto_rows": null,
            "grid_column": null,
            "grid_gap": null,
            "grid_row": null,
            "grid_template_areas": null,
            "grid_template_columns": null,
            "grid_template_rows": null,
            "height": null,
            "justify_content": null,
            "justify_items": null,
            "left": null,
            "margin": null,
            "max_height": null,
            "max_width": null,
            "min_height": null,
            "min_width": null,
            "object_fit": null,
            "object_position": null,
            "order": null,
            "overflow": null,
            "overflow_x": null,
            "overflow_y": null,
            "padding": null,
            "right": null,
            "top": null,
            "visibility": null,
            "width": null
          }
        },
        "c4fd34ac523c4d6296497bacabc286a8": {
          "model_module": "@jupyter-widgets/controls",
          "model_name": "DescriptionStyleModel",
          "model_module_version": "1.5.0",
          "state": {
            "_model_module": "@jupyter-widgets/controls",
            "_model_module_version": "1.5.0",
            "_model_name": "DescriptionStyleModel",
            "_view_count": null,
            "_view_module": "@jupyter-widgets/base",
            "_view_module_version": "1.2.0",
            "_view_name": "StyleView",
            "description_width": ""
          }
        },
        "f898c07d9af241f5b21d9bd79fea231f": {
          "model_module": "@jupyter-widgets/base",
          "model_name": "LayoutModel",
          "model_module_version": "1.2.0",
          "state": {
            "_model_module": "@jupyter-widgets/base",
            "_model_module_version": "1.2.0",
            "_model_name": "LayoutModel",
            "_view_count": null,
            "_view_module": "@jupyter-widgets/base",
            "_view_module_version": "1.2.0",
            "_view_name": "LayoutView",
            "align_content": null,
            "align_items": null,
            "align_self": null,
            "border": null,
            "bottom": null,
            "display": null,
            "flex": null,
            "flex_flow": null,
            "grid_area": null,
            "grid_auto_columns": null,
            "grid_auto_flow": null,
            "grid_auto_rows": null,
            "grid_column": null,
            "grid_gap": null,
            "grid_row": null,
            "grid_template_areas": null,
            "grid_template_columns": null,
            "grid_template_rows": null,
            "height": null,
            "justify_content": null,
            "justify_items": null,
            "left": null,
            "margin": null,
            "max_height": null,
            "max_width": null,
            "min_height": null,
            "min_width": null,
            "object_fit": null,
            "object_position": null,
            "order": null,
            "overflow": null,
            "overflow_x": null,
            "overflow_y": null,
            "padding": null,
            "right": null,
            "top": null,
            "visibility": null,
            "width": null
          }
        },
        "a7164c4bfb9c481a825de3ca32c9caf1": {
          "model_module": "@jupyter-widgets/controls",
          "model_name": "ProgressStyleModel",
          "model_module_version": "1.5.0",
          "state": {
            "_model_module": "@jupyter-widgets/controls",
            "_model_module_version": "1.5.0",
            "_model_name": "ProgressStyleModel",
            "_view_count": null,
            "_view_module": "@jupyter-widgets/base",
            "_view_module_version": "1.2.0",
            "_view_name": "StyleView",
            "bar_color": null,
            "description_width": ""
          }
        },
        "fa34e4dcaf2e41a09ad61472c4a9bae4": {
          "model_module": "@jupyter-widgets/base",
          "model_name": "LayoutModel",
          "model_module_version": "1.2.0",
          "state": {
            "_model_module": "@jupyter-widgets/base",
            "_model_module_version": "1.2.0",
            "_model_name": "LayoutModel",
            "_view_count": null,
            "_view_module": "@jupyter-widgets/base",
            "_view_module_version": "1.2.0",
            "_view_name": "LayoutView",
            "align_content": null,
            "align_items": null,
            "align_self": null,
            "border": null,
            "bottom": null,
            "display": null,
            "flex": null,
            "flex_flow": null,
            "grid_area": null,
            "grid_auto_columns": null,
            "grid_auto_flow": null,
            "grid_auto_rows": null,
            "grid_column": null,
            "grid_gap": null,
            "grid_row": null,
            "grid_template_areas": null,
            "grid_template_columns": null,
            "grid_template_rows": null,
            "height": null,
            "justify_content": null,
            "justify_items": null,
            "left": null,
            "margin": null,
            "max_height": null,
            "max_width": null,
            "min_height": null,
            "min_width": null,
            "object_fit": null,
            "object_position": null,
            "order": null,
            "overflow": null,
            "overflow_x": null,
            "overflow_y": null,
            "padding": null,
            "right": null,
            "top": null,
            "visibility": null,
            "width": null
          }
        },
        "9c60459008674b61907c610dcd3e1cb1": {
          "model_module": "@jupyter-widgets/controls",
          "model_name": "DescriptionStyleModel",
          "model_module_version": "1.5.0",
          "state": {
            "_model_module": "@jupyter-widgets/controls",
            "_model_module_version": "1.5.0",
            "_model_name": "DescriptionStyleModel",
            "_view_count": null,
            "_view_module": "@jupyter-widgets/base",
            "_view_module_version": "1.2.0",
            "_view_name": "StyleView",
            "description_width": ""
          }
        },
        "cd2111b78a054cb4880394d4120327c2": {
          "model_module": "@jupyter-widgets/controls",
          "model_name": "HBoxModel",
          "model_module_version": "1.5.0",
          "state": {
            "_dom_classes": [],
            "_model_module": "@jupyter-widgets/controls",
            "_model_module_version": "1.5.0",
            "_model_name": "HBoxModel",
            "_view_count": null,
            "_view_module": "@jupyter-widgets/controls",
            "_view_module_version": "1.5.0",
            "_view_name": "HBoxView",
            "box_style": "",
            "children": [
              "IPY_MODEL_4f727e7d59a24ccfb71a3f59b13577a9",
              "IPY_MODEL_80c739063817453c9fb83ab99d5867f2",
              "IPY_MODEL_232128571742494f8d602ca7bc425a12"
            ],
            "layout": "IPY_MODEL_5568dc6e20e845d3a20d294c9769f49a"
          }
        },
        "4f727e7d59a24ccfb71a3f59b13577a9": {
          "model_module": "@jupyter-widgets/controls",
          "model_name": "HTMLModel",
          "model_module_version": "1.5.0",
          "state": {
            "_dom_classes": [],
            "_model_module": "@jupyter-widgets/controls",
            "_model_module_version": "1.5.0",
            "_model_name": "HTMLModel",
            "_view_count": null,
            "_view_module": "@jupyter-widgets/controls",
            "_view_module_version": "1.5.0",
            "_view_name": "HTMLView",
            "description": "",
            "description_tooltip": null,
            "layout": "IPY_MODEL_8ca274ebee064fef9e6729253fb42545",
            "placeholder": "​",
            "style": "IPY_MODEL_bd326ecd643b48bd89b4035542a4db6a",
            "value": "Downloading (…)solve/main/vocab.txt: 100%"
          }
        },
        "80c739063817453c9fb83ab99d5867f2": {
          "model_module": "@jupyter-widgets/controls",
          "model_name": "FloatProgressModel",
          "model_module_version": "1.5.0",
          "state": {
            "_dom_classes": [],
            "_model_module": "@jupyter-widgets/controls",
            "_model_module_version": "1.5.0",
            "_model_name": "FloatProgressModel",
            "_view_count": null,
            "_view_module": "@jupyter-widgets/controls",
            "_view_module_version": "1.5.0",
            "_view_name": "ProgressView",
            "bar_style": "success",
            "description": "",
            "description_tooltip": null,
            "layout": "IPY_MODEL_9a1420f01a6d4f4f99306a84d882c943",
            "max": 226122,
            "min": 0,
            "orientation": "horizontal",
            "style": "IPY_MODEL_4a33ea6a7ee1407abc2cf584310c8d3a",
            "value": 226122
          }
        },
        "232128571742494f8d602ca7bc425a12": {
          "model_module": "@jupyter-widgets/controls",
          "model_name": "HTMLModel",
          "model_module_version": "1.5.0",
          "state": {
            "_dom_classes": [],
            "_model_module": "@jupyter-widgets/controls",
            "_model_module_version": "1.5.0",
            "_model_name": "HTMLModel",
            "_view_count": null,
            "_view_module": "@jupyter-widgets/controls",
            "_view_module_version": "1.5.0",
            "_view_name": "HTMLView",
            "description": "",
            "description_tooltip": null,
            "layout": "IPY_MODEL_f5c7cf33e8024b13a7bc5b483d84b79b",
            "placeholder": "​",
            "style": "IPY_MODEL_b6f34ed03f5c49bd8d63b64d571dc1a6",
            "value": " 226k/226k [00:00&lt;00:00, 1.21MB/s]"
          }
        },
        "5568dc6e20e845d3a20d294c9769f49a": {
          "model_module": "@jupyter-widgets/base",
          "model_name": "LayoutModel",
          "model_module_version": "1.2.0",
          "state": {
            "_model_module": "@jupyter-widgets/base",
            "_model_module_version": "1.2.0",
            "_model_name": "LayoutModel",
            "_view_count": null,
            "_view_module": "@jupyter-widgets/base",
            "_view_module_version": "1.2.0",
            "_view_name": "LayoutView",
            "align_content": null,
            "align_items": null,
            "align_self": null,
            "border": null,
            "bottom": null,
            "display": null,
            "flex": null,
            "flex_flow": null,
            "grid_area": null,
            "grid_auto_columns": null,
            "grid_auto_flow": null,
            "grid_auto_rows": null,
            "grid_column": null,
            "grid_gap": null,
            "grid_row": null,
            "grid_template_areas": null,
            "grid_template_columns": null,
            "grid_template_rows": null,
            "height": null,
            "justify_content": null,
            "justify_items": null,
            "left": null,
            "margin": null,
            "max_height": null,
            "max_width": null,
            "min_height": null,
            "min_width": null,
            "object_fit": null,
            "object_position": null,
            "order": null,
            "overflow": null,
            "overflow_x": null,
            "overflow_y": null,
            "padding": null,
            "right": null,
            "top": null,
            "visibility": null,
            "width": null
          }
        },
        "8ca274ebee064fef9e6729253fb42545": {
          "model_module": "@jupyter-widgets/base",
          "model_name": "LayoutModel",
          "model_module_version": "1.2.0",
          "state": {
            "_model_module": "@jupyter-widgets/base",
            "_model_module_version": "1.2.0",
            "_model_name": "LayoutModel",
            "_view_count": null,
            "_view_module": "@jupyter-widgets/base",
            "_view_module_version": "1.2.0",
            "_view_name": "LayoutView",
            "align_content": null,
            "align_items": null,
            "align_self": null,
            "border": null,
            "bottom": null,
            "display": null,
            "flex": null,
            "flex_flow": null,
            "grid_area": null,
            "grid_auto_columns": null,
            "grid_auto_flow": null,
            "grid_auto_rows": null,
            "grid_column": null,
            "grid_gap": null,
            "grid_row": null,
            "grid_template_areas": null,
            "grid_template_columns": null,
            "grid_template_rows": null,
            "height": null,
            "justify_content": null,
            "justify_items": null,
            "left": null,
            "margin": null,
            "max_height": null,
            "max_width": null,
            "min_height": null,
            "min_width": null,
            "object_fit": null,
            "object_position": null,
            "order": null,
            "overflow": null,
            "overflow_x": null,
            "overflow_y": null,
            "padding": null,
            "right": null,
            "top": null,
            "visibility": null,
            "width": null
          }
        },
        "bd326ecd643b48bd89b4035542a4db6a": {
          "model_module": "@jupyter-widgets/controls",
          "model_name": "DescriptionStyleModel",
          "model_module_version": "1.5.0",
          "state": {
            "_model_module": "@jupyter-widgets/controls",
            "_model_module_version": "1.5.0",
            "_model_name": "DescriptionStyleModel",
            "_view_count": null,
            "_view_module": "@jupyter-widgets/base",
            "_view_module_version": "1.2.0",
            "_view_name": "StyleView",
            "description_width": ""
          }
        },
        "9a1420f01a6d4f4f99306a84d882c943": {
          "model_module": "@jupyter-widgets/base",
          "model_name": "LayoutModel",
          "model_module_version": "1.2.0",
          "state": {
            "_model_module": "@jupyter-widgets/base",
            "_model_module_version": "1.2.0",
            "_model_name": "LayoutModel",
            "_view_count": null,
            "_view_module": "@jupyter-widgets/base",
            "_view_module_version": "1.2.0",
            "_view_name": "LayoutView",
            "align_content": null,
            "align_items": null,
            "align_self": null,
            "border": null,
            "bottom": null,
            "display": null,
            "flex": null,
            "flex_flow": null,
            "grid_area": null,
            "grid_auto_columns": null,
            "grid_auto_flow": null,
            "grid_auto_rows": null,
            "grid_column": null,
            "grid_gap": null,
            "grid_row": null,
            "grid_template_areas": null,
            "grid_template_columns": null,
            "grid_template_rows": null,
            "height": null,
            "justify_content": null,
            "justify_items": null,
            "left": null,
            "margin": null,
            "max_height": null,
            "max_width": null,
            "min_height": null,
            "min_width": null,
            "object_fit": null,
            "object_position": null,
            "order": null,
            "overflow": null,
            "overflow_x": null,
            "overflow_y": null,
            "padding": null,
            "right": null,
            "top": null,
            "visibility": null,
            "width": null
          }
        },
        "4a33ea6a7ee1407abc2cf584310c8d3a": {
          "model_module": "@jupyter-widgets/controls",
          "model_name": "ProgressStyleModel",
          "model_module_version": "1.5.0",
          "state": {
            "_model_module": "@jupyter-widgets/controls",
            "_model_module_version": "1.5.0",
            "_model_name": "ProgressStyleModel",
            "_view_count": null,
            "_view_module": "@jupyter-widgets/base",
            "_view_module_version": "1.2.0",
            "_view_name": "StyleView",
            "bar_color": null,
            "description_width": ""
          }
        },
        "f5c7cf33e8024b13a7bc5b483d84b79b": {
          "model_module": "@jupyter-widgets/base",
          "model_name": "LayoutModel",
          "model_module_version": "1.2.0",
          "state": {
            "_model_module": "@jupyter-widgets/base",
            "_model_module_version": "1.2.0",
            "_model_name": "LayoutModel",
            "_view_count": null,
            "_view_module": "@jupyter-widgets/base",
            "_view_module_version": "1.2.0",
            "_view_name": "LayoutView",
            "align_content": null,
            "align_items": null,
            "align_self": null,
            "border": null,
            "bottom": null,
            "display": null,
            "flex": null,
            "flex_flow": null,
            "grid_area": null,
            "grid_auto_columns": null,
            "grid_auto_flow": null,
            "grid_auto_rows": null,
            "grid_column": null,
            "grid_gap": null,
            "grid_row": null,
            "grid_template_areas": null,
            "grid_template_columns": null,
            "grid_template_rows": null,
            "height": null,
            "justify_content": null,
            "justify_items": null,
            "left": null,
            "margin": null,
            "max_height": null,
            "max_width": null,
            "min_height": null,
            "min_width": null,
            "object_fit": null,
            "object_position": null,
            "order": null,
            "overflow": null,
            "overflow_x": null,
            "overflow_y": null,
            "padding": null,
            "right": null,
            "top": null,
            "visibility": null,
            "width": null
          }
        },
        "b6f34ed03f5c49bd8d63b64d571dc1a6": {
          "model_module": "@jupyter-widgets/controls",
          "model_name": "DescriptionStyleModel",
          "model_module_version": "1.5.0",
          "state": {
            "_model_module": "@jupyter-widgets/controls",
            "_model_module_version": "1.5.0",
            "_model_name": "DescriptionStyleModel",
            "_view_count": null,
            "_view_module": "@jupyter-widgets/base",
            "_view_module_version": "1.2.0",
            "_view_name": "StyleView",
            "description_width": ""
          }
        }
      }
    }
  },
  "nbformat": 4,
  "nbformat_minor": 0
}